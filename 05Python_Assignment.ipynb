{
 "cells": [
  {
   "cell_type": "markdown",
   "id": "c4e157e1-6f55-423a-ad5d-6d17c524a9d5",
   "metadata": {},
   "source": [
    "## For Loop :-"
   ]
  },
  {
   "cell_type": "markdown",
   "id": "d329db86-b384-4422-b7af-7b06fb3bb6df",
   "metadata": {},
   "source": [
    "### Write a Python program to print numbers from 1 to 10 using a for loop."
   ]
  },
  {
   "cell_type": "code",
   "execution_count": 1,
   "id": "a8a45690-e83f-4aed-9607-0b3664c252d1",
   "metadata": {},
   "outputs": [
    {
     "name": "stdout",
     "output_type": "stream",
     "text": [
      "1\n",
      "2\n",
      "3\n",
      "4\n",
      "5\n",
      "6\n",
      "7\n",
      "8\n",
      "9\n",
      "10\n"
     ]
    }
   ],
   "source": [
    "for i in range(1,11):\n",
    "    print(i)"
   ]
  },
  {
   "cell_type": "code",
   "execution_count": 2,
   "id": "8c8195fd-cf95-4ed4-a066-9c7879e2fd42",
   "metadata": {},
   "outputs": [
    {
     "name": "stdout",
     "output_type": "stream",
     "text": [
      "1 2 3 4 5 6 7 8 9 10 "
     ]
    }
   ],
   "source": [
    "for i in range(1,11):\n",
    "    print(i, end = ' ')"
   ]
  },
  {
   "cell_type": "markdown",
   "id": "744cca2c-7e0e-495b-bdd0-e10eda701ea8",
   "metadata": {},
   "source": [
    "### Explain the difference between a for loop and a while loop in Python."
   ]
  },
  {
   "cell_type": "markdown",
   "id": "2101aaef-d7b0-494b-9582-7955f3034797",
   "metadata": {},
   "source": [
    "Both the loops are for repetive operations however, the FOR loop is used if the number of iterations are known or pre-defined whereas WHILE is chosen if the actual number of iteration is not already with the user and also that the condition in WHILE loop is turned to False and hence the loop is stopped from executing"
   ]
  },
  {
   "cell_type": "markdown",
   "id": "21cb179a-8506-4d24-8156-3a0dd53e7d81",
   "metadata": {},
   "source": [
    "### Write a Python program to calculate the sum of all numbers from 1 to 100 using a for loop."
   ]
  },
  {
   "cell_type": "code",
   "execution_count": 4,
   "id": "60ea02a6-dea5-4d33-a6a8-d2a034001305",
   "metadata": {},
   "outputs": [
    {
     "name": "stdout",
     "output_type": "stream",
     "text": [
      "SUM of the numbers from 1 to 100 is 5050\n"
     ]
    }
   ],
   "source": [
    "sum_num_1_to_100 = 0\n",
    "for i in range(1, 101):\n",
    "    sum_num_1_to_100 += i\n",
    "    \n",
    "print(f'SUM of the numbers from 1 to 100 is {sum_num_1_to_100}')"
   ]
  },
  {
   "cell_type": "markdown",
   "id": "64f056fe-d3a9-4a8d-b4e7-e56918166ddc",
   "metadata": {},
   "source": [
    "### How do you iterate through a list using a for loop in Python?"
   ]
  },
  {
   "cell_type": "markdown",
   "id": "0e5dcc37-4ceb-4acf-a06b-c1a314edc944",
   "metadata": {},
   "source": [
    "Since the list is iterable, it can be used directly in the for loop for element wise iteration. The exampe shown is as below\n",
    "    "
   ]
  },
  {
   "cell_type": "code",
   "execution_count": 5,
   "id": "1b4fc95f-0505-41ba-ad2b-2984e0093135",
   "metadata": {},
   "outputs": [
    {
     "name": "stdout",
     "output_type": "stream",
     "text": [
      "1\n",
      "2\n",
      "3\n",
      "4\n",
      "kind\n",
      "mankind\n"
     ]
    }
   ],
   "source": [
    "list_iter = [1,2,3,4,'kind', 'mankind']\n",
    "for i in list_iter:\n",
    "    print(i)"
   ]
  },
  {
   "cell_type": "markdown",
   "id": "019a74e4-0bc3-4168-9b14-026ab241e9c9",
   "metadata": {},
   "source": [
    "### Write a Python program to find the product of all elements in a list using a for loop."
   ]
  },
  {
   "cell_type": "code",
   "execution_count": 8,
   "id": "8d3e90d8-20a5-44ab-bf17-b376a628d94c",
   "metadata": {},
   "outputs": [
    {
     "name": "stdout",
     "output_type": "stream",
     "text": [
      "PRODUCT of the numbers in the list [3, 9, 27] is 729\n"
     ]
    }
   ],
   "source": [
    "list_elements = [3, 9, 27]\n",
    "product_list_elements = 1\n",
    "for i in list_elements:\n",
    "    product_list_elements *= i\n",
    "    \n",
    "print(f'PRODUCT of the numbers in the list {list_elements} is {product_list_elements}')"
   ]
  },
  {
   "cell_type": "markdown",
   "id": "10a4aa9e-f6cb-438b-a119-c73cfcad9ef3",
   "metadata": {},
   "source": [
    "### Create a Python program that prints all even numbers from 1 to 20 using a for loop."
   ]
  },
  {
   "cell_type": "code",
   "execution_count": 9,
   "id": "2f04ffb0-31ec-4a00-b733-3d5291af087f",
   "metadata": {},
   "outputs": [
    {
     "name": "stdout",
     "output_type": "stream",
     "text": [
      "2 4 6 8 10 12 14 16 18 20 "
     ]
    }
   ],
   "source": [
    "for i in range(1, 21):\n",
    "    if i%2 == 0:\n",
    "        print(i, end = ' ')"
   ]
  },
  {
   "cell_type": "markdown",
   "id": "869d452d-28ff-4e2b-bf6e-8954a2373e40",
   "metadata": {},
   "source": [
    "### Write a Python program that calculates the factorial of a number using a for loop."
   ]
  },
  {
   "cell_type": "code",
   "execution_count": 12,
   "id": "7e759616-0aca-4fb4-8b9c-887c1ba00cb8",
   "metadata": {},
   "outputs": [
    {
     "name": "stdin",
     "output_type": "stream",
     "text": [
      "Please enter a number:  4\n"
     ]
    },
    {
     "name": "stdout",
     "output_type": "stream",
     "text": [
      "Factorial of 4 is 24\n"
     ]
    }
   ],
   "source": [
    "n = int(input('Please enter a number: '))\n",
    "for i in range(0, n+1):\n",
    "    if i == 1 or i == 0:\n",
    "        fac_n = 1\n",
    "    else:\n",
    "        fac_n *= i\n",
    "print(f'Factorial of {n} is {fac_n}')"
   ]
  },
  {
   "cell_type": "markdown",
   "id": "5f125fd5-9415-4d4e-98b3-6e10a5ccf350",
   "metadata": {},
   "source": [
    "### How can you iterate through the characters of a string using a for loop in Python?"
   ]
  },
  {
   "cell_type": "code",
   "execution_count": 13,
   "id": "156c04b2-2328-4509-a44e-6092ea47f2dd",
   "metadata": {},
   "outputs": [
    {
     "name": "stdout",
     "output_type": "stream",
     "text": [
      "p\n",
      "a\n",
      "s\n",
      "c\n",
      "a\n",
      "l\n"
     ]
    }
   ],
   "source": [
    "for i in 'pascal':\n",
    "    print(i)"
   ]
  },
  {
   "cell_type": "markdown",
   "id": "34965f6a-b472-4214-9dc8-82ffd71e7276",
   "metadata": {},
   "source": [
    "### Write a Python program to find the largest number in a list using a for loop."
   ]
  },
  {
   "cell_type": "code",
   "execution_count": 16,
   "id": "92ab2b0d-4383-46d9-ae93-a3595ed0e93e",
   "metadata": {},
   "outputs": [
    {
     "name": "stdout",
     "output_type": "stream",
     "text": [
      "The largest number is 920\n"
     ]
    }
   ],
   "source": [
    "list_9 = [2, 6, 3, 920, 90]\n",
    "largest_num = 0\n",
    "for i in list_9:\n",
    "    if i > largest_num:\n",
    "        largest_num = i\n",
    "    else:\n",
    "        continue\n",
    "print(f'The largest number is {largest_num}')"
   ]
  },
  {
   "cell_type": "markdown",
   "id": "149cdc3d-19a5-4bfd-9e3e-b964e3dbfe77",
   "metadata": {},
   "source": [
    "### Create a Python program that prints the Fibonacci sequence up to a specified limit using a for loop."
   ]
  },
  {
   "cell_type": "code",
   "execution_count": 21,
   "id": "87b8a3d2-18df-48a7-9ef5-15e2120c2b2a",
   "metadata": {},
   "outputs": [
    {
     "name": "stdin",
     "output_type": "stream",
     "text": [
      "Please enter a number:  10\n"
     ]
    },
    {
     "name": "stdout",
     "output_type": "stream",
     "text": [
      "0\n",
      "1\n",
      "1\n",
      "2\n",
      "3\n",
      "5\n",
      "8\n",
      "13\n",
      "21\n",
      "34\n",
      "55\n"
     ]
    }
   ],
   "source": [
    "num_fib_10 = int(input('Please enter a number: '))\n",
    "a = 0\n",
    "b = 1\n",
    "for i in range(0, num_fib_10+1):\n",
    "    if i == 0 or i == 1:\n",
    "        print(i)\n",
    "    else:\n",
    "        c = a + b\n",
    "        a = b\n",
    "        b = c\n",
    "        print(c)"
   ]
  },
  {
   "cell_type": "markdown",
   "id": "20b28cd0-1a14-4a60-9021-fb2ecef3c3f0",
   "metadata": {},
   "source": [
    "### Write a Python program to count the number of vowels in a given string using a for loop."
   ]
  },
  {
   "cell_type": "code",
   "execution_count": 22,
   "id": "078d1922-662c-43c3-9305-3cc1086d73c4",
   "metadata": {},
   "outputs": [
    {
     "name": "stdin",
     "output_type": "stream",
     "text": [
      "Enter the string:  Moon Lander\n"
     ]
    },
    {
     "name": "stdout",
     "output_type": "stream",
     "text": [
      "Number of vowels in 'Moon Lander' is 4\n"
     ]
    }
   ],
   "source": [
    "str_11 = input('Enter the string: ')\n",
    "count = 0\n",
    "for i in str_11:\n",
    "    if i in ('a','e','i','o','u','A','E','I','O','U'):\n",
    "        count += 1\n",
    "    else:\n",
    "        continue\n",
    "        \n",
    "print(f'Number of vowels in \\'{str_11}\\' is {count}')"
   ]
  },
  {
   "cell_type": "markdown",
   "id": "f65334c0-a704-43db-acd9-e86bc729a704",
   "metadata": {},
   "source": [
    "### Create a Python program that generates a multiplication table for a given number using a for loop."
   ]
  },
  {
   "cell_type": "code",
   "execution_count": 26,
   "id": "d5debfee-019e-47b4-b135-e724f56c1942",
   "metadata": {},
   "outputs": [
    {
     "name": "stdout",
     "output_type": "stream",
     "text": [
      "The multiplication table for '8' is as below: \n",
      "8 x 1 = 8\n",
      "8 x 2 = 16\n",
      "8 x 3 = 24\n",
      "8 x 4 = 32\n",
      "8 x 5 = 40\n",
      "8 x 6 = 48\n",
      "8 x 7 = 56\n",
      "8 x 8 = 64\n",
      "8 x 9 = 72\n",
      "8 x 10 = 80\n"
     ]
    }
   ],
   "source": [
    "n_12 = 8\n",
    "print(f'The multiplication table for \\'{n_12}\\' is as below: ')\n",
    "for j in range(1, 11):\n",
    "    print(f'{n_12} x {j} = {n_12*j}')"
   ]
  },
  {
   "cell_type": "markdown",
   "id": "61af46ee-2d7d-446b-9098-92f26434b556",
   "metadata": {},
   "source": [
    "### Write a Python program to reverse a list using a for loop."
   ]
  },
  {
   "cell_type": "code",
   "execution_count": 44,
   "id": "e435ff8e-d9ab-4045-9b67-3e96aec48b00",
   "metadata": {},
   "outputs": [
    {
     "name": "stdout",
     "output_type": "stream",
     "text": [
      "['AFG', 'NEP', 'PAK', 'SL', 'BAN', 'IND']\n"
     ]
    }
   ],
   "source": [
    "list_13 = ['IND', 'BAN', 'SL', 'PAK', 'NEP', 'AFG']\n",
    "list_13_rev = []\n",
    "for i in list_13:\n",
    "    list_13_rev = [i] + list_13_rev\n",
    "print(list_13_rev)"
   ]
  },
  {
   "cell_type": "markdown",
   "id": "34a91f3e-5923-468a-8fcb-3b408375ed19",
   "metadata": {},
   "source": [
    "### Write a Python program to find the common elements between two lists using a for loop."
   ]
  },
  {
   "cell_type": "code",
   "execution_count": 47,
   "id": "34dbca76-656e-49c3-b6ef-8193d6573520",
   "metadata": {},
   "outputs": [
    {
     "name": "stdout",
     "output_type": "stream",
     "text": [
      "['DSA', 'FSDS pro']\n"
     ]
    }
   ],
   "source": [
    "list_14_1 = ['DSA', 'DSM', 'FSDS pro']\n",
    "list_14_2 = ['FSDS pro', 'FSDE', 'DSA']\n",
    "list_14_common = []\n",
    "for i in list_14_1:\n",
    "    for j in list_14_2:\n",
    "        if i == j:\n",
    "            list_14_common.append(i)\n",
    "        else:\n",
    "            continue\n",
    "print(list_14_common)"
   ]
  },
  {
   "cell_type": "markdown",
   "id": "c62e60c1-42a3-4e8b-b485-b37f68730323",
   "metadata": {},
   "source": [
    "### Explain how to use a for loop to iterate through the keys and values of a dictionary in Python."
   ]
  },
  {
   "cell_type": "code",
   "execution_count": 53,
   "id": "eae61586-1b82-41fb-89d9-93de4f929297",
   "metadata": {},
   "outputs": [
    {
     "name": "stdout",
     "output_type": "stream",
     "text": [
      "key1 : value1\n",
      "key10 : value10\n",
      "key2 : value2\n",
      "key7 : value7\n"
     ]
    }
   ],
   "source": [
    "dict_15 = {'key1': 'value1', 'key10': 'value10', 'key2': 'value2', 'key7': 'value7'}\n",
    "for k in dict_15:\n",
    "    print(k, ':', dict_15[k])"
   ]
  },
  {
   "cell_type": "markdown",
   "id": "e0a9e95b-58b7-48e7-b21f-14040621ccb2",
   "metadata": {},
   "source": [
    "### Write a Python program to find the GCD (Greatest Common Divisor) of two numbers using a for loop."
   ]
  },
  {
   "cell_type": "code",
   "execution_count": 4,
   "id": "7548db3b-3ade-4e09-879f-4e5fd4e100da",
   "metadata": {},
   "outputs": [
    {
     "name": "stdin",
     "output_type": "stream",
     "text": [
      "Enter the first number:  7\n",
      "Enter the second number:  5\n"
     ]
    },
    {
     "name": "stdout",
     "output_type": "stream",
     "text": [
      "The computed GCD of 7 and 5 is 1.\n"
     ]
    }
   ],
   "source": [
    "num_16_1 = int(input('Enter the first number: '))\n",
    "num_16_2 = int(input('Enter the second number: '))\n",
    "n = min(num_16_1,num_16_2)\n",
    "\n",
    "gcd = 0\n",
    "for i in range(1,n+1):\n",
    "    if num_16_1%i == 0 and num_16_2%i == 0:\n",
    "        gcd = i\n",
    "        \n",
    "print(f\"The computed GCD of {num_16_1} and {num_16_2} is {gcd}.\")"
   ]
  },
  {
   "cell_type": "markdown",
   "id": "c65f30e4-ab19-4019-a6da-91fe8f8bc489",
   "metadata": {},
   "source": [
    "### Create a Python program that checks if a string is a palindrome using a for loop."
   ]
  },
  {
   "cell_type": "code",
   "execution_count": 8,
   "id": "bfd843c6-4df5-41d4-8f8f-d4d18d2faee0",
   "metadata": {},
   "outputs": [
    {
     "name": "stdin",
     "output_type": "stream",
     "text": [
      "Enter the string:  outuo\n"
     ]
    },
    {
     "name": "stdout",
     "output_type": "stream",
     "text": [
      "The string 'outuo' is a palindrome\n"
     ]
    }
   ],
   "source": [
    "str_17 = input('Enter the string: ')\n",
    "str_17_rev = ''\n",
    "for i in str_17:\n",
    "    str_17_rev = i + str_17_rev\n",
    "if str_17 == str_17_rev:\n",
    "    print(f'The string \\'{str_17}\\' is a palindrome')\n",
    "else:\n",
    "    print(f'The string \\'{str_17}\\' is not a palindrome')"
   ]
  },
  {
   "cell_type": "markdown",
   "id": "c4caf2b8-b7d6-4dbc-bacc-39c9cd99c0ec",
   "metadata": {},
   "source": [
    "### Write a Python program to remove duplicates from a list using a for loop."
   ]
  },
  {
   "cell_type": "code",
   "execution_count": 17,
   "id": "8012110e-c1cf-4f2d-a150-2292f762dc36",
   "metadata": {},
   "outputs": [
    {
     "data": {
      "text/plain": [
       "[1, 'Duplicate', 2, 'First']"
      ]
     },
     "execution_count": 17,
     "metadata": {},
     "output_type": "execute_result"
    }
   ],
   "source": [
    "list_18 = ['First', 'Duplicate', 'Duplicate', 1, 1, 2]\n",
    "set_18 = set()\n",
    "for i in list_18:\n",
    "    set_18.add(i)\n",
    "list(set_18)"
   ]
  },
  {
   "cell_type": "markdown",
   "id": "18c18832-291e-426a-bc4a-b00453dd72c0",
   "metadata": {},
   "source": [
    "### Create a Python program that counts the number of words in a sentence using a for loop."
   ]
  },
  {
   "cell_type": "code",
   "execution_count": 3,
   "id": "a25a9107-b4af-4daf-a511-00f0a95cbad6",
   "metadata": {},
   "outputs": [
    {
     "name": "stdin",
     "output_type": "stream",
     "text": [
      "Enter the sentence:  this is it\n"
     ]
    },
    {
     "name": "stdout",
     "output_type": "stream",
     "text": [
      "the number of words in 'this is it' is 3\n"
     ]
    }
   ],
   "source": [
    "sentence_19 = input('Enter the sentence: ')\n",
    "count = 0\n",
    "for i in sentence_19.split():\n",
    "    count+=1\n",
    "print(f'the number of words in \\'{sentence_19}\\' is {count}')"
   ]
  },
  {
   "cell_type": "markdown",
   "id": "8ae303bf-42ec-4377-b6b5-55f08ad449ff",
   "metadata": {},
   "source": [
    "### Write a Python program to find the sum of all odd numbers from 1 to 50 using a for loop."
   ]
  },
  {
   "cell_type": "code",
   "execution_count": 4,
   "id": "638d4e87-1965-499c-b80f-100208b2a4de",
   "metadata": {},
   "outputs": [
    {
     "name": "stdout",
     "output_type": "stream",
     "text": [
      "The sum of all odd numbers from 1 to 50 is 625\n"
     ]
    }
   ],
   "source": [
    "sum_20_odd = 0\n",
    "for i in range(1, 51):\n",
    "    if i%2 != 0:\n",
    "        sum_20_odd += i\n",
    "print(f'The sum of all odd numbers from 1 to 50 is {sum_20_odd}')"
   ]
  },
  {
   "cell_type": "markdown",
   "id": "2d535a54-15b1-43db-ab71-84043cf35bad",
   "metadata": {},
   "source": [
    "### Write a Python program that checks if a given year is a leap year using a for loop."
   ]
  },
  {
   "cell_type": "code",
   "execution_count": 5,
   "id": "8e84d3e2-9d47-4c7c-9915-d7b4de9accde",
   "metadata": {},
   "outputs": [
    {
     "name": "stdin",
     "output_type": "stream",
     "text": [
      "Enter year to be checked: 2023\n"
     ]
    },
    {
     "name": "stdout",
     "output_type": "stream",
     "text": [
      "The year isn't a leap year!\n"
     ]
    }
   ],
   "source": [
    "year=int(input(\"Enter year to be checked:\"))\n",
    "if(year%4==0 and year%100!=0 or year%400==0):\n",
    "    print(\"The year is a leap year!\")\n",
    "else:\n",
    "    print(\"The year isn't a leap year!\")"
   ]
  },
  {
   "cell_type": "markdown",
   "id": "01afd628-570e-40c1-b9da-ce3b5e145869",
   "metadata": {},
   "source": [
    "### Create a Python program that calculates the square root of a number using a for loop."
   ]
  },
  {
   "cell_type": "code",
   "execution_count": 20,
   "id": "1bb973f2-107f-45f2-989d-35087b06da4f",
   "metadata": {},
   "outputs": [
    {
     "name": "stdin",
     "output_type": "stream",
     "text": [
      "Enter the number:  3\n"
     ]
    },
    {
     "name": "stdout",
     "output_type": "stream",
     "text": [
      "2\n"
     ]
    }
   ],
   "source": [
    "num_22 = int(input('Enter the number: '))\n",
    "for i in range (0, num_22):\n",
    "    if i**2 >= num_22:\n",
    "        print(i)\n",
    "        break"
   ]
  },
  {
   "cell_type": "markdown",
   "id": "93b9f6b5-2a7a-4c0c-8e5b-e3c885dcb179",
   "metadata": {},
   "source": [
    "### Write a Python program to find the LCM (Least Common Multiple) of two numbers using a for loop."
   ]
  },
  {
   "cell_type": "code",
   "execution_count": 3,
   "id": "b2763159-0c69-466d-9da8-8b4ba68250c4",
   "metadata": {},
   "outputs": [
    {
     "name": "stdin",
     "output_type": "stream",
     "text": [
      "Enter the first number:  20\n",
      "Enter the second number:  25\n"
     ]
    },
    {
     "name": "stdout",
     "output_type": "stream",
     "text": [
      "LCM of 20 and 25 is: 100.0\n"
     ]
    }
   ],
   "source": [
    "num_23_1 = int(input('Enter the first number: '))\n",
    "num_23_2 = int(input('Enter the second number: '))\n",
    "n = min(num_23_1,num_23_2)\n",
    "\n",
    "gcd = 0\n",
    "for i in range(1,n+1):\n",
    "    if num_23_1%i == 0 and num_23_2%i == 0:\n",
    "        gcd = i\n",
    "lcm = (num_23_1*num_23_2)/gcd\n",
    "print(\"LCM of\", num_23_1, \"and\", num_23_2, \"is:\", lcm)"
   ]
  },
  {
   "cell_type": "markdown",
   "id": "ae7d3d91-6fde-4ddc-af84-0b5a8477c80e",
   "metadata": {},
   "source": [
    "# If-else"
   ]
  },
  {
   "cell_type": "markdown",
   "id": "4558ad2c-9eba-48f4-ae60-ba198dcd10bf",
   "metadata": {},
   "source": [
    "### Write a Python program to check if a number is positive, negative, or zero using an if-else statement."
   ]
  },
  {
   "cell_type": "code",
   "execution_count": 4,
   "id": "6ef88629-ce45-4d34-9ace-effd795d238e",
   "metadata": {},
   "outputs": [
    {
     "name": "stdin",
     "output_type": "stream",
     "text": [
      "Enter the number:  45\n"
     ]
    },
    {
     "name": "stdout",
     "output_type": "stream",
     "text": [
      "The number '45.0' is a positive number\n"
     ]
    }
   ],
   "source": [
    "num_24 = float(input('Enter the number: '))\n",
    "if num_24 > 0:\n",
    "    print(f'The number \\'{num_24}\\' is a positive number')\n",
    "elif num_24 < 0:\n",
    "    print(f'The number \\'{num_24}\\' is a Negative number')\n",
    "elif num_24 == 0:\n",
    "    print(f'The number \\'{num_24}\\' is a zero which is neither positive nor negative')\n",
    "else:\n",
    "    print('Please type a valid number')"
   ]
  },
  {
   "cell_type": "markdown",
   "id": "95ebd0f3-2ea7-48cd-b4fc-0313736ed053",
   "metadata": {},
   "source": [
    "### Create a Python program that checks if a given number is even or odd using an if-else statement."
   ]
  },
  {
   "cell_type": "code",
   "execution_count": 8,
   "id": "59e3bf3a-a12d-4deb-bd3d-b1dcd70cafd8",
   "metadata": {},
   "outputs": [
    {
     "name": "stdin",
     "output_type": "stream",
     "text": [
      "Enter the number:  896\n"
     ]
    },
    {
     "name": "stdout",
     "output_type": "stream",
     "text": [
      "The number '896' is an EVEN number\n"
     ]
    }
   ],
   "source": [
    "num_25 = int(input('Enter the number: '))\n",
    "if num_25 % 2 == 0:\n",
    "    print(f'The number \\'{num_25}\\' is an EVEN number')\n",
    "elif num_25 % 2 != 0:\n",
    "    print(f'The number \\'{num_25}\\' is an ODD number')\n",
    "else:\n",
    "    print('Please type in a valid number')"
   ]
  },
  {
   "cell_type": "markdown",
   "id": "760a8bc7-1d4d-411b-84a7-50ba8f894ceb",
   "metadata": {},
   "source": [
    "### How can you use nested if-else statements in Python, and provide an example?"
   ]
  },
  {
   "cell_type": "code",
   "execution_count": 15,
   "id": "670fd44a-7ebb-496a-abda-ce3d9e3f70fa",
   "metadata": {},
   "outputs": [
    {
     "name": "stdin",
     "output_type": "stream",
     "text": [
      "Enter your marks:  87\n"
     ]
    },
    {
     "name": "stdout",
     "output_type": "stream",
     "text": [
      "You have got A-2 grade\n"
     ]
    }
   ],
   "source": [
    "marks_26 = float(input('Enter your marks: '))\n",
    "if marks_26 > 75:\n",
    "    if marks_26 > 90:\n",
    "        print('You have got an A-1 grade')\n",
    "    else:\n",
    "        print('You have got A-2 grade')\n",
    "else:\n",
    "    print('You have gotten B grade')"
   ]
  },
  {
   "cell_type": "markdown",
   "id": "1115c693-4b62-4a9a-a69b-1db72079c94b",
   "metadata": {},
   "source": [
    "### Write a Python program to determine the largest of three numbers using if-else."
   ]
  },
  {
   "cell_type": "code",
   "execution_count": 16,
   "id": "8803ad81-f748-4b40-8b3d-e742512d0753",
   "metadata": {},
   "outputs": [
    {
     "name": "stdin",
     "output_type": "stream",
     "text": [
      "Enter the first number:  12\n",
      "Enter the second number:  23\n",
      "Enter the third number:  1\n"
     ]
    },
    {
     "name": "stdout",
     "output_type": "stream",
     "text": [
      "Largest of the three numbers 12, 23 and 1 is 23\n"
     ]
    }
   ],
   "source": [
    "num_27_1 = int(input('Enter the first number: '))\n",
    "num_27_2 = int(input('Enter the second number: '))\n",
    "num_27_3 = int(input('Enter the third number: '))\n",
    "if num_27_1 > num_27_2 and num_27_1 > num_27_3:\n",
    "    print(f'Largest of the three numbers {num_27_1}, {num_27_2} and {num_27_3} is {num_27_1}')\n",
    "elif num_27_2 > num_27_1 and num_27_2 > num_27_3:\n",
    "    print(f'Largest of the three numbers {num_27_1}, {num_27_2} and {num_27_3} is {num_27_2}')\n",
    "else:\n",
    "    print(f'Largest of the three numbers {num_27_1}, {num_27_2} and {num_27_3} is {num_27_3}')"
   ]
  },
  {
   "cell_type": "markdown",
   "id": "5eb562bf-b1b6-4d4b-8cb1-5da7e8b97e3d",
   "metadata": {},
   "source": [
    "### Write a Python program that calculates the absolute value of a number using if-else."
   ]
  },
  {
   "cell_type": "code",
   "execution_count": 19,
   "id": "68de2f3e-7c0a-4f8d-a246-1f08893299fa",
   "metadata": {},
   "outputs": [
    {
     "name": "stdin",
     "output_type": "stream",
     "text": [
      "Enter the number:  -1024\n"
     ]
    },
    {
     "name": "stdout",
     "output_type": "stream",
     "text": [
      "The absolute value of -1024.0 is 1024.0\n"
     ]
    }
   ],
   "source": [
    "num_28 = float(input('Enter the number: '))\n",
    "if num_28 < 0:\n",
    "    print(f'The absolute value of {num_28} is {-num_28}')\n",
    "elif num_28 >= 0:\n",
    "    print(f'The absolute value of {num_28} is {num_28}')\n",
    "else:\n",
    "    print('Enter a valid number')"
   ]
  },
  {
   "cell_type": "markdown",
   "id": "a4e10587-42b1-4dd7-be4a-bd514cc976e4",
   "metadata": {},
   "source": [
    "### Create a Python program that checks if a given character is a vowel or consonant using if-else."
   ]
  },
  {
   "cell_type": "code",
   "execution_count": 23,
   "id": "96d3361b-1ac9-4d8d-be8c-f3dad6f452f1",
   "metadata": {},
   "outputs": [
    {
     "name": "stdin",
     "output_type": "stream",
     "text": [
      "Enter the character:  C\n"
     ]
    },
    {
     "name": "stdout",
     "output_type": "stream",
     "text": [
      "The character 'C' is a CONSONANT\n"
     ]
    }
   ],
   "source": [
    "char_29 = input('Enter the character: ')\n",
    "if char_29 in ('A','E','I','O','U','a','e','i','o','u'):\n",
    "    print(f'The character \\'{char_29}\\' is a VOWEL')\n",
    "elif char_29 in ('B','C','D','F','G','H','J','K','L','M','N','P','Q','R','S','T','V','W','X','Y','Z','b','c','d','f','g','h','j','k','l','m','n','p','q','r','s','t','v','w','x','y','z'):\n",
    "    print(f'The character \\'{char_29}\\' is a CONSONANT')\n",
    "else:\n",
    "    print('Please enter a valid character')"
   ]
  },
  {
   "cell_type": "markdown",
   "id": "8a9998d3-b9ca-4fdf-9927-ec08ca14b63f",
   "metadata": {},
   "source": [
    "### Write a Python program to determine if a user is eligible to vote based on their age using if-else."
   ]
  },
  {
   "cell_type": "code",
   "execution_count": 28,
   "id": "425c7915-358a-41de-b942-f6ef073c728d",
   "metadata": {},
   "outputs": [
    {
     "name": "stdin",
     "output_type": "stream",
     "text": [
      "Enter you name:  Samuel\n",
      "Enter your age:  18\n"
     ]
    },
    {
     "name": "stdout",
     "output_type": "stream",
     "text": [
      "Samuel, you can vote\n"
     ]
    }
   ],
   "source": [
    "name_30 = input('Enter you name: ')\n",
    "age_30 = float(input('Enter your age: '))\n",
    "if age_30 >= 18:\n",
    "    print(f'{name_30}, you can vote')\n",
    "else:\n",
    "    print(f'{name_30} you cannot vote')"
   ]
  },
  {
   "cell_type": "markdown",
   "id": "46c4c37d-711a-45b4-ae8f-e24a8b1a2db0",
   "metadata": {},
   "source": [
    "### Create a Python program that calculates the discount amount based on the purchase amount using if-else."
   ]
  },
  {
   "cell_type": "code",
   "execution_count": 29,
   "id": "3c2a8596-c85e-4e8e-b1b0-258eb9a9cd00",
   "metadata": {},
   "outputs": [
    {
     "name": "stdin",
     "output_type": "stream",
     "text": [
      "Enter the purchase amount to check the discounted price:  50\n"
     ]
    },
    {
     "name": "stdout",
     "output_type": "stream",
     "text": [
      "the discounted price is 47.5\n"
     ]
    }
   ],
   "source": [
    "pur_31 = float(input('Enter the purchase amount to check the discounted price: '))\n",
    "if 45 <= pur_31  <= 50:\n",
    "    print(f'the discounted price is {round(0.95*pur_31 , 2)}')\n",
    "elif 50 < pur_31  <= 75:\n",
    "    print(f'the discounted price is {round(0.90*pur_31 , 2)}')\n",
    "elif 75 < pur_31  <= 90:\n",
    "    print(f'the discounted price is {round(0.80*pur_31 , 2)}')\n",
    "else:\n",
    "    print(f'the discounted price is {round(0.75*pur_31 , 2)}')"
   ]
  },
  {
   "cell_type": "markdown",
   "id": "fd92617c-ab3f-4c15-bf6f-9599cab5f9a2",
   "metadata": {},
   "source": [
    "### Write a Python program to check if a number is within a specified range using if-else."
   ]
  },
  {
   "cell_type": "code",
   "execution_count": 31,
   "id": "f66d7366-eee7-4222-a50b-4754c65c2d94",
   "metadata": {},
   "outputs": [
    {
     "name": "stdin",
     "output_type": "stream",
     "text": [
      "Enter the lower limit of the range:  2.3\n",
      "Enter the upper limit of the range:  98\n",
      "Enter the number to investigate for:  3.45\n"
     ]
    },
    {
     "name": "stdout",
     "output_type": "stream",
     "text": [
      "The number '3.45' is between the specified range i.e. between '2.3' and '98.0'\n"
     ]
    }
   ],
   "source": [
    "ll_32 = float(input('Enter the lower limit of the range: '))\n",
    "ul_32 = float(input('Enter the upper limit of the range: '))\n",
    "num_32 = float(input('Enter the number to investigate for: '))\n",
    "if ll_32 < num_32 < ul_32:\n",
    "    print(f'The number \\'{num_32}\\' is between the specified range i.e. between \\'{ll_32}\\' and \\'{ul_32}\\'')\n",
    "else:\n",
    "    print(f'The number \\'{num_32}\\' is not between the specified range i.e. between \\'{ll_32}\\' and \\'{ul_32}\\'')"
   ]
  },
  {
   "cell_type": "markdown",
   "id": "5549af81-05cf-4cec-a6fb-a1ca3eafdb80",
   "metadata": {},
   "source": [
    "### Create a Python program that determines the grade of a student based on their score using if-else."
   ]
  },
  {
   "cell_type": "code",
   "execution_count": 32,
   "id": "a9ac9880-4cef-4197-abda-d714154d1046",
   "metadata": {},
   "outputs": [
    {
     "name": "stdin",
     "output_type": "stream",
     "text": [
      "Enter student's score:  87\n"
     ]
    },
    {
     "name": "stdout",
     "output_type": "stream",
     "text": [
      "You have got grade 'B'\n"
     ]
    }
   ],
   "source": [
    "score_33 = float(input('Enter student\\'s score: '))\n",
    "if score_33 >= 90:\n",
    "    print('You have got Grade \\'A\\'')\n",
    "elif 75 <= score_33 < 90:\n",
    "    print('You have got grade \\'B\\'')\n",
    "elif 60 <= score_33 < 75:\n",
    "        print('You have got grade \\'C\\'')\n",
    "elif 40 <= score_33 < 60:\n",
    "    print('You have got grade \\'D\\'')\n",
    "else:\n",
    "    print('You have got grade \\'E\\'')"
   ]
  },
  {
   "cell_type": "markdown",
   "id": "8543bf30-dc19-4e43-9613-b3198d82b53d",
   "metadata": {},
   "source": [
    "### Write a Python program to check if a string is empty or not using if-else."
   ]
  },
  {
   "cell_type": "code",
   "execution_count": 35,
   "id": "6b1101af-139d-4447-87d9-59f1ca9cc83c",
   "metadata": {},
   "outputs": [
    {
     "name": "stdin",
     "output_type": "stream",
     "text": [
      "Please enter the string:  \n"
     ]
    },
    {
     "name": "stdout",
     "output_type": "stream",
     "text": [
      "The string is empty\n"
     ]
    }
   ],
   "source": [
    "str_34 = input('Please enter the string: ')\n",
    "if str_34 == '':\n",
    "    print('The string is empty')\n",
    "else:\n",
    "    print('The string is not empty')"
   ]
  },
  {
   "cell_type": "markdown",
   "id": "4bfc02eb-ff48-41a5-b60e-d87482275712",
   "metadata": {},
   "source": [
    "### Create a Python program that identifies the type of a triangle (e.g., equilateral, isosceles, or scalene) based on input values using if-else."
   ]
  },
  {
   "cell_type": "code",
   "execution_count": 36,
   "id": "6da101e1-4c88-4dc7-a345-617c3533c6a1",
   "metadata": {},
   "outputs": [
    {
     "name": "stdin",
     "output_type": "stream",
     "text": [
      "Enter the length of first side:  2\n",
      "Enter the length of second side:  2\n",
      "Enter the length of third side:  3\n"
     ]
    },
    {
     "name": "stdout",
     "output_type": "stream",
     "text": [
      "The triangle is an ISOSCELES triangle\n"
     ]
    }
   ],
   "source": [
    "x_35 = int(input('Enter the length of first side: '))\n",
    "y_35 = int(input('Enter the length of second side: '))\n",
    "z_35 = int(input('Enter the length of third side: '))\n",
    "if x_35 == y_35:\n",
    "    if y_35 == z_35:\n",
    "        print('The triangle is an EQUILATERAL triangle')\n",
    "    else:\n",
    "        print('The triangle is an ISOSCELES triangle')\n",
    "else:\n",
    "    if y_35 == z_35:\n",
    "        print('The triangle is an ISOSCELES triangle')\n",
    "    else:\n",
    "        if z_35 == x_35:\n",
    "            print('The triangle is an ISOSCELES triangle')\n",
    "        else:    \n",
    "            print('The triangle is a SCALENE triangle')"
   ]
  },
  {
   "cell_type": "markdown",
   "id": "546179c0-4d31-438b-8fe0-889ce1b3da5f",
   "metadata": {},
   "source": [
    "### Write a Python program to determine the day of the week based on a user-provided number using if-else."
   ]
  },
  {
   "cell_type": "code",
   "execution_count": 37,
   "id": "fb67e28c-cc19-4c3c-a945-08eade13190c",
   "metadata": {},
   "outputs": [
    {
     "name": "stdin",
     "output_type": "stream",
     "text": [
      "Enter the number:  4\n"
     ]
    },
    {
     "name": "stdout",
     "output_type": "stream",
     "text": [
      "It is Thursday\n"
     ]
    }
   ],
   "source": [
    "num_36 = int(input('Enter the number: '))\n",
    "if num_36%7 == 1:\n",
    "    print('It is Monday')\n",
    "else:\n",
    "    if num_36%7 == 2:\n",
    "        print('It is Tuesday')\n",
    "    else:\n",
    "        if num_36%7 == 3:\n",
    "            print('It is Wednesday')\n",
    "        else:\n",
    "            if num_36%7 == 4:\n",
    "                print('It is Thursday')\n",
    "            else:\n",
    "                if num_36%7 == 5:\n",
    "                    print('It is Friday')\n",
    "                else:\n",
    "                    if num_36%7 == 6:\n",
    "                        print('It is Saturday')\n",
    "                    else:\n",
    "                        print('It is Sunday')"
   ]
  },
  {
   "cell_type": "markdown",
   "id": "49ddacb5-1b36-40a6-80b2-0eb6bdf5cbec",
   "metadata": {},
   "source": [
    "### Create a Python program that checks if a given year is a leap year using both if-else and a function."
   ]
  },
  {
   "cell_type": "code",
   "execution_count": 39,
   "id": "8b2d8eec-ad49-49d8-ad6a-d90542a670ce",
   "metadata": {},
   "outputs": [
    {
     "name": "stdin",
     "output_type": "stream",
     "text": [
      "Enter the year in AD:  2050\n"
     ]
    },
    {
     "name": "stdout",
     "output_type": "stream",
     "text": [
      "2050 is not a leap year\n"
     ]
    }
   ],
   "source": [
    "year_37 = int(input('Enter the year in AD: '))\n",
    "if year_37 % 4 == 0:\n",
    "    print(f'{year_37} is a leap year')\n",
    "else:\n",
    "    print(f'{year_37} is not a leap year')"
   ]
  },
  {
   "cell_type": "markdown",
   "id": "5f74f72f-0501-4eed-b63a-54e40dcba583",
   "metadata": {},
   "source": [
    "### How do you use the \"assert\" statement in Python to add debugging checks within if-else blocks?"
   ]
  },
  {
   "cell_type": "markdown",
   "id": "cb9c0404-12e8-4c3e-bff2-7eb8d5e48400",
   "metadata": {},
   "source": [
    "#### Answer: - In simpler terms, we can say that assertion is the boolean expression that checks if the statement is True or False. If the statement is true then it does nothing and continues the execution, but if the statement is False then it stops the execution of the program and throws an error."
   ]
  },
  {
   "cell_type": "markdown",
   "id": "6b34a0c0-8eff-45b6-96cb-4971da2b8a20",
   "metadata": {},
   "source": [
    "### Create a Python program that determines the eligibility of a person for a senior citizen discount based on age using if-else."
   ]
  },
  {
   "cell_type": "code",
   "execution_count": 42,
   "id": "e1e90b48-0acc-4916-904f-32edf1b3f99d",
   "metadata": {},
   "outputs": [
    {
     "name": "stdin",
     "output_type": "stream",
     "text": [
      "Enter the age of the citizen:  87\n"
     ]
    },
    {
     "name": "stdout",
     "output_type": "stream",
     "text": [
      "You are eligible for the Senior citizen discount\n"
     ]
    }
   ],
   "source": [
    "age_39 = float(input('Enter the age of the citizen: '))\n",
    "if age_39 >= 80:\n",
    "    print('You are eligible for the Senior citizen discount')\n",
    "else:\n",
    "    print('Sorry you are not eligible for Senior citizen discount yet since you are less than eighty years')"
   ]
  },
  {
   "cell_type": "markdown",
   "id": "68166e4e-e88e-4470-a8be-c4e322ef2855",
   "metadata": {},
   "source": [
    "### Write a Python program to categorize a given character as uppercase, lowercase, or neither using if-else."
   ]
  },
  {
   "cell_type": "code",
   "execution_count": 43,
   "id": "0e6a0385-ac9d-42f1-93f4-2b6e73ed61fc",
   "metadata": {},
   "outputs": [
    {
     "name": "stdin",
     "output_type": "stream",
     "text": [
      "Enter the character:  K\n"
     ]
    },
    {
     "name": "stdout",
     "output_type": "stream",
     "text": [
      "The character 'K' is a UPPERCASE letter\n"
     ]
    }
   ],
   "source": [
    "char_40 = input('Enter the character: ')\n",
    "if 65 <= ord(char_40) <= 90:\n",
    "    print(f'The character \\'{char_40}\\' is a UPPERCASE letter')\n",
    "elif 97 <= ord(char_40) <= 122:\n",
    "    print(f'The character \\'{char_40}\\' is a LOWERCASE letter')\n",
    "else:\n",
    "    print(f'The character \\'{char_40}\\' is a neither a LOWERCASE letter nor a UPPERCASE letter')"
   ]
  },
  {
   "cell_type": "markdown",
   "id": "9b7fb606-c784-4ccc-bf06-27633fb6006f",
   "metadata": {},
   "source": [
    "### Write a Python program to determine the roots of a quadratic equation using if-else."
   ]
  },
  {
   "cell_type": "code",
   "execution_count": 44,
   "id": "da58e05f-673f-4d91-9071-58a59f002fa4",
   "metadata": {},
   "outputs": [
    {
     "name": "stdin",
     "output_type": "stream",
     "text": [
      "Enter the value of coefficient of x^2:  1\n",
      "Enter the value of coefficient of x:  2\n",
      "Enter the value of constant term:  3\n"
     ]
    },
    {
     "name": "stdout",
     "output_type": "stream",
     "text": [
      "The Quadratic equation 1.0x^2 + 2.0x + 3.0 = 0\n",
      "roots are (-1+1.4142135623730951j) and (-1-1.4142135623730951j)\n"
     ]
    }
   ],
   "source": [
    "import math\n",
    "import cmath\n",
    "a_41 = float(input('Enter the value of coefficient of x^2: '))\n",
    "b_41 = float(input('Enter the value of coefficient of x: '))\n",
    "c_41 = float(input('Enter the value of constant term: '))\n",
    "print(f'The Quadratic equation {a_41}x^2 + {b_41}x + {c_41} = 0')\n",
    "if b_41**2 - 4*a_41*c_41 >= 0:\n",
    "    root1 = (-b_41 + math.sqrt(b_41**2 - 4*a_41*c_41))/(2*a_41)\n",
    "    root2 = (-b_41 - math.sqrt(b_41**2 - 4*a_41*c_41))/(2*a_41)\n",
    "    print(f'roots are {root1} and {root2}')\n",
    "else:\n",
    "    root1 = (-b_41/(2*a_41) + cmath.sqrt(b_41**2 - 4*a_41*c_41)/(2*a_41))\n",
    "    root2 = (-b_41/(2*a_41) - cmath.sqrt(b_41**2 - 4*a_41*c_41)/(2*a_41))\n",
    "    print(f'roots are {root1} and {root2}')"
   ]
  },
  {
   "cell_type": "markdown",
   "id": "5cf8d13c-c8ed-4409-a8c1-0907dd6463d0",
   "metadata": {},
   "source": [
    "### Create a Python program that checks if a given year is a century year or not using if-else."
   ]
  },
  {
   "cell_type": "code",
   "execution_count": 46,
   "id": "c225d690-3e5f-41af-88dc-a306b24b9986",
   "metadata": {},
   "outputs": [
    {
     "name": "stdin",
     "output_type": "stream",
     "text": [
      "Enter the year:  2023\n"
     ]
    },
    {
     "name": "stdout",
     "output_type": "stream",
     "text": [
      "The year 2023 is not a century year\n"
     ]
    }
   ],
   "source": [
    "year_42 = int(input('Enter the year: '))\n",
    "if year_42 % 100 == 0:\n",
    "    print(f'The year {year_42} is a century year')\n",
    "else:\n",
    "    print(f'The year {year_42} is not a century year')"
   ]
  },
  {
   "cell_type": "markdown",
   "id": "b48dd337-dcaa-4f91-a04a-5790bb98f6f4",
   "metadata": {},
   "source": [
    "### Write a Python program to determine if a given number is a perfect square using if-else."
   ]
  },
  {
   "cell_type": "code",
   "execution_count": 13,
   "id": "33e24f9e-8182-4112-b198-8f488621298c",
   "metadata": {},
   "outputs": [
    {
     "name": "stdin",
     "output_type": "stream",
     "text": [
      "Enter the number:  5\n"
     ]
    },
    {
     "name": "stdout",
     "output_type": "stream",
     "text": [
      "it is not a perfect square\n"
     ]
    }
   ],
   "source": [
    "num_43 = int(input('Enter the number: '))\n",
    "for i in range (num_43):\n",
    "    if i**2 == num_43:\n",
    "        print('It is a perfect square')\n",
    "        break\n",
    "else:\n",
    "    print('it is not a perfect square')"
   ]
  },
  {
   "cell_type": "markdown",
   "id": "ed95b330-c8ba-4617-a3a0-b26a89e42917",
   "metadata": {},
   "source": [
    "### Explain the purpose of the \"continue\" and \"break\" statements within if-else loops."
   ]
  },
  {
   "cell_type": "markdown",
   "id": "60d3d0ac-928e-4774-9a60-b992c793a43d",
   "metadata": {},
   "source": [
    "#### <u>Answer</u>: In the event of the requirement that the iteration is to be skipped and next iteration is to be followed, 'CONTINUE' statement is used while if the current loop execution is to be exited with, 'BREAK' statement is used"
   ]
  },
  {
   "cell_type": "markdown",
   "id": "e9fa0432-804b-4dec-84bc-a3803687a573",
   "metadata": {},
   "source": [
    "### Create a Python program that calculates the BMI (Body Mass Index) of a person based on their weight and height using if-else."
   ]
  },
  {
   "cell_type": "code",
   "execution_count": 48,
   "id": "97ab621b-b0af-4341-9e44-89c881a17753",
   "metadata": {},
   "outputs": [
    {
     "name": "stdin",
     "output_type": "stream",
     "text": [
      "Enter your weight in Kgs:  100\n",
      "Enter your height in meters 1.70\n"
     ]
    },
    {
     "name": "stdout",
     "output_type": "stream",
     "text": [
      "You are Obese\n"
     ]
    }
   ],
   "source": [
    "weight_44 = float(input('Enter your weight in Kgs: '))\n",
    "height_44 = float(input('Enter your height in meters'))\n",
    "bmi_44 = weight_44/(height_44**2)\n",
    "if 0 < bmi_44 <= 18.5:\n",
    "    print('You are underweight')\n",
    "elif 18.5 < bmi_44 < 25:\n",
    "    print('You are of normal weight')\n",
    "elif 25 <= bmi_44 < 30:\n",
    "    print('You are Overweight')\n",
    "else: \n",
    "    print('You are Obese')"
   ]
  },
  {
   "cell_type": "markdown",
   "id": "16d43b4b-da09-4a05-b04e-2273e460dc3b",
   "metadata": {},
   "source": [
    "### How can you use the \"filter()\" function with if-else statements to filter elements from a list?"
   ]
  },
  {
   "cell_type": "markdown",
   "id": "ef89f0c1-ee8a-4f8a-8628-460d629cfe62",
   "metadata": {},
   "source": [
    "#### Answer: - The filter() function selects elements from an iterable (list, tuple etc.) based on the output of a function. The function is applied to each element of the iterable and if it returns True , the element is selected by the filter() function."
   ]
  },
  {
   "cell_type": "markdown",
   "id": "ee6deeb3-0ed5-40f3-a441-262948b37679",
   "metadata": {},
   "source": [
    "### Write a Python program to determine if a given number is prime or not using if-else."
   ]
  },
  {
   "cell_type": "code",
   "execution_count": 51,
   "id": "9c336e3c-d3c3-4b86-9b4b-e1b5b0e29d95",
   "metadata": {},
   "outputs": [
    {
     "name": "stdin",
     "output_type": "stream",
     "text": [
      "Enter the number:  2013\n"
     ]
    },
    {
     "name": "stdout",
     "output_type": "stream",
     "text": [
      "The number '2013' is not a prime number\n"
     ]
    }
   ],
   "source": [
    "num_46 = int(input('Enter the number: '))\n",
    "if num_46 > 1:\n",
    "    for i in range(2, num_46):\n",
    "        if num_46%i==0:\n",
    "            print(f'The number \\'{num_46}\\' is not a prime number')\n",
    "            break\n",
    "    else:\n",
    "        print(f'The number \\'{num_46}\\' is a prime number')"
   ]
  },
  {
   "cell_type": "markdown",
   "id": "84dda7db-29da-4c9f-a60b-95457ddfd179",
   "metadata": {},
   "source": [
    "# Map"
   ]
  },
  {
   "cell_type": "markdown",
   "id": "8e7ebbea-4dbc-451a-9ea0-be735f845145",
   "metadata": {},
   "source": [
    "### Explain the purpose of the `map()` function in Python and provide an example of how it can be used to apply a function to each element of an iterable."
   ]
  },
  {
   "cell_type": "markdown",
   "id": "614c9f68-0210-447b-a6aa-bed24e5653d5",
   "metadata": {},
   "source": [
    "#### <u>Answer</u>: Map function is used in case of a requirement in which a particular function is to be iterated over each element of the iterable object. Example is shown below."
   ]
  },
  {
   "cell_type": "code",
   "execution_count": 57,
   "id": "d48f9ce7-1609-45bf-9a04-75ceee612fbc",
   "metadata": {},
   "outputs": [
    {
     "data": {
      "text/plain": [
       "['Not prime', 'Prime', 'Not prime']"
      ]
     },
     "execution_count": 57,
     "metadata": {},
     "output_type": "execute_result"
    }
   ],
   "source": [
    "def isPrime(num_47):\n",
    "    if num_47 > 1:\n",
    "        for i in range(2, num_47):\n",
    "            if num_47%i==0:\n",
    "                return 'Prime'\n",
    "                break\n",
    "        else:\n",
    "            return 'Not prime'\n",
    "\n",
    "lst_47 = [23, 24, 23]\n",
    "list(map(isPrime, lst_47))"
   ]
  },
  {
   "cell_type": "markdown",
   "id": "4ef5ce51-6377-450f-9115-a636a89c8e32",
   "metadata": {},
   "source": [
    "### Write a Python program that uses the `map()` function to square each element of a list of numbers."
   ]
  },
  {
   "cell_type": "code",
   "execution_count": 59,
   "id": "f8531189-a8dd-4bb3-9ac5-c609eee595ae",
   "metadata": {},
   "outputs": [
    {
     "data": {
      "text/plain": [
       "[1, 16, 81]"
      ]
     },
     "execution_count": 59,
     "metadata": {},
     "output_type": "execute_result"
    }
   ],
   "source": [
    "def square_48(x):\n",
    "    return x**2\n",
    "tuple_48 = (1,4,9)\n",
    "list(map(square_48, tuple_48))"
   ]
  },
  {
   "cell_type": "markdown",
   "id": "af5b667f-5372-4eb5-b0f7-8c7218c2920d",
   "metadata": {},
   "source": [
    "### How does the `map()` function differ from a list comprehension in Python, and when would you choose one over the other?"
   ]
  },
  {
   "cell_type": "markdown",
   "id": "b3bb4764-dd1b-4cb5-adae-345c0fae8c14",
   "metadata": {},
   "source": [
    "#### Answer: - List comprehension can be used together with if condition. Map function has no such functionality. List comprehension returns a list, whereas the map function returns an object of Iterable."
   ]
  },
  {
   "cell_type": "markdown",
   "id": "5a0c8acf-7e42-48e9-9ddf-4f4dfd746139",
   "metadata": {},
   "source": [
    "### Create a Python program that uses the `map()` function to convert a list of names to uppercase."
   ]
  },
  {
   "cell_type": "code",
   "execution_count": 60,
   "id": "e4b720b8-23e1-48c1-9677-bcca7c971042",
   "metadata": {},
   "outputs": [
    {
     "data": {
      "text/plain": [
       "['THIS', 'IS', 'ME']"
      ]
     },
     "execution_count": 60,
     "metadata": {},
     "output_type": "execute_result"
    }
   ],
   "source": [
    "def to_upper(name):\n",
    "    return name.upper()\n",
    "lst_49 = ['this', 'is', 'me']\n",
    "list(map(to_upper, lst_49))"
   ]
  },
  {
   "cell_type": "markdown",
   "id": "62d7d530-dcc6-4214-b2ba-b8d1473cd11b",
   "metadata": {},
   "source": [
    "### Write a Python program that uses the `map()` function to calculate the length of each word in a list of strings."
   ]
  },
  {
   "cell_type": "code",
   "execution_count": 2,
   "id": "79f42c13-82d2-4b75-ba48-4a9266b4aa00",
   "metadata": {},
   "outputs": [
    {
     "data": {
      "text/plain": [
       "[1, 5, 9, 1, 2]"
      ]
     },
     "execution_count": 2,
     "metadata": {},
     "output_type": "execute_result"
    }
   ],
   "source": [
    "lst_50 = ['I', 'think', 'therefore', 'I', 'am']\n",
    "def count_len_word(word):\n",
    "    return len(word)\n",
    "list(map(count_len_word, lst_50))"
   ]
  },
  {
   "cell_type": "markdown",
   "id": "07a20dd5-0b83-4acc-826f-e96378c6c9ca",
   "metadata": {},
   "source": [
    "### How can you use the `map()` function to apply a custom function to elements of multiple lists simultaneously in Python?"
   ]
  },
  {
   "cell_type": "code",
   "execution_count": null,
   "id": "0d0e1437-14c1-45ef-aeeb-dbbcc46c4b77",
   "metadata": {},
   "outputs": [],
   "source": []
  },
  {
   "cell_type": "markdown",
   "id": "e5894a6b-8125-4d7e-92cb-cf9b1d0e733e",
   "metadata": {},
   "source": [
    "### Create a Python program that uses `map()` to convert a list of temperatures from Celsius to Fahrenheit."
   ]
  },
  {
   "cell_type": "code",
   "execution_count": 3,
   "id": "8f17990f-51d8-4773-a5c9-9136b5b96b98",
   "metadata": {},
   "outputs": [
    {
     "data": {
      "text/plain": [
       "[-40.0, 212.0, 32.0, 77.0]"
      ]
     },
     "execution_count": 3,
     "metadata": {},
     "output_type": "execute_result"
    }
   ],
   "source": [
    "lst_temp_c = [-40, 100, 0, 25]\n",
    "def func_c2f(c):\n",
    "    return 1.8*c+32\n",
    "list(map(func_c2f, lst_temp_c))"
   ]
  },
  {
   "cell_type": "markdown",
   "id": "6e7897e1-8d94-4411-b4f5-f80209e0943c",
   "metadata": {},
   "source": [
    "### Write a Python program that uses the `map()` function to round each element of a list of floating-point numbers to the nearest integer."
   ]
  },
  {
   "cell_type": "code",
   "execution_count": 4,
   "id": "d0a55f10-77bc-444f-b62c-3f9a3899e4bb",
   "metadata": {},
   "outputs": [
    {
     "data": {
      "text/plain": [
       "[3.0, 6.0, 1.0, 1.0, 9.0]"
      ]
     },
     "execution_count": 4,
     "metadata": {},
     "output_type": "execute_result"
    }
   ],
   "source": [
    "lst_floating_num = [3.14, 6.023, 0.999, 1.44, 9.103]\n",
    "def float_2_nearest_int(x):\n",
    "    return round(x, 0)\n",
    "list(map(float_2_nearest_int, lst_floating_num))"
   ]
  },
  {
   "cell_type": "markdown",
   "id": "0f74b0d1-05fd-4998-a5bf-31cd074b2745",
   "metadata": {},
   "source": [
    "# Reduce :-"
   ]
  },
  {
   "cell_type": "code",
   "execution_count": 2,
   "id": "784dba64-ccfe-4aa5-8884-f6f116b203bc",
   "metadata": {},
   "outputs": [],
   "source": [
    "from functools import reduce"
   ]
  },
  {
   "cell_type": "markdown",
   "id": "3d95b188-9040-4c63-b635-6cfbebe58486",
   "metadata": {},
   "source": [
    "### What is the `reduce()` function in Python, and what module should you import to use it? Provide an example of its basic usage."
   ]
  },
  {
   "cell_type": "markdown",
   "id": "9a9859cc-9fb7-447b-87de-40b988bc2ca2",
   "metadata": {},
   "source": [
    "#### Answer: - The reduce(fun,seq) function is used to apply a particular function passed in its argument to all of the list elements mentioned in the sequence passed along.This function is defined in “functools” module."
   ]
  },
  {
   "cell_type": "markdown",
   "id": "17a99df6-d1f5-410b-b135-f1e0d8f5ef43",
   "metadata": {},
   "source": [
    "#### Basic usage"
   ]
  },
  {
   "cell_type": "code",
   "execution_count": 23,
   "id": "15f8a771-4842-4690-85b2-2927132ced1a",
   "metadata": {},
   "outputs": [
    {
     "name": "stdout",
     "output_type": "stream",
     "text": [
      "The sum of the list elements is : 17\n"
     ]
    }
   ],
   "source": [
    "lst_51 = [1, 3, 5, 6, 2]\n",
    "print(\"The sum of the list elements is : \", end=\"\")\n",
    "print(reduce(lambda a, b: a+b, lst_51))"
   ]
  },
  {
   "cell_type": "markdown",
   "id": "701f0932-82b7-423a-9cc9-14f4eebc5582",
   "metadata": {},
   "source": [
    "### Write a Python program that uses the `reduce()` function to find the product of all elements in a list."
   ]
  },
  {
   "cell_type": "code",
   "execution_count": 25,
   "id": "d67cd8c3-04cc-443b-a8bd-d1f69a2d1634",
   "metadata": {},
   "outputs": [
    {
     "name": "stdout",
     "output_type": "stream",
     "text": [
      "The product of the elements is: 120\n"
     ]
    }
   ],
   "source": [
    "lst_52 = [1,2,3,4,5]\n",
    "print('The product of the elements is: ', end = \"\")\n",
    "print(reduce(lambda a, b: a*b, lst_52))"
   ]
  },
  {
   "cell_type": "markdown",
   "id": "9cbca941-20c2-4958-b2a8-11497de91be9",
   "metadata": {},
   "source": [
    "### Create a Python program that uses `reduce()` to find the maximum element in a list of numbers."
   ]
  },
  {
   "cell_type": "code",
   "execution_count": 28,
   "id": "6d8302e3-35e9-4040-88fb-47f48ee9076d",
   "metadata": {},
   "outputs": [
    {
     "name": "stdout",
     "output_type": "stream",
     "text": [
      "The largest number in the list is: 5\n"
     ]
    }
   ],
   "source": [
    "lst_53 = [1,2,3,4,5]\n",
    "print('The largest number in the list is: ', end = \"\") \n",
    "print(reduce(lambda a, b: a if a>b else b, lst_52))"
   ]
  },
  {
   "cell_type": "markdown",
   "id": "ed193b01-f901-443c-9559-d77b0fcc40be",
   "metadata": {},
   "source": [
    "### How can you use the `reduce()` function to concatenate a list of strings into a single string?"
   ]
  },
  {
   "cell_type": "code",
   "execution_count": 32,
   "id": "44a09a4e-4591-4ab4-b1f0-1c8634a1db89",
   "metadata": {},
   "outputs": [
    {
     "name": "stdout",
     "output_type": "stream",
     "text": [
      "The concatenated string is: 12345\n"
     ]
    }
   ],
   "source": [
    "lst_54 = ['1','2','3','4','5']\n",
    "print('The concatenated string is: ', end = \"\") \n",
    "print(reduce(lambda a, b: a + b, lst_54))"
   ]
  },
  {
   "cell_type": "markdown",
   "id": "538ecbee-8e5b-4606-a024-446b2b4de2a7",
   "metadata": {},
   "source": [
    "### Write a Python program that calculates the factorial of a number using the `reduce()` function."
   ]
  },
  {
   "cell_type": "code",
   "execution_count": 3,
   "id": "ff3ff4db-e389-439a-a0a1-290a554751e0",
   "metadata": {},
   "outputs": [
    {
     "name": "stdin",
     "output_type": "stream",
     "text": [
      "Enter the number:  6\n"
     ]
    },
    {
     "name": "stdout",
     "output_type": "stream",
     "text": [
      "The factorial of 6 is :720\n"
     ]
    }
   ],
   "source": [
    "factorial_55 = int(input('Enter the number: '))\n",
    "print(f'The factorial of {factorial_55} is :', end = \"\")\n",
    "print(reduce(lambda a, b: a*b, range(1, factorial_55+1)))"
   ]
  },
  {
   "cell_type": "markdown",
   "id": "46b2ddd8-7dfd-49da-ba21-a638edb11660",
   "metadata": {},
   "source": [
    "### Create a Python program that uses `reduce()` to find the GCD (Greatest Common Divisor) of a list of numbers."
   ]
  },
  {
   "cell_type": "code",
   "execution_count": 11,
   "id": "341e81ac-f444-415c-8cbf-53d5010d86ef",
   "metadata": {},
   "outputs": [
    {
     "name": "stdout",
     "output_type": "stream",
     "text": [
      "The GCD of the numbers present in the list [20, 20, 50, 100] is 10\n"
     ]
    }
   ],
   "source": [
    "lst_num = [20, 20, 50, 100]\n",
    "def gcd(frst_num, second_num):\n",
    "    n = min(frst_num, second_num)\n",
    "\n",
    "    gcd_i = 0\n",
    "    for i in range(1,n+1):\n",
    "        if frst_num%i == 0 and second_num%i == 0:\n",
    "            gcd_i = i\n",
    "    return gcd_i\n",
    "print(f'The GCD of the numbers present in the list {lst_num} is {reduce(lambda a, b: gcd(a,b), lst_num)}')"
   ]
  },
  {
   "cell_type": "markdown",
   "id": "afac07a6-80e5-4764-89e0-352b08615855",
   "metadata": {},
   "source": [
    "### Write a Python program that uses the `reduce()` function to find the sum of the digits of a given number."
   ]
  },
  {
   "cell_type": "code",
   "execution_count": 19,
   "id": "9acec18a-855a-4ae5-842f-5b1295ab4c34",
   "metadata": {},
   "outputs": [
    {
     "name": "stdin",
     "output_type": "stream",
     "text": [
      "Enter the number :  123456\n"
     ]
    },
    {
     "name": "stdout",
     "output_type": "stream",
     "text": [
      "The sum of digits of the number is 21\n"
     ]
    }
   ],
   "source": [
    "n = [int(d) for d in input(\"Enter the number : \")]\n",
    "print(f'The sum of digits of the number is {reduce(lambda a, b: a+b, n)}')"
   ]
  },
  {
   "cell_type": "markdown",
   "id": "9d3a954a-6223-46b2-a2e2-a179e1393b54",
   "metadata": {},
   "source": [
    "# Filter :-"
   ]
  },
  {
   "cell_type": "markdown",
   "id": "ef8137ea-709c-455d-a6e6-c147b748496f",
   "metadata": {},
   "source": [
    "### Explain the purpose of the `filter()` function in Python and provide an example of how it can be used to filter elements from an iterable."
   ]
  },
  {
   "cell_type": "markdown",
   "id": "f9ff1e85-92e0-4035-989b-eba59a061c94",
   "metadata": {},
   "source": [
    "#### <u>Answer</u> `filter()` funcion is used to filter out a value from an iterable object based on a required or desired condition. An example is given in next snippet."
   ]
  },
  {
   "cell_type": "code",
   "execution_count": 8,
   "id": "5edb6efd-d679-402f-8eed-4a46a3b4818c",
   "metadata": {},
   "outputs": [
    {
     "name": "stdout",
     "output_type": "stream",
     "text": [
      "[2, 46, 78, 98, 90]\n"
     ]
    }
   ],
   "source": [
    "lst_59 = [1,2,3,46,78,98,90]\n",
    "def evn_num(i11):\n",
    "    if i11%2==0:\n",
    "        return True\n",
    "    else:\n",
    "        return False\n",
    "filter_even = filter(evn_num, lst_59)\n",
    "print(list(filter_even))"
   ]
  },
  {
   "cell_type": "markdown",
   "id": "235eea75-2699-489e-9e78-581f88e9b39b",
   "metadata": {},
   "source": [
    "### Write a Python program that uses the `filter()` function to select even numbers from a list of integers."
   ]
  },
  {
   "cell_type": "code",
   "execution_count": 10,
   "id": "b35921a5-1df5-4221-a261-f2f4ced37b2c",
   "metadata": {},
   "outputs": [
    {
     "name": "stdout",
     "output_type": "stream",
     "text": [
      "[56, 12]\n"
     ]
    }
   ],
   "source": [
    "lst_60 = [1,56,3,67,12]\n",
    "def evn_func(i18):\n",
    "    if i18%2==0:\n",
    "        return True\n",
    "    else:\n",
    "        return False\n",
    "filter_even = filter(evn_func, lst_60)\n",
    "print(list(filter_even))"
   ]
  },
  {
   "cell_type": "markdown",
   "id": "b928908b-4ca2-4917-aaef-0c6a344e97dc",
   "metadata": {},
   "source": [
    "### Create a Python program that uses the `filter()` function to select names that start with a specific letter from a list of strings."
   ]
  },
  {
   "cell_type": "code",
   "execution_count": 12,
   "id": "b352becd-37fe-45ad-b908-681a5f014703",
   "metadata": {},
   "outputs": [
    {
     "data": {
      "text/plain": [
       "['Lovelina', 'Labushagne', 'Lamborghini']"
      ]
     },
     "execution_count": 12,
     "metadata": {},
     "output_type": "execute_result"
    }
   ],
   "source": [
    "str_61 = ['Lovelina','Labushagne','ZeeshanAli','Zulu_Lance','MarkWaugh','Lamborghini']\n",
    "def nam_start(k):\n",
    "    if k[0]=='L':\n",
    "        return True\n",
    "    else:\n",
    "        return False\n",
    "start_letter_L = filter(nam_start, str_61)\n",
    "list(start_letter_L)"
   ]
  },
  {
   "cell_type": "markdown",
   "id": "d3717be1-d7de-4150-8e65-7fdb35c12290",
   "metadata": {},
   "source": [
    "### Write a Python program that uses the `filter()` function to select prime numbers from a list of integers."
   ]
  },
  {
   "cell_type": "code",
   "execution_count": 15,
   "id": "faf40573-3488-4f57-bdf3-945ec1f0fc23",
   "metadata": {},
   "outputs": [
    {
     "data": {
      "text/plain": [
       "[3, 7, 71]"
      ]
     },
     "execution_count": 15,
     "metadata": {},
     "output_type": "execute_result"
    }
   ],
   "source": [
    "lst_prm = [3,7,2023,1729,71,91]\n",
    "def primechecker(r):\n",
    "    for j in range(2, r):\n",
    "        if r%j == 0:\n",
    "            return False\n",
    "            break\n",
    "    else:\n",
    "        return True\n",
    "filter_prime = filter(primechecker, lst_prm)\n",
    "list(filter_prime)"
   ]
  },
  {
   "cell_type": "markdown",
   "id": "5812bce4-c342-455e-af32-d9e526f175ec",
   "metadata": {},
   "source": [
    "### How can you use the `filter()` function to remove None values from a list in Python?"
   ]
  },
  {
   "cell_type": "code",
   "execution_count": 18,
   "id": "02c50eb2-432c-46d3-b1f7-4d5cc5acba46",
   "metadata": {},
   "outputs": [
    {
     "data": {
      "text/plain": [
       "[3, 5, 4]"
      ]
     },
     "execution_count": 18,
     "metadata": {},
     "output_type": "execute_result"
    }
   ],
   "source": [
    "lst_num_with_none = [None,3,None,5,4]\n",
    "def none_remover(x):\n",
    "    if x == None:\n",
    "        del(x)\n",
    "    else:\n",
    "        return x\n",
    "filtered_without_None = filter(none_remover, lst_num_with_none)\n",
    "list(filtered_without_None)"
   ]
  },
  {
   "cell_type": "markdown",
   "id": "a0faee53-c59b-485d-b7eb-6a4d8982a1fb",
   "metadata": {},
   "source": [
    "### Create a Python program that uses `filter()` to select words longer than a certain length from a list of strings."
   ]
  },
  {
   "cell_type": "code",
   "execution_count": 20,
   "id": "82fe1faa-8178-48eb-b575-7a98e4f17331",
   "metadata": {},
   "outputs": [
    {
     "data": {
      "text/plain": [
       "['clear', 'vague']"
      ]
     },
     "execution_count": 20,
     "metadata": {},
     "output_type": "execute_result"
    }
   ],
   "source": [
    "lst_string_various = ['clear', 'vague', 'impossible', 'uncertain','dillydally']\n",
    "def attenuate_stringsOflength_morethan_5(k):\n",
    "    if len(k) > 5:\n",
    "        del(k)\n",
    "    else:\n",
    "        return k\n",
    "filtered_strings_of_length_5 = filter(attenuate_stringsOflength_morethan_5, lst_string_various)\n",
    "list(filtered_strings_of_length_5)"
   ]
  },
  {
   "cell_type": "markdown",
   "id": "81dba20d-26a5-472a-82ae-ee0f703c74d9",
   "metadata": {},
   "source": [
    "### Write a Python program that uses the `filter()` function to select elements greater than a specified threshold from a list of values."
   ]
  },
  {
   "cell_type": "code",
   "execution_count": 23,
   "id": "d8b98186-ade5-4c79-8a02-142301c1091d",
   "metadata": {},
   "outputs": [
    {
     "name": "stdin",
     "output_type": "stream",
     "text": [
      "Enter the threshold to filter out values greater than:  40\n"
     ]
    },
    {
     "data": {
      "text/plain": [
       "[100, 50, 87]"
      ]
     },
     "execution_count": 23,
     "metadata": {},
     "output_type": "execute_result"
    }
   ],
   "source": [
    "lst_70 = [9,10,20,100,50,1,2,87]\n",
    "threshold = int(input('Enter the threshold to filter out values greater than: '))\n",
    "def thresh_up(b):\n",
    "    if b < threshold:\n",
    "        del(b)\n",
    "    else:\n",
    "        return b\n",
    "filtered_list = filter(thresh_up, lst_70)\n",
    "list(filtered_list)"
   ]
  },
  {
   "cell_type": "markdown",
   "id": "64348216-418f-4983-b397-dfd6c0f3e63f",
   "metadata": {},
   "source": [
    "# Recursion:-"
   ]
  },
  {
   "cell_type": "markdown",
   "id": "13efc0c7-b776-4061-83ba-9cb2950d8ef1",
   "metadata": {},
   "source": [
    "### Explain the concept of recursion in Python. How does it differ from iteration?"
   ]
  },
  {
   "cell_type": "markdown",
   "id": "239d4d72-8918-4797-ae16-88d14406bffa",
   "metadata": {},
   "source": [
    "<u>ANSWER</u>\n",
    "<ul>Recursion is a technique in which the function calls itself till a base condtion is arrived or achieved. If there is no base condition mentioned the recursion continues infinitely</ul>\n",
    "<ul>It is different from iteration in a way that iteration continues till the iterating condition becomes False while Recursion continues till a base condition is reached. The recursion is slower than iteration</ul>"
   ]
  },
  {
   "cell_type": "markdown",
   "id": "54c64167-1c19-4da5-863e-bce01f27882c",
   "metadata": {},
   "source": [
    "### Write a Python program to calculate the factorial of a number using recursion."
   ]
  },
  {
   "cell_type": "code",
   "execution_count": 40,
   "id": "d64b9fcf-3fa6-4b91-955a-42d1a2e5bdd0",
   "metadata": {},
   "outputs": [],
   "source": [
    "def factorial_num(num_71):\n",
    "        if num_71 == 0 or num_71 == 1:\n",
    "            return 1\n",
    "        else:\n",
    "            return num_71*factorial_num(num_71-1)"
   ]
  },
  {
   "cell_type": "code",
   "execution_count": 42,
   "id": "345289ca-678d-4c5e-b30b-6e134244179a",
   "metadata": {},
   "outputs": [
    {
     "data": {
      "text/plain": [
       "40320"
      ]
     },
     "execution_count": 42,
     "metadata": {},
     "output_type": "execute_result"
    }
   ],
   "source": [
    "factorial_num(8)"
   ]
  },
  {
   "cell_type": "markdown",
   "id": "610c21a4-474a-4c92-8726-1869314536fd",
   "metadata": {},
   "source": [
    "### Create a recursive Python function to find the nth Fibonacci number."
   ]
  },
  {
   "cell_type": "code",
   "execution_count": 48,
   "id": "5c160206-f322-43b8-baca-3a1a8018c371",
   "metadata": {},
   "outputs": [],
   "source": [
    "def fibonacci_num(n_89):\n",
    "    if n_89 == 0:\n",
    "        return 0\n",
    "    elif n_89 == 1:\n",
    "        return 1\n",
    "    else:\n",
    "        return fibonacci_num(n_89-1) + fibonacci_num(n_89-2)"
   ]
  },
  {
   "cell_type": "code",
   "execution_count": 49,
   "id": "f2b1cc9a-1d80-4a04-ad7f-fbe7073886fe",
   "metadata": {},
   "outputs": [
    {
     "data": {
      "text/plain": [
       "21"
      ]
     },
     "execution_count": 49,
     "metadata": {},
     "output_type": "execute_result"
    }
   ],
   "source": [
    "fibonacci_num(8)"
   ]
  },
  {
   "cell_type": "markdown",
   "id": "f9959334-f098-49ca-8684-fbed750b260f",
   "metadata": {},
   "source": [
    "### Write a recursive Python function to calculate the sum of all elements in a list."
   ]
  },
  {
   "cell_type": "code",
   "execution_count": 3,
   "id": "86c1ff17-f5b3-46aa-94ee-bcce13aceb96",
   "metadata": {},
   "outputs": [],
   "source": [
    "def sum_elem_lst(lst, size):\n",
    "    if size == 0:\n",
    "        return 0\n",
    "    else:\n",
    "        return lst[size - 1] + sum_elem_lst(lst, size - 1)"
   ]
  },
  {
   "cell_type": "code",
   "execution_count": 5,
   "id": "a913070e-3832-45e6-a5f2-c21892c44967",
   "metadata": {},
   "outputs": [
    {
     "data": {
      "text/plain": [
       "9"
      ]
     },
     "execution_count": 5,
     "metadata": {},
     "output_type": "execute_result"
    }
   ],
   "source": [
    "sum_elem_lst([2,3,4], 3)"
   ]
  },
  {
   "cell_type": "markdown",
   "id": "1add99da-541f-4d78-819c-1eeaf80f1cb3",
   "metadata": {},
   "source": [
    "### How can you prevent a recursive function from running indefinitely, causing a stack overflow error?"
   ]
  },
  {
   "cell_type": "markdown",
   "id": "ae7ae0f8-db68-49ae-aa1e-4dda78636bc5",
   "metadata": {},
   "source": [
    "<u>ANSWER</u>\n",
    "<ul>Infinite recursion occurs when the base condition is not reached which is kind of a limit defined upto which the recursion will take place. This base condition is the part of Divide and conquer strategy one exhibits in Recursion.</ul>"
   ]
  },
  {
   "cell_type": "markdown",
   "id": "ea9acdba-c622-4f25-a18f-0eb6287c03b0",
   "metadata": {},
   "source": [
    "### Create a recursive Python function to find the greatest common divisor (GCD) of two numbers using the Euclidean algorithm."
   ]
  },
  {
   "cell_type": "code",
   "execution_count": 8,
   "id": "4e164960-813e-4b6f-a045-d0ebf174d038",
   "metadata": {},
   "outputs": [],
   "source": [
    "def gcd_2_num(num1, num2):\n",
    "    if num1 == 0:\n",
    "        return num2\n",
    "    return gcd_2_num(num2%num1, num1)"
   ]
  },
  {
   "cell_type": "code",
   "execution_count": 10,
   "id": "5dcf4e78-14d7-4219-bcda-bbffcf136b95",
   "metadata": {},
   "outputs": [
    {
     "data": {
      "text/plain": [
       "5"
      ]
     },
     "execution_count": 10,
     "metadata": {},
     "output_type": "execute_result"
    }
   ],
   "source": [
    "gcd_2_num(5,10)"
   ]
  },
  {
   "cell_type": "markdown",
   "id": "1d123d90-f653-41d5-9de8-979f4c277eb6",
   "metadata": {},
   "source": [
    "### Write a recursive Python function to reverse a string."
   ]
  },
  {
   "cell_type": "code",
   "execution_count": 6,
   "id": "16e6a9b1-cc7c-4958-98e5-97ea0f3951de",
   "metadata": {},
   "outputs": [],
   "source": [
    "def reverse_string(strng):\n",
    "    if len(strng)==0:\n",
    "        return strng\n",
    "    else:\n",
    "        return reverse_string(strng[1:])+strng[0]"
   ]
  },
  {
   "cell_type": "code",
   "execution_count": 7,
   "id": "ff4dd8d6-254d-45dc-9349-6ae5ea3806a0",
   "metadata": {},
   "outputs": [
    {
     "data": {
      "text/plain": [
       "'traehdniK'"
      ]
     },
     "execution_count": 7,
     "metadata": {},
     "output_type": "execute_result"
    }
   ],
   "source": [
    "reverse_string('Kindheart')"
   ]
  },
  {
   "cell_type": "markdown",
   "id": "1e0b2ae5-1078-4a34-975a-d685324e8f75",
   "metadata": {},
   "source": [
    "### Create a recursive Python function to calculate the power of a number (x^n)."
   ]
  },
  {
   "cell_type": "code",
   "execution_count": 8,
   "id": "67c7e0b4-0dc2-4cea-9598-9bb9941a1f03",
   "metadata": {},
   "outputs": [],
   "source": [
    "def power_num(num, exponent):\n",
    "    if exponent == 0:\n",
    "        return 1\n",
    "    else:\n",
    "        return num*power_num(num, exponent-1)"
   ]
  },
  {
   "cell_type": "code",
   "execution_count": 11,
   "id": "6af42788-f9b1-47b8-9e24-3db122eec503",
   "metadata": {},
   "outputs": [
    {
     "data": {
      "text/plain": [
       "125"
      ]
     },
     "execution_count": 11,
     "metadata": {},
     "output_type": "execute_result"
    }
   ],
   "source": [
    "power_num(5, 3)"
   ]
  },
  {
   "cell_type": "markdown",
   "id": "bab1c080-9415-47f7-a78d-5f6d867dbf50",
   "metadata": {},
   "source": [
    "### Write a recursive Python function to find all permutations of a given string."
   ]
  },
  {
   "cell_type": "code",
   "execution_count": 12,
   "id": "ede6ca95-99fa-437d-b6a2-39783b553a69",
   "metadata": {},
   "outputs": [
    {
     "data": {
      "text/plain": [
       "{'filo',\n",
       " 'fiol',\n",
       " 'flio',\n",
       " 'floi',\n",
       " 'foil',\n",
       " 'foli',\n",
       " 'iflo',\n",
       " 'ifol',\n",
       " 'ilfo',\n",
       " 'ilof',\n",
       " 'iofl',\n",
       " 'iolf',\n",
       " 'lfio',\n",
       " 'lfoi',\n",
       " 'lifo',\n",
       " 'liof',\n",
       " 'lofi',\n",
       " 'loif',\n",
       " 'ofil',\n",
       " 'ofli',\n",
       " 'oifl',\n",
       " 'oilf',\n",
       " 'olfi',\n",
       " 'olif'}"
      ]
     },
     "execution_count": 12,
     "metadata": {},
     "output_type": "execute_result"
    }
   ],
   "source": [
    "def permute_the_string(strng):\n",
    "    if len(strng) == 0:\n",
    "        \n",
    "        return [strng]\n",
    "    \n",
    "    permutated = []\n",
    "    for i in range(len(strng)):\n",
    "        fixed_char = strng[i]\n",
    "        other_char = strng[:i]+strng[i+1:]\n",
    "        for per in permute_the_string(other_char):\n",
    "            permutated.append(fixed_char+per)\n",
    "    \n",
    "    return set(permutated)\n",
    "\n",
    "permute_the_string('lofi')"
   ]
  },
  {
   "cell_type": "markdown",
   "id": "8a028fac-1bc0-4798-8506-8c7aca05ef40",
   "metadata": {},
   "source": [
    "### Write a recursive Python function to check if a string is a palindrome."
   ]
  },
  {
   "cell_type": "code",
   "execution_count": 3,
   "id": "6c8cda01-b744-4fc7-950f-ae3566d3a836",
   "metadata": {},
   "outputs": [
    {
     "name": "stdout",
     "output_type": "stream",
     "text": [
      "The string deposit is not palindrome\n"
     ]
    }
   ],
   "source": [
    "def reverse_string(strng):\n",
    "    if len(strng)==0:\n",
    "        return strng\n",
    "    else:\n",
    "        return reverse_string(strng[1:])+strng[0]\n",
    "    \n",
    "strng = \"deposit\"\n",
    "if strng == reverse_string(strng):\n",
    "    print(f'The string {strng} is a palindrome')\n",
    "else:\n",
    "    print(f'The string {strng} is not palindrome')"
   ]
  },
  {
   "cell_type": "markdown",
   "id": "4eb0344a-635b-4d90-a5cf-f7c756a5fada",
   "metadata": {},
   "source": [
    "### Create a recursive Python function to generate all possible combinations of a list of elements."
   ]
  },
  {
   "cell_type": "code",
   "execution_count": null,
   "id": "2ccd01e8-9591-469f-9d27-32923e684ea3",
   "metadata": {},
   "outputs": [],
   "source": []
  },
  {
   "cell_type": "markdown",
   "id": "323e5950-627c-49fb-92fc-f84b5a61ea2f",
   "metadata": {},
   "source": [
    "# Basics of Functions:"
   ]
  },
  {
   "cell_type": "markdown",
   "id": "dad1431f-6b0c-43a2-b681-ff16296866d4",
   "metadata": {},
   "source": [
    "### What is a function in Python, and why is it used?"
   ]
  },
  {
   "cell_type": "markdown",
   "id": "8873ba18-da15-468b-9070-573fca0aade1",
   "metadata": {},
   "source": [
    "<u>Answer</u> \n",
    "<ul>A function is an entity in a python code that increases the readability and usability of the logic it has inside it \n",
    "and it can be run wherever it is called. It takes arguments by assigning them to parameters as consumption.</ul>"
   ]
  },
  {
   "cell_type": "markdown",
   "id": "65554d26-2106-40bf-b0e9-11f2ccef08af",
   "metadata": {},
   "source": [
    "### How do you define a function in Python? Provide an example."
   ]
  },
  {
   "cell_type": "markdown",
   "id": "ca9c8bce-ded0-404f-a66a-de75a565d519",
   "metadata": {},
   "source": [
    "<u>Answer</u>\n",
    "<ul>It can be defiined by using <b>def</b> keyword followed by a parenthesis in which either parameters are passed or not passed as per the requirement of the user. An example to find list of even numbers from a list of numbers is given.</ul>"
   ]
  },
  {
   "cell_type": "code",
   "execution_count": 30,
   "id": "ee2724c5-070c-48e2-92f9-e00f9fb25cd9",
   "metadata": {},
   "outputs": [],
   "source": [
    "def even_lst(lst_input):\n",
    "    if lst_input == []:\n",
    "        return []\n",
    "    else:\n",
    "        return [i for i in lst_input if i%2 == 0]"
   ]
  },
  {
   "cell_type": "code",
   "execution_count": 33,
   "id": "48e8f89a-1f07-400b-90f3-64557dd0e0a4",
   "metadata": {},
   "outputs": [
    {
     "data": {
      "text/plain": [
       "[2, 4, 6, 8]"
      ]
     },
     "execution_count": 33,
     "metadata": {},
     "output_type": "execute_result"
    }
   ],
   "source": [
    "even_lst([1,2,3,4,5,6,7,8,9])"
   ]
  },
  {
   "cell_type": "markdown",
   "id": "f7c76986-cd91-4e93-862b-ace6c106e0f2",
   "metadata": {},
   "source": [
    "### Explain the difference between a function definition and a function call."
   ]
  },
  {
   "cell_type": "markdown",
   "id": "554b9586-8492-4790-93de-998c483d1e14",
   "metadata": {},
   "source": [
    "<u>Answer</u>\n",
    "<ul>Function definition comprises of the logic of the function along with the returning output while function call is the concept during which the function is called by the user to generate the output on the given arguments.</ul>"
   ]
  },
  {
   "cell_type": "markdown",
   "id": "c442ce02-df3e-4a45-8abc-4a75ad546e9a",
   "metadata": {},
   "source": [
    "### Write a Python program that defines a function to calculate the sum of two numbers and then calls the function."
   ]
  },
  {
   "cell_type": "code",
   "execution_count": 37,
   "id": "521af6e4-e1a1-4dc5-a408-84936f559d7d",
   "metadata": {},
   "outputs": [
    {
     "data": {
      "text/plain": [
       "\"the sum of the two numbers '1' and '1728' is '1729'\""
      ]
     },
     "execution_count": 37,
     "metadata": {},
     "output_type": "execute_result"
    }
   ],
   "source": [
    "def sum_2_num(k, j):\n",
    "    return f'the sum of the two numbers \\'{k}\\' and \\'{j}\\' is \\'{k + j}\\''\n",
    "sum_2_num(1, 1728)"
   ]
  },
  {
   "cell_type": "markdown",
   "id": "bfd5862c-853e-43ab-a63e-3c3c198926ab",
   "metadata": {},
   "source": [
    "### What is a function signature, and what information does it typically include?"
   ]
  },
  {
   "cell_type": "markdown",
   "id": "e8577e41-3bff-4ccd-a3bf-6c46ea33a034",
   "metadata": {},
   "source": [
    "<u>Answer</u>\n",
    "<ul>A function signature is a docstring which can be emedded into a function and can be used to given information about the function like information about the parameters, a sample or example code, the goal of the written code and other material like extra read.</ul>"
   ]
  },
  {
   "cell_type": "markdown",
   "id": "bc030e8a-6358-4aea-99f2-9b101d3f9139",
   "metadata": {},
   "source": [
    "### Create a Python function that takes two arguments and returns their product."
   ]
  },
  {
   "cell_type": "code",
   "execution_count": 41,
   "id": "5512f1ea-2716-42f5-b7e4-5f579df54cb6",
   "metadata": {},
   "outputs": [
    {
     "data": {
      "text/plain": [
       "\"The product of the two numbers '7' and '49' is '343'\""
      ]
     },
     "execution_count": 41,
     "metadata": {},
     "output_type": "execute_result"
    }
   ],
   "source": [
    "def product_2_num(s,m):\n",
    "    return f'The product of the two numbers \\'{s}\\' and \\'{m}\\' is \\'{s * m}\\''\n",
    "product_2_num(7,49)"
   ]
  },
  {
   "cell_type": "markdown",
   "id": "c0891c83-c5e2-4d88-986f-a9ebececa126",
   "metadata": {},
   "source": [
    "# Function Parameters and Arguments:"
   ]
  },
  {
   "cell_type": "markdown",
   "id": "3174d79b-dad4-4e62-8a05-6f39147f15bd",
   "metadata": {},
   "source": [
    "### Explain the concepts of formal parameters and actual arguments in Python functions."
   ]
  },
  {
   "cell_type": "markdown",
   "id": "f8521a7a-6b9c-43ae-8b83-4fde9ede88f7",
   "metadata": {},
   "source": [
    "<u>Answer</u>\n",
    "<ul>Formal Parameters are the input variables bounded by parentheses when defining a function, whereas arguments are the values assigned to these parameters when passed into a python function during a function call.</ul>"
   ]
  },
  {
   "cell_type": "markdown",
   "id": "4ea815c8-e90a-4d5f-a23e-619d35a721b8",
   "metadata": {},
   "source": [
    "### Write a Python program that defines a function with default argument values."
   ]
  },
  {
   "cell_type": "code",
   "execution_count": 42,
   "id": "76c32619-dda3-4135-a225-42057a3cf2e7",
   "metadata": {},
   "outputs": [],
   "source": [
    "def sum_2_num_1(z=1, c=2):\n",
    "    return z+c"
   ]
  },
  {
   "cell_type": "code",
   "execution_count": 44,
   "id": "0f8278d0-9bea-40d5-86d4-9bb400603c27",
   "metadata": {},
   "outputs": [
    {
     "data": {
      "text/plain": [
       "3"
      ]
     },
     "execution_count": 44,
     "metadata": {},
     "output_type": "execute_result"
    }
   ],
   "source": [
    "sum_2_num_1()"
   ]
  },
  {
   "cell_type": "markdown",
   "id": "94269255-58ff-4c39-b533-f4c51e09c55b",
   "metadata": {},
   "source": [
    "##### In the above example of the code, the parameters have been assigned default values and if the user does not give any values to the parameter while calling or invoking the function, the default values are used as to provide an output. If the user gives values to the function the default values are over-ridden by the provided values and corresponding output is provided."
   ]
  },
  {
   "cell_type": "markdown",
   "id": "2d91124c-041b-4459-bc1a-3868ccea7d66",
   "metadata": {},
   "source": [
    "### How do you use keyword arguments in Python function calls? Provide an example."
   ]
  },
  {
   "cell_type": "markdown",
   "id": "e881330b-7bf1-4105-843f-ed790f915136",
   "metadata": {},
   "source": [
    "<u>Answer</u>\n",
    "<ul>The keyword arguments are the values passed in the function definition by using \"=\" (assignment operator) to assign values to the paramters identifiable by the actual or specific parameter names which in a way makes them immune to the any shuffle or change in the order of the arguments</ul>"
   ]
  },
  {
   "cell_type": "code",
   "execution_count": 52,
   "id": "0fe41487-8375-47b0-a102-748e0da05ef5",
   "metadata": {},
   "outputs": [
    {
     "name": "stdout",
     "output_type": "stream",
     "text": [
      "14\n",
      "14\n"
     ]
    }
   ],
   "source": [
    "def func_example(a,b):\n",
    "    return a+b\n",
    "print(func_example(a=6, b=8))\n",
    "print(func_example(b=8, a=6))"
   ]
  },
  {
   "cell_type": "markdown",
   "id": "301e34b9-2d0d-435c-a323-1ba241e90d22",
   "metadata": {},
   "source": [
    "### Create a Python function that accepts a variable number of arguments and calculates their sum."
   ]
  },
  {
   "cell_type": "code",
   "execution_count": 49,
   "id": "41808ff5-e0d5-4ac0-8925-991e3d563cf9",
   "metadata": {},
   "outputs": [
    {
     "data": {
      "text/plain": [
       "10"
      ]
     },
     "execution_count": 49,
     "metadata": {},
     "output_type": "execute_result"
    }
   ],
   "source": [
    "def sum_various_num(*num):\n",
    "    return sum(num)\n",
    "sum_various_num(1,2,3,4)"
   ]
  },
  {
   "cell_type": "code",
   "execution_count": 50,
   "id": "00460781-c079-45ed-9169-9aa1762ba269",
   "metadata": {},
   "outputs": [
    {
     "data": {
      "text/plain": [
       "123"
      ]
     },
     "execution_count": 50,
     "metadata": {},
     "output_type": "execute_result"
    }
   ],
   "source": [
    "sum_various_num(1,2,3,4,6,8,9,0,90)"
   ]
  },
  {
   "cell_type": "markdown",
   "id": "d5fc4648-e82c-4ad9-9289-53238f1b16dc",
   "metadata": {},
   "source": [
    "### What is the purpose of the `*args` and `**kwargs` syntax in function parameter lists?"
   ]
  },
  {
   "cell_type": "markdown",
   "id": "3bc8cf5f-2c76-484c-a0f5-9b2537e1bc3e",
   "metadata": {},
   "source": [
    "<u>Answer</u>\n",
    "<ul><b>*args</b> is used as a argument when the number of arguments are variable and not known while writing the function definition</ul>\n",
    "<ul><b>**kwargs</b> is used when the arguments are of dictionary type and number of paramters are not known</ul>\n",
    "<ul>The word args and kwargs are not keywords and hence can be replaced by any other letter or combination of letters</ul>"
   ]
  },
  {
   "cell_type": "markdown",
   "id": "b497c287-4049-475b-b80b-885dbed81ff1",
   "metadata": {},
   "source": [
    "# Return Values and Scoping:"
   ]
  },
  {
   "cell_type": "markdown",
   "id": "643cdc12-bf2a-46cd-a7d6-8bff7643bb0d",
   "metadata": {},
   "source": [
    "### Describe the role of the `return` statement in Python functions and provide examples."
   ]
  },
  {
   "cell_type": "markdown",
   "id": "7288a72c-9670-4606-a248-e6cf6f597f30",
   "metadata": {},
   "source": [
    "<u>Answer</u>\n",
    "<ul>Return statement is used with a function def statement in order to return the output in the mentioned format or value. In the below example return statement is used to just return the argument as it is that is in its mentioned form. By calling the function and providing the parameter the argument 'littlelamb' the return statement or keyword helps the function to provide 'littlelamb' as an output</ul>"
   ]
  },
  {
   "cell_type": "code",
   "execution_count": 1,
   "id": "dd368185-dd87-4ea4-b490-95814785da72",
   "metadata": {},
   "outputs": [
    {
     "data": {
      "text/plain": [
       "'littlelamb'"
      ]
     },
     "execution_count": 1,
     "metadata": {},
     "output_type": "execute_result"
    }
   ],
   "source": [
    "def wordasitis(word):\n",
    "    return word\n",
    "wordasitis('littlelamb')"
   ]
  },
  {
   "cell_type": "markdown",
   "id": "4fefbb1b-3cab-4319-95ae-c186f44ca4c6",
   "metadata": {},
   "source": [
    "### Explain the concept of variable scope in Python, including local and global variables."
   ]
  },
  {
   "cell_type": "markdown",
   "id": "71b549a0-e8ab-4720-ae53-38575bf08f53",
   "metadata": {},
   "source": [
    "<u>Answer</u>\n",
    "<ul><u>Scope</u> can be called as a lifetime of a variable during which it is alive (sorry for the word alive).</ul>\n",
    "<ul><u>Local variable</u> - As evident from the name local varaible are the variables which are alive or can be used for example, if a varaible is defined within the function, it will be available inside the function only and if the value is changed inside this local scope, after the exit from the function, the value changed would not be reflected outside of it if it is accessed outside.</ul>\n",
    "<ul><u>Global variable</u> - the variable which has a life globally is called global varaible and global keyword is used to define it. the global variable if defined can be accessed even outside the local scope as well. We can read it anywhere in the program.</ul>"
   ]
  },
  {
   "cell_type": "markdown",
   "id": "e646e52b-e69e-4266-9ce2-0de142d19bd1",
   "metadata": {},
   "source": [
    "### Write a Python program that demonstrates the use of global variables within functions."
   ]
  },
  {
   "cell_type": "code",
   "execution_count": 4,
   "id": "c20f0581-8f2d-4957-916b-6848a282b4a4",
   "metadata": {},
   "outputs": [
    {
     "data": {
      "text/plain": [
       "'Four tyres'"
      ]
     },
     "execution_count": 4,
     "metadata": {},
     "output_type": "execute_result"
    }
   ],
   "source": [
    "vehicle = 'car'\n",
    "def tyres():\n",
    "    global vehicle\n",
    "    vehicle = 'Four tyres'\n",
    "    return vehicle\n",
    "tyres()"
   ]
  },
  {
   "cell_type": "markdown",
   "id": "42cff02b-8db1-48aa-9ac0-7909a60e0091",
   "metadata": {},
   "source": [
    "### Create a Python function that calculates the factorial of a number and returns it."
   ]
  },
  {
   "cell_type": "code",
   "execution_count": 2,
   "id": "2b94e30e-291d-4694-a510-4f0dc4e40fb5",
   "metadata": {},
   "outputs": [
    {
     "data": {
      "text/plain": [
       "24"
      ]
     },
     "execution_count": 2,
     "metadata": {},
     "output_type": "execute_result"
    }
   ],
   "source": [
    "def factorial(number):\n",
    "    if number == 0:\n",
    "        return 1\n",
    "    return number*factorial(number-1) \n",
    "factorial(4)"
   ]
  },
  {
   "cell_type": "markdown",
   "id": "786c0442-b2dd-4e92-a1e8-c53622da438e",
   "metadata": {},
   "source": [
    "### How can you access variables defined outside a function from within the function?"
   ]
  },
  {
   "cell_type": "markdown",
   "id": "0855f3c3-ff0a-4b63-8d6c-36f98cd340a9",
   "metadata": {},
   "source": [
    "<u>Answer</u>\n",
    "<ul>The variables defined outside the function can be accesssed inside the function by using the keyword Global before the mentioned variable name inside the function.</ul>"
   ]
  },
  {
   "cell_type": "markdown",
   "id": "0e71e015-e0c1-4208-9786-2ea39d46b299",
   "metadata": {},
   "source": [
    "# Lambda Functions and Higher-Order Functions:"
   ]
  },
  {
   "cell_type": "markdown",
   "id": "3937a651-68a3-4dfe-add4-064a01c797bf",
   "metadata": {},
   "source": [
    "### What are lambda functions in Python, and when are they typically used?"
   ]
  },
  {
   "cell_type": "markdown",
   "id": "ca72cc0d-8855-489d-a112-e881b588b5fe",
   "metadata": {},
   "source": [
    "<u>Answer</u>\n",
    "<ul>The lambda function also called anonymous function as it can be easily used without giving it a name like other user-defined functions. It is used in case of the functionality to be defined is not that much complex and can be written in one line. This makes code succint enough to be readable.</ul>"
   ]
  },
  {
   "cell_type": "markdown",
   "id": "a41788a2-d49a-41fe-ae5b-dcce15907872",
   "metadata": {},
   "source": [
    "### Write a Python program that uses lambda functions to sort a list of tuples based on the second element.\n"
   ]
  },
  {
   "cell_type": "code",
   "execution_count": 9,
   "id": "136b14bf-8bb5-4e64-a884-5ccc60054205",
   "metadata": {},
   "outputs": [
    {
     "name": "stdout",
     "output_type": "stream",
     "text": [
      "[(2, 1, 3), (1, 2, 3), (1, 3, 2)]\n"
     ]
    }
   ],
   "source": [
    "lst_tupl = [(1,2,3),(2,1,3),(1,3,2)]\n",
    "lst_tupl.sort(key=lambda x: x[1])\n",
    "print(lst_tupl)"
   ]
  },
  {
   "cell_type": "markdown",
   "id": "6ba52626-d98e-4ec6-8644-afa5c8f34389",
   "metadata": {},
   "source": [
    "### Explain the concept of higher-order functions in Python, and provide an example."
   ]
  },
  {
   "cell_type": "markdown",
   "id": "26df033d-bf9e-40f5-bed9-0350d72d105e",
   "metadata": {},
   "source": [
    "<u>Answer</u>\n",
    "<ul>A function is called Higher Order Function if it contains other functions as a parameter or returns a function as an output i.e, the functions that operate with another function are known as Higher order Functions. Functions are like objects in Python, therefore, they can be passed as argument to other functions. As functions are objects, we can also return a function from another function. </ul>"
   ]
  },
  {
   "cell_type": "code",
   "execution_count": 4,
   "id": "641d3ca2-a209-4c7f-87b8-67ab6aa83e3c",
   "metadata": {},
   "outputs": [
    {
     "name": "stdout",
     "output_type": "stream",
     "text": [
      "25\n"
     ]
    }
   ],
   "source": [
    "def create_adder(x): \n",
    "    def adder(y): \n",
    "        return x + y \n",
    "    \n",
    "    return adder \n",
    "    \n",
    "add_15 = create_adder(15) \n",
    "    \n",
    "print(add_15(10))"
   ]
  },
  {
   "cell_type": "markdown",
   "id": "c54d0dd4-fa3b-4f7f-8d7f-620cf99c936d",
   "metadata": {},
   "source": [
    "### Create a Python function that takes a list of numbers and a function as arguments, applying the function to each element in the list."
   ]
  },
  {
   "cell_type": "code",
   "execution_count": 13,
   "id": "d9fb4b3f-e199-4371-bbc2-ccc2b11f68af",
   "metadata": {},
   "outputs": [
    {
     "data": {
      "text/plain": [
       "[4, 9, 16]"
      ]
     },
     "execution_count": 13,
     "metadata": {},
     "output_type": "execute_result"
    }
   ],
   "source": [
    "def exp_num(x):\n",
    "    return x**2\n",
    "def list_func(lst_789, exp_num):\n",
    "    list_func_exp = []\n",
    "    for i in lst_789:\n",
    "        list_func_exp.append(exp_num(i))\n",
    "    return list_func_exp\n",
    "list_func([2,3,4], exp_num)"
   ]
  },
  {
   "cell_type": "markdown",
   "id": "2047d107-3a20-4975-b033-c5af5309cf34",
   "metadata": {},
   "source": [
    "# Built-in Functions:"
   ]
  },
  {
   "cell_type": "markdown",
   "id": "f488edb5-f771-4d47-b788-2539f5fbaac7",
   "metadata": {},
   "source": [
    "### Describe the role of built-in functions like `len()`, `max()`, and `min()` in Python."
   ]
  },
  {
   "cell_type": "markdown",
   "id": "07a9c039-8b15-487a-82a8-42e7b42a24e4",
   "metadata": {},
   "source": [
    "<u>Answer</u>\n",
    "<ul><u>len()</u> is a built-in function used to find the length of the iterable like string, list, tuple, set or dictionary.</ul>\n",
    "<ul><u>min()</u> is a built-in function used to find the minimum value out of the iterable object like string etcetra.</ul>\n",
    "<ul><u>max()</u> is a built-in function used to find the maximum value out of the iterable object like string etcetra.</ul>"
   ]
  },
  {
   "cell_type": "markdown",
   "id": "ffe524b9-616b-480d-8728-39815dbd0f26",
   "metadata": {},
   "source": [
    "### Write a Python program that uses the `map()` function to apply a function to each element of a list."
   ]
  },
  {
   "cell_type": "code",
   "execution_count": 22,
   "id": "ed92219d-f954-464b-8fc0-221926f2b298",
   "metadata": {},
   "outputs": [
    {
     "data": {
      "text/plain": [
       "[3, 4, 5, 9, 8]"
      ]
     },
     "execution_count": 22,
     "metadata": {},
     "output_type": "execute_result"
    }
   ],
   "source": [
    "lst_362 = [2,3,4,8,7]\n",
    "def plus_one(x):\n",
    "    return x+1\n",
    "list(map(plus_one, lst_362))"
   ]
  },
  {
   "cell_type": "markdown",
   "id": "1052af77-6803-4e46-a90a-7c39ce9b300e",
   "metadata": {},
   "source": [
    "### How does the `filter()` function work in Python, and when would you use it?"
   ]
  },
  {
   "cell_type": "markdown",
   "id": "f2605ece-1d32-4df5-bfbd-4c6d23fd1676",
   "metadata": {},
   "source": [
    "<u>Answer</u>\n",
    "<ul>Filter is a function used to filter out the elements of the iterable in accordance to required condition. It could be used in case of a conditional filtering.</ul>"
   ]
  },
  {
   "cell_type": "markdown",
   "id": "96062197-124b-4217-9b6c-4db279b2d58d",
   "metadata": {},
   "source": [
    "### Create a Python program that uses the `reduce()` function to find the product of all elements in a list."
   ]
  },
  {
   "cell_type": "code",
   "execution_count": 20,
   "id": "40089e4d-c9ef-4398-a224-d0b06d539ea4",
   "metadata": {},
   "outputs": [
    {
     "name": "stdout",
     "output_type": "stream",
     "text": [
      "The product of elements of the list [7, 8, 2, 10] is 1120\n"
     ]
    }
   ],
   "source": [
    "from functools import reduce\n",
    "def prod(x,y):\n",
    "    return x*y\n",
    "lst_456 = [7,8,2,10]\n",
    "print(f'The product of elements of the list {lst_456} is {reduce(prod, lst_456)}')"
   ]
  },
  {
   "cell_type": "markdown",
   "id": "1310b17f-e3d4-4f10-a555-8a171c099c09",
   "metadata": {},
   "source": [
    "# Function Documentation and Best Practices:"
   ]
  },
  {
   "cell_type": "markdown",
   "id": "bde00211-7668-4a94-8b05-51fe7b0ccd97",
   "metadata": {},
   "source": [
    "### Explain the purpose of docstrings in Python functions and how to write them."
   ]
  },
  {
   "cell_type": "markdown",
   "id": "9f49308b-6032-43c3-9f14-bb39ee2692ae",
   "metadata": {},
   "source": [
    "<u>Answer</u>\n",
    "<ul>Docstrings are used if a formatted atring is to be written in the way it has been entered and it can be used in multiline comments and inside a function to write about the function and can be accessed by using .__doc__ after the function name. It can be written by enclosing the comments in the consented format starting with ' ' ' or \" \" \" and ending wth ' ' ' or \" \" \".</ul>"
   ]
  },
  {
   "cell_type": "markdown",
   "id": "53dd285b-53ac-4c3d-9ab1-8226c7eb018d",
   "metadata": {},
   "source": [
    "### Describe some best practices for naming functions and variables in Python, including naming conventions and guidelines."
   ]
  },
  {
   "cell_type": "markdown",
   "id": "3e52d403-9c62-4830-9d28-dbf043d0e876",
   "metadata": {},
   "source": [
    "<u>Answer</u>\n",
    "<ul><u>Variable conventions</u>: The nameof a function should only be start with a lower case and upper case alphabet or a underscore and no space, special characters or digit at the start. Names are case-sensitive. All the words should be seperated by underscore. Variable names should be descriptive and meaningful to make the code more readable and understandable. Avoid using single-character variable names, except for common ones like i or j in loops. Avoid using Python keywords and function names as variable names.</ul>\n",
    "<ul><u>Function conventions</u>: All words should be in lowercase, and each word is separated by an underscore in function name. Function names should be descriptive and indicate the function’s purpose. Avoid naming your function the same as Python keywords or existing function names.</ul>"
   ]
  },
  {
   "cell_type": "code",
   "execution_count": null,
   "id": "6f1d4fc1-c29a-4753-958e-a6f96a58b131",
   "metadata": {},
   "outputs": [],
   "source": []
  }
 ],
 "metadata": {
  "kernelspec": {
   "display_name": "Python 3 (ipykernel)",
   "language": "python",
   "name": "python3"
  },
  "language_info": {
   "codemirror_mode": {
    "name": "ipython",
    "version": 3
   },
   "file_extension": ".py",
   "mimetype": "text/x-python",
   "name": "python",
   "nbconvert_exporter": "python",
   "pygments_lexer": "ipython3",
   "version": "3.10.8"
  },
  "toc": {
   "base_numbering": 1,
   "nav_menu": {},
   "number_sections": true,
   "sideBar": true,
   "skip_h1_title": false,
   "title_cell": "Table of Contents",
   "title_sidebar": "Contents",
   "toc_cell": false,
   "toc_position": {},
   "toc_section_display": true,
   "toc_window_display": false
  }
 },
 "nbformat": 4,
 "nbformat_minor": 5
}
