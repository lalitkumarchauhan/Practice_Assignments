{
 "cells": [
  {
   "cell_type": "markdown",
   "id": "3401371f-3475-4bd1-bb3f-75066ab20489",
   "metadata": {},
   "source": [
    "# OOPS Assignment: 1"
   ]
  },
  {
   "cell_type": "markdown",
   "id": "cbf40b43-618a-4beb-bb6f-2dbdaebc677f",
   "metadata": {},
   "source": [
    "## Problem 1: Bank Account Create a class representing a bank account with attributes like account number, account holder name, and balance. Implement methods to deposit and withdraw money from the account."
   ]
  },
  {
   "cell_type": "code",
   "execution_count": 32,
   "id": "3c4cc537-0996-4bf6-bc39-5b3ba44b2a5c",
   "metadata": {},
   "outputs": [],
   "source": [
    "class bankaccount:\n",
    "    \n",
    "    def __init__(self, acc_num, acc_name, balance):\n",
    "        self.acc_num = acc_num\n",
    "        self.acc_name = acc_name\n",
    "        self.balance = balance\n",
    "        try:\n",
    "            if self.balance < 0:\n",
    "                raise ValueError(\"The balance you have entered is not positive\")\n",
    "            if type(self.acc_num) != str:\n",
    "                raise ValueError(\"The account name is not in valid format\")\n",
    "            if type(self.acc_num) != str:\n",
    "                raise ValueError(\"The account number is not in valid format\")\n",
    "        except ValueError as v:\n",
    "            print(v)\n",
    "    \n",
    "    def bank_details_check(self):\n",
    "        return f\"account number is {self.acc_num}, account name is {self.acc_name}, balance in your account is {self.balance}\"\n",
    "    \n",
    "    def deposit_money(self, deposit):\n",
    "        self.deposit = deposit\n",
    "        print(f\"The account balance is {self.balance}\\n\")\n",
    "        try:\n",
    "            if self.deposit < 0:\n",
    "                raise ValueError(\"The deposit amount you have entered is not positive\")\n",
    "            elif type(self.deposit) not in (int, str):\n",
    "                raise ValueError(\"The deposit amount is not in valid format\")\n",
    "            elif self.deposit > 0:\n",
    "                self.balance += self.deposit\n",
    "                print(f\"The updated balance is {self.balance}\")\n",
    "            flag_acc = 'Y'\n",
    "            try:\n",
    "                while flag_acc in ('Y', 'y'):\n",
    "                    flag_acc = input(\"Do you want to deposit more? Press \\'Y\\' for Yes and \\'N\\' for No\")\n",
    "                    if flag_acc in (\"Y\", \"y\"):\n",
    "                        self.deposit = float(input(\"How much you want to deposit?\"))\n",
    "                        try:\n",
    "                            if self.deposit < 0:\n",
    "                                raise ValueError(\"The deposit amount you have entered is not positive\")\n",
    "                            elif type(self.deposit) not in str:\n",
    "                                raise ValueError(\"The withdraw amount is not in valid format\")\n",
    "                            elif self.deposit > 0:\n",
    "                                self.balance += self.deposit\n",
    "                                return f\"The updated balance is {self.balance}\"\n",
    "                        except ValueError as v:\n",
    "                            print(v) \n",
    "                    elif flag_acc in (\"N\", \"n\"):\n",
    "                        return f\"The updated balance is {self.balance}\"\n",
    "                        break\n",
    "                    else:\n",
    "                        print(\"Please enter a valid literal\")\n",
    "            except ValueError as v:\n",
    "                    print(v)\n",
    "        except ValueError as v:\n",
    "            print(v)\n",
    "        \n",
    "    def withdraw_money(self, withdraw):\n",
    "        self.withdraw = withdraw\n",
    "        print(f\"The account balance is {self.balance}\\n\")\n",
    "        try:\n",
    "            if self.withdraw < 0:\n",
    "                raise ValueError(\"The withdraw amount you have entered is not positive\")\n",
    "            elif type(self.withdraw) == str:\n",
    "                raise ValueError(\"The withdraw amount is not in valid format\")\n",
    "            elif self.withdraw > self.balance:\n",
    "                print(\"Not enough balance to withdraw\")\n",
    "            else:\n",
    "                self.balance -= self.withdraw        \n",
    "                print(f\"The updated balance is {self.balance}\")\n",
    "                flag_acc_withd = 'Y'\n",
    "                while flag_acc_withd in ('Y', 'y'):\n",
    "                    flag_acc_withd = input(\"Do you want to withdraw more? Press \\'Y\\' for Yes and \\'N\\' for No\")\n",
    "                    if flag_acc_withd in (\"Y\", \"y\"):\n",
    "                        self.withdraw = float(input(\"How much you want to withdraw?\"))\n",
    "                        try:\n",
    "                            if self.withdraw < 0:\n",
    "                                raise ValueError(\"The deposit amount you have entered is not positive\")\n",
    "                            if type(self.withdraw) == str:\n",
    "                                raise ValueError(\"The withdraw amount is not in valid format\")\n",
    "                            elif self.withdraw > self.balance:\n",
    "                                print(\"Not enough balance to withdraw\")\n",
    "                            else:\n",
    "                                self.balance -= self.withdraw\n",
    "                                return f\"The updated balance is {self.balance}\"\n",
    "                        except ValueError as v:\n",
    "                            print(v) \n",
    "                    elif flag_acc_withd in (\"N\", \"n\"):\n",
    "                        return f\"The updated balance is {self.balance}\"\n",
    "                        break\n",
    "                    else:\n",
    "                        print(\"Please enter a valid literal\")\n",
    "        except ValueError as v:\n",
    "            print(v)           "
   ]
  },
  {
   "cell_type": "code",
   "execution_count": 33,
   "id": "bfcc0b37-d7e5-4fa8-85b8-3d283dec88e3",
   "metadata": {},
   "outputs": [],
   "source": [
    "obj_acc = bankaccount('23456789', 'markram', 1001)"
   ]
  },
  {
   "cell_type": "code",
   "execution_count": 34,
   "id": "34166eff-1abe-4861-a04e-b4cf0d539a02",
   "metadata": {},
   "outputs": [
    {
     "data": {
      "text/plain": [
       "'markram'"
      ]
     },
     "execution_count": 34,
     "metadata": {},
     "output_type": "execute_result"
    }
   ],
   "source": [
    "obj_acc.acc_name"
   ]
  },
  {
   "cell_type": "code",
   "execution_count": 36,
   "id": "bc6f773d-e92d-4e77-9eec-54947082a25a",
   "metadata": {},
   "outputs": [
    {
     "name": "stdout",
     "output_type": "stream",
     "text": [
      "The account balance is 1801\n",
      "\n",
      "The updated balance is 2601\n"
     ]
    },
    {
     "name": "stdin",
     "output_type": "stream",
     "text": [
      "Do you want to deposit more? Press 'Y' for Yes and 'N' for No N\n"
     ]
    },
    {
     "data": {
      "text/plain": [
       "'The updated balance is 2601'"
      ]
     },
     "execution_count": 36,
     "metadata": {},
     "output_type": "execute_result"
    }
   ],
   "source": [
    "obj_acc.deposit_money(800)"
   ]
  },
  {
   "cell_type": "code",
   "execution_count": 37,
   "id": "2e0bb686-1f9d-476a-b802-90bbbdedef30",
   "metadata": {},
   "outputs": [
    {
     "name": "stdout",
     "output_type": "stream",
     "text": [
      "The account balance is 2601\n",
      "\n",
      "The updated balance is 1801\n"
     ]
    },
    {
     "name": "stdin",
     "output_type": "stream",
     "text": [
      "Do you want to withdraw more? Press 'Y' for Yes and 'N' for No N\n"
     ]
    },
    {
     "data": {
      "text/plain": [
       "'The updated balance is 1801'"
      ]
     },
     "execution_count": 37,
     "metadata": {},
     "output_type": "execute_result"
    }
   ],
   "source": [
    "obj_acc.withdraw_money(800)"
   ]
  },
  {
   "cell_type": "code",
   "execution_count": 38,
   "id": "3c40c1b3-a842-4f3c-9788-7a76770cc8a5",
   "metadata": {},
   "outputs": [
    {
     "name": "stdout",
     "output_type": "stream",
     "text": [
      "The account balance is 1801\n",
      "\n",
      "Not enough balance to withdraw\n"
     ]
    }
   ],
   "source": [
    "obj_acc.withdraw_money(10000)"
   ]
  },
  {
   "cell_type": "code",
   "execution_count": 39,
   "id": "c7f17363-3ade-4092-9d3b-98a38e9614bc",
   "metadata": {},
   "outputs": [
    {
     "data": {
      "text/plain": [
       "'markram'"
      ]
     },
     "execution_count": 39,
     "metadata": {},
     "output_type": "execute_result"
    }
   ],
   "source": [
    "obj_acc.acc_name"
   ]
  },
  {
   "cell_type": "code",
   "execution_count": 40,
   "id": "5f779025-b878-437f-ad31-0643d2daf7e4",
   "metadata": {},
   "outputs": [
    {
     "data": {
      "text/plain": [
       "'23456789'"
      ]
     },
     "execution_count": 40,
     "metadata": {},
     "output_type": "execute_result"
    }
   ],
   "source": [
    "obj_acc.acc_num"
   ]
  },
  {
   "cell_type": "code",
   "execution_count": 41,
   "id": "ed66b642-6577-48ae-b808-f78e7bf5f849",
   "metadata": {},
   "outputs": [
    {
     "data": {
      "text/plain": [
       "'account number is 23456789, account name is markram, balance in your account is 1801'"
      ]
     },
     "execution_count": 41,
     "metadata": {},
     "output_type": "execute_result"
    }
   ],
   "source": [
    "obj_acc.bank_details_check()"
   ]
  },
  {
   "cell_type": "markdown",
   "id": "c7be0be2-291c-4504-8fb3-8d92dfe3ab5a",
   "metadata": {},
   "source": [
    "# Problem 2: Employee Management Create a class representing an employee with attributes like employee ID, name, and salary. Implement methods to calculate the yearly bonus and display employee details."
   ]
  },
  {
   "cell_type": "code",
   "execution_count": 17,
   "id": "bbb56895-07ea-45d0-9345-67b6b0efe5ae",
   "metadata": {},
   "outputs": [],
   "source": [
    "class employee:\n",
    "    \n",
    "    def __init__(self, empID, empname, salary):\n",
    "        try:\n",
    "            self.empID = empID\n",
    "            self.empname = empname\n",
    "            self.salary = salary\n",
    "            if salary < 0:\n",
    "                raise ValueError(\"The salary you have entered is not positive\")\n",
    "            if type(empID) is not str:\n",
    "                raise ValueError(\"The employeeID you have entered is not in correct format\")\n",
    "            if type(empname) is not str:\n",
    "                raise ValueError(\"The employee name you have entered is not in correct format\")\n",
    "        except ValueError as v:\n",
    "            print(v)\n",
    "    \n",
    "    def display_emp_details(self):\n",
    "        return f'EMPLOYEE details are {self.empID}, {self.empname} and {self.salary}'\n",
    "    \n",
    "    def yearly_bonus(self):\n",
    "        \"\"\"If the salary of an employee is less than or equal to Rs. 7000, the bonus calculation is calculated using the formula: \n",
    "            Bonus = Salary x 8.33/100.\n",
    "            If the salary of an employee is more than Rs. 7000, the bonus calculation is based on Rs. 7000 using the formula: \n",
    "            Bonus = Rs. 7,000 x 8.33/100.\"\"\"\n",
    "        try:\n",
    "            bonus_rate = 8.33\n",
    "            if self.salary < 7000:\n",
    "                bonus_salary = self.salary*bonus_rate/100\n",
    "                return f'total Salary is {self.salary + bonus_salary} monetary units'\n",
    "            elif self.salary > 7000:\n",
    "                bonus_salary = 7000*8.33/100\n",
    "                return f\"Total Salary is {self.salary + bonus_salary} monetary units\"\n",
    "        except Exception as e:\n",
    "            print(e)"
   ]
  },
  {
   "cell_type": "code",
   "execution_count": 2,
   "id": "1c51daa9-cefe-4b64-8189-75e4d0c8ff79",
   "metadata": {},
   "outputs": [
    {
     "name": "stdout",
     "output_type": "stream",
     "text": [
      "The employee name you have entered is not in correct format\n"
     ]
    }
   ],
   "source": [
    "obj_employee = employee(\"2\", -9, 890)"
   ]
  },
  {
   "cell_type": "code",
   "execution_count": 3,
   "id": "ec990bcc-0de0-422c-95ad-01e16bfc84d2",
   "metadata": {},
   "outputs": [
    {
     "data": {
      "text/plain": [
       "'total Salary is 964.137 monetary units'"
      ]
     },
     "execution_count": 3,
     "metadata": {},
     "output_type": "execute_result"
    }
   ],
   "source": [
    "obj_employee.yearly_bonus()"
   ]
  },
  {
   "cell_type": "markdown",
   "id": "c71b7f47-4e20-42f3-a49f-dd0002ee6e2f",
   "metadata": {},
   "source": [
    "# Problem 3: Vehicle Rental Create a class representing a vehicle rental system. Implement methods to rent a vehicle, return a vehicle, and display available vehicles."
   ]
  },
  {
   "cell_type": "code",
   "execution_count": 51,
   "id": "31f0fe48-7257-461e-9750-f7144595d8b8",
   "metadata": {},
   "outputs": [],
   "source": [
    "class Vehicle_rental_system:\n",
    "    \n",
    "    def __init__(self, vehicle_id, vehicle_model, rent_charge, vehicle_availability, rental_duration, user_wlt):\n",
    "        self.vehicle_id = vehicle_id\n",
    "        self.vehicle_model = vehicle_model\n",
    "        self.rent_charge = rent_charge\n",
    "        self.vehicle_availability = vehicle_availability\n",
    "        self.user_wlt = user_wlt\n",
    "        self.rental_duration = rental_duration\n",
    "        try:\n",
    "            if type(self.user_wlt) not in  (float, int):\n",
    "                raise \"User wallet is not in proper format\"                \n",
    "        except TypeError as t:\n",
    "                print(t)\n",
    "\n",
    "    def display_vehicle(self):\n",
    "        if self.vehicle_availability == 'Y':\n",
    "            return f\"{self.vehicle_model} is avaiable for rent\"\n",
    "        else:\n",
    "            return f\"There are no vehicles avaiable at this point of time\"\n",
    "            \n",
    "            \n",
    "    def rent_a_vehicle(self, vehicle_mod, rental_dur, cust_contact):\n",
    "        try:\n",
    "            if self.vehicle_model == vehicle_mod and self.rental_duration > rental_dur: \n",
    "                if self.rent_charge < self.user_wlt and self.vehicle_availability == 'Y':\n",
    "                    print(\"Vehicle is up for rent, you can use your wallet to rent it\")\n",
    "                elif self.rent_charge < self.user_wlt and self.vehicle_availability == 'N':\n",
    "                    print(\"Sorry the vehicle is not available for rent\")\n",
    "                elif self.rent_charge > self.user_wlt and self.vehicle_availability == 'Y':\n",
    "                    print(\"Sorry the vehicle is not available for rent as you donot have enough balance in your rental wallet\")\n",
    "                elif self.rent_charge > self.user_wlt and self.vehicle_availability == 'N':\n",
    "                    print(\"Sorry the vehicle is not available for rent\")\n",
    "            else:\n",
    "                print(\"Sorry the vehicle model doesnot exist in our carvan or the rent duration you entered for the vehicle is not permitted\")\n",
    "        except Exception as e:\n",
    "            print(e)\n",
    "    \n",
    "    def return_vehicle(self, vehicle_id, vehicle_damage):\n",
    "        if vehicle_damage == \"Y\" and self.vehicle_id == vehicle_id:\n",
    "            return f\"Please pay the damage charges for returned vehicle {self.vehicle_model}\"\n",
    "        else:\n",
    "            return f\"Thank you for availing our services\"\n",
    "    "
   ]
  },
  {
   "cell_type": "code",
   "execution_count": 52,
   "id": "e4c5439a-e6ec-4a8b-b5ef-ec53c248742d",
   "metadata": {},
   "outputs": [],
   "source": [
    "vrs = Vehicle_rental_system(232, \"Maruti\", 900, 'Y', 6, 1000)"
   ]
  },
  {
   "cell_type": "code",
   "execution_count": 53,
   "id": "8e69bb2b-ef87-45ff-9e78-87d671c3478f",
   "metadata": {},
   "outputs": [
    {
     "data": {
      "text/plain": [
       "'Maruti is avaiable for rent'"
      ]
     },
     "execution_count": 53,
     "metadata": {},
     "output_type": "execute_result"
    }
   ],
   "source": [
    "vrs.display_vehicle()"
   ]
  },
  {
   "cell_type": "code",
   "execution_count": 54,
   "id": "83367047-b141-4834-9cd9-b6e59114faff",
   "metadata": {},
   "outputs": [
    {
     "name": "stdout",
     "output_type": "stream",
     "text": [
      "Sorry the vehicle model doesnot exist in our carvan or the rent duration you entered for the vehicle is not permitted\n"
     ]
    }
   ],
   "source": [
    "vrs.rent_a_vehicle(\"Maruti\", 7, 9876543210)"
   ]
  },
  {
   "cell_type": "code",
   "execution_count": 55,
   "id": "ebf08484-78c2-42f8-b5b9-9e45cb46e68f",
   "metadata": {},
   "outputs": [
    {
     "name": "stdout",
     "output_type": "stream",
     "text": [
      "Vehicle is up for rent, you can use your wallet to rent it\n"
     ]
    }
   ],
   "source": [
    "vrs.rent_a_vehicle(\"Maruti\", 5, 8989898989)"
   ]
  },
  {
   "cell_type": "code",
   "execution_count": 57,
   "id": "0c66976c-d0ee-4bba-8287-c0e8a1a1a635",
   "metadata": {},
   "outputs": [
    {
     "data": {
      "text/plain": [
       "'Please pay the damage charges for returned vehicle Maruti'"
      ]
     },
     "execution_count": 57,
     "metadata": {},
     "output_type": "execute_result"
    }
   ],
   "source": [
    "vrs.return_vehicle(232, 'Y')"
   ]
  },
  {
   "cell_type": "markdown",
   "id": "f558d688-7571-469e-959e-3f1a4bce9cee",
   "metadata": {},
   "source": [
    "# Problem 4: Library Catalog Create classes representing a library and a book. Implement methods to add books to the library, borrow books, and display available books."
   ]
  },
  {
   "cell_type": "code",
   "execution_count": 176,
   "id": "a9155135-66f6-48ba-bb99-dbf20c68f1fe",
   "metadata": {},
   "outputs": [],
   "source": [
    "class library:\n",
    "    def __init__(self, book_id, book_author):\n",
    "        try:\n",
    "            self.book_id = book_id\n",
    "            self.book_author = book_author\n",
    "            if type(self.book_id) != int or self.book_id <= 0:\n",
    "                raise TypeError(\"The book id cannot be other than positive integer\")        \n",
    "        except Exception as e:\n",
    "            print(e)\n",
    "        \n",
    "    def add_book(self):\n",
    "        flag = True\n",
    "        global book_list_updated\n",
    "        book_list_updated = {self.book_id: self.book_author}\n",
    "        print(book_list_updated)\n",
    "        while flag != False:\n",
    "            flag = input(\"Do you want to add books, press Y or N\")\n",
    "            if flag == \"Y\":\n",
    "                self.book_id = input(\"Enter the book id: \")\n",
    "                self.book_author = input(\"Enter the author name: \")\n",
    "                book_list_updated = {**book_list_updated, self.book_id: self.book_author}\n",
    "                print(book_list_updated)\n",
    "                flag = True\n",
    "            else:\n",
    "                print(f\"Thank you, the updated book list is {book_list_updated}\")\n",
    "                flag = False \n",
    "        \n",
    "    def display_book_details(self):\n",
    "        return book_list_updated\n",
    "            \n",
    "        \n",
    "    def borrow_book(self):\n",
    "        book_id = input(\"Enter the book id: \")\n",
    "        if book_id in book_list_updated.keys():\n",
    "            print(f\"Thank you for borrowing {book_id}\")\n",
    "        else:\n",
    "            print(f\"Book is not available at this point of time\")\n",
    "\n",
    "\n",
    "        \n"
   ]
  },
  {
   "cell_type": "code",
   "execution_count": 180,
   "id": "19455ace-c391-4bb5-a873-96cd3b4915cd",
   "metadata": {},
   "outputs": [],
   "source": [
    "book_class = library(1, \"godaan\")"
   ]
  },
  {
   "cell_type": "code",
   "execution_count": 181,
   "id": "801d76a0-49dc-463a-b73c-fd2ede820720",
   "metadata": {},
   "outputs": [
    {
     "name": "stdout",
     "output_type": "stream",
     "text": [
      "{1: 'godaan'}\n"
     ]
    },
    {
     "name": "stdin",
     "output_type": "stream",
     "text": [
      "Do you want to add books, press Y or N Y\n",
      "Enter the book id:  6549\n",
      "Enter the author name:  Khushwant\n"
     ]
    },
    {
     "name": "stdout",
     "output_type": "stream",
     "text": [
      "{1: 'godaan', '6549': 'Khushwant'}\n"
     ]
    },
    {
     "name": "stdin",
     "output_type": "stream",
     "text": [
      "Do you want to add books, press Y or N N\n"
     ]
    },
    {
     "name": "stdout",
     "output_type": "stream",
     "text": [
      "Thank you, the updated book list is {1: 'godaan', '6549': 'Khushwant'}\n"
     ]
    }
   ],
   "source": [
    "book_class.add_book()"
   ]
  },
  {
   "cell_type": "code",
   "execution_count": 182,
   "id": "fba7c48f-9967-436e-b63f-54e72603cc8a",
   "metadata": {},
   "outputs": [
    {
     "data": {
      "text/plain": [
       "{1: 'godaan', '6549': 'Khushwant'}"
      ]
     },
     "execution_count": 182,
     "metadata": {},
     "output_type": "execute_result"
    }
   ],
   "source": [
    "book_class.display_book_details()"
   ]
  },
  {
   "cell_type": "code",
   "execution_count": 183,
   "id": "9ce6c62e-ec74-43f2-90de-e3d77cd9275f",
   "metadata": {},
   "outputs": [
    {
     "name": "stdin",
     "output_type": "stream",
     "text": [
      "Enter the book id:  6549\n"
     ]
    },
    {
     "name": "stdout",
     "output_type": "stream",
     "text": [
      "Thank you for borrowing 6549\n"
     ]
    }
   ],
   "source": [
    "book_class.borrow_book()"
   ]
  },
  {
   "cell_type": "markdown",
   "id": "3f70cecd-f743-457c-b0d7-dbc2322aa284",
   "metadata": {},
   "source": [
    "# Problem 5: Product Inventory Create classes representing a product and an inventory system. Implement methods to add products to the inventory, update product quantity, and display available products."
   ]
  },
  {
   "cell_type": "code",
   "execution_count": 9,
   "id": "fe24f2d2-7816-4f99-aa3d-35eb789a2d43",
   "metadata": {},
   "outputs": [],
   "source": [
    "class product:\n",
    "    def __init__(self, product_id, product_name, product_quantity):\n",
    "        self.product_id = product_id\n",
    "        self.product_name = product_name\n",
    "        self.product_quantity = product_quantity\n",
    "        self.inventory_list = []\n",
    "        self.inventory_list.append([self.product_id, self.product_name, self.product_quantity])\n",
    "    \n",
    "    def display_products(self):\n",
    "        return f\"There are following products in the inventory {self.inventory_list}\"\n",
    "\n",
    "    \n",
    "class inventory(product):\n",
    "    \n",
    "    def __init__(self, product_id, product_name, product_quantity):\n",
    "        super().__init__(product_id, product_name, product_quantity)\n",
    "    \n",
    "    def add_product(self):\n",
    "        product_2_add_id = input(\"Enter the product id for the product you want to add: \")\n",
    "        product_2_name = input(\"Enter the product name for the product to add: \")\n",
    "        product_2_quantity = int(input(\"Enter the quantity of the product you have added: \"))\n",
    "        self.inventory_list.extend([[product_2_add_id, product_2_name, product_2_quantity]])\n",
    "        return f'The product with id no {product_2_add_id} have been added to inventory and the updated inventory list is {self.inventory_list}'\n",
    "    \n",
    "    def update_quantity(self):\n",
    "        product_3_id_update = input(\"Please enter the product ID for which the quantity is to be added: \")\n",
    "        inventory_list_id = []\n",
    "        for i in range(len(self.inventory_list)):\n",
    "            inventory_list_id.append(self.inventory_list[i][0])\n",
    "        if product_3_id_update in inventory_list_id:\n",
    "            product_3_quantity = int(input(f\"Enter the product quantity for product ID {product_3_id_update}: \"))\n",
    "            j = inventory_list_id.index(product_3_id_update)\n",
    "            self.inventory_list[j][2] = product_3_quantity\n",
    "            print(f'The quantity has been updated for the product with product ID {product_3_id_update} and new quantity is {self.inventory_list[j][2]}')\n",
    "        else:\n",
    "            print(\"The product ID is not valid\")\n",
    "            \n",
    "                "
   ]
  },
  {
   "cell_type": "code",
   "execution_count": 10,
   "id": "45c3d1d8-db62-4d95-8aef-7f645906b75b",
   "metadata": {},
   "outputs": [],
   "source": [
    "sim = product('1', \"outer cover\", 100)"
   ]
  },
  {
   "cell_type": "code",
   "execution_count": 11,
   "id": "08a62a74-62e3-4187-b27f-8e72b9363d9e",
   "metadata": {},
   "outputs": [
    {
     "data": {
      "text/plain": [
       "\"There are following products in the inventory [['1', 'outer cover', 100]]\""
      ]
     },
     "execution_count": 11,
     "metadata": {},
     "output_type": "execute_result"
    }
   ],
   "source": [
    "sim.display_products()"
   ]
  },
  {
   "cell_type": "code",
   "execution_count": 12,
   "id": "800a7083-0628-4b31-8284-c334384fd086",
   "metadata": {},
   "outputs": [],
   "source": [
    "inv_sim = inventory('1', \"outer cover\", 100)"
   ]
  },
  {
   "cell_type": "code",
   "execution_count": 13,
   "id": "d190a4e3-10b1-40b6-9bac-a71256789ba3",
   "metadata": {},
   "outputs": [
    {
     "name": "stdin",
     "output_type": "stream",
     "text": [
      "Enter the product id for the product you want to add:  2\n",
      "Enter the product name for the product to add:  Midcovr\n",
      "Enter the quantity of the product you have added:  100\n"
     ]
    },
    {
     "data": {
      "text/plain": [
       "\"The product with id no 2 have been added to inventory and the updated inventory list is [['1', 'outer cover', 100], ['2', 'Midcovr', 100]]\""
      ]
     },
     "execution_count": 13,
     "metadata": {},
     "output_type": "execute_result"
    }
   ],
   "source": [
    "inv_sim.add_product()"
   ]
  },
  {
   "cell_type": "code",
   "execution_count": 14,
   "id": "c03170ee-a731-4b06-80e9-be9fb4a8f02e",
   "metadata": {},
   "outputs": [
    {
     "name": "stdin",
     "output_type": "stream",
     "text": [
      "Please enter the product ID for which the quantity is to be added:  2\n"
     ]
    },
    {
     "name": "stdout",
     "output_type": "stream",
     "text": [
      "['1', '2']\n"
     ]
    },
    {
     "name": "stdin",
     "output_type": "stream",
     "text": [
      "Enter the product quantity for product ID 2:  101\n"
     ]
    },
    {
     "name": "stdout",
     "output_type": "stream",
     "text": [
      "The quantity has been updated for the product with product ID 2 and new quantity is 101\n"
     ]
    }
   ],
   "source": [
    "inv_sim.update_quantity()"
   ]
  },
  {
   "cell_type": "markdown",
   "id": "22fcabeb-af80-44de-92c9-2fef74e98d4d",
   "metadata": {},
   "source": [
    "# Problem 6: Shape Calculation Create a class representing a shape with attributes like length, width, and height. Implement methods to calculate the area and perimeter of the shape."
   ]
  },
  {
   "cell_type": "code",
   "execution_count": 9,
   "id": "09cf4f67-88b9-4392-abd6-ba9395e09eaf",
   "metadata": {},
   "outputs": [],
   "source": [
    "class shape:\n",
    "    \n",
    "    def __init__(self, length, width, height):\n",
    "        self.length = length\n",
    "        self.width = width\n",
    "        self.height = height\n",
    "        \n",
    "        \n",
    "    def area(self):\n",
    "        area = 2*(self.length*self.width + self.width*self.height + self.height*self.length)\n",
    "        return f\"The area is {area} sqm\"\n",
    "        \n",
    "    def perimeter(self):\n",
    "        perimeter = 4*(self.length + self.width + self.height)\n",
    "        return f\"The perimeter is {perimeter} meter\""
   ]
  },
  {
   "cell_type": "code",
   "execution_count": 10,
   "id": "3769e3a8-0bd6-4311-8f68-9dd690b5b9fa",
   "metadata": {},
   "outputs": [],
   "source": [
    "structure = shape(4, 2, 2)"
   ]
  },
  {
   "cell_type": "code",
   "execution_count": 11,
   "id": "438718a7-8630-4c5e-97c5-c9d7595df0af",
   "metadata": {},
   "outputs": [
    {
     "data": {
      "text/plain": [
       "'The area is 40 sqm'"
      ]
     },
     "execution_count": 11,
     "metadata": {},
     "output_type": "execute_result"
    }
   ],
   "source": [
    "structure.area()"
   ]
  },
  {
   "cell_type": "code",
   "execution_count": 12,
   "id": "1e3596c4-8b7d-4895-978e-948d05d32551",
   "metadata": {},
   "outputs": [
    {
     "data": {
      "text/plain": [
       "'The perimeter is 32 meter'"
      ]
     },
     "execution_count": 12,
     "metadata": {},
     "output_type": "execute_result"
    }
   ],
   "source": [
    "structure.perimeter()"
   ]
  },
  {
   "cell_type": "markdown",
   "id": "90aa6dfb-7f2b-4785-bb74-1ec8c3faea5c",
   "metadata": {},
   "source": [
    "# Problem 7: Student Management Create a class representing a student with attributes like student ID, name, and grades. Implement methods to calculate the average grade and display student details."
   ]
  },
  {
   "cell_type": "code",
   "execution_count": 23,
   "id": "a5573375-fa19-47c2-9267-c0eb54d542f3",
   "metadata": {},
   "outputs": [],
   "source": [
    "class student_management:\n",
    "    \n",
    "    def __init__(self, student_id, student_name):\n",
    "        self.student_id = student_id\n",
    "        self.student_name = student_name\n",
    "\n",
    "        \n",
    "    def average_grades(self, maths, science, hindi, urdu, social_science):\n",
    "        self.maths = maths\n",
    "        self.science = science\n",
    "        self.hindi = hindi\n",
    "        self.urdu = urdu\n",
    "        self.social_science = social_science\n",
    "        global grades_avg\n",
    "        grades_avg = (self.maths+self.science+self.hindi+self.urdu+self.social_science)/5\n",
    "        return f'Average grade for {self.student_id}: {self.student_name} is {grades_avg}'\n",
    "    \n",
    "    def student_details(self):\n",
    "        return f\"{self.student_id}, {self.student_name}, Average grade is {grades_avg}\""
   ]
  },
  {
   "cell_type": "code",
   "execution_count": 24,
   "id": "8214aa8f-58bc-4541-97cd-ed13e2c7fee8",
   "metadata": {},
   "outputs": [],
   "source": [
    "stud1 = student_management(1, \"odowd\")"
   ]
  },
  {
   "cell_type": "code",
   "execution_count": 25,
   "id": "e7cebec1-8eb2-4bd9-bf4d-b0964c1670d1",
   "metadata": {},
   "outputs": [
    {
     "data": {
      "text/plain": [
       "'Average grade for 1: odowd is 74.0'"
      ]
     },
     "execution_count": 25,
     "metadata": {},
     "output_type": "execute_result"
    }
   ],
   "source": [
    "stud1.average_grades(90, 87, 73, 60, 60)"
   ]
  },
  {
   "cell_type": "code",
   "execution_count": 26,
   "id": "10a94437-b306-4c3f-893a-5db4ddd0046a",
   "metadata": {},
   "outputs": [
    {
     "data": {
      "text/plain": [
       "'1, odowd, Average grade is 74.0'"
      ]
     },
     "execution_count": 26,
     "metadata": {},
     "output_type": "execute_result"
    }
   ],
   "source": [
    "stud1.student_details()"
   ]
  },
  {
   "cell_type": "markdown",
   "id": "8f1caf8c-7f40-478f-95e3-f8db2c89be0f",
   "metadata": {},
   "source": [
    "# Problem 8: Email Management Create a class representing an email with attributes like sender, recipient, and subject. Implement methods to send an email and display email details."
   ]
  },
  {
   "cell_type": "code",
   "execution_count": 34,
   "id": "79e4d48a-e5d5-44c0-a5c0-06fb570424b1",
   "metadata": {},
   "outputs": [],
   "source": [
    "class email:\n",
    "    \n",
    "    def __init__(self, email_sendr, email_recip, email_subject):\n",
    "        self.email_sendr = email_sendr\n",
    "        self.email_recip = email_recip\n",
    "        self.email_subject = email_subject\n",
    "        \n",
    "        \n",
    "    def send_email(self):\n",
    "        return f\"The email from \\'{self.email_sendr}\\' has been sent to \\'{self.email_recip}\\'\"\n",
    "    \n",
    "    def display_email_details(self):\n",
    "        print(f\"\"\"\n",
    "        Email from : {self.email_sendr}\n",
    "        Email to: {self.email_recip}\n",
    "        Subject: {self.email_subject}\"\"\")             "
   ]
  },
  {
   "cell_type": "code",
   "execution_count": 35,
   "id": "5505157f-c574-4ec8-ab1d-1ee511033386",
   "metadata": {},
   "outputs": [],
   "source": [
    "em_1 = email(\"me@email.com\", \"you@email.com\", \"Disussion about data science\")"
   ]
  },
  {
   "cell_type": "code",
   "execution_count": 36,
   "id": "08099ca7-3976-4b9b-addc-cdf03abc2a4c",
   "metadata": {},
   "outputs": [
    {
     "data": {
      "text/plain": [
       "\"The email from 'me@email.com' has been sent to 'you@email.com'\""
      ]
     },
     "execution_count": 36,
     "metadata": {},
     "output_type": "execute_result"
    }
   ],
   "source": [
    "em_1.send_email()"
   ]
  },
  {
   "cell_type": "code",
   "execution_count": 37,
   "id": "7b2c2e73-e2f6-4f5f-9feb-b243efdb355f",
   "metadata": {},
   "outputs": [
    {
     "name": "stdout",
     "output_type": "stream",
     "text": [
      "\n",
      "        Email from : me@email.com\n",
      "        Email to: you@email.com\n",
      "        Subject: Disussion about data science\n"
     ]
    }
   ],
   "source": [
    "em_1.display_email_details()"
   ]
  },
  {
   "cell_type": "markdown",
   "id": "8494a13e-dcb5-4c77-96de-8d7b9e438c56",
   "metadata": {},
   "source": [
    "# Problem 9: Social Media Profile Create a class representing a social media profile with attributes like username and posts. Implement methods to add posts, display posts, and search for posts by keyword."
   ]
  },
  {
   "cell_type": "code",
   "execution_count": 77,
   "id": "1ab0d2ca-5ee4-429a-b212-b1b88f76ed52",
   "metadata": {},
   "outputs": [],
   "source": [
    "class social_media:\n",
    "    \n",
    "    def __init__(self, acc_username, posts):\n",
    "        self.acc_username = acc_username\n",
    "        self.posts = posts\n",
    "        list_posts = [self.posts]\n",
    "        self.list_posts = list_posts\n",
    "    \n",
    "    def add_posts(self):\n",
    "        add_p = input(\"Enter the post you would like to add: \")\n",
    "        self.list_posts.append(add_p)\n",
    "    \n",
    "    def display_posts(self):\n",
    "        for i in self.list_posts:\n",
    "            print(i)\n",
    "    \n",
    "    def keyword_search(self, keyword):\n",
    "        self.keyword = keyword\n",
    "        list_ky = []\n",
    "        for i in self.list_posts:\n",
    "            if i.find(self.keyword) != -1:\n",
    "                list_ky.append(i)\n",
    "            else:\n",
    "                continue\n",
    "        print(f\"The list of posts in which \\'{self.keyword}\\' is present is \\'{list_ky}\\'\")"
   ]
  },
  {
   "cell_type": "code",
   "execution_count": 78,
   "id": "2204ea94-d431-4c71-8b19-9f7b400da23e",
   "metadata": {},
   "outputs": [],
   "source": [
    "gg = social_media('gautam', 'hi there')"
   ]
  },
  {
   "cell_type": "code",
   "execution_count": 79,
   "id": "99b8ca8f-ddba-4f7f-ab1c-9cddac8b15bf",
   "metadata": {},
   "outputs": [
    {
     "name": "stdout",
     "output_type": "stream",
     "text": [
      "hi there\n"
     ]
    }
   ],
   "source": [
    "gg.display_posts()"
   ]
  },
  {
   "cell_type": "code",
   "execution_count": 80,
   "id": "3f7b14d0-fb1b-4a48-a2e3-c084f78efb64",
   "metadata": {},
   "outputs": [
    {
     "name": "stdin",
     "output_type": "stream",
     "text": [
      "Enter the post you would like to add:  hi there this me\n"
     ]
    }
   ],
   "source": [
    "gg.add_posts()"
   ]
  },
  {
   "cell_type": "code",
   "execution_count": 81,
   "id": "8d92c8b4-d681-4c1c-b351-7003c93644a5",
   "metadata": {},
   "outputs": [
    {
     "name": "stdin",
     "output_type": "stream",
     "text": [
      "Enter the post you would like to add:  datascience is basically stats\n"
     ]
    }
   ],
   "source": [
    "gg.add_posts()"
   ]
  },
  {
   "cell_type": "code",
   "execution_count": 82,
   "id": "9ade2c71-a84d-4859-afc0-001bd2385cd4",
   "metadata": {},
   "outputs": [
    {
     "name": "stdout",
     "output_type": "stream",
     "text": [
      "hi there\n",
      "hi there this me\n",
      "datascience is basically stats\n"
     ]
    }
   ],
   "source": [
    "gg.display_posts()"
   ]
  },
  {
   "cell_type": "code",
   "execution_count": 83,
   "id": "22d4c18c-cc6f-457f-86d9-4c851d6677af",
   "metadata": {},
   "outputs": [
    {
     "name": "stdout",
     "output_type": "stream",
     "text": [
      "The list of posts in which 'hi' is present is '['hi there', 'hi there this me']'\n"
     ]
    }
   ],
   "source": [
    "gg.keyword_search('hi')"
   ]
  },
  {
   "cell_type": "markdown",
   "id": "651f7dfc-e5d6-44da-98ec-563703799803",
   "metadata": {},
   "source": [
    "# Problem 10: ToDo List Create a class representing a ToDo list with attributes like tasks and due dates. Implement methods to add tasks, mark tasks as completed, and display pending tasks."
   ]
  },
  {
   "cell_type": "code",
   "execution_count": 17,
   "id": "28826772-bd48-4303-ad16-fd309427b070",
   "metadata": {},
   "outputs": [],
   "source": [
    "import datetime\n",
    "\n",
    "class todolist:\n",
    "    \n",
    "    def __init__(self, task, due_date):\n",
    "        self.task = task\n",
    "        self.due_date = due_date\n",
    "        self.task_dct = {}\n",
    "        self.task_dct[self.task] = self.due_date\n",
    "        \n",
    "    def add_task(self):\n",
    "        task_ad = input(\"Enter the task name: \")\n",
    "        due_date_ad = input(\"Enter the due date: \")\n",
    "        self.task_dct.update({task_ad: due_date_ad})\n",
    "        return self.task_dct\n",
    "        \n",
    "    def completed_task(self):\n",
    "        completed_tasks = []\n",
    "        x = datetime.datetime.now()\n",
    "        for i,j in self.task_dct.items():\n",
    "            if j <= x.strftime(\"%x\"):\n",
    "                completed_tasks.append(i)\n",
    "            else:\n",
    "                continue\n",
    "        return completed_tasks\n",
    "    \n",
    "    def pending_tasks(self):\n",
    "        pending_tasks = []\n",
    "        current_date = datetime.datetime.now().strftime(\"%x\")\n",
    "        for task, due_date in self.task_dct.items():\n",
    "            if due_date > current_date:\n",
    "                pending_tasks.append(task)\n",
    "            else:\n",
    "                continue\n",
    "        return pending_tasks"
   ]
  },
  {
   "cell_type": "code",
   "execution_count": 18,
   "id": "a7d67b79-2d87-4321-aedb-ff40e770b34b",
   "metadata": {},
   "outputs": [],
   "source": [
    "day_tasks_1 = todolist(\"Jog\", '10/29/23')"
   ]
  },
  {
   "cell_type": "code",
   "execution_count": 19,
   "id": "d6cd10d6-2127-4d01-b70e-476d0f9f6a27",
   "metadata": {},
   "outputs": [
    {
     "name": "stdin",
     "output_type": "stream",
     "text": [
      "Enter the task name:  sleep\n",
      "Enter the due date:  10/23/23\n"
     ]
    },
    {
     "data": {
      "text/plain": [
       "{'Jog': '10/29/23', 'sleep': '10/23/23'}"
      ]
     },
     "execution_count": 19,
     "metadata": {},
     "output_type": "execute_result"
    }
   ],
   "source": [
    "day_tasks_1.add_task()"
   ]
  },
  {
   "cell_type": "code",
   "execution_count": 20,
   "id": "dce11573-aeb5-4744-9dcf-108eb7fe3092",
   "metadata": {},
   "outputs": [
    {
     "data": {
      "text/plain": [
       "['sleep']"
      ]
     },
     "execution_count": 20,
     "metadata": {},
     "output_type": "execute_result"
    }
   ],
   "source": [
    "day_tasks_1.completed_task()"
   ]
  },
  {
   "cell_type": "code",
   "execution_count": 21,
   "id": "af28bf2b-f4b8-427d-aa76-676cdabe86e9",
   "metadata": {},
   "outputs": [
    {
     "data": {
      "text/plain": [
       "['Jog']"
      ]
     },
     "execution_count": 21,
     "metadata": {},
     "output_type": "execute_result"
    }
   ],
   "source": [
    "day_tasks_1.pending_tasks()"
   ]
  },
  {
   "cell_type": "code",
   "execution_count": 22,
   "id": "12716c93-93dd-4937-949b-8639dc9169df",
   "metadata": {},
   "outputs": [
    {
     "name": "stdin",
     "output_type": "stream",
     "text": [
      "Enter the task name:  swim\n",
      "Enter the due date:  10/23/23\n"
     ]
    },
    {
     "data": {
      "text/plain": [
       "{'Jog': '10/29/23', 'sleep': '10/23/23', 'swim': '10/23/23'}"
      ]
     },
     "execution_count": 22,
     "metadata": {},
     "output_type": "execute_result"
    }
   ],
   "source": [
    "day_tasks_1.add_task()"
   ]
  }
 ],
 "metadata": {
  "kernelspec": {
   "display_name": "Python 3 (ipykernel)",
   "language": "python",
   "name": "python3"
  },
  "language_info": {
   "codemirror_mode": {
    "name": "ipython",
    "version": 3
   },
   "file_extension": ".py",
   "mimetype": "text/x-python",
   "name": "python",
   "nbconvert_exporter": "python",
   "pygments_lexer": "ipython3",
   "version": "3.10.8"
  }
 },
 "nbformat": 4,
 "nbformat_minor": 5
}
