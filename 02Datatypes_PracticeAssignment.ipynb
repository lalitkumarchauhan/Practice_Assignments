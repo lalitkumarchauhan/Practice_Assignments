{
 "cells": [
  {
   "cell_type": "markdown",
   "id": "3eb4002c-8096-423f-b9ce-706cc7502199",
   "metadata": {},
   "source": [
    "# String Based PracticeQuestions"
   ]
  },
  {
   "cell_type": "markdown",
   "id": "3eed7814-e9a9-400d-8992-5abe7a433af3",
   "metadata": {},
   "source": [
    "## TOPIC: String Based Assignment Problem"
   ]
  },
  {
   "cell_type": "markdown",
   "id": "236e916f-9ba2-4bed-bd3b-74c51c211539",
   "metadata": {},
   "source": [
    "### 1. Write a program to reverse a string."
   ]
  },
  {
   "cell_type": "code",
   "execution_count": 1,
   "id": "b7aa9a35-ec1c-41fb-a284-e30241d216bd",
   "metadata": {},
   "outputs": [
    {
     "name": "stdin",
     "output_type": "stream",
     "text": [
      " Lalit\n"
     ]
    },
    {
     "data": {
      "text/plain": [
       "'tilaL'"
      ]
     },
     "execution_count": 1,
     "metadata": {},
     "output_type": "execute_result"
    }
   ],
   "source": [
    "s = input()\n",
    "reverse_s = s[::-1]\n",
    "reverse_s"
   ]
  },
  {
   "cell_type": "markdown",
   "id": "00c6ffb3-d7cf-44bd-9847-96cec8906e39",
   "metadata": {},
   "source": [
    "### 2. Check if a string is a palindrome."
   ]
  },
  {
   "cell_type": "code",
   "execution_count": 4,
   "id": "1f7885c9-5f07-4e2b-9fdc-e1011934e874",
   "metadata": {},
   "outputs": [
    {
     "name": "stdin",
     "output_type": "stream",
     "text": [
      " leveL\n"
     ]
    },
    {
     "name": "stdout",
     "output_type": "stream",
     "text": [
      "level is an palindrome? True\n"
     ]
    }
   ],
   "source": [
    "s = input()\n",
    "s = s.lower()\n",
    "print(f'{s} is an palindrome?', s == s[ : : -1])"
   ]
  },
  {
   "cell_type": "markdown",
   "id": "b4869580-c5dd-45a0-8e7d-8fad9b0bd910",
   "metadata": {},
   "source": [
    "### 3. Convert a string to uppercase."
   ]
  },
  {
   "cell_type": "code",
   "execution_count": 5,
   "id": "37c6d5b4-39f8-4162-b825-972bd46ba90e",
   "metadata": {},
   "outputs": [
    {
     "name": "stdin",
     "output_type": "stream",
     "text": [
      " bigO\n"
     ]
    },
    {
     "data": {
      "text/plain": [
       "'BIGO'"
      ]
     },
     "execution_count": 5,
     "metadata": {},
     "output_type": "execute_result"
    }
   ],
   "source": [
    "s = input()\n",
    "s.upper()"
   ]
  },
  {
   "cell_type": "markdown",
   "id": "0999c0e5-e0d5-4bf1-b614-bd527322d851",
   "metadata": {},
   "source": [
    "### 4. Convert a string to lowercase."
   ]
  },
  {
   "cell_type": "code",
   "execution_count": 6,
   "id": "a43a8d60-2155-4e7c-8c41-4bd0fc145150",
   "metadata": {},
   "outputs": [
    {
     "name": "stdin",
     "output_type": "stream",
     "text": [
      " BIGO\n"
     ]
    },
    {
     "data": {
      "text/plain": [
       "'bigo'"
      ]
     },
     "execution_count": 6,
     "metadata": {},
     "output_type": "execute_result"
    }
   ],
   "source": [
    "s_str = input()\n",
    "s_str.lower()"
   ]
  },
  {
   "cell_type": "markdown",
   "id": "cc35b089-62e3-4809-98ad-eb9b06463909",
   "metadata": {},
   "source": [
    "### 5. Count the number of vowels in a string."
   ]
  },
  {
   "cell_type": "code",
   "execution_count": 12,
   "id": "e48b7e7e-3d60-49f4-b8ea-196adc0d4826",
   "metadata": {},
   "outputs": [
    {
     "name": "stdin",
     "output_type": "stream",
     "text": [
      " aeiouD\n"
     ]
    },
    {
     "name": "stdout",
     "output_type": "stream",
     "text": [
      "5\n"
     ]
    }
   ],
   "source": [
    "s_2 = input()\n",
    "print(f'{(s_2.count(\"a\"))+(s_2.count(\"e\"))+(s_2.count(\"i\"))+(s_2.count(\"o\"))+(s_2.count(\"u\"))}')"
   ]
  },
  {
   "cell_type": "markdown",
   "id": "32daba83-5b59-4df0-9ce1-20d778f71aea",
   "metadata": {},
   "source": [
    "### 6. Count the number of consonants in a string."
   ]
  },
  {
   "cell_type": "code",
   "execution_count": 27,
   "id": "0b515fe4-0f73-4628-b67a-92db7fcef96e",
   "metadata": {},
   "outputs": [
    {
     "name": "stdin",
     "output_type": "stream",
     "text": [
      " thisisastring\n"
     ]
    },
    {
     "name": "stdout",
     "output_type": "stream",
     "text": [
      "9\n"
     ]
    }
   ],
   "source": [
    "s_6 = input()\n",
    "print(f'{(s_6.count(\"b\")) + (s_6.count(\"c\")) +(s_6.count(\"d\"))+(s_6.count(\"f\"))+(s_6.count(\"g\"))+(s_6.count(\"h\"))+(s_6.count(\"j\"))+(s_6.count(\"k\"))+(s_6.count(\"l\"))+(s_6.count(\"m\"))+(s_6.count(\"n\"))+(s_6.count(\"p\"))+(s_6.count(\"q\"))+(s_6.count(\"r\"))+(s_6.count(\"s\"))+(s_6.count(\"t\"))+(s_6.count(\"v\"))+(s_6.count(\"w\"))+(s_6.count(\"x\"))+(s_6.count(\"y\"))+(s_6.count(\"b\"))}')"
   ]
  },
  {
   "cell_type": "markdown",
   "id": "755b3487-f298-4e13-bbc1-c52503bf2156",
   "metadata": {},
   "source": [
    "### 7. Remove all whitespaces from a string."
   ]
  },
  {
   "cell_type": "code",
   "execution_count": 32,
   "id": "4d38acf9-e276-41f6-bca8-07f55227d60e",
   "metadata": {},
   "outputs": [
    {
     "name": "stdin",
     "output_type": "stream",
     "text": [
      " h i g h r I s E\n"
     ]
    },
    {
     "data": {
      "text/plain": [
       "'highrIsE'"
      ]
     },
     "execution_count": 32,
     "metadata": {},
     "output_type": "execute_result"
    }
   ],
   "source": [
    "s_7 = input()\n",
    "''.join(s_7.split())"
   ]
  },
  {
   "cell_type": "markdown",
   "id": "c733c6ba-2925-4c93-a653-2adfe04abe50",
   "metadata": {},
   "source": [
    "### 8. Find the length of a string without using the `len()` function."
   ]
  },
  {
   "cell_type": "code",
   "execution_count": 42,
   "id": "3e2344c9-3756-45a4-a325-4dd9e68c421b",
   "metadata": {},
   "outputs": [
    {
     "name": "stdout",
     "output_type": "stream",
     "text": [
      "6\n"
     ]
    }
   ],
   "source": [
    "str_8 = 'sdfghj'\n",
    "count = 0\n",
    "for i in str_8:\n",
    "    if i == None:\n",
    "        continue\n",
    "    else:\n",
    "        count+=1\n",
    "print(count)"
   ]
  },
  {
   "cell_type": "markdown",
   "id": "a20f3695-3be9-4d03-885a-e664334fa07b",
   "metadata": {},
   "source": [
    "### 9. Check if a string contains a specific word."
   ]
  },
  {
   "cell_type": "code",
   "execution_count": 2,
   "id": "a6603781-510a-4b73-91c6-132cba5fc269",
   "metadata": {},
   "outputs": [
    {
     "name": "stdin",
     "output_type": "stream",
     "text": [
      " okthis\n"
     ]
    },
    {
     "name": "stdout",
     "output_type": "stream",
     "text": [
      "Is isok present in okthis: False\n"
     ]
    }
   ],
   "source": [
    "str_9 = input()\n",
    "word = 'isok'\n",
    "print(f'Is {word} present in {str_9}: {word in str_9}')"
   ]
  },
  {
   "cell_type": "markdown",
   "id": "f3280164-52e9-4ca4-a709-880d6818e2bc",
   "metadata": {},
   "source": [
    "### 10. Replace a word in a string with another word."
   ]
  },
  {
   "cell_type": "code",
   "execution_count": 5,
   "id": "c3f9389e-a1e4-4e83-92cd-107940d200b6",
   "metadata": {},
   "outputs": [
    {
     "name": "stdout",
     "output_type": "stream",
     "text": [
      "this is a for replacing the word xyz with substituted\n",
      "this is a for replacing the word substituted with substituted\n"
     ]
    }
   ],
   "source": [
    "str_10 = 'this is a for replacing the word xyz with substituted'\n",
    "print(str_10)\n",
    "str_10_1 = str_10.replace('xyz', 'substituted')\n",
    "print(str_10_1)"
   ]
  },
  {
   "cell_type": "markdown",
   "id": "f9c5e888-9c04-4f81-9fe5-6b1355816aa0",
   "metadata": {},
   "source": [
    "### 11. Count the occurrences of a word in a string."
   ]
  },
  {
   "cell_type": "code",
   "execution_count": 15,
   "id": "bdaf4460-a340-47c8-ae35-86727e9c8497",
   "metadata": {},
   "outputs": [
    {
     "data": {
      "text/plain": [
       "1"
      ]
     },
     "execution_count": 15,
     "metadata": {},
     "output_type": "execute_result"
    }
   ],
   "source": [
    "str_11 = 'countofiinstr_11'\n",
    "str_11.count('in')"
   ]
  },
  {
   "cell_type": "markdown",
   "id": "f5275693-b83f-46ec-bb16-c8396e628d4c",
   "metadata": {},
   "source": [
    "### 12. Find the first occurrence of a word in a string."
   ]
  },
  {
   "cell_type": "code",
   "execution_count": 8,
   "id": "146cb6e2-8bb5-4ec7-bda1-e0f063087957",
   "metadata": {},
   "outputs": [
    {
     "data": {
      "text/plain": [
       "0"
      ]
     },
     "execution_count": 8,
     "metadata": {},
     "output_type": "execute_result"
    }
   ],
   "source": [
    "str_12 = 'strstring'\n",
    "str_12.find('str')"
   ]
  },
  {
   "cell_type": "markdown",
   "id": "e8fcbcf9-f261-4895-962c-ffd1ba81a7fe",
   "metadata": {},
   "source": [
    "### 13. Find the last occurrence of a word in a string."
   ]
  },
  {
   "cell_type": "code",
   "execution_count": 9,
   "id": "13e8dc71-7f70-4f60-8101-4fd844be9b15",
   "metadata": {},
   "outputs": [
    {
     "data": {
      "text/plain": [
       "3"
      ]
     },
     "execution_count": 9,
     "metadata": {},
     "output_type": "execute_result"
    }
   ],
   "source": [
    "str_13 = 'strstring'\n",
    "str_13.rfind('str')"
   ]
  },
  {
   "cell_type": "markdown",
   "id": "ec2189d8-17c9-492c-a350-d3d02c0d605e",
   "metadata": {},
   "source": [
    "### 14. Split a string into a list of words."
   ]
  },
  {
   "cell_type": "code",
   "execution_count": 11,
   "id": "e86684bd-59a9-4bca-8d53-3fc26e954c00",
   "metadata": {},
   "outputs": [
    {
     "data": {
      "text/plain": [
       "['str', 'string', 'str', 'string']"
      ]
     },
     "execution_count": 11,
     "metadata": {},
     "output_type": "execute_result"
    }
   ],
   "source": [
    "str_14 = 'str string str string'\n",
    "str_14.split()"
   ]
  },
  {
   "cell_type": "markdown",
   "id": "5762ef0c-dbc2-44f2-8a1e-b5958e8f5382",
   "metadata": {},
   "source": [
    "### 15. Join a list of words into a string."
   ]
  },
  {
   "cell_type": "code",
   "execution_count": 16,
   "id": "f7e6991f-301f-4c79-a93d-3c1a35245907",
   "metadata": {},
   "outputs": [
    {
     "data": {
      "text/plain": [
       "'str string str string'"
      ]
     },
     "execution_count": 16,
     "metadata": {},
     "output_type": "execute_result"
    }
   ],
   "source": [
    "str_15 = ['str',  'string',  'str',  'string']\n",
    "str_15_1 = ' '\n",
    "str_15_1.join(str_15)"
   ]
  },
  {
   "cell_type": "markdown",
   "id": "c00e123b-9a81-4ed8-91de-e3f9774c808a",
   "metadata": {},
   "source": [
    "### 16. Convert a string where words are separated by spaces to one where words are separated by underscores."
   ]
  },
  {
   "cell_type": "code",
   "execution_count": 8,
   "id": "16576300-510c-49fe-88e1-d66de44c3240",
   "metadata": {},
   "outputs": [
    {
     "data": {
      "text/plain": [
       "'str_string_str_string'"
      ]
     },
     "execution_count": 8,
     "metadata": {},
     "output_type": "execute_result"
    }
   ],
   "source": [
    "str_16 = 'str string str string'\n",
    "str_16.replace(' ', '_')"
   ]
  },
  {
   "cell_type": "markdown",
   "id": "953cfeb9-ee93-457b-a73c-2411241d4f3c",
   "metadata": {},
   "source": [
    "### 17. Check if a string starts with a specific word or phrase."
   ]
  },
  {
   "cell_type": "code",
   "execution_count": 9,
   "id": "30762acd-44b1-47aa-94d3-d667763c07ed",
   "metadata": {},
   "outputs": [
    {
     "name": "stdout",
     "output_type": "stream",
     "text": [
      "Does the string \"This is That\" starts with \"is\"? False\n",
      "Does the string \"This is That\" starts with \"Th\"? True\n"
     ]
    }
   ],
   "source": [
    "str_17 = 'This is That'\n",
    "first = 'is'\n",
    "second = 'Th'\n",
    "print(f'Does the string \"{str_17}\" starts with \"{first}\"? {str_17.startswith(first)}')\n",
    "print(f'Does the string \"{str_17}\" starts with \"{second}\"? {str_17.startswith(second)}')"
   ]
  },
  {
   "cell_type": "markdown",
   "id": "c59f25df-8b26-4603-8e05-79aea6e339ea",
   "metadata": {},
   "source": [
    "### 18. Check if a string ends with a specific word or phrase."
   ]
  },
  {
   "cell_type": "code",
   "execution_count": 13,
   "id": "f30a6bad-a266-47b0-9d01-ffd6ff6ab9ef",
   "metadata": {},
   "outputs": [
    {
     "name": "stdout",
     "output_type": "stream",
     "text": [
      "Does the string \"This is That\" ends with \"Th\"? False\n",
      "Does the string \"This is That\" ends with \"at\"? True\n"
     ]
    }
   ],
   "source": [
    "str_18 = 'This is That'\n",
    "first_1 = 'Th'\n",
    "second_1 = 'at'\n",
    "print(f'Does the string \"{str_18}\" ends with \"{first_1}\"? {str_18.endswith(first_1)}')\n",
    "print(f'Does the string \"{str_18}\" ends with \"{second_1}\"? {str_18.endswith(second_1)}')"
   ]
  },
  {
   "cell_type": "markdown",
   "id": "0c9f267c-41a9-4783-81f7-d0c40e82a970",
   "metadata": {},
   "source": [
    "### 19. Convert a string to title case (e.g., \"hello world\" to \"Hello World\")."
   ]
  },
  {
   "cell_type": "code",
   "execution_count": 14,
   "id": "06d89f81-aeaf-49e7-b3d5-74984ab46b16",
   "metadata": {},
   "outputs": [
    {
     "name": "stdin",
     "output_type": "stream",
     "text": [
      " hello world\n"
     ]
    },
    {
     "data": {
      "text/plain": [
       "'Hello World'"
      ]
     },
     "execution_count": 14,
     "metadata": {},
     "output_type": "execute_result"
    }
   ],
   "source": [
    "str_19 = input()\n",
    "str_19.title()"
   ]
  },
  {
   "cell_type": "markdown",
   "id": "f1cf05a4-2224-4816-a114-6f52545d09bb",
   "metadata": {},
   "source": [
    "### 20. Find the longest word in a string."
   ]
  },
  {
   "cell_type": "code",
   "execution_count": 8,
   "id": "b631ddbc-7508-4c74-9c00-432dab2f78b1",
   "metadata": {},
   "outputs": [
    {
     "data": {
      "text/plain": [
       "'This'"
      ]
     },
     "execution_count": 8,
     "metadata": {},
     "output_type": "execute_result"
    }
   ],
   "source": [
    "inp = 'This is yhat word'\n",
    "words = inp.split()\n",
    "count = []\n",
    "\n",
    "for i in words:\n",
    "    count.append(len(i))\n",
    "\n",
    "max1 = max(count)\n",
    "ind = count.index(max1)\n",
    "words[ind]"
   ]
  },
  {
   "cell_type": "markdown",
   "id": "989772a3-8867-4841-8d59-a41b6f08b475",
   "metadata": {},
   "source": [
    "### 21. Find the shortest word in a string."
   ]
  },
  {
   "cell_type": "code",
   "execution_count": 58,
   "id": "fb3ce888-207f-43b8-aaca-d5ce464f8c0d",
   "metadata": {},
   "outputs": [
    {
     "data": {
      "text/plain": [
       "'is'"
      ]
     },
     "execution_count": 58,
     "metadata": {},
     "output_type": "execute_result"
    }
   ],
   "source": [
    "str_22 = 'This is yhat word'\n",
    "words_22_1 = str_22.split()\n",
    "str_22_1 = []\n",
    "\n",
    "for j in words_22_1:\n",
    "    str_22_1.append(len(j))\n",
    "\n",
    "max2 = min(str_22_1)\n",
    "ind_1 = str_22_1.index(max2)\n",
    "words_22_1[ind_1]"
   ]
  },
  {
   "cell_type": "markdown",
   "id": "cde9989f-0347-462e-a0c8-2ac648c2738d",
   "metadata": {},
   "source": [
    "### 22. Reverse the order of words in a string."
   ]
  },
  {
   "cell_type": "code",
   "execution_count": 34,
   "id": "ab47719d-aa8f-4270-9f1b-eda29c3ab186",
   "metadata": {},
   "outputs": [
    {
     "name": "stdout",
     "output_type": "stream",
     "text": [
      "rungrangring\n"
     ]
    }
   ],
   "source": [
    "str_22 = 'ring rang rung'\n",
    "str_22_1 = str_22.split()\n",
    "str_22_1 = str_22_1[::-1]\n",
    "str_22_2 = ''\n",
    "for k in str_22_1:\n",
    "    str_22_2+=k\n",
    "print(str_22_2)"
   ]
  },
  {
   "cell_type": "markdown",
   "id": "dc3ec6df-e53d-471c-8d86-afba2825f1c3",
   "metadata": {},
   "source": [
    "### 23. Check if a string is alphanumeric."
   ]
  },
  {
   "cell_type": "code",
   "execution_count": 25,
   "id": "ee4b7add-d936-4786-ada7-d98724feca49",
   "metadata": {},
   "outputs": [
    {
     "name": "stdin",
     "output_type": "stream",
     "text": [
      " cicd\n"
     ]
    },
    {
     "data": {
      "text/plain": [
       "True"
      ]
     },
     "execution_count": 25,
     "metadata": {},
     "output_type": "execute_result"
    }
   ],
   "source": [
    "str_23 = input()\n",
    "str_23.isalnum()"
   ]
  },
  {
   "cell_type": "markdown",
   "id": "8d0dba4e-c3f4-4d46-896b-54e09efe69c7",
   "metadata": {},
   "source": [
    "### 24. Extract all digits from a string."
   ]
  },
  {
   "cell_type": "code",
   "execution_count": 24,
   "id": "6b11aeef-b836-4b47-abb4-fd6513905cf5",
   "metadata": {},
   "outputs": [
    {
     "name": "stdin",
     "output_type": "stream",
     "text": [
      " b801a687\n"
     ]
    },
    {
     "name": "stdout",
     "output_type": "stream",
     "text": [
      "['8', '0', '1', '6', '8', '7']\n"
     ]
    }
   ],
   "source": [
    "str_24=input()\n",
    "l_1 = []\n",
    "for i in str_24:\n",
    "    if i.isnumeric()==True:\n",
    "        l_1.append(i)\n",
    "    else:\n",
    "        continue\n",
    "print(l_1)"
   ]
  },
  {
   "cell_type": "markdown",
   "id": "457758d8-27e0-4336-9c77-2b2a8a6cf37f",
   "metadata": {},
   "source": [
    "### 25. Extract all alphabets from a string."
   ]
  },
  {
   "cell_type": "code",
   "execution_count": 27,
   "id": "4d5199bf-03b9-4e96-9f9f-4faefd4fd6ee",
   "metadata": {},
   "outputs": [
    {
     "name": "stdin",
     "output_type": "stream",
     "text": [
      " b801a687\n"
     ]
    },
    {
     "name": "stdout",
     "output_type": "stream",
     "text": [
      "['b', 'a']\n"
     ]
    }
   ],
   "source": [
    "str_25 = input()\n",
    "l_2 = []\n",
    "for i in str_25:\n",
    "    if i.isalpha()==True:\n",
    "        l_2.append(i)\n",
    "    else:\n",
    "        continue\n",
    "print(l_2)"
   ]
  },
  {
   "cell_type": "markdown",
   "id": "61bd1002-7a26-4a24-ae32-835f904abce0",
   "metadata": {},
   "source": [
    "### 26. Count the number of uppercase letters in a string."
   ]
  },
  {
   "cell_type": "code",
   "execution_count": 29,
   "id": "c24be19f-9de4-4e4b-b0e5-3741111b9cad",
   "metadata": {},
   "outputs": [
    {
     "name": "stdin",
     "output_type": "stream",
     "text": [
      " AbCDeFG\n"
     ]
    },
    {
     "name": "stdout",
     "output_type": "stream",
     "text": [
      "Total number of uppercase letters are 5\n"
     ]
    }
   ],
   "source": [
    "str_26 = input()\n",
    "l_3 = []\n",
    "for d in str_26:\n",
    "    if d.isupper()==True:\n",
    "        l_3.append(d)\n",
    "    else:\n",
    "        continue\n",
    "print(f'Total number of uppercase letters are {len(l_3)}')"
   ]
  },
  {
   "cell_type": "markdown",
   "id": "81b0708b-a8c1-4259-850e-a3b1ed6ae830",
   "metadata": {},
   "source": [
    "### 27. Count the number of lowercase letters in a string."
   ]
  },
  {
   "cell_type": "code",
   "execution_count": 30,
   "id": "f002084b-2dfa-43f9-9497-894da62d5521",
   "metadata": {},
   "outputs": [
    {
     "name": "stdin",
     "output_type": "stream",
     "text": [
      " AbCDeFG\n"
     ]
    },
    {
     "name": "stdout",
     "output_type": "stream",
     "text": [
      "Total number of lowercase letters are 2\n"
     ]
    }
   ],
   "source": [
    "str_27 = input()\n",
    "l_4 = []\n",
    "for e in str_27:\n",
    "    if e.islower()==True:\n",
    "        l_4.append(e)\n",
    "    else:\n",
    "        continue\n",
    "print(f'Total number of lowercase letters are {len(l_4)}')"
   ]
  },
  {
   "cell_type": "markdown",
   "id": "af218e0b-9268-4c20-9fe6-270504850e3a",
   "metadata": {},
   "source": [
    "### 28. Swap the case of each character in a string."
   ]
  },
  {
   "cell_type": "code",
   "execution_count": 31,
   "id": "0f183332-e41d-4902-8e22-78e417576677",
   "metadata": {},
   "outputs": [
    {
     "name": "stdin",
     "output_type": "stream",
     "text": [
      " AbCDeFG\n"
     ]
    },
    {
     "data": {
      "text/plain": [
       "'aBcdEfg'"
      ]
     },
     "execution_count": 31,
     "metadata": {},
     "output_type": "execute_result"
    }
   ],
   "source": [
    "str_28 = input()\n",
    "str_28_1 = str_28.swapcase()\n",
    "str_28_1"
   ]
  },
  {
   "cell_type": "markdown",
   "id": "7e152f8b-cffd-4024-948e-2e372b3be27c",
   "metadata": {},
   "source": [
    "### 29. Remove a specific word from a string."
   ]
  },
  {
   "cell_type": "code",
   "execution_count": 32,
   "id": "a13a848c-27cd-421f-8371-0dd286e6c213",
   "metadata": {},
   "outputs": [
    {
     "name": "stdin",
     "output_type": "stream",
     "text": [
      " thisisremrem\n"
     ]
    },
    {
     "data": {
      "text/plain": [
       "'thisis'"
      ]
     },
     "execution_count": 32,
     "metadata": {},
     "output_type": "execute_result"
    }
   ],
   "source": [
    "str_29 = input()\n",
    "word = 'rem'\n",
    "str_29_1 = str_29.replace('rem', '')\n",
    "str_29_1"
   ]
  },
  {
   "cell_type": "markdown",
   "id": "fabcd003-e164-44db-bd46-2fc3395ff50e",
   "metadata": {},
   "source": [
    "### 30. Check if a string is a valid email address."
   ]
  },
  {
   "cell_type": "code",
   "execution_count": 40,
   "id": "4f4eb2d0-cca0-4b08-b041-a5fbeb0497a5",
   "metadata": {},
   "outputs": [
    {
     "name": "stdin",
     "output_type": "stream",
     "text": [
      " support@pwskills.com\n"
     ]
    },
    {
     "name": "stdout",
     "output_type": "stream",
     "text": [
      "The email is valid\n"
     ]
    }
   ],
   "source": [
    "str_30 = input()\n",
    "if (str_30.count('@')==1 and str_30.count('.')==1):\n",
    "    print('The email is valid')\n",
    "else:\n",
    "    print('not an valid email')"
   ]
  },
  {
   "cell_type": "markdown",
   "id": "4c0148dd-a80b-490d-80cc-a981caf0c6b6",
   "metadata": {},
   "source": [
    "### 31. Extract the username from an email address string."
   ]
  },
  {
   "cell_type": "code",
   "execution_count": 5,
   "id": "a540f49c-e367-4d1a-8038-eb4d75d6328f",
   "metadata": {},
   "outputs": [
    {
     "name": "stdin",
     "output_type": "stream",
     "text": [
      " support@pwskills.com\n"
     ]
    },
    {
     "name": "stdout",
     "output_type": "stream",
     "text": [
      "support\n"
     ]
    }
   ],
   "source": [
    "str_31 = input()\n",
    "if (str_31.count('@')==1 and str_31.count('.')==1):\n",
    "    str_31_1 = str_31.split('@')\n",
    "    print(str_31_1[0])\n",
    "else:\n",
    "    print('not an valid email')"
   ]
  },
  {
   "cell_type": "markdown",
   "id": "8e4c796c-d255-4108-8a5e-0d1069a70b81",
   "metadata": {},
   "source": [
    "### 32. Extract the domain name from an email address string."
   ]
  },
  {
   "cell_type": "code",
   "execution_count": 21,
   "id": "057e51dd-fadd-447a-9b23-d5d5b92d74e1",
   "metadata": {},
   "outputs": [
    {
     "name": "stdout",
     "output_type": "stream",
     "text": [
      "support@pwskills.com\n"
     ]
    },
    {
     "data": {
      "text/plain": [
       "'pwskills'"
      ]
     },
     "execution_count": 21,
     "metadata": {},
     "output_type": "execute_result"
    }
   ],
   "source": [
    "str_32 = 'support@pwskills.com'\n",
    "str_32_1 = str_32\n",
    "print(str_32_1)\n",
    "str_32 = str_32.replace('.', '@')\n",
    "str_32_2 = str_32.split('@')\n",
    "str_32_2[1]"
   ]
  },
  {
   "cell_type": "markdown",
   "id": "86713411-9c56-455f-b86c-cd62055de777",
   "metadata": {},
   "source": [
    "### 33. Replace multiple spaces in a string with a single space."
   ]
  },
  {
   "cell_type": "code",
   "execution_count": 4,
   "id": "6456d0f8-934a-4903-8104-652c4c64cfc9",
   "metadata": {},
   "outputs": [
    {
     "name": "stdout",
     "output_type": "stream",
     "text": [
      "this is a string\n"
     ]
    }
   ],
   "source": [
    "str_33 = 'this  is  a string'\n",
    "str_33_1 = str_33.split()\n",
    "print(' '.join(str_33_1))"
   ]
  },
  {
   "cell_type": "markdown",
   "id": "89745d67-c5f8-43da-8f89-c44716019196",
   "metadata": {},
   "source": [
    "### 34. Check if a string is a valid URL."
   ]
  },
  {
   "cell_type": "code",
   "execution_count": 3,
   "id": "f47142e4-f467-4257-b406-571dae70886f",
   "metadata": {},
   "outputs": [
    {
     "name": "stdin",
     "output_type": "stream",
     "text": [
      " https:hdh\n"
     ]
    },
    {
     "name": "stdout",
     "output_type": "stream",
     "text": [
      "not an valid URL\n"
     ]
    }
   ],
   "source": [
    "str_34 = input()\n",
    "if ((str_34.count('https://')==1 and (str_34.count('.')==1 or str_34.count('.')==2)) or (str_34.count('http://')==1 and (str_34.count('.')==1 or str_34.count('.')==2))):\n",
    "    print('This is a valid URL')\n",
    "else:\n",
    "    print('not an valid URL')"
   ]
  },
  {
   "cell_type": "markdown",
   "id": "98c7edeb-b6e5-40a6-8908-1df3acf2823a",
   "metadata": {},
   "source": [
    "### 35. Extract the protocol (http or https) from a URL string."
   ]
  },
  {
   "cell_type": "code",
   "execution_count": 14,
   "id": "15493870-26ba-4263-8f9a-9f0ef4941f5f",
   "metadata": {},
   "outputs": [
    {
     "name": "stdin",
     "output_type": "stream",
     "text": [
      "Enter the URL:  http://claerity.ai\n"
     ]
    },
    {
     "name": "stdout",
     "output_type": "stream",
     "text": [
      "http\n"
     ]
    }
   ],
   "source": [
    "strurl_35 = input('Enter the URL: ')\n",
    "if (strurl_35.count('http://') ==1 and (strurl_35.count('.')==1 or strurl_35.count('.')==2)) or (strurl_35.count('https://') ==1 and (strurl_35.count('.')==1 or strurl_35.count('.')==2)):\n",
    "    strurl_35_1 = strurl_35.split('://')\n",
    "    print(strurl_35_1[0])\n",
    "else:\n",
    "    print('Not a valid URL')"
   ]
  },
  {
   "cell_type": "markdown",
   "id": "590f44b8-2623-43d3-80c0-d09ccbeb3477",
   "metadata": {},
   "source": [
    "### 36. Find the frequency of each character in a string."
   ]
  },
  {
   "cell_type": "code",
   "execution_count": 16,
   "id": "4d24dec1-a134-4e2c-a881-e8ae49c68207",
   "metadata": {},
   "outputs": [
    {
     "name": "stdin",
     "output_type": "stream",
     "text": [
      " pwskills\n"
     ]
    },
    {
     "name": "stdout",
     "output_type": "stream",
     "text": [
      "i 1\n",
      "p 1\n",
      "s 2\n",
      "l 2\n",
      "k 1\n",
      "w 1\n"
     ]
    }
   ],
   "source": [
    "str_36 = input()\n",
    "str_36_1 = []\n",
    "for i in str_36:\n",
    "    str_36_1.append(i)\n",
    "str_36_2 = set(str_36_1)\n",
    "for i in str_36_2:\n",
    "    print(i, str_36_1.count(i))\n",
    "    "
   ]
  },
  {
   "cell_type": "markdown",
   "id": "9ec93b56-beef-459e-8e81-7e744369828c",
   "metadata": {},
   "source": [
    "### 37. Remove all punctuation from a string."
   ]
  },
  {
   "cell_type": "code",
   "execution_count": 25,
   "id": "977727d2-0014-4a43-bd2a-f2fbfc4ec159",
   "metadata": {},
   "outputs": [
    {
     "name": "stdin",
     "output_type": "stream",
     "text": [
      " d*e#a\n"
     ]
    },
    {
     "name": "stdout",
     "output_type": "stream",
     "text": [
      "!\"#$%&'()*+,-./:;<=>?@[\\]^_`{|}~\n",
      "dea\n"
     ]
    }
   ],
   "source": [
    "import string\n",
    "str_37 = input()\n",
    "str_37_1 = ''\n",
    "punc = string.punctuation\n",
    "print(punc)\n",
    "for i in str_37:\n",
    "    if i in punc:\n",
    "        str_37 += str_37.replace(i, '')\n",
    "    else:\n",
    "        str_37_1 += i\n",
    "        \n",
    "print(''.join(str_37_1))\n",
    "        \n",
    "    "
   ]
  },
  {
   "cell_type": "markdown",
   "id": "710f5821-cc86-4293-b4d5-e746c2932d2f",
   "metadata": {},
   "source": [
    "### 38. Check if a string contains only digits."
   ]
  },
  {
   "cell_type": "code",
   "execution_count": 28,
   "id": "a5c92161-f63e-426b-8d5a-ef8e8ff2e23a",
   "metadata": {},
   "outputs": [
    {
     "name": "stdin",
     "output_type": "stream",
     "text": [
      " 313281375273\n"
     ]
    },
    {
     "name": "stdout",
     "output_type": "stream",
     "text": [
      "The string '313281375273' contains digit only\n"
     ]
    }
   ],
   "source": [
    "str_38 = input()\n",
    "if str_38.isdigit():\n",
    "    print(f'The string \\'{str_38}\\' contains digit only')\n",
    "else:\n",
    "    print('this is an anamoly in context of digit only string')"
   ]
  },
  {
   "cell_type": "markdown",
   "id": "9d764b21-9f81-415f-aaac-a19870d574ca",
   "metadata": {},
   "source": [
    "### 39. Check if a string contains only alphabets."
   ]
  },
  {
   "cell_type": "code",
   "execution_count": 29,
   "id": "3220e628-74d6-42bb-967d-a15d6619bdff",
   "metadata": {},
   "outputs": [
    {
     "name": "stdin",
     "output_type": "stream",
     "text": [
      " upukka\n"
     ]
    },
    {
     "name": "stdout",
     "output_type": "stream",
     "text": [
      "The string 'upukka' contains alphabets only\n"
     ]
    }
   ],
   "source": [
    "str_39 = input()\n",
    "if str_39.isalpha():\n",
    "    print(f'The string \\'{str_39}\\' contains alphabets only')\n",
    "else:\n",
    "    print('this is an anamoly in context of alphabet only string')"
   ]
  },
  {
   "cell_type": "markdown",
   "id": "7b513bbf-ceaa-43a8-8ac7-b3ab639bf01a",
   "metadata": {},
   "source": [
    "### 40. Convert a string to a list of characters."
   ]
  },
  {
   "cell_type": "code",
   "execution_count": 31,
   "id": "8db516cb-ab2e-4df6-92cb-db2352a46bf4",
   "metadata": {},
   "outputs": [
    {
     "name": "stdin",
     "output_type": "stream",
     "text": [
      " thisisanexamplestring\n"
     ]
    },
    {
     "name": "stdout",
     "output_type": "stream",
     "text": [
      "['t', 'h', 'i', 's', 'i', 's', 'a', 'n', 'e', 'x', 'a', 'm', 'p', 'l', 'e', 's', 't', 'r', 'i', 'n', 'g']\n"
     ]
    }
   ],
   "source": [
    "str_40 = input()\n",
    "str_40_1 = []\n",
    "for i in str_40:\n",
    "    str_40_1.append(i)\n",
    "\n",
    "print(str_40_1)"
   ]
  },
  {
   "cell_type": "markdown",
   "id": "1d0e79ea-8bfb-4d3e-8feb-abee863d9473",
   "metadata": {},
   "source": [
    "### 41. Check if two strings are anagrams."
   ]
  },
  {
   "cell_type": "code",
   "execution_count": 46,
   "id": "a087930b-e9f2-4a18-afab-ed4d24bb9bf5",
   "metadata": {},
   "outputs": [
    {
     "name": "stdin",
     "output_type": "stream",
     "text": [
      "Enter string 1:  listen\n",
      "Enter string 2:  silent\n"
     ]
    },
    {
     "name": "stdout",
     "output_type": "stream",
     "text": [
      "The strings are anagrams.\n"
     ]
    }
   ],
   "source": [
    "str1,str2 = input(\"Enter string 1: \"),input(\"Enter string 2: \") \n",
    "str1=sorted(str1.lower()) \n",
    "str2=sorted(str2.lower())\n",
    "\n",
    "if(str1==str2):\n",
    "    print(\"The strings are anagrams.\")\n",
    "else:\n",
    "    print(\"The strings are not anagrams.\")\n"
   ]
  },
  {
   "cell_type": "markdown",
   "id": "20ed70ea-e954-4329-bd14-d0d0b5265daa",
   "metadata": {},
   "source": [
    "### 42. Encode a string using a Caesar cipher."
   ]
  },
  {
   "cell_type": "code",
   "execution_count": 50,
   "id": "c1763e70-eefc-4f99-a8fd-90e85a7ee86b",
   "metadata": {},
   "outputs": [
    {
     "name": "stdin",
     "output_type": "stream",
     "text": [
      " abcABC123\n"
     ]
    },
    {
     "name": "stdout",
     "output_type": "stream",
     "text": [
      "defDEF456\n"
     ]
    }
   ],
   "source": [
    "str_42 = input()\n",
    "str_42_encrypt = ''\n",
    "for i in str_42:\n",
    "    if i.islower():\n",
    "        str_42_encrypt += chr(ord(i)+3)\n",
    "    elif  i.isupper():\n",
    "        str_42_encrypt += chr(ord(i)+3)    \n",
    "    elif i.isdigit():\n",
    "        str_42_encrypt += chr(ord(i)+3)        \n",
    "    else:\n",
    "        continue\n",
    "        \n",
    "print(str_42_encrypt)"
   ]
  },
  {
   "cell_type": "markdown",
   "id": "8a5c4393-5596-4edd-9dda-639f6fd63891",
   "metadata": {},
   "source": [
    "### 43. Decode a Caesar cipher encoded string."
   ]
  },
  {
   "cell_type": "code",
   "execution_count": 1,
   "id": "7f135b16-bea9-4886-9c89-d135d1c68c12",
   "metadata": {},
   "outputs": [
    {
     "name": "stdin",
     "output_type": "stream",
     "text": [
      " defDEF456\n"
     ]
    },
    {
     "name": "stdout",
     "output_type": "stream",
     "text": [
      "abcABC123\n"
     ]
    }
   ],
   "source": [
    "str_43 = input()\n",
    "str_43_decrypt = ''\n",
    "for i in str_43:\n",
    "    if i.islower():\n",
    "        str_43_decrypt += chr(ord(i)-3)\n",
    "    elif  i.isupper():\n",
    "        str_43_decrypt += chr(ord(i)-3)    \n",
    "    elif i.isdigit():\n",
    "        str_43_decrypt += chr(ord(i)-3)        \n",
    "    else:\n",
    "        continue\n",
    "        \n",
    "print(str_43_decrypt)"
   ]
  },
  {
   "cell_type": "markdown",
   "id": "8e1912c4-5064-403d-b981-f45eae05b5a5",
   "metadata": {},
   "source": [
    "### 44. Find the most frequent word in a string."
   ]
  },
  {
   "cell_type": "code",
   "execution_count": 63,
   "id": "dcbed25d-7b4d-44ce-b492-5f9ffce38a37",
   "metadata": {},
   "outputs": [
    {
     "name": "stdin",
     "output_type": "stream",
     "text": [
      " this is this this is\n"
     ]
    },
    {
     "data": {
      "text/plain": [
       "'this'"
      ]
     },
     "execution_count": 63,
     "metadata": {},
     "output_type": "execute_result"
    }
   ],
   "source": [
    "str_44 = input()\n",
    "str_44_1 = []\n",
    "str_44_2 = str_44.split()\n",
    "for i in str_44_2:\n",
    "    str_44_1.append(str_44_2.count(i))\n",
    "\n",
    "max_3 = max(str_44_1)\n",
    "ind_3 = str_44_1.index(max_3)\n",
    "str_44_2[ind_3]"
   ]
  },
  {
   "cell_type": "markdown",
   "id": "44a1e664-88ea-4e3e-aca5-570af19075d2",
   "metadata": {},
   "source": [
    "### 45. Find all unique words in a string."
   ]
  },
  {
   "cell_type": "code",
   "execution_count": 66,
   "id": "fd880bed-939e-4979-b66d-43442387af53",
   "metadata": {},
   "outputs": [
    {
     "name": "stdin",
     "output_type": "stream",
     "text": [
      " this is that and this\n"
     ]
    },
    {
     "name": "stdout",
     "output_type": "stream",
     "text": [
      "['is', 'that', 'this', 'and']\n"
     ]
    }
   ],
   "source": [
    "str_45 = input()\n",
    "str_45_1 = []\n",
    "str_45_2 = set(str_45.split())\n",
    "print(list(str_45_2))"
   ]
  },
  {
   "cell_type": "markdown",
   "id": "ee103d00-9d40-46b8-b534-4d680cc83e59",
   "metadata": {},
   "source": [
    "### 46. Count the number of syllables in a string."
   ]
  },
  {
   "cell_type": "code",
   "execution_count": 46,
   "id": "3bbb63b4-2337-4dbf-921d-5dce5783e22d",
   "metadata": {},
   "outputs": [
    {
     "name": "stdin",
     "output_type": "stream",
     "text": [
      " aashiaanaa\n"
     ]
    },
    {
     "name": "stdout",
     "output_type": "stream",
     "text": [
      "The total number of syllables in aashiaanaa is 7\n"
     ]
    }
   ],
   "source": [
    "str_46 = input()\n",
    "count = 0\n",
    "for k in str_46:\n",
    "    if k in ['a','e','i','o','u']:\n",
    "        count +=1\n",
    "    else:\n",
    "        continue\n",
    "print(f'The total number of syllables in {str_46} is {count}')  "
   ]
  },
  {
   "cell_type": "markdown",
   "id": "d9271e3a-1809-4e7d-91a5-43aebb6d31cf",
   "metadata": {},
   "source": [
    "### 47. Check if a string contains any special characters."
   ]
  },
  {
   "cell_type": "code",
   "execution_count": 71,
   "id": "2320e959-f5d2-4ea4-a6ff-8edd1494220e",
   "metadata": {},
   "outputs": [
    {
     "name": "stdin",
     "output_type": "stream",
     "text": [
      " ERdiagram$#\n"
     ]
    },
    {
     "name": "stdout",
     "output_type": "stream",
     "text": [
      "Yes the string 'ERdiagram$#' contains at least one special characters\n"
     ]
    }
   ],
   "source": [
    "str_47 = input()\n",
    "if str_47.isalnum() == False:\n",
    "    print(f'Yes the string \\'{str_47}\\' contains at least one special characters')\n",
    "else:\n",
    "    print(f'No the string \\'{str_47}\\' doesnot contain any special characters')"
   ]
  },
  {
   "cell_type": "markdown",
   "id": "981ef6c3-cbb4-4a50-9802-7c22e16283ee",
   "metadata": {},
   "source": [
    "### 48. Remove the nth word from a string."
   ]
  },
  {
   "cell_type": "code",
   "execution_count": 29,
   "id": "e18762cd-58c6-4b66-b4ec-1bc8458e141f",
   "metadata": {},
   "outputs": [
    {
     "name": "stdin",
     "output_type": "stream",
     "text": [
      " this is a string\n",
      " 3\n"
     ]
    },
    {
     "name": "stdout",
     "output_type": "stream",
     "text": [
      "this is a\n"
     ]
    }
   ],
   "source": [
    "str_48 = input()\n",
    "nth = int(input())\n",
    "str_48_1 = str_48.split()\n",
    "str_48_1.pop(nth)\n",
    "str_48_1 = str(str_48_1)\n",
    "str_48_1 = str_48_1.replace('[', '')\n",
    "str_48_1 = str_48_1.replace(']', '')\n",
    "str_48_1 = str_48_1.replace(\"'\", \"\")\n",
    "str_48_1 = str_48_1.replace(',', '')\n",
    "print(str_48_1)"
   ]
  },
  {
   "cell_type": "markdown",
   "id": "1e7434fc-d37e-4a3e-a8be-d321f42f62ad",
   "metadata": {},
   "source": [
    "### 49. Insert a word at the nth position in a string."
   ]
  },
  {
   "cell_type": "code",
   "execution_count": 24,
   "id": "aa403809-cc9e-42f2-ad98-941a6a76c45c",
   "metadata": {},
   "outputs": [
    {
     "name": "stdin",
     "output_type": "stream",
     "text": [
      " this is a word\n",
      " 2\n",
      " modified\n"
     ]
    },
    {
     "name": "stdout",
     "output_type": "stream",
     "text": [
      "this is modified a word\n"
     ]
    }
   ],
   "source": [
    "str_49 = input()\n",
    "nth = int(input())\n",
    "str_insert = input()\n",
    "str_49 = str_49.split()\n",
    "str_49.insert(nth, str_insert)\n",
    "str_49_1 = str(str_49)\n",
    "str_49_1 = str_49_1.replace('[', '')\n",
    "str_49_1 = str_49_1.replace(']', '')\n",
    "str_49_1 = str_49_1.replace(\"'\", \"\")\n",
    "str_49_1 = str_49_1.replace(',', '')\n",
    "print(str_49_1)"
   ]
  },
  {
   "cell_type": "markdown",
   "id": "fab3a616-5519-4371-9688-ec70ba03022b",
   "metadata": {},
   "source": [
    "### 50. Convert a CSV string to a list of lists."
   ]
  },
  {
   "cell_type": "code",
   "execution_count": 7,
   "id": "c2af90b6-5acc-44ed-88ac-cafd48d07586",
   "metadata": {},
   "outputs": [
    {
     "name": "stdout",
     "output_type": "stream",
     "text": [
      "[['R'], ['i'], ['t'], ['w'], ['i'], ['c'], ['k']]\n"
     ]
    }
   ],
   "source": [
    "str_50 =\"R,i,t,w,i,c,k\"\n",
    "str_50_1 = []\n",
    "str_50 = str_50.replace(',', '')\n",
    "for i in str_50:\n",
    "    str_50_1.append([i])\n",
    "    \n",
    "print(str_50_1)"
   ]
  },
  {
   "cell_type": "markdown",
   "id": "1db30c61-baba-4a4d-8cb1-d87d3a915675",
   "metadata": {},
   "source": [
    "# TOPIC: List Based Practice Problem"
   ]
  },
  {
   "cell_type": "markdown",
   "id": "cfa31432-e709-474a-809f-28da818a2ff6",
   "metadata": {},
   "source": [
    "### 1. Create a list with integers from 1 to 10."
   ]
  },
  {
   "cell_type": "code",
   "execution_count": 32,
   "id": "6a52568b-90c1-4aee-8986-b4d5981ba1c7",
   "metadata": {},
   "outputs": [
    {
     "data": {
      "text/plain": [
       "[1, 2, 3, 4, 5, 6, 7, 8, 9, 10]"
      ]
     },
     "execution_count": 32,
     "metadata": {},
     "output_type": "execute_result"
    }
   ],
   "source": [
    "l_1 = list(range(1, 11))\n",
    "l_1"
   ]
  },
  {
   "cell_type": "markdown",
   "id": "febd0c91-8d58-4b39-a483-5991173df8cf",
   "metadata": {},
   "source": [
    "### 2. Find the length of a list without using the `len()` function."
   ]
  },
  {
   "cell_type": "code",
   "execution_count": 41,
   "id": "fc65ce60-c1c0-4e12-be41-0591b8dc99e7",
   "metadata": {},
   "outputs": [
    {
     "name": "stdout",
     "output_type": "stream",
     "text": [
      "5\n"
     ]
    }
   ],
   "source": [
    "l_2 = [1,2,3,4,5]\n",
    "count = 0\n",
    "for i in l_2:\n",
    "    if i == None:\n",
    "        continue\n",
    "    else:\n",
    "        count +=1\n",
    "print(count)"
   ]
  },
  {
   "cell_type": "markdown",
   "id": "18e9d7b7-35aa-49f1-87b4-ba31b311fbc0",
   "metadata": {},
   "source": [
    "### 3. Append an element to the end of a list."
   ]
  },
  {
   "cell_type": "code",
   "execution_count": 33,
   "id": "63a26181-6abc-4dce-9741-e73f8276c73d",
   "metadata": {},
   "outputs": [
    {
     "data": {
      "text/plain": [
       "['1', '2', '3']"
      ]
     },
     "execution_count": 33,
     "metadata": {},
     "output_type": "execute_result"
    }
   ],
   "source": [
    "l_3 = ['1', '2']\n",
    "l_3.append('3')\n",
    "l_3"
   ]
  },
  {
   "cell_type": "markdown",
   "id": "0b3ca924-4c97-4269-b2a8-192878572d7b",
   "metadata": {},
   "source": [
    "### 4. Insert an element at a specific index in a list."
   ]
  },
  {
   "cell_type": "code",
   "execution_count": 34,
   "id": "fc0ef626-9661-4cae-bbce-10e16d4b8c01",
   "metadata": {},
   "outputs": [
    {
     "data": {
      "text/plain": [
       "[1, 2, 3]"
      ]
     },
     "execution_count": 34,
     "metadata": {},
     "output_type": "execute_result"
    }
   ],
   "source": [
    "l_4 = [1,3]\n",
    "l_4.insert(1,2)\n",
    "l_4"
   ]
  },
  {
   "cell_type": "markdown",
   "id": "54d438f4-313a-464a-828a-2f5d7d86da88",
   "metadata": {},
   "source": [
    "### 5. Remove an element from a list by its value."
   ]
  },
  {
   "cell_type": "code",
   "execution_count": 45,
   "id": "2bd8f49c-9fc5-4a4c-9284-4885b7fb7c7e",
   "metadata": {},
   "outputs": [
    {
     "data": {
      "text/plain": [
       "[1, 2, 3]"
      ]
     },
     "execution_count": 45,
     "metadata": {},
     "output_type": "execute_result"
    }
   ],
   "source": [
    "l_5 = [1,'removethisvalue',2,3]\n",
    "l_5.remove('removethisvalue')\n",
    "l_5"
   ]
  },
  {
   "cell_type": "markdown",
   "id": "0e186208-1e72-48b6-8c21-6a824e1dc822",
   "metadata": {},
   "source": [
    "### 6. Remove an element from a list by its index."
   ]
  },
  {
   "cell_type": "code",
   "execution_count": 46,
   "id": "c44cd554-1be8-4c35-9063-0df4e9ddfcec",
   "metadata": {},
   "outputs": [
    {
     "data": {
      "text/plain": [
       "[1, 2, 3, 4]"
      ]
     },
     "execution_count": 46,
     "metadata": {},
     "output_type": "execute_result"
    }
   ],
   "source": [
    "l_6 = [1, 'removethisindex', 2, 3, 4]\n",
    "l_6.pop(1)\n",
    "l_6"
   ]
  },
  {
   "cell_type": "markdown",
   "id": "5ddd90c9-ed09-4b82-9617-c646ed959bbf",
   "metadata": {},
   "source": [
    "### 7. Check if an element exists in a list."
   ]
  },
  {
   "cell_type": "code",
   "execution_count": 13,
   "id": "3c371a07-35d7-4e53-94f6-539db71d9dce",
   "metadata": {},
   "outputs": [
    {
     "name": "stdout",
     "output_type": "stream",
     "text": [
      "string '62' is present in the list ['li', 'ol', 'ul', 1, 2, 62]\n"
     ]
    }
   ],
   "source": [
    "l_7 = ['li', 'ol', 'ul', 1, 2, 62]\n",
    "l_7_searchfor = 62\n",
    "l_7_searchfor_v = l_7.count(l_7_searchfor)\n",
    "if l_7_searchfor_v == 0:\n",
    "    print(f\"string \\'{l_7_searchfor}\\' is not present in the list {l_7}\")\n",
    "else:\n",
    "    print(f\"string \\'{l_7_searchfor}\\' is present in the list {l_7}\")"
   ]
  },
  {
   "cell_type": "markdown",
   "id": "5d0525ad-8c64-488d-b91b-0c69a7017d54",
   "metadata": {},
   "source": [
    "### 8. Find the index of the first occurrence of an element in a list."
   ]
  },
  {
   "cell_type": "code",
   "execution_count": 14,
   "id": "20f648c0-81a9-4ba2-9638-ecf6fb15d304",
   "metadata": {},
   "outputs": [
    {
     "data": {
      "text/plain": [
       "0"
      ]
     },
     "execution_count": 14,
     "metadata": {},
     "output_type": "execute_result"
    }
   ],
   "source": [
    "l_8 = ['one', 'one', 2, 3]\n",
    "l_8.index('one')"
   ]
  },
  {
   "cell_type": "markdown",
   "id": "35d7f591-0c4a-4929-bcb3-487e2b800b66",
   "metadata": {},
   "source": [
    "### 9. Count the occurrences of an element in a list."
   ]
  },
  {
   "cell_type": "code",
   "execution_count": 15,
   "id": "02e9d61e-fda9-44b9-bfe7-8d424ed3ef27",
   "metadata": {},
   "outputs": [
    {
     "data": {
      "text/plain": [
       "3"
      ]
     },
     "execution_count": 15,
     "metadata": {},
     "output_type": "execute_result"
    }
   ],
   "source": [
    "l_9 = ['one', 'one', 'one', 2, 3]\n",
    "l_9.count('one')"
   ]
  },
  {
   "cell_type": "markdown",
   "id": "7e6fcfb5-24b5-4492-8dc6-a6cd5f814a06",
   "metadata": {},
   "source": [
    "### 10. Reverse the order of elements in a list."
   ]
  },
  {
   "cell_type": "code",
   "execution_count": 17,
   "id": "7571cd25-f7e6-4ddb-8461-49b578aec6b3",
   "metadata": {},
   "outputs": [
    {
     "data": {
      "text/plain": [
       "[3, 2, 'one']"
      ]
     },
     "execution_count": 17,
     "metadata": {},
     "output_type": "execute_result"
    }
   ],
   "source": [
    "l_10 = ['one', 2, 3]\n",
    "l_10.reverse()\n",
    "l_10"
   ]
  },
  {
   "cell_type": "markdown",
   "id": "96d28641-9d22-4234-b3b0-ef7c658888a2",
   "metadata": {},
   "source": [
    "### 11. Sort a list in ascending order."
   ]
  },
  {
   "cell_type": "code",
   "execution_count": 18,
   "id": "6b4e0be2-6a8e-4f81-9aef-5a018dc22370",
   "metadata": {},
   "outputs": [
    {
     "data": {
      "text/plain": [
       "[2, 12, 93]"
      ]
     },
     "execution_count": 18,
     "metadata": {},
     "output_type": "execute_result"
    }
   ],
   "source": [
    "l_11 = [12, 2, 93]\n",
    "l_11.sort()\n",
    "l_11"
   ]
  },
  {
   "cell_type": "markdown",
   "id": "7d1e591f-91cb-44c4-beef-a9e6894bb474",
   "metadata": {},
   "source": [
    "### 12. Sort a list in descending order."
   ]
  },
  {
   "cell_type": "code",
   "execution_count": 19,
   "id": "2ba61aaf-1779-4f05-92a7-33b7aebdac17",
   "metadata": {},
   "outputs": [
    {
     "data": {
      "text/plain": [
       "[93, 12, 2]"
      ]
     },
     "execution_count": 19,
     "metadata": {},
     "output_type": "execute_result"
    }
   ],
   "source": [
    "l_12 = [12, 2, 93]\n",
    "l_12.sort(reverse = True)\n",
    "l_12"
   ]
  },
  {
   "cell_type": "markdown",
   "id": "13f1f9fc-1c14-41f4-842f-d766a1376f0d",
   "metadata": {},
   "source": [
    "### 13. Create a list of even numbers from 1 to 20."
   ]
  },
  {
   "cell_type": "code",
   "execution_count": 21,
   "id": "080accaf-dfda-4329-976f-e493b9576c93",
   "metadata": {},
   "outputs": [
    {
     "name": "stdout",
     "output_type": "stream",
     "text": [
      "[2, 4, 6, 8, 10, 12, 14, 16, 18, 20]\n"
     ]
    }
   ],
   "source": [
    "l_13 = list(range(1,21))\n",
    "l_13_1 = []\n",
    "for i in l_13:\n",
    "    if i%2 == 0:\n",
    "        l_13_1.append(i)\n",
    "    else:\n",
    "        continue\n",
    "print(l_13_1)"
   ]
  },
  {
   "cell_type": "markdown",
   "id": "0a5d3eb6-1f85-4bd9-af27-6bea9b6edcfb",
   "metadata": {},
   "source": [
    "### 14. Create a list of odd numbers from 1 to 20."
   ]
  },
  {
   "cell_type": "code",
   "execution_count": 22,
   "id": "20dfbe28-0ec5-4293-80c4-57d060a584e3",
   "metadata": {},
   "outputs": [
    {
     "name": "stdout",
     "output_type": "stream",
     "text": [
      "[1, 3, 5, 7, 9, 11, 13, 15, 17, 19]\n"
     ]
    }
   ],
   "source": [
    "l_14 = list(range(1,21))\n",
    "l_14_1 = []\n",
    "for j in l_13:\n",
    "    if j%2 != 0:\n",
    "        l_14_1.append(j)\n",
    "    else:\n",
    "        continue\n",
    "print(l_14_1)"
   ]
  },
  {
   "cell_type": "markdown",
   "id": "b135305e-eee2-4553-9d17-fa553f49ae71",
   "metadata": {},
   "source": [
    "### 15. Find the sum of all elements in a list."
   ]
  },
  {
   "cell_type": "code",
   "execution_count": 24,
   "id": "3f3e0c9d-8cf2-4d0a-af25-dd8ae386fc17",
   "metadata": {},
   "outputs": [
    {
     "name": "stdout",
     "output_type": "stream",
     "text": [
      "sum of elements in the list [1, 2, 3, 4, 5] is 15\n"
     ]
    }
   ],
   "source": [
    "l_15 = [1, 2, 3, 4, 5]\n",
    "l_15_sum = 0\n",
    "for i in l_15:\n",
    "    l_15_sum+=i\n",
    "    \n",
    "print(f'sum of elements in the list {l_15} is {l_15_sum}')"
   ]
  },
  {
   "cell_type": "markdown",
   "id": "e8448440-65da-4d69-aca5-8db850ca5d26",
   "metadata": {},
   "source": [
    "### 16. Find the maximum value in a list."
   ]
  },
  {
   "cell_type": "code",
   "execution_count": 26,
   "id": "3a5edd67-3fcc-423d-b173-58dce911709b",
   "metadata": {},
   "outputs": [
    {
     "name": "stdout",
     "output_type": "stream",
     "text": [
      "maximum value in the list is 7\n"
     ]
    }
   ],
   "source": [
    "l_16 = [0,3,2,4,7]\n",
    "l_16_max = l_16[0]\n",
    "for i in l_16:\n",
    "    if i > l_16_max:\n",
    "        l_16_max = i\n",
    "    else:\n",
    "        continue\n",
    "print(f'maximum value in the list is {l_16_max}')"
   ]
  },
  {
   "cell_type": "markdown",
   "id": "d55d1884-ed99-41e5-b752-72b962322c5b",
   "metadata": {},
   "source": [
    "### 17. Find the minimum value in a list."
   ]
  },
  {
   "cell_type": "code",
   "execution_count": 29,
   "id": "e407f119-36be-4819-89c6-6f98671778d7",
   "metadata": {},
   "outputs": [
    {
     "name": "stdout",
     "output_type": "stream",
     "text": [
      "minimum value in the list is -1\n"
     ]
    }
   ],
   "source": [
    "l_17 = [0,3,2,4,7,-1]\n",
    "l_17_min = l_17[0]\n",
    "for i in l_17:\n",
    "    if i < l_17_min:\n",
    "        l_17_min = i\n",
    "    else:\n",
    "        continue\n",
    "print(f'minimum value in the list is {l_17_min}')"
   ]
  },
  {
   "cell_type": "markdown",
   "id": "c67a5c6f-ff70-45d9-949d-00d1e4b90211",
   "metadata": {},
   "source": [
    "### 18. Create a list of squares of numbers from 1 to 10."
   ]
  },
  {
   "cell_type": "code",
   "execution_count": 31,
   "id": "8952ad13-a97c-4837-aab8-db9a7ce82120",
   "metadata": {},
   "outputs": [
    {
     "name": "stdout",
     "output_type": "stream",
     "text": [
      "list of squares of elements in the list [1, 2, 3, 4, 5, 6, 7, 8, 9, 10] is [1, 4, 9, 16, 25, 36, 49, 64, 81, 100]\n"
     ]
    }
   ],
   "source": [
    "l_18 = list(range(1,11))\n",
    "l_18_sqr = []\n",
    "for i in l_18:\n",
    "    l_18_sqr.append(i**2)\n",
    "    \n",
    "print(f'list of squares of elements in the list {l_18} is {l_18_sqr}')"
   ]
  },
  {
   "cell_type": "markdown",
   "id": "35596eae-ab99-40e8-84cb-39e6abf93c3a",
   "metadata": {},
   "source": [
    "### 19. Create a list of random numbers."
   ]
  },
  {
   "cell_type": "code",
   "execution_count": 33,
   "id": "16c4477a-b780-4595-95e2-1c8fb0d77c4d",
   "metadata": {},
   "outputs": [
    {
     "name": "stdout",
     "output_type": "stream",
     "text": [
      "[12, 10, 28, 19, 22, 21]\n"
     ]
    }
   ],
   "source": [
    "import random\n",
    "l_19 = random.sample(range(10, 31), 6)\n",
    "print(l_19)"
   ]
  },
  {
   "cell_type": "markdown",
   "id": "a9bcf11a-873f-4e0b-bd04-839533f461b0",
   "metadata": {},
   "source": [
    "### 20. Remove duplicates from a list."
   ]
  },
  {
   "cell_type": "code",
   "execution_count": 36,
   "id": "8660e1ec-2421-4613-a223-c48e9d49bfca",
   "metadata": {},
   "outputs": [
    {
     "name": "stdout",
     "output_type": "stream",
     "text": [
      "[1, 2, 3, 'peter']\n"
     ]
    }
   ],
   "source": [
    "l_20 = [1,2,3,1,2,'peter', 'peter']\n",
    "l_20_1 = list(set(l_20))\n",
    "print(l_20_1)"
   ]
  },
  {
   "cell_type": "markdown",
   "id": "93470219-0e95-4c24-bab1-fe455de654a7",
   "metadata": {},
   "source": [
    "### 21. Find the common elements between two lists."
   ]
  },
  {
   "cell_type": "code",
   "execution_count": 38,
   "id": "6f371b1c-554f-452e-9ff8-cbab21ad1f05",
   "metadata": {},
   "outputs": [
    {
     "name": "stdout",
     "output_type": "stream",
     "text": [
      "[1, 'yesno']\n"
     ]
    }
   ],
   "source": [
    "l_21_1 = [1, 2, 'yes', 'no', 'yes', 'not', 'yesno']\n",
    "l_21_2 = ['yesno', 1, 'should']\n",
    "l_21_1 = set(l_21_1)\n",
    "l_21_2 = set(l_21_2)\n",
    "l_21_comm = l_21_1.intersection(l_21_2)\n",
    "print(list(l_21_comm))\n"
   ]
  },
  {
   "cell_type": "markdown",
   "id": "3c7c34f4-818b-43d6-9c45-2b2d49f6b68a",
   "metadata": {},
   "source": [
    "### 22. Find the difference between two lists."
   ]
  },
  {
   "cell_type": "code",
   "execution_count": 40,
   "id": "a9c7e1a4-4917-42ff-9e94-bd9dd25f9ef6",
   "metadata": {},
   "outputs": [
    {
     "name": "stdout",
     "output_type": "stream",
     "text": [
      "['not', 2, 'no', 'yes']\n"
     ]
    }
   ],
   "source": [
    "l_22_1 = [1, 2, 'yes', 'no', 'yes', 'not', 'yesno']\n",
    "l_22_2 = ['yesno', 1, 'should']\n",
    "l_22_1 = set(l_22_1)\n",
    "l_22_2 = set(l_22_2)\n",
    "l_22_diff = l_22_1.difference(l_22_2)\n",
    "print(list(l_22_diff))"
   ]
  },
  {
   "cell_type": "markdown",
   "id": "871bf8ed-2e87-4903-8c2e-e2b4392a5ed8",
   "metadata": {},
   "source": [
    "### 23. Merge two lists."
   ]
  },
  {
   "cell_type": "code",
   "execution_count": 49,
   "id": "5f96aa1e-0870-4a28-90d7-7947f8ae072b",
   "metadata": {},
   "outputs": [
    {
     "data": {
      "text/plain": [
       "[1, 2, 'yes', 'no', 'yes', 'not', 'yesno', 'yesno', 1, 'should']"
      ]
     },
     "execution_count": 49,
     "metadata": {},
     "output_type": "execute_result"
    }
   ],
   "source": [
    "l_23_1 = [1, 2, 'yes', 'no', 'yes', 'not', 'yesno']\n",
    "l_23_2 = ['yesno', 1, 'should']\n",
    "l_23_1.extend(l_23_2)\n",
    "l_23_1"
   ]
  },
  {
   "cell_type": "markdown",
   "id": "f6dd7b7f-f05c-44ae-a0b7-4c0bb2716eb8",
   "metadata": {},
   "source": [
    "### 24. Multiply all elements in a list by 2."
   ]
  },
  {
   "cell_type": "code",
   "execution_count": 51,
   "id": "083d142a-14b6-4b10-9259-aba3307ede0b",
   "metadata": {},
   "outputs": [
    {
     "data": {
      "text/plain": [
       "[2, 4, 6, 10]"
      ]
     },
     "execution_count": 51,
     "metadata": {},
     "output_type": "execute_result"
    }
   ],
   "source": [
    "l_24 = [1,2,3,5]\n",
    "l_24_1 = []\n",
    "for i in l_24:\n",
    "    l_24_1.append(i*2)\n",
    "l_24_1"
   ]
  },
  {
   "cell_type": "markdown",
   "id": "4a490914-ceb9-4578-8634-ca85657194d3",
   "metadata": {},
   "source": [
    "### 25. Filter out all even numbers from a list."
   ]
  },
  {
   "cell_type": "code",
   "execution_count": 54,
   "id": "4cda23fc-d478-4ba4-95bf-0b532fe846fa",
   "metadata": {},
   "outputs": [
    {
     "data": {
      "text/plain": [
       "[2, 6, 8]"
      ]
     },
     "execution_count": 54,
     "metadata": {},
     "output_type": "execute_result"
    }
   ],
   "source": [
    "l_25 = [1,2,3,6,8,9]\n",
    "l_25_1 = []\n",
    "for i in l_25:\n",
    "    if i%2 == 0:\n",
    "        l_25_1.append(i)\n",
    "    else:\n",
    "        continue\n",
    "l_25_1"
   ]
  },
  {
   "cell_type": "markdown",
   "id": "76ff8bf6-cfa5-4b45-8773-23206eb88cb0",
   "metadata": {},
   "source": [
    "### 26. Convert a list of strings to a list of integers."
   ]
  },
  {
   "cell_type": "code",
   "execution_count": 55,
   "id": "9e0c8e8c-eed4-4ec6-a92a-7493a764f40d",
   "metadata": {},
   "outputs": [
    {
     "data": {
      "text/plain": [
       "[1, 2, 3]"
      ]
     },
     "execution_count": 55,
     "metadata": {},
     "output_type": "execute_result"
    }
   ],
   "source": [
    "l_26 = ['1','2','3']\n",
    "l_26_1= []\n",
    "for i in l_26:\n",
    "    l_26_1.append(int(i))\n",
    "l_26_1"
   ]
  },
  {
   "cell_type": "markdown",
   "id": "58d70800-f92a-4d1c-85d1-985f32fc79ef",
   "metadata": {},
   "source": [
    "## 27. Convert a list of integers to a list of strings."
   ]
  },
  {
   "cell_type": "code",
   "execution_count": 57,
   "id": "d6b6598f-1b9a-4e04-822f-406c8721ee57",
   "metadata": {},
   "outputs": [
    {
     "data": {
      "text/plain": [
       "['1', '2', '3']"
      ]
     },
     "execution_count": 57,
     "metadata": {},
     "output_type": "execute_result"
    }
   ],
   "source": [
    "l_27 = [1, 2, 3]\n",
    "l_27_1 = []\n",
    "for i in l_27:\n",
    "    l_27_1.append(str(i))\n",
    "l_27_1"
   ]
  },
  {
   "cell_type": "markdown",
   "id": "4d2e07c1-1f45-4ec3-8d0d-c7261c457a83",
   "metadata": {},
   "source": [
    "### 28. Flatten a nested list."
   ]
  },
  {
   "cell_type": "code",
   "execution_count": 39,
   "id": "a424d0b7-ff58-4ef9-bb39-3934ad79f132",
   "metadata": {},
   "outputs": [
    {
     "data": {
      "text/plain": [
       "[1, 2, 3, 4, 1, 2, 3, 1, 2]"
      ]
     },
     "execution_count": 39,
     "metadata": {},
     "output_type": "execute_result"
    }
   ],
   "source": [
    "from functools import reduce\n",
    "l_28 = [[1,2,3,4], [1,2,3], [1], [2]]\n",
    "list(reduce(lambda x, y: x + y, l_28, []))"
   ]
  },
  {
   "cell_type": "markdown",
   "id": "cfb70212-2f25-4a5e-aec1-048b70393b9b",
   "metadata": {},
   "source": [
    "### 29. Create a list of the first 10 Fibonacci numbers."
   ]
  },
  {
   "cell_type": "code",
   "execution_count": 12,
   "id": "43c348c9-6cd2-4264-98f6-560db18b5e6d",
   "metadata": {},
   "outputs": [
    {
     "name": "stdin",
     "output_type": "stream",
     "text": [
      " 5\n"
     ]
    },
    {
     "name": "stdout",
     "output_type": "stream",
     "text": [
      "[0, 1, 1, 2, 3]\n"
     ]
    }
   ],
   "source": [
    "l_29 = []\n",
    "nth_29 = int(input())\n",
    "a = 0    \n",
    "b = 1    \n",
    "for i in range(0,nth_29):  \n",
    "    l_29.append(a)\n",
    "    c = a + b\n",
    "    a = b\n",
    "    b = c\n",
    "print(l_29)"
   ]
  },
  {
   "cell_type": "markdown",
   "id": "24e3b9da-eb92-4431-a75e-6e6ee9c51cfc",
   "metadata": {},
   "source": [
    "### 30. Check if a list is sorted."
   ]
  },
  {
   "cell_type": "code",
   "execution_count": 15,
   "id": "c4c3fc32-b1a3-406a-bff6-bdd493b9362b",
   "metadata": {},
   "outputs": [
    {
     "name": "stdout",
     "output_type": "stream",
     "text": [
      "list is not sorted\n"
     ]
    }
   ],
   "source": [
    "l_30 = [98, 78, 600]\n",
    "l_30_1 = l_30\n",
    "if l_30_1 == l_30.sort():\n",
    "    print('list is sorted')\n",
    "else:\n",
    "    print('list is not sorted')"
   ]
  },
  {
   "cell_type": "markdown",
   "id": "f1867887-253a-4ec2-8b40-eaa69e5b8d2e",
   "metadata": {},
   "source": [
    "### 31. Rotate a list to the left by `n` positions."
   ]
  },
  {
   "cell_type": "code",
   "execution_count": 33,
   "id": "18375e71-67cf-4dcf-8434-1ae05b9255e0",
   "metadata": {},
   "outputs": [
    {
     "name": "stdin",
     "output_type": "stream",
     "text": [
      "Enter the value with which the list should be rotated left:  2\n"
     ]
    },
    {
     "name": "stdout",
     "output_type": "stream",
     "text": [
      "Original list:  [11, 22, 33, 44, 55]\n",
      "Rotated list: [33, 44, 55, 11, 22]\n"
     ]
    }
   ],
   "source": [
    "rot_l_n = int(input('Enter the value with which the list should be rotated left: '))\n",
    "  \n",
    "l_31 = [11, 22, 33, 44, 55]\n",
    "print('Original list: ', l_31)\n",
    "l_31 =  l_31[rot_l_n: ]+ l_31[:rot_l_n]\n",
    "print(\"Rotated list:\", l_31)"
   ]
  },
  {
   "cell_type": "markdown",
   "id": "2a3d9193-a6a9-4c08-8e50-1cf37a5f23f6",
   "metadata": {},
   "source": [
    "### 32. Rotate a list to the right by `n` positions."
   ]
  },
  {
   "cell_type": "code",
   "execution_count": 32,
   "id": "c4dd202c-b885-475c-9f80-58fd96a79405",
   "metadata": {},
   "outputs": [
    {
     "name": "stdin",
     "output_type": "stream",
     "text": [
      "Enter the value with which the list should be rotated right:  2\n"
     ]
    },
    {
     "name": "stdout",
     "output_type": "stream",
     "text": [
      "Original list:  [11, 22, 33, 44, 55]\n",
      "Rotated list: [44, 55, 11, 22, 33]\n"
     ]
    }
   ],
   "source": [
    "rot_r_n = int(input('Enter the value with which the list should be rotated right: '))\n",
    "  \n",
    "l_32 = [11, 22, 33, 44, 55]\n",
    "print('Original list: ', l_32)\n",
    "l_32 = (l_32[len(l_32) - rot_r_n:len(l_32)] + l_32[0:len(l_32) - rot_r_n]) \n",
    "print(\"Rotated list:\", l_32)"
   ]
  },
  {
   "cell_type": "markdown",
   "id": "53acb17e-4431-42bf-883f-192e1edb133c",
   "metadata": {},
   "source": [
    "### 33. Create a list of prime numbers up to 50."
   ]
  },
  {
   "cell_type": "code",
   "execution_count": 63,
   "id": "b6bf9946-5f93-4631-b359-5a25be1e5efa",
   "metadata": {},
   "outputs": [
    {
     "name": "stdout",
     "output_type": "stream",
     "text": [
      "[2, 3, 5, 7, 11, 13, 17, 19, 23, 29, 31, 37, 41, 43, 47]\n"
     ]
    }
   ],
   "source": [
    "l_33 = []\n",
    "for i in range (1, 51):\n",
    "    count = 0\n",
    "    for j in range(2, (i//2 + 1)):\n",
    "        if(i % j == 0):\n",
    "            count = count + 1\n",
    "            break\n",
    "\n",
    "    if (count == 0 and i != 1):\n",
    "        l_33.append(i)\n",
    "print(l_33)"
   ]
  },
  {
   "cell_type": "markdown",
   "id": "17b8d9e0-313f-436f-bf43-488787d519ee",
   "metadata": {},
   "source": [
    "### 34. Split a list into chunks of size `n`."
   ]
  },
  {
   "cell_type": "code",
   "execution_count": 20,
   "id": "522d8371-066a-4c0d-87cb-191c2670cd05",
   "metadata": {},
   "outputs": [
    {
     "name": "stdin",
     "output_type": "stream",
     "text": [
      "Enter the value number of chunks:  2\n"
     ]
    },
    {
     "name": "stdout",
     "output_type": "stream",
     "text": [
      "The list [1, 2, 3, 4, 5, 6, 7, 8] is divided in 2 parts and output is [[1, 2, 3, 4], [5, 6, 7, 8]]\n"
     ]
    }
   ],
   "source": [
    "from itertools import islice\n",
    "n_chunks = int(input('Enter the value number of chunks: '))\n",
    "l_34 = [1, 2, 3, 4, 5, 6, 7, 8]\n",
    "if len(l_34)%n_chunks == 0:\n",
    "    l_34_chunks = [int(len(l_34)/n_chunks) for i in range(1,n_chunks+1)]\n",
    "    l_34_iter = iter(l_34)\n",
    "    l_34_1 = [list(islice(l_34_iter, j)) for j in l_34_chunks]\n",
    "    print(f'The list {l_34} is divided in {n_chunks} parts and output is {l_34_1}')\n",
    "else:\n",
    "    print(f'Sorry the list of length {len(l_34)} could not be divided equally in {n_chunks} chunks')"
   ]
  },
  {
   "cell_type": "markdown",
   "id": "6876172a-6857-419a-83a7-45012172febb",
   "metadata": {},
   "source": [
    "### 35. Find the second largest number in a list."
   ]
  },
  {
   "cell_type": "code",
   "execution_count": 17,
   "id": "f8c59f07-f115-4610-bc07-36ad6c387b6a",
   "metadata": {},
   "outputs": [
    {
     "name": "stdout",
     "output_type": "stream",
     "text": [
      "9\n"
     ]
    }
   ],
   "source": [
    "l_35 = [1,2,9,2,6]\n",
    "n = len(l_35)\n",
    "l_35.sort()\n",
    "print(l_35[n-1])"
   ]
  },
  {
   "cell_type": "markdown",
   "id": "1c91920b-5741-4ef8-9386-30dd04a9e5b3",
   "metadata": {},
   "source": [
    "### 36. Replace every element in a list with its square."
   ]
  },
  {
   "cell_type": "code",
   "execution_count": 66,
   "id": "595a29ef-e3be-4181-9e45-8ed640d44d97",
   "metadata": {},
   "outputs": [
    {
     "data": {
      "text/plain": [
       "[25, 36, 1, 4, 490000]"
      ]
     },
     "execution_count": 66,
     "metadata": {},
     "output_type": "execute_result"
    }
   ],
   "source": [
    "l_36 = [5,6,1,2,700]\n",
    "l_36_sqr = []\n",
    "for i in l_36:\n",
    "    l_36_sqr.append(i**2)\n",
    "    \n",
    "l_36_sqr"
   ]
  },
  {
   "cell_type": "markdown",
   "id": "de3516c0-073b-400c-8548-11824f30274e",
   "metadata": {},
   "source": [
    "### 37. Convert a list to a dictionary where list elements become keys and their indices become values."
   ]
  },
  {
   "cell_type": "code",
   "execution_count": 20,
   "id": "e86f12fd-cff3-4809-8791-f6c53a9bcce4",
   "metadata": {},
   "outputs": [
    {
     "data": {
      "text/plain": [
       "{'er': 0, 'lms': 1, 1: 2, 2: 3}"
      ]
     },
     "execution_count": 20,
     "metadata": {},
     "output_type": "execute_result"
    }
   ],
   "source": [
    "l_37 = ['er', 'lms', 1, 2]\n",
    "dict_37 = {}\n",
    "for i in l_37:\n",
    "    dict_37.update({i : l_37.index(i)})\n",
    "    \n",
    "dict_37"
   ]
  },
  {
   "cell_type": "markdown",
   "id": "5d42c901-7c2e-4be5-bfeb-2844c645bbec",
   "metadata": {},
   "source": [
    "### 38. Shuffle the elements of a list randomly."
   ]
  },
  {
   "cell_type": "code",
   "execution_count": 22,
   "id": "2cb0d35f-e53d-4632-a934-07cdb49cc0d8",
   "metadata": {},
   "outputs": [
    {
     "name": "stdout",
     "output_type": "stream",
     "text": [
      "[8, 10, 2, 9]\n"
     ]
    }
   ],
   "source": [
    "import random\n",
    "l_38 = [2,8,9,10]\n",
    "random.shuffle(l_38)\n",
    "print(l_38)"
   ]
  },
  {
   "cell_type": "markdown",
   "id": "58702ee6-6a6f-469b-ae25-f3e8d2e4271f",
   "metadata": {},
   "source": [
    "### 39. Create a list of the first 10 factorial numbers."
   ]
  },
  {
   "cell_type": "code",
   "execution_count": 1,
   "id": "1b4bd1bd-5778-4cb3-a6b5-bd0f50e735b3",
   "metadata": {},
   "outputs": [
    {
     "name": "stdout",
     "output_type": "stream",
     "text": [
      "[1, 1, 2, 6, 24, 120, 720, 5040, 40320, 362880]\n"
     ]
    }
   ],
   "source": [
    "l_39 = list(range(0,10))\n",
    "l_39_fac = []\n",
    "fac = 1\n",
    "for i in l_39:\n",
    "    for j in range(1, i+1):\n",
    "        fac *= j\n",
    "    l_39_fac.append(fac)\n",
    "    fac = 1\n",
    "print(l_39_fac)"
   ]
  },
  {
   "cell_type": "markdown",
   "id": "d62f729c-7fb5-4c38-bd20-2e24dfcc2e2b",
   "metadata": {},
   "source": [
    "### 40. Check if two lists have at least one element in common."
   ]
  },
  {
   "cell_type": "code",
   "execution_count": 25,
   "id": "4bd4cce8-94cf-4246-afd6-3ed4e4c84c68",
   "metadata": {},
   "outputs": [
    {
     "name": "stdout",
     "output_type": "stream",
     "text": [
      "The two lists have have at least one element in common\n"
     ]
    }
   ],
   "source": [
    "l_40_1 = ['let', 'this', 'be', 'first', 'list']\n",
    "l_40_2 = ['let', 'this', 'be', 'second', 'list']\n",
    "for i in l_40_1:\n",
    "    for j in l_40_2:\n",
    "        if i == j:\n",
    "            break\n",
    "        else: \n",
    "            continue\n",
    "print('The two lists have have at least one element in common')"
   ]
  },
  {
   "cell_type": "markdown",
   "id": "c4add939-7191-4ea9-aedf-c90d8c5fa9bc",
   "metadata": {},
   "source": [
    "### 41. Remove all elements from a list."
   ]
  },
  {
   "cell_type": "code",
   "execution_count": 22,
   "id": "35a05544-2259-4085-88e8-75e99f374c23",
   "metadata": {},
   "outputs": [
    {
     "data": {
      "text/plain": [
       "[]"
      ]
     },
     "execution_count": 22,
     "metadata": {},
     "output_type": "execute_result"
    }
   ],
   "source": [
    "l_41 = ['clear', 'the', 'list']\n",
    "l_41.clear()\n",
    "l_41"
   ]
  },
  {
   "cell_type": "markdown",
   "id": "ec7fc02b-ab8c-4174-a693-3c62b7347cd9",
   "metadata": {},
   "source": [
    "### 42. Replace negative numbers in a list with 0."
   ]
  },
  {
   "cell_type": "code",
   "execution_count": 28,
   "id": "6e38d6b6-db1d-420a-888e-e24cb64be8c3",
   "metadata": {},
   "outputs": [
    {
     "name": "stdout",
     "output_type": "stream",
     "text": [
      "[0, 9, 0, 7]\n"
     ]
    }
   ],
   "source": [
    "l_42 = [-1, 9, -8, 7]\n",
    "l_42_1 = []\n",
    "for i in l_42:\n",
    "    if i < 0:\n",
    "        l_42_1.append(0)\n",
    "    else:\n",
    "        l_42_1.append(i)\n",
    "        continue\n",
    "print(l_42_1)"
   ]
  },
  {
   "cell_type": "markdown",
   "id": "c556b380-f308-4be9-b5f1-b0d8cde32e71",
   "metadata": {},
   "source": [
    "### 43. Convert a string into a list of words."
   ]
  },
  {
   "cell_type": "code",
   "execution_count": 30,
   "id": "13a6fc67-6eb6-4e92-8ca9-7e5b3246d4c0",
   "metadata": {},
   "outputs": [
    {
     "name": "stdin",
     "output_type": "stream",
     "text": [
      " this is an input string\n"
     ]
    },
    {
     "name": "stdout",
     "output_type": "stream",
     "text": [
      "['this', 'is', 'an', 'input', 'string']\n"
     ]
    }
   ],
   "source": [
    "str_43 = input()\n",
    "l_43 = str_43.split()\n",
    "print(l_43)"
   ]
  },
  {
   "cell_type": "markdown",
   "id": "aef059d4-ce4a-4262-945d-f2b603e696bc",
   "metadata": {},
   "source": [
    "### 44. Convert a list of words into a string."
   ]
  },
  {
   "cell_type": "code",
   "execution_count": 32,
   "id": "4af83df5-927c-4c52-964d-1c50f99062a6",
   "metadata": {},
   "outputs": [
    {
     "name": "stdout",
     "output_type": "stream",
     "text": [
      "this is an output string\n"
     ]
    }
   ],
   "source": [
    "l_44 = ['this', 'is', 'an', 'output', 'string']\n",
    "print(' '.join(l_44))"
   ]
  },
  {
   "cell_type": "markdown",
   "id": "c82b0d32-c570-4593-b442-5f18a25c84f1",
   "metadata": {},
   "source": [
    "### 45. Create a list of the first `n` powers of 2."
   ]
  },
  {
   "cell_type": "code",
   "execution_count": 35,
   "id": "ac82be82-b639-45e7-8506-d71bcf50f839",
   "metadata": {},
   "outputs": [
    {
     "name": "stdin",
     "output_type": "stream",
     "text": [
      "Enter the positive integer upto which you want the power of 2 to be listed out:  10\n"
     ]
    },
    {
     "data": {
      "text/plain": [
       "[2, 4, 8, 16, 32, 64, 128, 256, 512, 1024]"
      ]
     },
     "execution_count": 35,
     "metadata": {},
     "output_type": "execute_result"
    }
   ],
   "source": [
    "l_45 = []\n",
    "n = int(input('Enter the positive integer upto which you want the power of 2 to be listed out: '))\n",
    "for i in range(1, n+1):\n",
    "    l_45.append(2**i)\n",
    "    \n",
    "l_45"
   ]
  },
  {
   "cell_type": "markdown",
   "id": "9fea317e-70b4-40ae-ad62-8b7357668804",
   "metadata": {},
   "source": [
    "### 46. Find the longest string in a list of strings."
   ]
  },
  {
   "cell_type": "code",
   "execution_count": 110,
   "id": "aa60df5d-622c-40b7-89ed-79e6e97089c2",
   "metadata": {},
   "outputs": [
    {
     "name": "stdout",
     "output_type": "stream",
     "text": [
      "Longest string in the given list is 'thisislongest'\n"
     ]
    }
   ],
   "source": [
    "l_46 = ['thisislongest','this','hisislngest']\n",
    "l_46_len = []\n",
    "for i in l_46:\n",
    "    l_46_len.append(len(i))\n",
    "l_46_len_max = max(l_46_len)\n",
    "l_46_ind = l_46_len.index(l_46_len_max)\n",
    "print(f\"Longest string in the given list is \\'{l_46[l_46_ind]}\\'\")"
   ]
  },
  {
   "cell_type": "markdown",
   "id": "8e2c40b7-cba4-4a13-b918-048897b56a76",
   "metadata": {},
   "source": [
    "### 47. Find the shortest string in a list of strings."
   ]
  },
  {
   "cell_type": "code",
   "execution_count": 112,
   "id": "717141e8-8e35-48bd-8628-47b386aab1a3",
   "metadata": {},
   "outputs": [
    {
     "name": "stdout",
     "output_type": "stream",
     "text": [
      "Longest string in the given list is 'this'\n"
     ]
    }
   ],
   "source": [
    "l_47 = ['thisislongest','this','hisislngest']\n",
    "l_47_len = []\n",
    "for j in l_47:\n",
    "    l_47_len.append(len(j))\n",
    "l_47_len_min = min(l_47_len)\n",
    "l_47_indd = l_47_len.index(l_47_len_min)\n",
    "print(f\"Longest string in the given list is \\'{l_47[l_47_indd]}\\'\")"
   ]
  },
  {
   "cell_type": "markdown",
   "id": "6d4f2f85-2b19-4852-842d-5dac869d2f28",
   "metadata": {},
   "source": [
    "### 48. Create a list of the first `n` triangular numbers."
   ]
  },
  {
   "cell_type": "code",
   "execution_count": 8,
   "id": "0707bb17-6c2d-492d-b919-13e23746564e",
   "metadata": {},
   "outputs": [
    {
     "name": "stdin",
     "output_type": "stream",
     "text": [
      "Enter the count of triangular numbers you want to have:  4\n"
     ]
    },
    {
     "data": {
      "text/plain": [
       "[1, 3, 6, 10]"
      ]
     },
     "execution_count": 8,
     "metadata": {},
     "output_type": "execute_result"
    }
   ],
   "source": [
    "nth_48 = int(input(\"Enter the count of triangular numbers you want to have: \"))\n",
    "l_48 = []\n",
    "for i in range(1, nth_48+1):\n",
    "    l_48.append(sum(range(1,i+1)))\n",
    "l_48"
   ]
  },
  {
   "cell_type": "markdown",
   "id": "64f8e34f-0fd2-4954-b1db-5b0b369ebd51",
   "metadata": {},
   "source": [
    "### 49. Check if a list contains another list as a subsequence."
   ]
  },
  {
   "cell_type": "code",
   "execution_count": 3,
   "id": "618238b9-3931-4694-99eb-06efc71612e8",
   "metadata": {},
   "outputs": [
    {
     "name": "stdout",
     "output_type": "stream",
     "text": [
      "list is contains a subsequent list\n"
     ]
    }
   ],
   "source": [
    "l_49_1 = ['de', [1,2,3], 'engg']\n",
    "l_49_2 = []\n",
    "for i in l_49_1:\n",
    "    if (str(type(i)) == \"<class 'list'>\"):\n",
    "        l_49_2.append(True)\n",
    "    else:\n",
    "        l_49_2.append(False)\n",
    "if (any(l_49_2)):\n",
    "    print('list is contains a subsequent list')\n",
    "else:\n",
    "    print('there is no subsequent list')"
   ]
  },
  {
   "cell_type": "markdown",
   "id": "cd649e28-8e5d-43a5-a387-381cda0e653f",
   "metadata": {},
   "source": [
    "### 50. Swap two elements in a list by their indices."
   ]
  },
  {
   "cell_type": "code",
   "execution_count": 40,
   "id": "d7627032-bdeb-4f4c-a67c-520d6527edeb",
   "metadata": {},
   "outputs": [
    {
     "name": "stdin",
     "output_type": "stream",
     "text": [
      "The first index which are to be swapped:  2\n",
      "The second index which are to be swapped:  3\n"
     ]
    },
    {
     "name": "stdout",
     "output_type": "stream",
     "text": [
      "[1, 2, 'sentence', 'word', 3, [2, 3, 4]]\n"
     ]
    }
   ],
   "source": [
    "l_50 = [1, 2, 'word', 'sentence', 3, [2,3,4]]\n",
    "l_50_f = int(input('The first index which are to be swapped: '))\n",
    "l_50_s = int(input('The second index which are to be swapped: '))\n",
    "l_50[l_50_f], l_50[l_50_s] = l_50[l_50_s], l_50[l_50_f]\n",
    "print(l_50)\n",
    "    "
   ]
  },
  {
   "cell_type": "markdown",
   "id": "fc63a202-7939-4fef-99d4-f7d5788d36f2",
   "metadata": {},
   "source": [
    "# TOPIC Tuple Based Practice Problem :"
   ]
  },
  {
   "cell_type": "markdown",
   "id": "f50727ae-5995-48a1-ad4b-5c7cb2f7dfe7",
   "metadata": {},
   "source": [
    "### 1. Create a tuple with integers from 1 to 5."
   ]
  },
  {
   "cell_type": "code",
   "execution_count": 47,
   "id": "b6db118c-f672-4599-96d9-d43e964da5cf",
   "metadata": {},
   "outputs": [
    {
     "data": {
      "text/plain": [
       "(1, 2, 3, 4, 5)"
      ]
     },
     "execution_count": 47,
     "metadata": {},
     "output_type": "execute_result"
    }
   ],
   "source": [
    "t_1 = tuple(range(1,6))\n",
    "t_1"
   ]
  },
  {
   "cell_type": "markdown",
   "id": "7d5d1280-a20c-4cbc-96d7-0a704e4bd7e8",
   "metadata": {},
   "source": [
    "### 2. Access the third element of a tuple."
   ]
  },
  {
   "cell_type": "code",
   "execution_count": 49,
   "id": "35cd4338-f30a-4d0f-9e7a-99dae4fa4e97",
   "metadata": {},
   "outputs": [
    {
     "data": {
      "text/plain": [
       "4"
      ]
     },
     "execution_count": 49,
     "metadata": {},
     "output_type": "execute_result"
    }
   ],
   "source": [
    "t_2 = (1,2,4,3)\n",
    "t_2[2]"
   ]
  },
  {
   "cell_type": "markdown",
   "id": "44729bd2-e103-493d-bf0d-d96f415c36b2",
   "metadata": {},
   "source": [
    "### 3. Find the length of a tuple without using the `len()` function."
   ]
  },
  {
   "cell_type": "code",
   "execution_count": 1,
   "id": "69e3398b-9850-4255-b0a6-ac9766a373cf",
   "metadata": {},
   "outputs": [
    {
     "name": "stdout",
     "output_type": "stream",
     "text": [
      "5\n"
     ]
    }
   ],
   "source": [
    "t_3 = (8,9,6,7,7)\n",
    "count_t = 0\n",
    "for i in t_3:\n",
    "    if i == None:\n",
    "        continue\n",
    "    else:\n",
    "        count_t+=1\n",
    "print(count_t)"
   ]
  },
  {
   "cell_type": "markdown",
   "id": "fcfda42c-0e02-453a-b36e-2bd9196e4592",
   "metadata": {},
   "source": [
    "### 4. Count the occurrences of an element in a tuple."
   ]
  },
  {
   "cell_type": "code",
   "execution_count": 2,
   "id": "20ee3e73-031c-4079-98aa-779ad8948122",
   "metadata": {},
   "outputs": [
    {
     "data": {
      "text/plain": [
       "2"
      ]
     },
     "execution_count": 2,
     "metadata": {},
     "output_type": "execute_result"
    }
   ],
   "source": [
    "t_4 = (3,4,5,'g','g','h')\n",
    "t_4.count('g')"
   ]
  },
  {
   "cell_type": "markdown",
   "id": "b1b4c343-d26e-4336-93ee-d0d517723fac",
   "metadata": {},
   "source": [
    "### 5. Find the index of the first occurrence of an element in a tuple."
   ]
  },
  {
   "cell_type": "code",
   "execution_count": 3,
   "id": "2ba1f959-ee39-4edf-ae89-a7bfebbf7068",
   "metadata": {},
   "outputs": [
    {
     "data": {
      "text/plain": [
       "2"
      ]
     },
     "execution_count": 3,
     "metadata": {},
     "output_type": "execute_result"
    }
   ],
   "source": [
    "t_5 = (3,4,5,'g','g','h')\n",
    "t_5.count('g')"
   ]
  },
  {
   "cell_type": "markdown",
   "id": "87026a7b-a5c6-4780-a92c-82869d75e5f9",
   "metadata": {},
   "source": [
    "### 6. Check if an element exists in a tuple."
   ]
  },
  {
   "cell_type": "code",
   "execution_count": 13,
   "id": "f9e4509c-c10a-4096-826a-f905476f475a",
   "metadata": {},
   "outputs": [
    {
     "name": "stdout",
     "output_type": "stream",
     "text": [
      "The element g is present in the tuple (3, 4, 5, 'g', 'g', 'h')\n"
     ]
    }
   ],
   "source": [
    "t_6 = (3,4,5,'g','g','h')\n",
    "t_6_elem = 'g'\n",
    "if t_6_elem in t_6:\n",
    "    print(f'The element {t_6_elem} is present in the tuple {t_6}')\n",
    "else:\n",
    "    print(f'The element {t_6_elem} is not present in the tuple {t_6}')"
   ]
  },
  {
   "cell_type": "markdown",
   "id": "2518e9ab-29e8-4411-8b9d-b8c13d93528e",
   "metadata": {},
   "source": [
    "### 7. Convert a tuple to a list."
   ]
  },
  {
   "cell_type": "code",
   "execution_count": 17,
   "id": "a9bbcfee-0083-4352-9c9c-bec7adb60a90",
   "metadata": {},
   "outputs": [
    {
     "data": {
      "text/plain": [
       "[3, 4, 5, 6, 't']"
      ]
     },
     "execution_count": 17,
     "metadata": {},
     "output_type": "execute_result"
    }
   ],
   "source": [
    "t_7 = (3,4,5,6,'t')\n",
    "t_7 = list(t_7)\n",
    "t_7"
   ]
  },
  {
   "cell_type": "markdown",
   "id": "10891981-092f-4967-9614-e0ad45eedb38",
   "metadata": {},
   "source": [
    "### 8. Convert a list to a tuple."
   ]
  },
  {
   "cell_type": "code",
   "execution_count": 19,
   "id": "d090a1b0-98b2-4db6-9243-a8ecd52e8d91",
   "metadata": {},
   "outputs": [
    {
     "data": {
      "text/plain": [
       "(3, 4, 5, 5, 6, 't')"
      ]
     },
     "execution_count": 19,
     "metadata": {},
     "output_type": "execute_result"
    }
   ],
   "source": [
    "l_8_ = [3,4,5,5,6,'t']\n",
    "l_8_ = tuple(l_8_)\n",
    "l_8_"
   ]
  },
  {
   "cell_type": "markdown",
   "id": "bdfe60d4-ac06-4ee8-9701-9b6f4872eff0",
   "metadata": {},
   "source": [
    "### 9. Unpack the elements of a tuple into variables."
   ]
  },
  {
   "cell_type": "code",
   "execution_count": 20,
   "id": "b75e316f-172a-4f40-a826-255b63146340",
   "metadata": {},
   "outputs": [
    {
     "name": "stdout",
     "output_type": "stream",
     "text": [
      "6\n",
      "7\n",
      "8\n",
      "8\n",
      "2\n"
     ]
    }
   ],
   "source": [
    "t_9 = (6,7,8,8,2)\n",
    "i,j,k,l,m = t_9\n",
    "print(i)\n",
    "print(j)\n",
    "print(k)\n",
    "print(l)\n",
    "print(m)"
   ]
  },
  {
   "cell_type": "markdown",
   "id": "fc84e392-754f-4e8c-a76a-a1fd813dc080",
   "metadata": {},
   "source": [
    "### 10. Create a tuple of even numbers from 1 to 10."
   ]
  },
  {
   "cell_type": "code",
   "execution_count": 22,
   "id": "566c5bcd-9906-44b5-8030-7a7e19b81da5",
   "metadata": {},
   "outputs": [
    {
     "data": {
      "text/plain": [
       "(2, 4, 6, 8, 10)"
      ]
     },
     "execution_count": 22,
     "metadata": {},
     "output_type": "execute_result"
    }
   ],
   "source": [
    "l_10 = []\n",
    "for i in range(1, 11):\n",
    "    if i%2==0:\n",
    "        l_10.append(i)\n",
    "t_10 = tuple(l_10)\n",
    "t_10"
   ]
  },
  {
   "cell_type": "markdown",
   "id": "9b7149de-2c6b-47a1-ba1a-05cfbf6ecab7",
   "metadata": {},
   "source": [
    "### 11. Create a tuple of odd numbers from 1 to 10."
   ]
  },
  {
   "cell_type": "code",
   "execution_count": 24,
   "id": "34390dbf-a016-4115-82a3-69f5f4755e31",
   "metadata": {},
   "outputs": [
    {
     "data": {
      "text/plain": [
       "(1, 3, 5, 7, 9)"
      ]
     },
     "execution_count": 24,
     "metadata": {},
     "output_type": "execute_result"
    }
   ],
   "source": [
    "l_11 = []\n",
    "for j in range(1, 11):\n",
    "    if j%2!=0:\n",
    "        l_11.append(j)\n",
    "t_11 = tuple(l_11)\n",
    "t_11"
   ]
  },
  {
   "cell_type": "markdown",
   "id": "2e0ca6dd-738e-4674-9207-0529ed8c081b",
   "metadata": {},
   "source": [
    "### 12. Concatenate two tuples."
   ]
  },
  {
   "cell_type": "code",
   "execution_count": 25,
   "id": "fdcf52b7-d466-4c23-923f-1432e8a1c446",
   "metadata": {},
   "outputs": [
    {
     "data": {
      "text/plain": [
       "(1, 2, 3, 4, 5, 6)"
      ]
     },
     "execution_count": 25,
     "metadata": {},
     "output_type": "execute_result"
    }
   ],
   "source": [
    "t_12_1 = (1,2,3)\n",
    "t_12_2 = (4,5,6)\n",
    "t_12_12 = t_12_1+t_12_2\n",
    "t_12_12"
   ]
  },
  {
   "cell_type": "markdown",
   "id": "db4e7334-46c4-4726-8cdc-3e69f83b360a",
   "metadata": {},
   "source": [
    "### 13. Repeat a tuple three times."
   ]
  },
  {
   "cell_type": "code",
   "execution_count": 26,
   "id": "3e64780a-832a-4a91-82a4-3af6a479e240",
   "metadata": {},
   "outputs": [
    {
     "data": {
      "text/plain": [
       "(1, 2, 3, 1, 2, 3, 1, 2, 3)"
      ]
     },
     "execution_count": 26,
     "metadata": {},
     "output_type": "execute_result"
    }
   ],
   "source": [
    "t_13 = (1,2,3)\n",
    "t_13_1 = t_13*3\n",
    "t_13_1"
   ]
  },
  {
   "cell_type": "markdown",
   "id": "6b3afd94-38c1-4dec-8f90-b0f4e7a076b2",
   "metadata": {},
   "source": [
    "### 14. Check if a tuple is empty."
   ]
  },
  {
   "cell_type": "code",
   "execution_count": 29,
   "id": "dea8bf65-802d-47ef-aad1-3733362e6606",
   "metadata": {},
   "outputs": [
    {
     "name": "stdout",
     "output_type": "stream",
     "text": [
      "The tuple () is empty\n",
      "The tuple (1, 2, 3) is non-empty\n"
     ]
    }
   ],
   "source": [
    "t_14 = ()\n",
    "t_14_1 = (1,2,3)\n",
    "l_14_12 = []\n",
    "for i in t_14:\n",
    "    if i == None:\n",
    "        l_14_12.append(True)\n",
    "    else:\n",
    "        l_14_12.append(False)\n",
    "if all(l_14_12):\n",
    "    print(f'The tuple {t_14} is empty')\n",
    "else:\n",
    "    print(f'The tuple {t_14} is non-empty')\n",
    "\n",
    "l_14_22 = []\n",
    "for i in t_14_1:\n",
    "    if i == None:\n",
    "        l_14_22.append(True)\n",
    "    else:\n",
    "        l_14_22.append(False)\n",
    "if all(l_14_22):\n",
    "    print(f'The tuple {t_14_1} is empty')\n",
    "else:\n",
    "    print(f'The tuple {t_14_1} is non-empty')"
   ]
  },
  {
   "cell_type": "markdown",
   "id": "7fa8ec72-3811-42d6-9d94-3982b7fceaa6",
   "metadata": {},
   "source": [
    "### 15. Create a nested tuple."
   ]
  },
  {
   "cell_type": "code",
   "execution_count": 31,
   "id": "9c5aedca-a67a-43a5-9f10-0d93ee0e967d",
   "metadata": {},
   "outputs": [
    {
     "data": {
      "text/plain": [
       "(1, 2, 3, (4, 5))"
      ]
     },
     "execution_count": 31,
     "metadata": {},
     "output_type": "execute_result"
    }
   ],
   "source": [
    "t_15 = (1,2,3)\n",
    "t_15_1 = (4,5)\n",
    "t_15_2 = (1,2,3,t_15_1)\n",
    "t_15_2"
   ]
  },
  {
   "cell_type": "markdown",
   "id": "7d6a7b07-acf3-434f-8d48-fba39417d903",
   "metadata": {},
   "source": [
    "### 16. Access the first element of a nested tuple."
   ]
  },
  {
   "cell_type": "code",
   "execution_count": 32,
   "id": "109b166b-1d7c-4d94-991e-ec5d2f2b5a6a",
   "metadata": {},
   "outputs": [
    {
     "data": {
      "text/plain": [
       "4"
      ]
     },
     "execution_count": 32,
     "metadata": {},
     "output_type": "execute_result"
    }
   ],
   "source": [
    "t_16 = (1, 2, 3, (4, 5))\n",
    "t_16[3][0]"
   ]
  },
  {
   "cell_type": "markdown",
   "id": "1524ca85-8f40-448a-aa04-7a0288828323",
   "metadata": {},
   "source": [
    "### 17. Create a tuple with a single element."
   ]
  },
  {
   "cell_type": "code",
   "execution_count": 33,
   "id": "cd3065cc-a583-488a-91c7-6e08a105c94a",
   "metadata": {},
   "outputs": [
    {
     "data": {
      "text/plain": [
       "(1,)"
      ]
     },
     "execution_count": 33,
     "metadata": {},
     "output_type": "execute_result"
    }
   ],
   "source": [
    "t_17 = 1,\n",
    "t_17"
   ]
  },
  {
   "cell_type": "markdown",
   "id": "50fa4345-2212-4f86-9cb6-5bac35af63da",
   "metadata": {},
   "source": [
    "### 18. Compare two tuples."
   ]
  },
  {
   "cell_type": "code",
   "execution_count": null,
   "id": "9cbae2ba-d97f-4a38-95e9-16eaed7833db",
   "metadata": {},
   "outputs": [],
   "source": [
    "t_18 = (1,2,3)\n",
    "t_18_1 = (1,2,4)\n"
   ]
  },
  {
   "cell_type": "markdown",
   "id": "a9205196-8688-4cc6-95af-9276c97f5e28",
   "metadata": {},
   "source": [
    "### 19. Delete a tuple."
   ]
  },
  {
   "cell_type": "code",
   "execution_count": 34,
   "id": "12342900-c7c0-4e9b-a1c8-76947bf68104",
   "metadata": {},
   "outputs": [],
   "source": [
    "t_19 = (5,6,7,'idk')"
   ]
  },
  {
   "cell_type": "code",
   "execution_count": 35,
   "id": "4dacee43-6ccd-48fc-832c-d3f34c2580df",
   "metadata": {},
   "outputs": [],
   "source": [
    "del t_19"
   ]
  },
  {
   "cell_type": "code",
   "execution_count": 36,
   "id": "4abac7e9-a1ca-4a41-883e-0852d92fdd8e",
   "metadata": {},
   "outputs": [
    {
     "ename": "NameError",
     "evalue": "name 't_19' is not defined",
     "output_type": "error",
     "traceback": [
      "\u001b[0;31m---------------------------------------------------------------------------\u001b[0m",
      "\u001b[0;31mNameError\u001b[0m                                 Traceback (most recent call last)",
      "Cell \u001b[0;32mIn[36], line 1\u001b[0m\n\u001b[0;32m----> 1\u001b[0m \u001b[43mt_19\u001b[49m\n",
      "\u001b[0;31mNameError\u001b[0m: name 't_19' is not defined"
     ]
    }
   ],
   "source": [
    "t_19"
   ]
  },
  {
   "cell_type": "markdown",
   "id": "a1f2fff7-c609-491e-bf78-13e76354fd78",
   "metadata": {},
   "source": [
    "### 20. Slice a tuple."
   ]
  },
  {
   "cell_type": "code",
   "execution_count": 38,
   "id": "258b9457-1a43-4870-b801-8fec4acbbd96",
   "metadata": {},
   "outputs": [
    {
     "data": {
      "text/plain": [
       "(3, 4, ('er', 'dr', 'ar'))"
      ]
     },
     "execution_count": 38,
     "metadata": {},
     "output_type": "execute_result"
    }
   ],
   "source": [
    "t_20 = (1,2,3,4,('er', 'dr', 'ar'))\n",
    "t_20[2:5]"
   ]
  },
  {
   "cell_type": "markdown",
   "id": "289ede78-2991-41a3-90e9-0e8b89f16924",
   "metadata": {},
   "source": [
    "### 21. Find the maximum value in a tuple."
   ]
  },
  {
   "cell_type": "code",
   "execution_count": 40,
   "id": "3c546cfb-ea74-4185-9b3a-6ea9cf444231",
   "metadata": {},
   "outputs": [
    {
     "data": {
      "text/plain": [
       "1729"
      ]
     },
     "execution_count": 40,
     "metadata": {},
     "output_type": "execute_result"
    }
   ],
   "source": [
    "t_21 = (1, 90, 1729)\n",
    "max(t_21)"
   ]
  },
  {
   "cell_type": "markdown",
   "id": "0dc60f1f-b6a0-46fc-92b0-aad79debb37c",
   "metadata": {},
   "source": [
    "### 22. Find the minimum value in a tuple."
   ]
  },
  {
   "cell_type": "code",
   "execution_count": 41,
   "id": "b7c6547a-8fbc-497b-972a-0ca76db81c3d",
   "metadata": {},
   "outputs": [
    {
     "data": {
      "text/plain": [
       "1"
      ]
     },
     "execution_count": 41,
     "metadata": {},
     "output_type": "execute_result"
    }
   ],
   "source": [
    "t_22 = (1, 90, 1729)\n",
    "min(t_22)"
   ]
  },
  {
   "cell_type": "markdown",
   "id": "40ec6f62-924c-4cab-b31d-eaba1b9bb8d3",
   "metadata": {},
   "source": [
    "### 23. Convert a string to a tuple of characters."
   ]
  },
  {
   "cell_type": "code",
   "execution_count": 46,
   "id": "e0442117-f150-412e-9850-d099271bf5cb",
   "metadata": {},
   "outputs": [
    {
     "data": {
      "text/plain": [
       "('n',\n",
       " 'o',\n",
       " 'b',\n",
       " 'o',\n",
       " 'd',\n",
       " 'y',\n",
       " 'i',\n",
       " 's',\n",
       " 'g',\n",
       " 'o',\n",
       " 'o',\n",
       " 'd',\n",
       " 'o',\n",
       " 'v',\n",
       " 'e',\n",
       " 'r',\n",
       " 'a',\n",
       " 'l',\n",
       " 'l',\n",
       " 'o',\n",
       " 'f',\n",
       " 'u',\n",
       " 's')"
      ]
     },
     "execution_count": 46,
     "metadata": {},
     "output_type": "execute_result"
    }
   ],
   "source": [
    "str_23_12 = 'nobodyisgoodoverallofus'\n",
    "l_23 = []\n",
    "for i in str_23_12:\n",
    "    l_23.append(i)\n",
    "t_23 = tuple(l_23)\n",
    "t_23"
   ]
  },
  {
   "cell_type": "markdown",
   "id": "eb44913a-1c8a-46ea-b79b-59cb9f0fb8b1",
   "metadata": {},
   "source": [
    "### 24. Convert a tuple of characters to a string."
   ]
  },
  {
   "cell_type": "code",
   "execution_count": 48,
   "id": "99f0aae9-41b2-4443-9b96-6ca3b62f0807",
   "metadata": {},
   "outputs": [
    {
     "data": {
      "text/plain": [
       "'nobodyisgoodoverallofus'"
      ]
     },
     "execution_count": 48,
     "metadata": {},
     "output_type": "execute_result"
    }
   ],
   "source": [
    "t_24 = ('n', 'o', 'b', 'o', 'd', 'y', 'i', 's', 'g', 'o', 'o', 'd', 'o', 'v', 'e', 'r', 'a', 'l', 'l', 'o', 'f', 'u', 's')\n",
    "str_24_t = ''\n",
    "for i in t_24:\n",
    "    str_24_t+=i\n",
    "str_24_t\n"
   ]
  },
  {
   "cell_type": "markdown",
   "id": "ec4d1fe4-1a69-44c1-a351-c81221d2c905",
   "metadata": {},
   "source": [
    "### 25. Create a tuple from multiple data types."
   ]
  },
  {
   "cell_type": "code",
   "execution_count": 49,
   "id": "d7c71416-98ae-4856-8ad6-fbee0c714aa9",
   "metadata": {},
   "outputs": [
    {
     "data": {
      "text/plain": [
       "(['imho', 'hifi'],\n",
       " 'ceiling',\n",
       " 325,\n",
       " 3.14,\n",
       " (3, 2, 5),\n",
       " {2, 3, 5},\n",
       " {3: 2, 2: 2, 5: 5})"
      ]
     },
     "execution_count": 49,
     "metadata": {},
     "output_type": "execute_result"
    }
   ],
   "source": [
    "l_25_25 = ['imho', 'hifi']\n",
    "str_25_25 = 'ceiling'\n",
    "num_25_25 = 325\n",
    "float_25_25 = 3.14\n",
    "t_25_25 = (3,2,5)\n",
    "s_25_25 = {3,2,5}\n",
    "d_25_25 = {3:2,2:2,5:5}\n",
    "t_25 = (l_25_25,str_25_25,num_25_25,float_25_25,t_25_25,s_25_25,d_25_25)\n",
    "t_25"
   ]
  },
  {
   "cell_type": "markdown",
   "id": "df26c605-79aa-45c3-982f-71fecb2700f0",
   "metadata": {},
   "source": [
    "### 26. Check if two tuples are identical."
   ]
  },
  {
   "cell_type": "code",
   "execution_count": 39,
   "id": "a03610cb-3a2b-4772-b11b-331df0d0c241",
   "metadata": {},
   "outputs": [
    {
     "name": "stdout",
     "output_type": "stream",
     "text": [
      "Two tuples are different\n"
     ]
    }
   ],
   "source": [
    "t_26 = (1,2,3,'three')\n",
    "t_26_1 = (1,2,3)\n",
    "if t_26 == t_26_1:\n",
    "    print('Two tuples are identical')\n",
    "else:\n",
    "    print('Two tuples are different')    "
   ]
  },
  {
   "cell_type": "markdown",
   "id": "abef979e-93ad-4379-ad7d-0920a8d2cd79",
   "metadata": {},
   "source": [
    "### 27. Sort the elements of a tuple."
   ]
  },
  {
   "cell_type": "code",
   "execution_count": 1,
   "id": "6b5797f1-1359-45f5-9a53-08881cf5f385",
   "metadata": {},
   "outputs": [
    {
     "data": {
      "text/plain": [
       "(1, 23, 90, 108)"
      ]
     },
     "execution_count": 1,
     "metadata": {},
     "output_type": "execute_result"
    }
   ],
   "source": [
    "t_27 = (90,23,108,1)\n",
    "l_27_t = list(t_27)\n",
    "l_27_t.sort()\n",
    "t_27_1 = tuple(l_27_t)\n",
    "t_27_1"
   ]
  },
  {
   "cell_type": "markdown",
   "id": "92207026-391b-47c2-8fab-768d6ce19573",
   "metadata": {},
   "source": [
    "### 28. Convert a tuple of integers to a tuple of strings."
   ]
  },
  {
   "cell_type": "code",
   "execution_count": 2,
   "id": "8c2dd4b1-3fe9-4860-9bf2-8690406bae52",
   "metadata": {},
   "outputs": [
    {
     "data": {
      "text/plain": [
       "('1', '2', '3', '4')"
      ]
     },
     "execution_count": 2,
     "metadata": {},
     "output_type": "execute_result"
    }
   ],
   "source": [
    "t_28_i = (1,2,3,4)\n",
    "l_28_i = []\n",
    "for k in t_28_i:\n",
    "    l_28_i.append(str(k))\n",
    "t_28_str = tuple(l_28_i)\n",
    "t_28_str"
   ]
  },
  {
   "cell_type": "markdown",
   "id": "146cf9fc-d38f-40b1-b1d5-b02166d5f3b5",
   "metadata": {},
   "source": [
    "### 29. Convert a tuple of strings to a tuple of integers."
   ]
  },
  {
   "cell_type": "code",
   "execution_count": 2,
   "id": "87f08e05-18d7-4b67-978a-dcf602542393",
   "metadata": {},
   "outputs": [
    {
     "data": {
      "text/plain": [
       "(1, 2, 3, 4)"
      ]
     },
     "execution_count": 2,
     "metadata": {},
     "output_type": "execute_result"
    }
   ],
   "source": [
    "t_29 = ('1', '2', '3', '4')\n",
    "l_29_s = []\n",
    "for o in t_29:\n",
    "    l_29_s.append(int(o))\n",
    "    \n",
    "t_29_i = tuple(l_29_s)\n",
    "t_29_i"
   ]
  },
  {
   "cell_type": "markdown",
   "id": "3da14e22-972a-411c-b03a-ac08e83f02a9",
   "metadata": {},
   "source": [
    "### 30. Merge two tuples."
   ]
  },
  {
   "cell_type": "code",
   "execution_count": 3,
   "id": "a25f1eae-29e7-4734-9fe8-1090335de5e1",
   "metadata": {},
   "outputs": [
    {
     "data": {
      "text/plain": [
       "(1, 2, 3, 4, 5)"
      ]
     },
     "execution_count": 3,
     "metadata": {},
     "output_type": "execute_result"
    }
   ],
   "source": [
    "t_30_1 = (1,2,3)\n",
    "t_30_2 = (4,5)\n",
    "t_30_3 = t_30_1 + t_30_2\n",
    "t_30_3"
   ]
  },
  {
   "cell_type": "markdown",
   "id": "b7f2cc05-781c-4958-ba2c-36931d5ab08a",
   "metadata": {},
   "source": [
    "### 31. Flatten a nested tuple."
   ]
  },
  {
   "cell_type": "code",
   "execution_count": 6,
   "id": "8ed7e396-f9e5-465a-b397-6077699f8e32",
   "metadata": {},
   "outputs": [
    {
     "data": {
      "text/plain": [
       "[1, 2, 3, 4, 1, 2, 3, 1, 2]"
      ]
     },
     "execution_count": 6,
     "metadata": {},
     "output_type": "execute_result"
    }
   ],
   "source": [
    "from functools import reduce\n",
    "t_31 = ((1,2,3,4), (1,2,3), (1,), (2,))\n",
    "list(reduce(lambda x, y: x + y, t_31, ()))"
   ]
  },
  {
   "cell_type": "markdown",
   "id": "61911de0-8595-4133-84b1-405ae2356014",
   "metadata": {},
   "source": [
    "### 32. Create a tuple of the first 5 prime numbers."
   ]
  },
  {
   "cell_type": "code",
   "execution_count": 28,
   "id": "2f893328-0a7a-4927-93ad-e97c3f835371",
   "metadata": {},
   "outputs": [
    {
     "name": "stdout",
     "output_type": "stream",
     "text": [
      "[]\n"
     ]
    }
   ],
   "source": []
  },
  {
   "cell_type": "markdown",
   "id": "7f72c4a0-db09-4228-bb43-a36bd9f4928e",
   "metadata": {},
   "source": [
    "### 33. Check if a tuple is a palindrome."
   ]
  },
  {
   "cell_type": "code",
   "execution_count": 2,
   "id": "bc83d99d-e9c6-4a39-b97f-88ccee09c53b",
   "metadata": {},
   "outputs": [
    {
     "name": "stdout",
     "output_type": "stream",
     "text": [
      "The given tuple is a palindromic tuple\n"
     ]
    }
   ],
   "source": [
    "t_33 = (1,2,3,2,1)\n",
    "if t_33 == t_33[::-1]:\n",
    "    print('The given tuple is a palindromic tuple')\n",
    "else:\n",
    "    print('The given tuple is NOT a palindromic tuple')\n"
   ]
  },
  {
   "cell_type": "markdown",
   "id": "8cb736a1-0ad4-424e-969f-119c67bfc97f",
   "metadata": {},
   "source": [
    "### 34. Create a tuple of squares of numbers from 1 to 5."
   ]
  },
  {
   "cell_type": "code",
   "execution_count": 5,
   "id": "c542f340-5cf6-4b7e-8a48-24cfb7cb6cf6",
   "metadata": {},
   "outputs": [
    {
     "data": {
      "text/plain": [
       "(1, 4, 9, 16, 25)"
      ]
     },
     "execution_count": 5,
     "metadata": {},
     "output_type": "execute_result"
    }
   ],
   "source": [
    "t_34 = range(1,6)\n",
    "l_34_34 = []\n",
    "for i in range(1,len(t_34)+1):\n",
    "    l_34_34.append(i**2)\n",
    "    \n",
    "t_34_1 = tuple(l_34_34)\n",
    "t_34_1"
   ]
  },
  {
   "cell_type": "markdown",
   "id": "d181d1f3-35fe-42f9-8071-e9238b823e3d",
   "metadata": {},
   "source": [
    "### 35. Filter out all even numbers from a tuple."
   ]
  },
  {
   "cell_type": "code",
   "execution_count": 6,
   "id": "9931cc1b-dc60-4cd9-a18a-78a1beb7cb2b",
   "metadata": {},
   "outputs": [
    {
     "data": {
      "text/plain": [
       "(4, 100, 200)"
      ]
     },
     "execution_count": 6,
     "metadata": {},
     "output_type": "execute_result"
    }
   ],
   "source": [
    "t_35 = (1,3,4,5,789,100,200,101,523)\n",
    "l_35_35 = []\n",
    "for i in t_35:\n",
    "    if(i%2==0):\n",
    "        l_35_35.append(i)\n",
    "        \n",
    "t_35_1 = tuple(l_35_35)\n",
    "t_35_1"
   ]
  },
  {
   "cell_type": "markdown",
   "id": "8fb8845a-21b8-4476-a40e-2f79eef75794",
   "metadata": {},
   "source": [
    "### 36. Multiply all elements in a tuple by 2."
   ]
  },
  {
   "cell_type": "code",
   "execution_count": 7,
   "id": "080329fa-4052-43f2-92c1-dd579f0a1a43",
   "metadata": {},
   "outputs": [
    {
     "data": {
      "text/plain": [
       "(2, 6, 8, 10, 18, 200, 400, 222)"
      ]
     },
     "execution_count": 7,
     "metadata": {},
     "output_type": "execute_result"
    }
   ],
   "source": [
    "t_36 = (1,3,4,5,9,100,200,111)\n",
    "l_36_36 = []\n",
    "for i in t_36:\n",
    "    l_36_36.append(i*2)\n",
    "t_36_1 = tuple(l_36_36)\n",
    "t_36_1"
   ]
  },
  {
   "cell_type": "markdown",
   "id": "602f9239-d533-4018-ba7c-2490dbfda286",
   "metadata": {},
   "source": [
    "### 37. Create a tuple of random numbers."
   ]
  },
  {
   "cell_type": "code",
   "execution_count": 8,
   "id": "52fe1fb7-a988-4195-8b77-41a45c3597ba",
   "metadata": {},
   "outputs": [
    {
     "name": "stdout",
     "output_type": "stream",
     "text": [
      "(16, 27, 20, 23, 10, 22)\n"
     ]
    }
   ],
   "source": [
    "import random\n",
    "l_37_37 = random.sample(range(10, 31), 6)\n",
    "print(tuple(l_37_37))"
   ]
  },
  {
   "cell_type": "markdown",
   "id": "f95db455-2c58-48a5-8b88-6fe335fa138a",
   "metadata": {},
   "source": [
    "### 38. Check if a tuple is sorted."
   ]
  },
  {
   "cell_type": "code",
   "execution_count": 9,
   "id": "e09821f6-4cfe-4072-bf8c-b93d1c37ed20",
   "metadata": {},
   "outputs": [
    {
     "name": "stdout",
     "output_type": "stream",
     "text": [
      "tuple is not sorted\n"
     ]
    }
   ],
   "source": [
    "t_38 = [98, 78, 600, 601]\n",
    "l_38_38 = list(t_38)\n",
    "if l_38_38 == l_38_38.sort():\n",
    "    print('tuple is sorted')\n",
    "else:\n",
    "    print('tuple is not sorted')"
   ]
  },
  {
   "cell_type": "markdown",
   "id": "ce7c0c14-990f-4335-bde8-7b683036d40f",
   "metadata": {},
   "source": [
    "### 39. Rotate a tuple to the left by `n` positions."
   ]
  },
  {
   "cell_type": "code",
   "execution_count": 44,
   "id": "dfff9fd4-4deb-439f-b63e-a6fbb853744a",
   "metadata": {},
   "outputs": [
    {
     "name": "stdin",
     "output_type": "stream",
     "text": [
      "Enter the value with which the list should be rotated left:  2\n"
     ]
    },
    {
     "name": "stdout",
     "output_type": "stream",
     "text": [
      "Original tuple:  (11, 22, 33, 44, 55)\n",
      "Rotated tuple: (33, 44, 55, 11, 22)\n"
     ]
    }
   ],
   "source": [
    "rot_lft_n = int(input('Enter the value with which the list should be rotated left: '))\n",
    "  \n",
    "t_39 = (11, 22, 33, 44, 55)\n",
    "print('Original tuple: ', t_39)\n",
    "t_39_1 =  t_39[rot_lft_n: ]+ t_39[:rot_lft_n]\n",
    "print(\"Rotated tuple:\", t_39_1)"
   ]
  },
  {
   "cell_type": "markdown",
   "id": "75cb095a-757f-419b-ba0f-05cd4f250df4",
   "metadata": {},
   "source": [
    "### 40. Rotate a tuple to the right by `n` positions."
   ]
  },
  {
   "cell_type": "code",
   "execution_count": 45,
   "id": "d2e86418-b4ad-4e94-9b0e-9f8869b84266",
   "metadata": {},
   "outputs": [
    {
     "name": "stdin",
     "output_type": "stream",
     "text": [
      "Enter the value with which the list should be rotated right:  2\n"
     ]
    },
    {
     "name": "stdout",
     "output_type": "stream",
     "text": [
      "Original tuple:  (11, 22, 33, 44, 55)\n",
      "Rotated tuple: (44, 55, 11, 22, 33)\n"
     ]
    }
   ],
   "source": [
    "rot_trt_n = int(input('Enter the value with which the list should be rotated right: '))\n",
    "  \n",
    "t_40 = (11, 22, 33, 44, 55)\n",
    "print('Original tuple: ', t_40)\n",
    "t_40_1 = (t_40[len(t_40) - rot_trt_n:len(t_40)] + t_40[0:len(t_40) - rot_trt_n]) \n",
    "print(\"Rotated tuple:\", t_40_1)"
   ]
  },
  {
   "cell_type": "markdown",
   "id": "e8b1d660-c063-4c10-bbe9-37aac21f47fd",
   "metadata": {},
   "source": [
    "### 41. Create a tuple of the first 5 Fibonacci numbers."
   ]
  },
  {
   "cell_type": "code",
   "execution_count": 16,
   "id": "e2eb9c7f-ac0b-4964-8aac-8c0041d03fcd",
   "metadata": {},
   "outputs": [
    {
     "name": "stdin",
     "output_type": "stream",
     "text": [
      " 6\n"
     ]
    },
    {
     "name": "stdout",
     "output_type": "stream",
     "text": [
      "(0, 1, 1, 2, 3, 5)\n"
     ]
    }
   ],
   "source": [
    "l_41_41 = []\n",
    "nth_41 = int(input())\n",
    "a_1 = 0    \n",
    "b_1 = 1    \n",
    "for i in range(0,nth_41):  \n",
    "    l_41_41.append(a_1)\n",
    "    c_1 = a_1 + b_1\n",
    "    a_1 = b_1\n",
    "    b_1 = c_1\n",
    "print(tuple(l_41_41))"
   ]
  },
  {
   "cell_type": "markdown",
   "id": "65aabe4d-b447-49cc-938f-e33c972d77ba",
   "metadata": {},
   "source": [
    "### 42. Create a tuple from user input."
   ]
  },
  {
   "cell_type": "code",
   "execution_count": 36,
   "id": "6b2fc986-229b-4f7a-ad82-ef0212cae23e",
   "metadata": {},
   "outputs": [
    {
     "name": "stdin",
     "output_type": "stream",
     "text": [
      "Enter the next element of the set: (if not press #) 2\n",
      "Enter the next element of the set: (if not press #) 3\n",
      "Enter the next element of the set: (if not press #) #\n"
     ]
    },
    {
     "data": {
      "text/plain": [
       "('2', '3')"
      ]
     },
     "execution_count": 36,
     "metadata": {},
     "output_type": "execute_result"
    }
   ],
   "source": [
    "inpt_42 = input('Enter the next element of the set: (if not press #)')\n",
    "l_42_42 = []\n",
    "while inpt_42 != '#':\n",
    "    l_42_42.append(inpt_42)\n",
    "    if inpt_42 == '#':\n",
    "        break\n",
    "    else:\n",
    "        inpt_42 = input('Enter the next element of the set: (if not press #)')\n",
    "t_42 = tuple(l_42_42)\n",
    "t_42"
   ]
  },
  {
   "cell_type": "markdown",
   "id": "fcd59860-5883-4222-9444-2f1dcba57a0f",
   "metadata": {},
   "source": [
    "### 43. Swap two elements in a tuple."
   ]
  },
  {
   "cell_type": "code",
   "execution_count": 35,
   "id": "9fdfe635-6524-4af5-9cd0-bcb3332f534a",
   "metadata": {},
   "outputs": [
    {
     "name": "stdin",
     "output_type": "stream",
     "text": [
      "The first index which are to be swapped:  2\n",
      "The second index which are to be swapped:  3\n"
     ]
    },
    {
     "name": "stdout",
     "output_type": "stream",
     "text": [
      "(1, 2, 4, 3)\n"
     ]
    }
   ],
   "source": [
    "t_43 = (1,2,3,4)\n",
    "l_43_43 = list(t_43)\n",
    "l_43_f = int(input('The first index which are to be swapped: '))\n",
    "l_43_s = int(input('The second index which are to be swapped: '))\n",
    "l_43_43[l_43_f], l_43_43[l_43_s] = l_43_43[l_43_s], l_43_43[l_43_f]\n",
    "print(tuple(l_43_43))"
   ]
  },
  {
   "cell_type": "markdown",
   "id": "040bdc2e-01f0-4cef-a208-3d95c6fe36cb",
   "metadata": {},
   "source": [
    "### 44. Reverse the elements of a tuple."
   ]
  },
  {
   "cell_type": "code",
   "execution_count": 33,
   "id": "d2691b36-1773-44a5-98b5-cd721105c7d2",
   "metadata": {},
   "outputs": [
    {
     "data": {
      "text/plain": [
       "(5, 4, 23, 1)"
      ]
     },
     "execution_count": 33,
     "metadata": {},
     "output_type": "execute_result"
    }
   ],
   "source": [
    "t_44 = (1,23,4,5)\n",
    "t_44_rev = t_44[::-1]\n",
    "t_44_rev"
   ]
  },
  {
   "cell_type": "markdown",
   "id": "dbc27bd6-7978-4158-8fe6-c9eac1095a2a",
   "metadata": {},
   "source": [
    "### 45. Create a tuple of the first `n` powers of 2."
   ]
  },
  {
   "cell_type": "code",
   "execution_count": 32,
   "id": "bb49b9c5-fdf9-41d8-befc-7ef88668d48f",
   "metadata": {},
   "outputs": [
    {
     "name": "stdin",
     "output_type": "stream",
     "text": [
      " 6\n"
     ]
    },
    {
     "data": {
      "text/plain": [
       "(1, 2, 4, 8, 16, 32, 64)"
      ]
     },
     "execution_count": 32,
     "metadata": {},
     "output_type": "execute_result"
    }
   ],
   "source": [
    "l_45_45 = []\n",
    "nth_45 = int(input())\n",
    "for p in range(0,nth_45+1):\n",
    "    l_45_45.append(2**p)\n",
    "t_45 = tuple(l_45_45)\n",
    "t_45"
   ]
  },
  {
   "cell_type": "markdown",
   "id": "f726d956-850f-4f93-8b01-836cc548cc0a",
   "metadata": {},
   "source": [
    "### 46. Find the longest string in a tuple of strings."
   ]
  },
  {
   "cell_type": "code",
   "execution_count": 51,
   "id": "da9597b4-54d1-4f8b-a911-25e8f37c7f62",
   "metadata": {},
   "outputs": [
    {
     "data": {
      "text/plain": [
       "'maximum'"
      ]
     },
     "execution_count": 51,
     "metadata": {},
     "output_type": "execute_result"
    }
   ],
   "source": [
    "t_46 = ('m','max','maximum')\n",
    "l_46_46_1 = []\n",
    "for i in t_46:\n",
    "    l_46_46_1.append(len(i))\n",
    "\n",
    "max_lengt = max(l_46_46_1)\n",
    "l_46_46_1_index = l_46_46_1.index(max_lengt)\n",
    "t_46[l_46_46_1_index]\n"
   ]
  },
  {
   "cell_type": "markdown",
   "id": "2996c977-1448-4c5a-bcb3-2b175c2f0ef5",
   "metadata": {},
   "source": [
    "### 47. Find the shortest string in a tuple of strings."
   ]
  },
  {
   "cell_type": "code",
   "execution_count": 52,
   "id": "b0202ccf-6eb8-4384-9616-4975fca41b64",
   "metadata": {},
   "outputs": [
    {
     "data": {
      "text/plain": [
       "'m'"
      ]
     },
     "execution_count": 52,
     "metadata": {},
     "output_type": "execute_result"
    }
   ],
   "source": [
    "t_47 = ('m','max','maximum')\n",
    "l_47_47_1 = []\n",
    "for i in t_47:\n",
    "    l_47_47_1.append(len(i))\n",
    "\n",
    "min_lengt = min(l_47_47_1)\n",
    "l_47_47_1_index = l_47_47_1.index(min_lengt)\n",
    "t_47[l_47_47_1_index]"
   ]
  },
  {
   "cell_type": "markdown",
   "id": "dfb2d3aa-ade4-471e-9b6e-557cd94cae1e",
   "metadata": {},
   "source": [
    "### 48. Create a tuple of the first `n` triangular numbers."
   ]
  },
  {
   "cell_type": "code",
   "execution_count": 31,
   "id": "1ab4a562-4551-4af2-a2e6-82d2d087a69c",
   "metadata": {},
   "outputs": [
    {
     "name": "stdin",
     "output_type": "stream",
     "text": [
      " 5\n"
     ]
    },
    {
     "data": {
      "text/plain": [
       "(1, 3, 6, 10, 15)"
      ]
     },
     "execution_count": 31,
     "metadata": {},
     "output_type": "execute_result"
    }
   ],
   "source": [
    "l_48_48 = list()\n",
    "nth_48 = int(input())\n",
    "k=0\n",
    "for i in range(1,nth_48+1):\n",
    "    for j in range(0,i+1):\n",
    "        k+=j\n",
    "    l_48_48.append(k)\n",
    "    k=0\n",
    "t_48 = tuple(l_48_48)\n",
    "t_48"
   ]
  },
  {
   "cell_type": "markdown",
   "id": "32125894-abab-471e-a49d-c32b8c754f91",
   "metadata": {},
   "source": [
    "### 49. Check if a tuple contains another tuple as a subsequence."
   ]
  },
  {
   "cell_type": "code",
   "execution_count": 41,
   "id": "217a65f1-ed1d-4ace-b0a8-f3a2981ac0fb",
   "metadata": {},
   "outputs": [
    {
     "name": "stdout",
     "output_type": "stream",
     "text": [
      "tuple is contains subsequent tuple\n"
     ]
    }
   ],
   "source": [
    "t_49_1 = ('de', [1,2,3], 'engg')\n",
    "l_49_20 = []\n",
    "l_49_100 = list(t_49_1)\n",
    "\n",
    "for i in l_49_100:\n",
    "    if (str(type(i)) == \"<class 'list'>\"):\n",
    "        l_49_20.append(True)\n",
    "    else:\n",
    "        l_49_20.append(False)\n",
    "if (any(l_49_20)):\n",
    "    print('tuple is contains subsequent tuple')\n",
    "else:\n",
    "    print('tuple has no subsequent tuple')"
   ]
  },
  {
   "cell_type": "markdown",
   "id": "b4a51b9c-adb0-46d9-b8a3-fc06bc0e822c",
   "metadata": {},
   "source": [
    "### 50. Create a tuple of alternating 1s and 0s of length `n`."
   ]
  },
  {
   "cell_type": "code",
   "execution_count": 25,
   "id": "6a122db9-3289-44e8-9fe8-acc433175884",
   "metadata": {},
   "outputs": [
    {
     "name": "stdin",
     "output_type": "stream",
     "text": [
      " 6\n"
     ]
    },
    {
     "data": {
      "text/plain": [
       "(0, 1, 0, 1, 0, 1)"
      ]
     },
     "execution_count": 25,
     "metadata": {},
     "output_type": "execute_result"
    }
   ],
   "source": [
    "l_50_50 = []\n",
    "nth_50 = int(input())\n",
    "for i in range(nth_50):\n",
    "    if i%2 == 0:\n",
    "        l_50_50.append(0)\n",
    "    else:\n",
    "        l_50_50.append(1)\n",
    "t_50 = tuple(l_50_50)\n",
    "t_50"
   ]
  },
  {
   "cell_type": "markdown",
   "id": "99b6a2d9-9c4e-43e6-b156-96960e94a2eb",
   "metadata": {},
   "source": [
    "# TOPIC Set Based Practice Problem :"
   ]
  },
  {
   "cell_type": "markdown",
   "id": "2dbda17e-dccc-415c-ace9-e29dde2d9210",
   "metadata": {},
   "source": [
    "### 1. Create a set with integers from 1 to 5."
   ]
  },
  {
   "cell_type": "code",
   "execution_count": 5,
   "id": "12be18bc-914e-484b-9758-e1b0cf124402",
   "metadata": {},
   "outputs": [
    {
     "data": {
      "text/plain": [
       "{1, 2, 3, 4, 5}"
      ]
     },
     "execution_count": 5,
     "metadata": {},
     "output_type": "execute_result"
    }
   ],
   "source": [
    "st_1 = {1,2,3,4,5}\n",
    "st_1"
   ]
  },
  {
   "cell_type": "markdown",
   "id": "0123d2bf-80d8-4d3a-a115-b4b9da201a67",
   "metadata": {},
   "source": [
    "### 2. Add an element to a set."
   ]
  },
  {
   "cell_type": "code",
   "execution_count": 4,
   "id": "be328b59-19c8-449e-978c-97eed977d197",
   "metadata": {},
   "outputs": [
    {
     "data": {
      "text/plain": [
       "{1, 2, 3, 4, 5, 6}"
      ]
     },
     "execution_count": 4,
     "metadata": {},
     "output_type": "execute_result"
    }
   ],
   "source": [
    "st_2 = {1,2,3,4,5}\n",
    "st_2.add(6)\n",
    "st_2"
   ]
  },
  {
   "cell_type": "markdown",
   "id": "15628144-02df-4f1e-9961-0aa6961c2932",
   "metadata": {},
   "source": [
    "### 3. Remove an element from a set."
   ]
  },
  {
   "cell_type": "code",
   "execution_count": 2,
   "id": "771932f6-c8d6-4fd8-9f01-ee07d6841c9d",
   "metadata": {},
   "outputs": [
    {
     "data": {
      "text/plain": [
       "{1, 2, 3, 4, 5, 6}"
      ]
     },
     "execution_count": 2,
     "metadata": {},
     "output_type": "execute_result"
    }
   ],
   "source": [
    "st_3 = {1,2,3,4,5,7,6}\n",
    "st_3.remove(7)\n",
    "st_3"
   ]
  },
  {
   "cell_type": "markdown",
   "id": "f64614a9-a885-4180-97b0-373f265e8c70",
   "metadata": {},
   "source": [
    "### 4. Check if an element exists in a set."
   ]
  },
  {
   "cell_type": "code",
   "execution_count": 4,
   "id": "e51d61b6-f88a-4abb-a7b9-f579d4ba0e00",
   "metadata": {},
   "outputs": [
    {
     "name": "stdout",
     "output_type": "stream",
     "text": [
      "so is present in {1, 2, 3, 4, 5, 6, 7, 'so'}\n"
     ]
    }
   ],
   "source": [
    "st_4 = {1,2,3,4,5,'so',7,6}\n",
    "nm_st = 'so'\n",
    "if nm_st in st_4:\n",
    "    print(f'{nm_st} is present in {st_4}')\n",
    "else:\n",
    "    print(f'{nm_st} is not present in {st_4}')        "
   ]
  },
  {
   "cell_type": "markdown",
   "id": "a0503887-3076-4fc7-959a-f40d7511c782",
   "metadata": {},
   "source": [
    "### 5. Find the length of a set without using the `len()` function."
   ]
  },
  {
   "cell_type": "code",
   "execution_count": 7,
   "id": "072f960b-696e-4d08-834e-1a9f0fe580e9",
   "metadata": {},
   "outputs": [
    {
     "name": "stdout",
     "output_type": "stream",
     "text": [
      "4\n"
     ]
    }
   ],
   "source": [
    "st_5 = {8,9,6,7}\n",
    "count_st = 0\n",
    "for i in st_5:\n",
    "    if i == None:\n",
    "        continue\n",
    "    else:\n",
    "        count_st+=1\n",
    "print(count_st)"
   ]
  },
  {
   "cell_type": "markdown",
   "id": "19cb635e-88e1-4f45-9de5-58fe62b0809a",
   "metadata": {},
   "source": [
    "### 6. Clear all elements from a set."
   ]
  },
  {
   "cell_type": "code",
   "execution_count": 8,
   "id": "d0861d63-128a-4117-b41f-34f372cb7ff2",
   "metadata": {},
   "outputs": [],
   "source": [
    "st_6 = {8,7,9,6}\n",
    "st_6.clear()"
   ]
  },
  {
   "cell_type": "code",
   "execution_count": 9,
   "id": "fac1bc4b-8a72-4681-bb86-a819636e529a",
   "metadata": {},
   "outputs": [
    {
     "data": {
      "text/plain": [
       "set()"
      ]
     },
     "execution_count": 9,
     "metadata": {},
     "output_type": "execute_result"
    }
   ],
   "source": [
    "st_6"
   ]
  },
  {
   "cell_type": "markdown",
   "id": "cf793ff4-8e84-42f8-a32e-a0cdaa1458cb",
   "metadata": {},
   "source": [
    "### 7. Create a set of even numbers from 1 to 10."
   ]
  },
  {
   "cell_type": "code",
   "execution_count": 7,
   "id": "c3defd85-3e0f-4ccc-94fa-bcca34368c16",
   "metadata": {},
   "outputs": [
    {
     "data": {
      "text/plain": [
       "{4, 8}"
      ]
     },
     "execution_count": 7,
     "metadata": {},
     "output_type": "execute_result"
    }
   ],
   "source": [
    "st_7 = {7,5,4,8,9}\n",
    "st_7_1 = set()\n",
    "for i in st_7:\n",
    "    if i%2 == 0:\n",
    "        st_7_1.add(i)\n",
    "    else:\n",
    "        continue\n",
    "st_7_1"
   ]
  },
  {
   "cell_type": "markdown",
   "id": "4f42f06e-9728-4deb-927b-5912118d25f8",
   "metadata": {},
   "source": [
    "### 8. Create a set of odd numbers from 1 to 10."
   ]
  },
  {
   "cell_type": "code",
   "execution_count": 6,
   "id": "2a0807bf-4095-40ac-9f84-bf5f2c4c4eab",
   "metadata": {},
   "outputs": [
    {
     "data": {
      "text/plain": [
       "{5, 7, 9}"
      ]
     },
     "execution_count": 6,
     "metadata": {},
     "output_type": "execute_result"
    }
   ],
   "source": [
    "st_8 = {7,5,4,8,9}\n",
    "st_8_1 = set()\n",
    "for i in st_8:\n",
    "    if i%2 != 0:\n",
    "        st_8_1.add(i)\n",
    "    else:\n",
    "        continue\n",
    "st_8_1"
   ]
  },
  {
   "cell_type": "markdown",
   "id": "5c960d2b-4a49-4cca-a7fe-f8fb73464f20",
   "metadata": {},
   "source": [
    "### 9. Find the union of two sets."
   ]
  },
  {
   "cell_type": "code",
   "execution_count": 8,
   "id": "4d1da72f-8526-424e-87d7-1b658bd04d38",
   "metadata": {},
   "outputs": [
    {
     "data": {
      "text/plain": [
       "{1, 2, 3, 4, 5, 6}"
      ]
     },
     "execution_count": 8,
     "metadata": {},
     "output_type": "execute_result"
    }
   ],
   "source": [
    "st_9 = {1,2,3}\n",
    "st_9_1 = {4,5,6}\n",
    "st_9_2 = st_9.union(st_9_1)\n",
    "st_9_2"
   ]
  },
  {
   "cell_type": "markdown",
   "id": "d458b31b-b7b5-4545-a7e5-0312addba774",
   "metadata": {},
   "source": [
    "### 10. Find the intersection of two sets."
   ]
  },
  {
   "cell_type": "code",
   "execution_count": 10,
   "id": "2d00bf82-29bf-4137-afdd-b147bf0f529d",
   "metadata": {},
   "outputs": [
    {
     "data": {
      "text/plain": [
       "{3}"
      ]
     },
     "execution_count": 10,
     "metadata": {},
     "output_type": "execute_result"
    }
   ],
   "source": [
    "st_10 = {1,2,3}\n",
    "st_10_1 = {4,5,6,3}\n",
    "st_10_2 = st_10.intersection(st_10_1)\n",
    "st_10_2"
   ]
  },
  {
   "cell_type": "markdown",
   "id": "13cb2601-5b7b-4459-893e-5cb05a0b3cd2",
   "metadata": {},
   "source": [
    "### 11. Find the difference between two sets."
   ]
  },
  {
   "cell_type": "code",
   "execution_count": 11,
   "id": "24c15ecd-cc79-48fd-b6c7-0dbef304296c",
   "metadata": {},
   "outputs": [
    {
     "data": {
      "text/plain": [
       "{3, 4}"
      ]
     },
     "execution_count": 11,
     "metadata": {},
     "output_type": "execute_result"
    }
   ],
   "source": [
    "st_11 = {1,2,3,4}\n",
    "st_11_1 = {1,2}\n",
    "st_11.difference(st_11_1)"
   ]
  },
  {
   "cell_type": "markdown",
   "id": "979784e9-7567-4293-a698-df59b020d26f",
   "metadata": {},
   "source": [
    "### 12. Check if a set is a subset of another set."
   ]
  },
  {
   "cell_type": "code",
   "execution_count": 12,
   "id": "2bec1fd2-f407-46da-8fb8-c37d61241733",
   "metadata": {},
   "outputs": [
    {
     "data": {
      "text/plain": [
       "True"
      ]
     },
     "execution_count": 12,
     "metadata": {},
     "output_type": "execute_result"
    }
   ],
   "source": [
    "st_12 = {1,2,3,4}\n",
    "st_12_1 = {1,2}\n",
    "st_12_1.issubset(st_12)"
   ]
  },
  {
   "cell_type": "markdown",
   "id": "4e73ca2c-b865-41de-a6a9-765d3279962b",
   "metadata": {},
   "source": [
    "### 13. Check if a set is a superset of another set."
   ]
  },
  {
   "cell_type": "code",
   "execution_count": 14,
   "id": "11fdf058-e5c7-4517-861b-ed4a35c285ee",
   "metadata": {},
   "outputs": [
    {
     "data": {
      "text/plain": [
       "True"
      ]
     },
     "execution_count": 14,
     "metadata": {},
     "output_type": "execute_result"
    }
   ],
   "source": [
    "st_13 = {1,2,3,4}\n",
    "st_13_1 = {1,2}\n",
    "st_13.issuperset(st_13_1)"
   ]
  },
  {
   "cell_type": "markdown",
   "id": "fe33d82a-4fe8-49fd-8439-46499f8c631a",
   "metadata": {},
   "source": [
    "### 14. Create a set from a list."
   ]
  },
  {
   "cell_type": "code",
   "execution_count": 15,
   "id": "cfb95196-f97c-411f-bd20-acc06c09e253",
   "metadata": {},
   "outputs": [
    {
     "data": {
      "text/plain": [
       "{1, 2, 3, 4}"
      ]
     },
     "execution_count": 15,
     "metadata": {},
     "output_type": "execute_result"
    }
   ],
   "source": [
    "l_14_14 = [1,2,3,4]\n",
    "st_14 = set(l_14_14)\n",
    "st_14"
   ]
  },
  {
   "cell_type": "markdown",
   "id": "ba0f6cba-5247-4089-82c4-987093fa94db",
   "metadata": {},
   "source": [
    "### 15. Convert a set to a list."
   ]
  },
  {
   "cell_type": "code",
   "execution_count": 16,
   "id": "095bf0bd-7544-4ae2-82a1-c0805eae115b",
   "metadata": {},
   "outputs": [
    {
     "data": {
      "text/plain": [
       "[1, 2, 3, 4]"
      ]
     },
     "execution_count": 16,
     "metadata": {},
     "output_type": "execute_result"
    }
   ],
   "source": [
    "st_15 = {1, 2, 3, 4}\n",
    "l_15_15 = list(st_15)\n",
    "l_15_15"
   ]
  },
  {
   "cell_type": "markdown",
   "id": "8ecd9a8e-b1a7-4602-95df-ac6b66c70b6f",
   "metadata": {},
   "source": [
    "### 16. Remove a random element from a set."
   ]
  },
  {
   "cell_type": "code",
   "execution_count": 18,
   "id": "7a55f8b7-54d1-458c-89c3-852856dfec3e",
   "metadata": {},
   "outputs": [
    {
     "data": {
      "text/plain": [
       "1"
      ]
     },
     "execution_count": 18,
     "metadata": {},
     "output_type": "execute_result"
    }
   ],
   "source": [
    "st_16 = {1, 2, 3, 4}\n",
    "st_16.pop()"
   ]
  },
  {
   "cell_type": "markdown",
   "id": "02b60f60-c569-409c-8e60-f828ec18c588",
   "metadata": {},
   "source": [
    "### 17. Pop an element from a set."
   ]
  },
  {
   "cell_type": "code",
   "execution_count": 20,
   "id": "1d8ff73e-6ec8-4b05-bef9-ca0ccad94357",
   "metadata": {},
   "outputs": [
    {
     "data": {
      "text/plain": [
       "{1, 3, 4}"
      ]
     },
     "execution_count": 20,
     "metadata": {},
     "output_type": "execute_result"
    }
   ],
   "source": [
    "st_17 = {1, 2, 3, 4}\n",
    "st_17.remove(2)\n",
    "st_17"
   ]
  },
  {
   "cell_type": "markdown",
   "id": "96f2b867-5d18-4842-bba6-9d238447f4f6",
   "metadata": {},
   "source": [
    "### 18. Check if two sets have no elements in common."
   ]
  },
  {
   "cell_type": "code",
   "execution_count": 21,
   "id": "088b2665-7896-4e24-841d-58c3b3a1158e",
   "metadata": {},
   "outputs": [
    {
     "data": {
      "text/plain": [
       "{1, 3, 4}"
      ]
     },
     "execution_count": 21,
     "metadata": {},
     "output_type": "execute_result"
    }
   ],
   "source": [
    "st_18_1 = {1, 3, 4}\n",
    "st_18_2 = {1, 2, 3, 4}\n",
    "st_18_1.intersection(st_18_2)"
   ]
  },
  {
   "cell_type": "markdown",
   "id": "09b91997-877c-484a-a053-e999838725c1",
   "metadata": {},
   "source": [
    "### 19. Find the symmetric difference between two sets."
   ]
  },
  {
   "cell_type": "code",
   "execution_count": 23,
   "id": "69662b56-312b-45dd-91a1-d06081f5f839",
   "metadata": {},
   "outputs": [
    {
     "data": {
      "text/plain": [
       "{2, 5}"
      ]
     },
     "execution_count": 23,
     "metadata": {},
     "output_type": "execute_result"
    }
   ],
   "source": [
    "st_19_1 = {1, 3, 4,5}\n",
    "st_19_2 = {1, 2, 3, 4}\n",
    "st_19_1.symmetric_difference(st_19_2)"
   ]
  },
  {
   "cell_type": "markdown",
   "id": "2c5ea178-f296-4756-99f7-45a0dcb6edc5",
   "metadata": {},
   "source": [
    "### 20. Update a set with elements from another set."
   ]
  },
  {
   "cell_type": "code",
   "execution_count": 26,
   "id": "a86b9551-df56-441b-b25a-55fb0384c547",
   "metadata": {},
   "outputs": [
    {
     "data": {
      "text/plain": [
       "{1, 2, 3, 4, 5, 7}"
      ]
     },
     "execution_count": 26,
     "metadata": {},
     "output_type": "execute_result"
    }
   ],
   "source": [
    "st_20_1 = {7,5}\n",
    "st_20_2 = {1, 2, 3, 4}\n",
    "st_20_1.update(st_20_2)\n",
    "st_20_1"
   ]
  },
  {
   "cell_type": "markdown",
   "id": "11806157-949f-45b4-8928-a6b62977b47b",
   "metadata": {},
   "source": [
    "### 21. Create a set of the first 5 prime numbers."
   ]
  },
  {
   "cell_type": "code",
   "execution_count": null,
   "id": "1ccdb3ad-9472-427e-9652-debc1be25a8c",
   "metadata": {},
   "outputs": [],
   "source": []
  },
  {
   "cell_type": "markdown",
   "id": "6e348fdf-c4ad-434d-97d1-39e292c2d1b4",
   "metadata": {},
   "source": [
    "### 22. Check if two sets are identical."
   ]
  },
  {
   "cell_type": "code",
   "execution_count": 29,
   "id": "71b45f91-d184-4a31-9037-a9f64e07cb5b",
   "metadata": {},
   "outputs": [
    {
     "name": "stdout",
     "output_type": "stream",
     "text": [
      "The sets are not identical\n"
     ]
    }
   ],
   "source": [
    "st_20_1 = {7,5}\n",
    "st_20_2 = {1, 2, 3, 4}\n",
    "if st_20_1 == st_20_2:\n",
    "    print('The sets are identical')\n",
    "else:\n",
    "    print('The sets are not identical')"
   ]
  },
  {
   "cell_type": "markdown",
   "id": "1eeccf54-8322-4ed3-8755-230279f9add6",
   "metadata": {},
   "source": [
    "### 23. Create a frozen set."
   ]
  },
  {
   "cell_type": "code",
   "execution_count": 45,
   "id": "5ae111f0-450f-40dd-acd5-78505aafeb0a",
   "metadata": {},
   "outputs": [
    {
     "name": "stdout",
     "output_type": "stream",
     "text": [
      "frozenset({'e', 'i', 'u', 'o', 'a'})\n"
     ]
    },
    {
     "ename": "AttributeError",
     "evalue": "'frozenset' object has no attribute 'add'",
     "output_type": "error",
     "traceback": [
      "\u001b[0;31m---------------------------------------------------------------------------\u001b[0m",
      "\u001b[0;31mAttributeError\u001b[0m                            Traceback (most recent call last)",
      "Cell \u001b[0;32mIn[45], line 4\u001b[0m\n\u001b[1;32m      2\u001b[0m fst_23 \u001b[38;5;241m=\u001b[39m \u001b[38;5;28mfrozenset\u001b[39m(vowels)\n\u001b[1;32m      3\u001b[0m \u001b[38;5;28mprint\u001b[39m(fst_23)\n\u001b[0;32m----> 4\u001b[0m \u001b[43mfst_23\u001b[49m\u001b[38;5;241;43m.\u001b[39;49m\u001b[43madd\u001b[49m(\u001b[38;5;124m'\u001b[39m\u001b[38;5;124me\u001b[39m\u001b[38;5;124m'\u001b[39m)\n",
      "\u001b[0;31mAttributeError\u001b[0m: 'frozenset' object has no attribute 'add'"
     ]
    }
   ],
   "source": [
    "vowels = ('a', 'e', 'i', 'o', 'u')\n",
    "fst_23 = frozenset(vowels)\n",
    "print(fst_23)\n",
    "fst_23.add('e')"
   ]
  },
  {
   "cell_type": "markdown",
   "id": "806da6db-58f2-4612-9ef7-968c1c04aeca",
   "metadata": {},
   "source": [
    "### 24. Check if a set is disjoint with another set."
   ]
  },
  {
   "cell_type": "code",
   "execution_count": 31,
   "id": "b86cf0cd-a0bd-4c11-923d-8d746af7883c",
   "metadata": {},
   "outputs": [
    {
     "data": {
      "text/plain": [
       "False"
      ]
     },
     "execution_count": 31,
     "metadata": {},
     "output_type": "execute_result"
    }
   ],
   "source": [
    "st_24_1 = {7,5,3}\n",
    "st_24_2 = {1, 2, 3, 4}\n",
    "st_24_1.isdisjoint(st_24_2)"
   ]
  },
  {
   "cell_type": "markdown",
   "id": "2c6a1a8d-b300-4058-bca4-15e082745a96",
   "metadata": {},
   "source": [
    "### 25. Create a set of squares of numbers from 1 to 5."
   ]
  },
  {
   "cell_type": "code",
   "execution_count": 5,
   "id": "741cf463-01de-40fe-8683-f781ff8a6148",
   "metadata": {},
   "outputs": [
    {
     "data": {
      "text/plain": [
       "{1, 4, 9, 16, 25}"
      ]
     },
     "execution_count": 5,
     "metadata": {},
     "output_type": "execute_result"
    }
   ],
   "source": [
    "st_25 = set(range(1,6))\n",
    "st_25_1 = set()\n",
    "for i in st_25:\n",
    "    st_25_1.add(i**2)\n",
    "st_25_1"
   ]
  },
  {
   "cell_type": "markdown",
   "id": "e13f8103-2e13-40de-a6aa-b37876c0099c",
   "metadata": {},
   "source": [
    "### 26. Filter out all even numbers from a set."
   ]
  },
  {
   "cell_type": "code",
   "execution_count": 4,
   "id": "8d05f0d0-6a67-4f28-985d-50420ac8f25c",
   "metadata": {},
   "outputs": [
    {
     "data": {
      "text/plain": [
       "{2, 4}"
      ]
     },
     "execution_count": 4,
     "metadata": {},
     "output_type": "execute_result"
    }
   ],
   "source": [
    "st_26 = {1,2,3,4,5}\n",
    "st_26_1 = set()\n",
    "for i in st_26:\n",
    "    if i%2==0:\n",
    "        st_26_1.add(i)\n",
    "    else:\n",
    "        continue\n",
    "st_26_1"
   ]
  },
  {
   "cell_type": "markdown",
   "id": "a34c18aa-e8a4-428e-8764-e60c09e98143",
   "metadata": {},
   "source": [
    "### 27. Multiply all elements in a set by 2."
   ]
  },
  {
   "cell_type": "code",
   "execution_count": 3,
   "id": "acaeec86-25fa-4503-a742-bc7a1ba96333",
   "metadata": {},
   "outputs": [
    {
     "data": {
      "text/plain": [
       "{6, 10, 14}"
      ]
     },
     "execution_count": 3,
     "metadata": {},
     "output_type": "execute_result"
    }
   ],
   "source": [
    "st_27 = {7,5,3}\n",
    "st_27_1 = set()\n",
    "for i in st_27:\n",
    "    st_27_1.add(i*2)\n",
    "st_27_1"
   ]
  },
  {
   "cell_type": "markdown",
   "id": "0c9a7421-9942-4e36-9f6c-bd07806180b2",
   "metadata": {},
   "source": [
    "### 28. Create a set of random numbers."
   ]
  },
  {
   "cell_type": "code",
   "execution_count": 39,
   "id": "e8799ed8-253a-4546-8519-3cf274f7affa",
   "metadata": {},
   "outputs": [
    {
     "data": {
      "text/plain": [
       "{12, 15, 20, 21, 22, 27}"
      ]
     },
     "execution_count": 39,
     "metadata": {},
     "output_type": "execute_result"
    }
   ],
   "source": [
    "import random\n",
    "l_28_28 = random.sample(range(10, 31), 6)\n",
    "st_28 = set(l_28_28)\n",
    "st_28"
   ]
  },
  {
   "cell_type": "markdown",
   "id": "cf784a82-c5f2-4413-bcc4-ac3aeef406bf",
   "metadata": {},
   "source": [
    "### 29. Check if a set is empty."
   ]
  },
  {
   "cell_type": "code",
   "execution_count": 2,
   "id": "4f9e88af-fdf2-44eb-a267-f223c08d688d",
   "metadata": {},
   "outputs": [
    {
     "name": "stdout",
     "output_type": "stream",
     "text": [
      "The set is empty\n"
     ]
    }
   ],
   "source": [
    "st_29 = {}\n",
    "if len(st_29) == 0:\n",
    "    print('The set is empty')\n",
    "else:\n",
    "    print('The set is not empty')"
   ]
  },
  {
   "cell_type": "markdown",
   "id": "eef951b7-9511-4c06-9af0-631251603287",
   "metadata": {},
   "source": [
    "### 30. Create a nested set (hint: use frozenset)."
   ]
  },
  {
   "cell_type": "code",
   "execution_count": null,
   "id": "eac68692-439d-4670-8ecc-0f818d5f45e8",
   "metadata": {},
   "outputs": [],
   "source": []
  },
  {
   "cell_type": "markdown",
   "id": "e94721aa-302d-41fa-a23f-bf26aaa89373",
   "metadata": {},
   "source": [
    "### 31. Remove an element from a set using the discard method."
   ]
  },
  {
   "cell_type": "code",
   "execution_count": 47,
   "id": "dcec7087-ab27-48eb-8b7b-e1991b128b87",
   "metadata": {},
   "outputs": [
    {
     "data": {
      "text/plain": [
       "{12, 20, 21, 22, 27}"
      ]
     },
     "execution_count": 47,
     "metadata": {},
     "output_type": "execute_result"
    }
   ],
   "source": [
    "st_31 = {12, 15, 20, 21, 22, 27}\n",
    "st_31.discard(15)\n",
    "st_31"
   ]
  },
  {
   "cell_type": "markdown",
   "id": "62e2def6-c044-47e4-89c6-987962e6f077",
   "metadata": {},
   "source": [
    "### 32. Compare two sets."
   ]
  },
  {
   "cell_type": "code",
   "execution_count": null,
   "id": "e9b490ac-a531-49ef-9823-da27222c7c7a",
   "metadata": {},
   "outputs": [],
   "source": []
  },
  {
   "cell_type": "markdown",
   "id": "cf36a793-50ed-4ae8-9f90-bc2e66285f57",
   "metadata": {},
   "source": [
    "### 33. Create a set from a string."
   ]
  },
  {
   "cell_type": "code",
   "execution_count": 48,
   "id": "33ee98c4-3663-4d30-a81a-7de746b859b5",
   "metadata": {},
   "outputs": [
    {
     "data": {
      "text/plain": [
       "{'b', 'e', 'i', 'l', 'o', 'p', 's'}"
      ]
     },
     "execution_count": 48,
     "metadata": {},
     "output_type": "execute_result"
    }
   ],
   "source": [
    "str_33 = 'possible'\n",
    "st_33 = set(str_33)\n",
    "st_33"
   ]
  },
  {
   "cell_type": "markdown",
   "id": "0f725d00-7d3f-43c2-9b0f-6bc8c5dcee13",
   "metadata": {},
   "source": [
    "### 34. Convert a set of strings to a set of integers."
   ]
  },
  {
   "cell_type": "code",
   "execution_count": 9,
   "id": "4e35304b-13fc-4c1b-ae35-ae329158b141",
   "metadata": {},
   "outputs": [
    {
     "data": {
      "text/plain": [
       "{1, 4, 9, 16, 25}"
      ]
     },
     "execution_count": 9,
     "metadata": {},
     "output_type": "execute_result"
    }
   ],
   "source": [
    "st_str_34 = {'1', '4', '9', '16', '25'}\n",
    "st_i_34 = set()\n",
    "for i in st_str_34:\n",
    "    st_i_34.add(int(i))\n",
    "st_i_34"
   ]
  },
  {
   "cell_type": "markdown",
   "id": "f77b00b1-eec5-4364-8d8a-9004df1cd426",
   "metadata": {},
   "source": [
    "### 35. Convert a set of integers to a set of strings."
   ]
  },
  {
   "cell_type": "code",
   "execution_count": 8,
   "id": "91a1e103-d9aa-4609-967a-c2acc369ae53",
   "metadata": {},
   "outputs": [
    {
     "data": {
      "text/plain": [
       "{'1', '16', '25', '4', '9'}"
      ]
     },
     "execution_count": 8,
     "metadata": {},
     "output_type": "execute_result"
    }
   ],
   "source": [
    "st_i_35 = {1, 4, 9, 16, 25}\n",
    "st_str_35 = set()\n",
    "for i in st_i_35:\n",
    "    st_str_35.add(str(i))\n",
    "st_str_35"
   ]
  },
  {
   "cell_type": "markdown",
   "id": "78f6b96b-4dd9-484a-87d5-e6cef54ba3b7",
   "metadata": {},
   "source": [
    "### 36. Create a set from a tuple."
   ]
  },
  {
   "cell_type": "code",
   "execution_count": 57,
   "id": "b35f8a37-307f-4520-bf68-ca07bb4f7db4",
   "metadata": {},
   "outputs": [
    {
     "data": {
      "text/plain": [
       "{1, 2, 8}"
      ]
     },
     "execution_count": 57,
     "metadata": {},
     "output_type": "execute_result"
    }
   ],
   "source": [
    "t_36_36 = (1,2,8,8)\n",
    "st_36 = set(t_36_36)\n",
    "st_36"
   ]
  },
  {
   "cell_type": "markdown",
   "id": "ac24c44a-c94b-4ece-98ef-7c28f3582045",
   "metadata": {},
   "source": [
    "### 37. Convert a set to a tuple."
   ]
  },
  {
   "cell_type": "code",
   "execution_count": 58,
   "id": "3b3208d1-0ab3-4bcd-a13e-87b67d8f2c00",
   "metadata": {},
   "outputs": [
    {
     "data": {
      "text/plain": [
       "(8, 1, 2)"
      ]
     },
     "execution_count": 58,
     "metadata": {},
     "output_type": "execute_result"
    }
   ],
   "source": [
    "st_37 = {1,2,8}\n",
    "t_37_37 = tuple(st_37)\n",
    "t_37_37"
   ]
  },
  {
   "cell_type": "markdown",
   "id": "bca57801-a30a-43b3-9782-8955cdf0bf24",
   "metadata": {},
   "source": [
    "### 38. Find the maximum value in a set."
   ]
  },
  {
   "cell_type": "code",
   "execution_count": 59,
   "id": "167ba552-dd07-4cc6-8095-e66ab1f80bbf",
   "metadata": {},
   "outputs": [
    {
     "data": {
      "text/plain": [
       "8"
      ]
     },
     "execution_count": 59,
     "metadata": {},
     "output_type": "execute_result"
    }
   ],
   "source": [
    "st_38 = {1,2,8}\n",
    "max(st_38)"
   ]
  },
  {
   "cell_type": "markdown",
   "id": "9c1d9608-db77-4d45-9289-7ce77b228bdc",
   "metadata": {},
   "source": [
    "### 39. Find the minimum value in a set."
   ]
  },
  {
   "cell_type": "code",
   "execution_count": 60,
   "id": "99d859a7-d32d-4e0f-aa4f-ab72c26cba3b",
   "metadata": {},
   "outputs": [
    {
     "data": {
      "text/plain": [
       "1"
      ]
     },
     "execution_count": 60,
     "metadata": {},
     "output_type": "execute_result"
    }
   ],
   "source": [
    "st_39 = {1,2,8}\n",
    "min(st_39)"
   ]
  },
  {
   "cell_type": "markdown",
   "id": "eb1cd06b-e148-4211-8764-3d37686bf3bc",
   "metadata": {},
   "source": [
    "### 40. Create a set from user input."
   ]
  },
  {
   "cell_type": "code",
   "execution_count": 35,
   "id": "109ffe28-01b3-4e79-aa1b-0c4ee849d032",
   "metadata": {},
   "outputs": [
    {
     "name": "stdin",
     "output_type": "stream",
     "text": [
      "Enter the next element of the set: (if not press #) 3\n",
      "Enter the next element of the set: (if not press #) 4\n",
      "Enter the next element of the set: (if not press #) #\n"
     ]
    },
    {
     "data": {
      "text/plain": [
       "{'3', '4'}"
      ]
     },
     "execution_count": 35,
     "metadata": {},
     "output_type": "execute_result"
    }
   ],
   "source": [
    "inpt_40 = input('Enter the next element of the set: (if not press #)')\n",
    "st_40 = set()\n",
    "while inpt_40 != '#':\n",
    "    st_40.add(inpt_40)\n",
    "    if inpt_40 == '#':\n",
    "        break\n",
    "    else:\n",
    "        inpt_40 = input('Enter the next element of the set: (if not press #)')\n",
    "st_40"
   ]
  },
  {
   "cell_type": "markdown",
   "id": "3adb75a5-eaad-4b1e-bec1-d354fc835b3a",
   "metadata": {},
   "source": [
    "### 41. Check if the intersection of two sets is empty."
   ]
  },
  {
   "cell_type": "code",
   "execution_count": 24,
   "id": "38a00f2a-5a00-4643-a9b3-3035b5b854ca",
   "metadata": {},
   "outputs": [
    {
     "name": "stdout",
     "output_type": "stream",
     "text": [
      "The intersection of the two sets is {'api'}\n",
      "There is no common elements in the two sets {1, 2, 3, 4, 'api'} and {5, 6, 7}\n"
     ]
    }
   ],
   "source": [
    "st_41 = {1,2,3,4,'api'}\n",
    "st_41_1 = {'api'}\n",
    "st_41_2 = {5,6,7}\n",
    "if st_41.intersection(st_41_1) == set():\n",
    "    print(f'There is no common elements in the two sets {st_41} and {st_41_1}')\n",
    "else:\n",
    "    print(f'The intersection of the two sets is {st_41.intersection(st_41_1)}')\n",
    "\n",
    "if st_41.intersection(st_41_2) == set():\n",
    "    print(f'There is no common elements in the two sets {st_41} and {st_41_2}')\n",
    "else:\n",
    "    print(f'The intersection of the two sets is {st_41.intersection(st_41_2)}')\n"
   ]
  },
  {
   "cell_type": "markdown",
   "id": "c93ac020-a65f-4a58-b632-535792c02931",
   "metadata": {},
   "source": [
    "### 42. Create a set of the first 5 Fibonacci numbers."
   ]
  },
  {
   "cell_type": "code",
   "execution_count": 21,
   "id": "fe7aeac5-8f21-4eac-ae23-9285f258886b",
   "metadata": {},
   "outputs": [
    {
     "name": "stdin",
     "output_type": "stream",
     "text": [
      " 6\n"
     ]
    },
    {
     "name": "stdout",
     "output_type": "stream",
     "text": [
      "{0, 1, 2, 3, 5}\n"
     ]
    }
   ],
   "source": [
    "#It can be clearly seen that a set of fibonacci series cannot be created for \n",
    "#first five of them as one appears two times as evident from the code output \n",
    "#and the fact that a set cannot have duplicate elements\n",
    "l_42_42 = []\n",
    "nth_42_s = int(input())\n",
    "a_3 = 0    \n",
    "b_3 = 1    \n",
    "for i in range(0,nth_42_s):  \n",
    "    l_42_42.append(a_3)\n",
    "    c_3 = a_3 + b_3\n",
    "    a_3 = b_3\n",
    "    b_3 = c_3\n",
    "print(set(l_42_42))"
   ]
  },
  {
   "cell_type": "markdown",
   "id": "68ffb600-2578-41a8-9eb5-372f38da1126",
   "metadata": {},
   "source": [
    "### 43. Remove duplicates from a list using sets."
   ]
  },
  {
   "cell_type": "code",
   "execution_count": 10,
   "id": "6e2a6945-be4a-4b82-ba2c-7dd6bfd4bd4f",
   "metadata": {},
   "outputs": [
    {
     "data": {
      "text/plain": [
       "{2, 4, 5, 6}"
      ]
     },
     "execution_count": 10,
     "metadata": {},
     "output_type": "execute_result"
    }
   ],
   "source": [
    "l_43_43 = [2,4,5,6,6,5]\n",
    "st_43 = set(l_43_43)\n",
    "l_43_43 = st_43\n",
    "l_43_43"
   ]
  },
  {
   "cell_type": "markdown",
   "id": "29500613-a9a6-4715-9d47-73e2c7808ceb",
   "metadata": {},
   "source": [
    "### 44. Check if two sets have the same elements, regardless of their count."
   ]
  },
  {
   "cell_type": "code",
   "execution_count": 38,
   "id": "cfe1f01a-a398-4653-b114-68644694b3db",
   "metadata": {},
   "outputs": [
    {
     "name": "stdout",
     "output_type": "stream",
     "text": [
      "Two sets have same elements\n",
      "The sets donot have same elements\n"
     ]
    }
   ],
   "source": [
    "st_44 = {1,2,3}\n",
    "st_44_1 = {1,2,3}\n",
    "st_44_2 = {1,2,4,5}\n",
    "if len(st_44) == len(st_44_1):\n",
    "    if st_44.intersection(st_44_1) == st_44:\n",
    "        print('Two sets have same elements')\n",
    "    else:\n",
    "        print('The sets donot have same elements although same length')\n",
    "else:\n",
    "    print('The sets donot have same elements')\n",
    "    \n",
    "if len(st_44) == len(st_44_2):\n",
    "    if st_44.intersection(st_44_2) == st_44:\n",
    "        print('Two sets have same elements')\n",
    "    else:\n",
    "        print('The sets donot have same elements although same length')\n",
    "else:\n",
    "    print('The sets donot have same elements')"
   ]
  },
  {
   "cell_type": "markdown",
   "id": "43ea61c5-4810-43ea-b338-76062f0fe251",
   "metadata": {},
   "source": [
    "### 45. Create a set of the first `n` powers of 2."
   ]
  },
  {
   "cell_type": "code",
   "execution_count": null,
   "id": "616e304c-73c8-4646-aecc-2a979f2e4130",
   "metadata": {},
   "outputs": [],
   "source": [
    "st_45 = range(1,nth_st+1)\n",
    "\n",
    "for i in st_45:\n",
    "    l_45.add(i**2)\n",
    "\n",
    "st_45"
   ]
  },
  {
   "cell_type": "markdown",
   "id": "79943e44-9c0b-4cb2-ad2f-97b296fffc7a",
   "metadata": {},
   "source": [
    "### 46. Find the common elements between a set and a list."
   ]
  },
  {
   "cell_type": "code",
   "execution_count": 22,
   "id": "7e87c826-532a-490f-beb6-75918e3144c7",
   "metadata": {},
   "outputs": [
    {
     "name": "stdout",
     "output_type": "stream",
     "text": [
      "{1, 2} are the elements in common\n"
     ]
    }
   ],
   "source": [
    "st_46 = {1,2,3,4}\n",
    "l_46_46 = [1,2,5,7]\n",
    "st_46_1 = set(l_46_46)\n",
    "if st_46.intersection(st_46_1) == set():\n",
    "    print(f'The given set {st_46} and list {l_46_46} have nothing in common')\n",
    "else:\n",
    "    print(f'{st_46.intersection(st_46_1)} are the elements in common')"
   ]
  },
  {
   "cell_type": "markdown",
   "id": "76c3ed35-b494-4abf-81b1-63ece449473c",
   "metadata": {},
   "source": [
    "### 47. Create a set of the first `n` triangular numbers."
   ]
  },
  {
   "cell_type": "code",
   "execution_count": 27,
   "id": "ac3a0d1e-f384-4463-8457-3c66c681fc33",
   "metadata": {},
   "outputs": [
    {
     "name": "stdin",
     "output_type": "stream",
     "text": [
      " 7\n"
     ]
    },
    {
     "data": {
      "text/plain": [
       "{1, 3, 6, 10, 15, 21, 28}"
      ]
     },
     "execution_count": 27,
     "metadata": {},
     "output_type": "execute_result"
    }
   ],
   "source": [
    "st_47 = set()\n",
    "nth_47 = int(input())\n",
    "k=0\n",
    "for i in range(1,nth_47+1):\n",
    "    for j in range(0,i+1):\n",
    "        k+=j\n",
    "    st_47.add(k)\n",
    "    k=0\n",
    "st_47"
   ]
  },
  {
   "cell_type": "markdown",
   "id": "2948d441-637b-4107-8e41-64a8554c601d",
   "metadata": {},
   "source": [
    "### 48. Check if a set contains another set as a subset."
   ]
  },
  {
   "cell_type": "markdown",
   "id": "83957e54-f6ad-4a45-84de-2866b5cded1c",
   "metadata": {},
   "source": [
    "#### ANSWER A set of sets does not work"
   ]
  },
  {
   "cell_type": "code",
   "execution_count": 32,
   "id": "cc36a453-1970-4adb-98fc-94588179c84a",
   "metadata": {},
   "outputs": [
    {
     "ename": "TypeError",
     "evalue": "unhashable type: 'set'",
     "output_type": "error",
     "traceback": [
      "\u001b[0;31m---------------------------------------------------------------------------\u001b[0m",
      "\u001b[0;31mTypeError\u001b[0m                                 Traceback (most recent call last)",
      "Cell \u001b[0;32mIn[32], line 1\u001b[0m\n\u001b[0;32m----> 1\u001b[0m st_48 \u001b[38;5;241m=\u001b[39m {\u001b[38;5;241m2\u001b[39m,{\u001b[38;5;241m7\u001b[39m,\u001b[38;5;241m4\u001b[39m},\u001b[38;5;241m3\u001b[39m}\n\u001b[1;32m      2\u001b[0m count_sub \u001b[38;5;241m=\u001b[39m []\n\u001b[1;32m      3\u001b[0m \u001b[38;5;28;01mfor\u001b[39;00m i \u001b[38;5;129;01min\u001b[39;00m st_48:\n",
      "\u001b[0;31mTypeError\u001b[0m: unhashable type: 'set'"
     ]
    }
   ],
   "source": [
    "st_48 = {2,{7,4},3}\n",
    "count_sub = []\n",
    "for i in st_48:\n",
    "    if type(i) == set:\n",
    "        count_sub.append(True)\n",
    "    else:\n",
    "        count_sub.append(False)\n",
    "        \n",
    "if any(count_sub):\n",
    "    print('there is a subset in the original set')\n",
    "else:\n",
    "    print('there is not any subset in the original set')    "
   ]
  },
  {
   "cell_type": "markdown",
   "id": "5a98f098-db18-4541-9edc-fb32886fa825",
   "metadata": {},
   "source": [
    "### 49. Create a set of alternating 1s and 0s of length `n`."
   ]
  },
  {
   "cell_type": "markdown",
   "id": "58c9db6d-5142-430c-8444-ae23226adda4",
   "metadata": {},
   "source": [
    "#### ANSWER not possible as set would not support duplicate elements"
   ]
  },
  {
   "cell_type": "markdown",
   "id": "a2ef92eb-8d4c-4442-a4f4-471b597646ad",
   "metadata": {},
   "source": [
    "### 50. Merge multiple sets into one."
   ]
  },
  {
   "cell_type": "code",
   "execution_count": 2,
   "id": "6e9f89ef-bf16-4924-bcfc-517855348e5c",
   "metadata": {},
   "outputs": [
    {
     "data": {
      "text/plain": [
       "{1, 1.728, 2, 3, 4, 'I', 'think'}"
      ]
     },
     "execution_count": 2,
     "metadata": {},
     "output_type": "execute_result"
    }
   ],
   "source": [
    "st_50 = set()\n",
    "st_50_1 = {1,2}\n",
    "st_50_2 = {3,4}\n",
    "st_50_3 = {'I', \"think\"}\n",
    "st_50_4 = {1.728, 1.0}\n",
    "st_50.union(st_50_1, st_50_2, st_50_3, st_50_4)"
   ]
  },
  {
   "cell_type": "markdown",
   "id": "0453fa4d-2ef2-4e48-90b2-28d4fd5dea0c",
   "metadata": {},
   "source": [
    "###### Assignment submitted by Lalit Kumar Dated: 28-08-2023"
   ]
  }
 ],
 "metadata": {
  "kernelspec": {
   "display_name": "Python 3 (ipykernel)",
   "language": "python",
   "name": "python3"
  },
  "language_info": {
   "codemirror_mode": {
    "name": "ipython",
    "version": 3
   },
   "file_extension": ".py",
   "mimetype": "text/x-python",
   "name": "python",
   "nbconvert_exporter": "python",
   "pygments_lexer": "ipython3",
   "version": "3.10.8"
  }
 },
 "nbformat": 4,
 "nbformat_minor": 5
}
