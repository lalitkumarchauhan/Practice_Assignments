{
 "cells": [
  {
   "cell_type": "markdown",
   "id": "8ec8fca4-a905-454d-b9b9-b0824bc6adc3",
   "metadata": {},
   "source": [
    "# Python Basics: Assignment Question"
   ]
  },
  {
   "cell_type": "markdown",
   "id": "d98a0c2c-c85c-4667-aa29-e1984c58167c",
   "metadata": {},
   "source": [
    "# TOPIC: Python Basics Variable"
   ]
  },
  {
   "cell_type": "markdown",
   "id": "15585290-99b0-41d4-b6f2-4d941e1c74fe",
   "metadata": {},
   "source": [
    "# 1. Declare two variables, `x` and `y`, and assign them integer values. Swap the values of these variables without using any temporary variable."
   ]
  },
  {
   "cell_type": "code",
   "execution_count": 13,
   "id": "e7916b00-15c3-43ac-acad-07e7ee27e7b3",
   "metadata": {},
   "outputs": [
    {
     "name": "stdout",
     "output_type": "stream",
     "text": [
      "Original values of x and y is 10 and 8.\n",
      "Resultant values of x and y after swapping is 8 and 10.\n"
     ]
    }
   ],
   "source": [
    "x = 10 #integer value\n",
    "y = 8 #integer value\n",
    "print(f'Original values of x and y is {x} and {y}.') #printing the original values of x and y\n",
    "x, y = y, x #swapping the values with each other\n",
    "print(f'Resultant values of x and y after swapping is {x} and {y}.') #printing the new values of x and y"
   ]
  },
  {
   "cell_type": "markdown",
   "id": "b9412630-f18a-4f25-914f-36c1597ccf93",
   "metadata": {},
   "source": [
    "# 2. Create a program that calculates the area of a rectangle. Take the length and width as inputs from the user and store them in variables. Calculate and display the area."
   ]
  },
  {
   "cell_type": "code",
   "execution_count": 14,
   "id": "4550f845-76b8-47c7-99f2-fcb1703d61b8",
   "metadata": {},
   "outputs": [
    {
     "name": "stdin",
     "output_type": "stream",
     "text": [
      "Enter the LENGTH of the Rectangle:  111\n",
      "Enter the WIDTH of the Rectangle:  2\n"
     ]
    },
    {
     "name": "stdout",
     "output_type": "stream",
     "text": [
      "Area of the rectangle with length - 111.0 and width - 2.0 is 222.0 square units.\n"
     ]
    }
   ],
   "source": [
    "#getting the real valued length of the rectangle from the user and assigning it to a variable\n",
    "l_rectangle = float(input(\"Enter the LENGTH of the Rectangle: \")) \n",
    "#getting the real valued width of the rectangle from the user and assigning it to a variable\n",
    "w_rectangle = float(input(\"Enter the WIDTH of the Rectangle: \"))\n",
    "#formulae for area of a rectangle and assigning the arithematic expression to a variable\n",
    "area_rectangle = l_rectangle * w_rectangle\n",
    "#printing all the calcualted and input information using the print statement\n",
    "print(f'Area of the rectangle with length - {l_rectangle} and width - {w_rectangle} is {area_rectangle} square units.')"
   ]
  },
  {
   "cell_type": "markdown",
   "id": "f5501018-f85e-4664-bb2c-45a1d3a7ad98",
   "metadata": {},
   "source": [
    "# 3. Write a Python program that converts temperature from Celsius to Fahrenheit. Take the temperature in Celsius as input, store it in a variable, convert it to Fahrenheit, and display the result."
   ]
  },
  {
   "cell_type": "code",
   "execution_count": 15,
   "id": "31f85fde-5435-468f-a549-53c4bde76eac",
   "metadata": {},
   "outputs": [
    {
     "name": "stdin",
     "output_type": "stream",
     "text": [
      "Enter the TEMPERATURE in Clesius:  100\n"
     ]
    },
    {
     "name": "stdout",
     "output_type": "stream",
     "text": [
      "The Fahrenheit temperature equivalent of 100.0 degree Celsius is 212.0 degrees Fahreheit.\n"
     ]
    }
   ],
   "source": [
    "#getting the input for celsius temperature and converting it to real value \n",
    "temp_cel = float(input(\"Enter the TEMPERATURE in Clesius: \"))\n",
    "#using the predefined formulae for calculation of temperature in fahrenhite and storing it in a variable\n",
    "temp_Fah = ((9/5)*temp_cel)+32\n",
    "#printing the relevant information after the arithmetic implementation using the print function\n",
    "print(f'The Fahrenheit temperature equivalent of {temp_cel} degree Celsius is {temp_Fah} degrees Fahreheit.')"
   ]
  },
  {
   "cell_type": "markdown",
   "id": "05ee01f8-fde0-4bfe-bf81-57dbf7d0adc9",
   "metadata": {},
   "source": [
    "# TOPIC: String Based Questions"
   ]
  },
  {
   "cell_type": "markdown",
   "id": "d43f16aa-aef3-46ae-9d00-1596be567a9c",
   "metadata": {},
   "source": [
    "# 1. Write a Python program that takes a string as input and prints the length of the string."
   ]
  },
  {
   "cell_type": "code",
   "execution_count": 17,
   "id": "36f37331-7a5b-449e-b349-0f1ed3a556f1",
   "metadata": {},
   "outputs": [
    {
     "name": "stdin",
     "output_type": "stream",
     "text": [
      "Please enter the string:  This is a sentence.\n"
     ]
    },
    {
     "name": "stdout",
     "output_type": "stream",
     "text": [
      "The length of the given string This is a sentence. is 19.\n"
     ]
    }
   ],
   "source": [
    "#getting the string input using input function\n",
    "strng = input('Please enter the string: ')\n",
    "#using len function to get the length of the input string and printing it\n",
    "print(f'The length of the given string {strng} is {len(strng)}.')"
   ]
  },
  {
   "cell_type": "markdown",
   "id": "e9500800-d931-4186-bbbd-093f2de81029",
   "metadata": {},
   "source": [
    "# 2. Create a program that takes a sentence from the user and counts the number of vowels (a, e, i, o, u) in the string."
   ]
  },
  {
   "cell_type": "markdown",
   "id": "1d922ac7-92bf-44ef-8b76-173639049de7",
   "metadata": {},
   "source": [
    "# Variation 1"
   ]
  },
  {
   "cell_type": "code",
   "execution_count": 18,
   "id": "8d1577df-3e4a-4da5-9ef8-cf82150dd1df",
   "metadata": {},
   "outputs": [
    {
     "name": "stdin",
     "output_type": "stream",
     "text": [
      "Enter the string that is to be investigated for count of vowels:  This is a program to count the vowels\n"
     ]
    },
    {
     "name": "stdout",
     "output_type": "stream",
     "text": [
      "The number of vowels in the string is 11\n"
     ]
    }
   ],
   "source": [
    "#getting the input from the user for vowel based inspection of the sentence\n",
    "sent = input('Enter the string that is to be investigated for count of vowels: ')\n",
    "#initialising a variable which will be used to count the number of vowels in the sentence\n",
    "cont = 0\n",
    "#using the for loop outer to iterate over the sentence\n",
    "for i in sent:\n",
    "    #using the for loop inner to iterate over the individual word\n",
    "    for j in i:\n",
    "        #mathcing each character of the word with comparison to the list of five vowels\n",
    "        if j in ['a', 'e', 'i', 'o', 'u']:\n",
    "            #incrementing the vowel countif the character is a vowel\n",
    "            cont +=1\n",
    "#printing the information calculated\n",
    "print(f'The number of vowels in the string is {cont}')"
   ]
  },
  {
   "cell_type": "markdown",
   "id": "87257497-867a-4d66-a1d7-adf4a012738a",
   "metadata": {},
   "source": [
    "# Variation 2"
   ]
  },
  {
   "cell_type": "code",
   "execution_count": 20,
   "id": "d7833355-f7b7-4a1d-970c-571aa4df9129",
   "metadata": {},
   "outputs": [
    {
     "name": "stdin",
     "output_type": "stream",
     "text": [
      "Enter the string that is to be investigated for count of vowels:  This is a program to count the vowels\n"
     ]
    },
    {
     "name": "stdout",
     "output_type": "stream",
     "text": [
      "The number of vowel 'a' in the string is 2\n",
      "The number of vowel 'e' in the string is 2\n",
      "The number of vowel 'i' in the string is 2\n",
      "The number of vowel 'o' in the string is 4\n",
      "The number of vowel 'u' in the string is 1\n",
      "and\n",
      "Total number of vowels in the given sentence is 11\n"
     ]
    }
   ],
   "source": [
    "#variation 2 to perform detailed analysis for vowels in a sentence\n",
    "#getting the input from user and aassigning it to the variable\n",
    "sent_2 = input('Enter the string that is to be investigated for count of vowels: ')\n",
    "#initialising a variable which will be used to count the number of vowel 'a' in the sentence\n",
    "cont_a = 0\n",
    "#initialising a variable which will be used to count the number of vowel 'e' in the sentence\n",
    "cont_e = 0\n",
    "#initialising a variable which will be used to count the number of vowel 'i' in the sentence\n",
    "cont_i = 0\n",
    "#initialising a variable which will be used to count the number of vowel 'o' in the sentence\n",
    "cont_o = 0\n",
    "#initialising a variable which will be used to count the number of vowel 'u' in the sentence\n",
    "cont_u = 0\n",
    "#for loop outer to iterate over senetence input\n",
    "for k in sent_2:\n",
    "    #for loop innerto iterate over word of the senetence\n",
    "    for m in k:\n",
    "        #if statement is true if the character under investigation is a\n",
    "        if m == 'a':\n",
    "            #incrementing the vowel count if the character is a vowel\n",
    "            cont_a +=1\n",
    "        #if statement is true if the character under investigation is e\n",
    "        elif m == 'e':\n",
    "            #incrementing the vowel count if the character is e vowel\n",
    "            cont_e+=1\n",
    "        #if statement is true if the character under investigation is i\n",
    "        elif m == 'i':\n",
    "            #incrementing the vowel count if the character is i vowel\n",
    "            cont_i +=1\n",
    "        #if statement is true if the character under investigation is o\n",
    "        elif m == 'o':\n",
    "            #incrementing the vowel count if the character is o vowel\n",
    "            cont_o +=1\n",
    "        #if statement is true if the character under investigation is u\n",
    "        elif m== 'u':\n",
    "            #incrementing the vowel count if the character is u vowel\n",
    "            cont_u +=1\n",
    "\n",
    "#printing the information calculated for vowel a\n",
    "print(f'The number of vowel \\'a\\' in the string is {cont_a}')\n",
    "#printing the information calculated\n",
    "print(f'The number of vowel \\'e\\' in the string is {cont_e}')\n",
    "#printing the information calculated for vowel e\n",
    "print(f'The number of vowel \\'i\\' in the string is {cont_i}')\n",
    "#printing the information calculated for vowel i\n",
    "print(f'The number of vowel \\'o\\' in the string is {cont_o}')\n",
    "#printing the information calculated for vowel o\n",
    "print(f'The number of vowel \\'u\\' in the string is {cont_u}')\n",
    "#printing the and word to seperate \n",
    "print('and')\n",
    "#printing the information calculated for total number of vowels\n",
    "print(f'Total number of vowels in the given sentence is {cont_a + cont_e + cont_i + cont_o + cont_u}')"
   ]
  },
  {
   "cell_type": "markdown",
   "id": "145aea2f-2e01-465e-bd94-0b8760ddad59",
   "metadata": {},
   "source": [
    "# 3. Given a string, reverse the order of characters using string slicing and print the reversed string."
   ]
  },
  {
   "cell_type": "code",
   "execution_count": 23,
   "id": "9557feed-c037-4783-8288-04c533d48c23",
   "metadata": {},
   "outputs": [
    {
     "name": "stdout",
     "output_type": "stream",
     "text": [
      "This is the reversed string of original string--> 'This is the original string' is 'gnirts lanigiro eht si sihT'\n"
     ]
    }
   ],
   "source": [
    "#assigning a string to a variable statically\n",
    "str_original = 'This is the original string'\n",
    "#reversing the string using the slicing concept faciliatated in python\n",
    "str_reversed = str_original[: : -1]\n",
    "#printing the original string and reversed string\n",
    "print(f'This is the reversed string of original string--> \\'{str_original}\\' is \\'{str_reversed}\\'')"
   ]
  },
  {
   "cell_type": "markdown",
   "id": "b840324a-e78f-4912-9325-f91d692080cc",
   "metadata": {},
   "source": [
    "# 4. Write a program that takes a string as input and checks if it is a palindrome (reads the same forwards and backwards)."
   ]
  },
  {
   "cell_type": "code",
   "execution_count": 24,
   "id": "2723dc1a-cbc0-4c2a-8bdd-c30e4bf5356b",
   "metadata": {},
   "outputs": [
    {
     "name": "stdin",
     "output_type": "stream",
     "text": [
      "Please input a string which is to investugated for it's palindromic property:  This is the original string\n"
     ]
    },
    {
     "name": "stdout",
     "output_type": "stream",
     "text": [
      "The input string is not a palndromic string\n"
     ]
    }
   ],
   "source": [
    "#getting the input from user and assigning it to the variable\n",
    "str_1 = input('Please input a string which is to investugated for it\\'s palindromic property: ')\n",
    "#comparing the original string and slicing based reverse string in the if statement\n",
    "if str_1 == str_1[: : -1]:\n",
    "    #printing the prompt for a palindromic string using print statement\n",
    "    print('The input string is a palndromic string')\n",
    "else:\n",
    "    #printing the prompt for non-palindromic string\n",
    "    print('The input string is not a palndromic string')"
   ]
  },
  {
   "cell_type": "markdown",
   "id": "77e456ec-719c-41e5-ac8c-6ccc8fb0500c",
   "metadata": {},
   "source": [
    "# 5. Create a program that takes a string as input and removes all the spaces from it. Print the modified string without spaces."
   ]
  },
  {
   "cell_type": "code",
   "execution_count": 25,
   "id": "2ef8b90d-5d90-47de-869d-aa99eb2b0c47",
   "metadata": {},
   "outputs": [
    {
     "name": "stdin",
     "output_type": "stream",
     "text": [
      "Enter a sentence to be modified:  This is the original string\n"
     ]
    },
    {
     "name": "stdout",
     "output_type": "stream",
     "text": [
      "The sentence without spaces is: Thisistheoriginalstring\n"
     ]
    }
   ],
   "source": [
    "#getting the input from the user for a string\n",
    "space_sent = input('Enter a sentence to be modified: ')\n",
    "#using split method to split the senetence based upon the limiter which is space\n",
    "c = space_sent.split()\n",
    "#initialising a variable with empty string which can used to append the various strings without space in the for loop\n",
    "c1 = ''\n",
    "#using for loop to iterate over the variable in which the list of words have been stored\n",
    "for i in c:\n",
    "    #concatenating the words without the space in between the words\n",
    "    c1 += i\n",
    "#printing the string which has been removed with the space \n",
    "print(f'The sentence without spaces is: {c1}')"
   ]
  },
  {
   "cell_type": "markdown",
   "id": "a7cfbe67-0414-48b4-af97-6744918f427e",
   "metadata": {},
   "source": [
    "Assignment submitted by Lalit Kumar\n",
    "Dated: 21-08-2023"
   ]
  }
 ],
 "metadata": {
  "kernelspec": {
   "display_name": "Python 3 (ipykernel)",
   "language": "python",
   "name": "python3"
  },
  "language_info": {
   "codemirror_mode": {
    "name": "ipython",
    "version": 3
   },
   "file_extension": ".py",
   "mimetype": "text/x-python",
   "name": "python",
   "nbconvert_exporter": "python",
   "pygments_lexer": "ipython3",
   "version": "3.10.8"
  }
 },
 "nbformat": 4,
 "nbformat_minor": 5
}
