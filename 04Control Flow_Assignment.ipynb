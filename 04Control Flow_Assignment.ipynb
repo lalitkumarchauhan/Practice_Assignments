{
 "cells": [
  {
   "cell_type": "markdown",
   "id": "e9ce2a61",
   "metadata": {},
   "source": [
    "# Control Flow"
   ]
  },
  {
   "cell_type": "markdown",
   "id": "b215da38",
   "metadata": {},
   "source": [
    "## Assignment Questions"
   ]
  },
  {
   "cell_type": "markdown",
   "id": "ed252da4",
   "metadata": {},
   "source": [
    "### Basic If-Else Statements:"
   ]
  },
  {
   "cell_type": "markdown",
   "id": "ee93b2eb",
   "metadata": {},
   "source": [
    "#### 1. Write a Python program to check if a given number is positive or negative."
   ]
  },
  {
   "cell_type": "code",
   "execution_count": 1,
   "id": "2a7fedb7",
   "metadata": {
    "ExecuteTime": {
     "end_time": "2023-09-07T20:38:23.625401Z",
     "start_time": "2023-09-07T20:38:18.357984Z"
    }
   },
   "outputs": [
    {
     "name": "stdout",
     "output_type": "stream",
     "text": [
      "Enter the number you want to check for negativity or positivity: -1001\n",
      "The number -1001 is negative\n"
     ]
    }
   ],
   "source": [
    "num_1 = int(input('Enter the number you want to check for negativity or positivity: '))\n",
    "if num_1 < 0:\n",
    "    print(f'The number {num_1} is negative')\n",
    "elif num_1 > 0:\n",
    "    print(f'The number {num_1} is positive')\n",
    "else:\n",
    "    print(f'The number {num_1} is neither negative nor positive')"
   ]
  },
  {
   "cell_type": "markdown",
   "id": "21082fff",
   "metadata": {},
   "source": [
    "#### 2. Create a program that determines if a person is eligible to vote based on their age."
   ]
  },
  {
   "cell_type": "code",
   "execution_count": 5,
   "id": "508ee13a",
   "metadata": {
    "ExecuteTime": {
     "end_time": "2023-09-07T20:42:34.737410Z",
     "start_time": "2023-09-07T20:42:30.307757Z"
    }
   },
   "outputs": [
    {
     "name": "stdout",
     "output_type": "stream",
     "text": [
      "Please enter your age: 20.9\n",
      "You are eligible to vote\n"
     ]
    }
   ],
   "source": [
    "age_2 = float(input('Please enter your age: '))\n",
    "if 0.1 < age_2 < 18:\n",
    "    print('You are not yet eligible to vote')\n",
    "elif age_2 >= 18:\n",
    "    print('You are eligible to vote')\n",
    "else:\n",
    "    print('Please enter a valid age')"
   ]
  },
  {
   "cell_type": "markdown",
   "id": "0a377fc2",
   "metadata": {},
   "source": [
    "#### 3. Develop a program to find the maximum of two numbers using if-else statements."
   ]
  },
  {
   "cell_type": "code",
   "execution_count": 6,
   "id": "929e8058",
   "metadata": {
    "ExecuteTime": {
     "end_time": "2023-09-07T20:45:34.439828Z",
     "start_time": "2023-09-07T20:45:23.641649Z"
    }
   },
   "outputs": [
    {
     "name": "stdout",
     "output_type": "stream",
     "text": [
      "Enter first number: 9.8\n",
      "Enter second number: 10.0\n",
      "Maximum of 9.8 and 10.0 is 10.0\n"
     ]
    }
   ],
   "source": [
    "x = float(input('Enter first number: '))\n",
    "y = float(input('Enter second number: '))\n",
    "if x > y:\n",
    "    print(f'Maximum of {x} and {y} is {x}')\n",
    "else:\n",
    "    print(f'Maximum of {x} and {y} is {y}')"
   ]
  },
  {
   "cell_type": "markdown",
   "id": "0da3274b",
   "metadata": {},
   "source": [
    "#### 4. Write a Python script to classify a given year as a leap year or not."
   ]
  },
  {
   "cell_type": "code",
   "execution_count": 7,
   "id": "423f82ed",
   "metadata": {
    "ExecuteTime": {
     "end_time": "2023-09-07T20:47:22.267212Z",
     "start_time": "2023-09-07T20:47:17.539404Z"
    }
   },
   "outputs": [
    {
     "name": "stdout",
     "output_type": "stream",
     "text": [
      "Enter the year in AD: 2023\n",
      "2023 is not a leap year\n"
     ]
    }
   ],
   "source": [
    "year_4 = int(input('Enter the year in AD: '))\n",
    "if year_4 % 4 == 0:\n",
    "    print(f'{year_4} is a leap year')\n",
    "else:\n",
    "    print(f'{year_4} is not a leap year')"
   ]
  },
  {
   "cell_type": "markdown",
   "id": "ee410e76",
   "metadata": {},
   "source": [
    "#### 5. Create a program that checks whether a character is a vowel or a consonant."
   ]
  },
  {
   "cell_type": "code",
   "execution_count": 8,
   "id": "34de8ed5",
   "metadata": {
    "ExecuteTime": {
     "end_time": "2023-09-07T21:31:03.885142Z",
     "start_time": "2023-09-07T21:31:01.191739Z"
    }
   },
   "outputs": [
    {
     "name": "stdout",
     "output_type": "stream",
     "text": [
      "Please enter the character: t\n",
      "The character t is Consonant\n"
     ]
    }
   ],
   "source": [
    "char_5 = input('Please enter the character: ')\n",
    "if char_5 in ['a','e','i','o','u','A','E','I','O','U']:\n",
    "    print(f'The character {char_5} is Vowel')\n",
    "else:\n",
    "    print(f'The character {char_5} is Consonant')"
   ]
  },
  {
   "cell_type": "markdown",
   "id": "a8040da7",
   "metadata": {},
   "source": [
    "#### 6. Implement a program to determine whether a given number is even or odd."
   ]
  },
  {
   "cell_type": "code",
   "execution_count": 12,
   "id": "f1828a8b",
   "metadata": {
    "ExecuteTime": {
     "end_time": "2023-09-07T21:38:19.290396Z",
     "start_time": "2023-09-07T21:38:17.345748Z"
    }
   },
   "outputs": [
    {
     "name": "stdout",
     "output_type": "stream",
     "text": [
      "Enter the number: 3\n",
      "The number 3 is ODD\n"
     ]
    }
   ],
   "source": [
    "num_6 = input('Enter the number: ')\n",
    "if int(num_6) % 2 == 0:\n",
    "    print(f'The number {num_6} is EVEN')\n",
    "else:\n",
    "    print(f'The number {num_6} is ODD')"
   ]
  },
  {
   "cell_type": "markdown",
   "id": "c67619b7",
   "metadata": {},
   "source": [
    "#### 7. Write a Python function to calculate the absolute value of a number without using the `abs()` function."
   ]
  },
  {
   "cell_type": "code",
   "execution_count": 14,
   "id": "29447086",
   "metadata": {
    "ExecuteTime": {
     "end_time": "2023-09-07T22:03:14.624910Z",
     "start_time": "2023-09-07T22:03:09.003774Z"
    }
   },
   "outputs": [
    {
     "name": "stdout",
     "output_type": "stream",
     "text": [
      "Enter the number: -456.9\n",
      "The absolute value of -456.9 is 456.9\n"
     ]
    }
   ],
   "source": [
    "num_7 = float(input('Enter the number: '))\n",
    "if num_7 < 0:\n",
    "    print(f'The absolute value of {num_7} is {-num_7}')\n",
    "else:\n",
    "    print(f'The absolute value of {num_7} is {num_7}')    "
   ]
  },
  {
   "cell_type": "markdown",
   "id": "5667e24d",
   "metadata": {},
   "source": [
    "#### 8. Develop a program that determines the largest of three given numbers using if-else statements."
   ]
  },
  {
   "cell_type": "code",
   "execution_count": 17,
   "id": "5b538fa2",
   "metadata": {
    "ExecuteTime": {
     "end_time": "2023-09-07T22:08:57.011162Z",
     "start_time": "2023-09-07T22:08:46.295023Z"
    }
   },
   "outputs": [
    {
     "name": "stdout",
     "output_type": "stream",
     "text": [
      "Enter the first number: 12\n",
      "Enter the second number: 1\n",
      "Enter the third number: -98\n",
      "Largest of the three numbers 12, 1 and -98 is 12\n"
     ]
    }
   ],
   "source": [
    "num_8_1 = int(input('Enter the first number: '))\n",
    "num_8_2 = int(input('Enter the second number: '))\n",
    "num_8_3 = int(input('Enter the third number: '))\n",
    "if num_8_1 > num_8_2 and num_8_1 > num_8_3:\n",
    "    print(f'Largest of the three numbers {num_8_1}, {num_8_2} and {num_8_3} is {num_8_1}')\n",
    "elif num_8_2 > num_8_1 and num_8_2 > num_8_3:\n",
    "    print(f'Largest of the three numbers {num_8_1}, {num_8_2} and {num_8_3} is {num_8_2}')\n",
    "else:\n",
    "    print(f'Largest of the three numbers {num_8_1}, {num_8_2} and {num_8_3} is {num_8_3}')"
   ]
  },
  {
   "cell_type": "markdown",
   "id": "9e5461af",
   "metadata": {},
   "source": [
    "#### 9. Create a program that checks if a given string is a palindrome."
   ]
  },
  {
   "cell_type": "code",
   "execution_count": 19,
   "id": "27a43620",
   "metadata": {
    "ExecuteTime": {
     "end_time": "2023-09-07T22:11:27.759071Z",
     "start_time": "2023-09-07T22:10:57.310748Z"
    }
   },
   "outputs": [
    {
     "name": "stdout",
     "output_type": "stream",
     "text": [
      "Enter the string: laughtuthgual\n",
      "The given string 'laughtuthgual' is a palindrome\n"
     ]
    }
   ],
   "source": [
    "str_9 = input('Enter the string: ')\n",
    "if str_9 == str_9[::-1]:\n",
    "    print(f'The given string \\'{str_9}\\' is a palindrome')\n",
    "else:\n",
    "    print(f'The given string \\'{str_9}\\' is not a palindrome')"
   ]
  },
  {
   "cell_type": "markdown",
   "id": "05e7e006",
   "metadata": {},
   "source": [
    "#### 10. Write a Python program to calculate the grade based on a student's score."
   ]
  },
  {
   "cell_type": "code",
   "execution_count": 20,
   "id": "5e3e1baf",
   "metadata": {
    "ExecuteTime": {
     "end_time": "2023-09-07T22:25:58.634788Z",
     "start_time": "2023-09-07T22:25:48.071019Z"
    }
   },
   "outputs": [
    {
     "name": "stdout",
     "output_type": "stream",
     "text": [
      "Enter student's score: 60.8\n",
      "You have got grade 'C'\n"
     ]
    }
   ],
   "source": [
    "score_10 = float(input('Enter student\\'s score: '))\n",
    "if score_10 >= 90:\n",
    "    print('You have got Grade \\'A\\'')\n",
    "elif 75 <= score_10 < 90:\n",
    "    print('You have got grade \\'B\\'')\n",
    "elif 60 <= score_10 < 75:\n",
    "        print('You have got grade \\'C\\'')\n",
    "elif 40 <= score_10 < 60:\n",
    "    print('You have got grade \\'D\\'')\n",
    "else:\n",
    "    print('You have got grade \\'E\\'')"
   ]
  },
  {
   "cell_type": "markdown",
   "id": "72216ac7",
   "metadata": {},
   "source": [
    "### Nested If-Else Statements:"
   ]
  },
  {
   "cell_type": "markdown",
   "id": "1693c07c",
   "metadata": {},
   "source": [
    "#### 11. Write a program to find the largest among three numbers using nested if-else statements."
   ]
  },
  {
   "cell_type": "code",
   "execution_count": 3,
   "id": "3a91e3a7",
   "metadata": {
    "ExecuteTime": {
     "end_time": "2023-09-08T07:27:50.510020Z",
     "start_time": "2023-09-08T07:27:45.099661Z"
    }
   },
   "outputs": [
    {
     "name": "stdout",
     "output_type": "stream",
     "text": [
      "Enter the first number: 1\n",
      "Enter the second number: 12\n",
      "Enter the third number: -1\n",
      "Out of 1, 12 and -1, 12 is largest number\n"
     ]
    }
   ],
   "source": [
    "num_11_1 = int(input('Enter the first number: '))\n",
    "num_11_2 = int(input('Enter the second number: '))\n",
    "num_11_3 = int(input('Enter the third number: '))\n",
    "if num_11_1 > num_11_2:\n",
    "    if num_11_1 > num_11_3:\n",
    "        print(f'Out of {num_11_1}, {num_11_2} and {num_11_3}, {num_11_1} is the largest number')\n",
    "    else:\n",
    "        print(f'Out of {num_11_1}, {num_11_2} and {num_11_3}, {num_11_3} is the largest number')\n",
    "else:\n",
    "    if num_11_2 > num_11_3:\n",
    "        print(f'Out of {num_11_1}, {num_11_2} and {num_11_3}, {num_11_2} is largest number')\n",
    "    else:\n",
    "        print(f'Out of {num_11_1}, {num_11_2} and {num_11_3}, {num_11_3} is largest number')"
   ]
  },
  {
   "cell_type": "markdown",
   "id": "8cf3e70a",
   "metadata": {},
   "source": [
    "#### 12. Implement a program to determine if a triangle is equilateral, isosceles, or scalene."
   ]
  },
  {
   "cell_type": "code",
   "execution_count": 9,
   "id": "d19c7498",
   "metadata": {
    "ExecuteTime": {
     "end_time": "2023-09-08T07:35:14.689165Z",
     "start_time": "2023-09-08T07:35:11.919060Z"
    }
   },
   "outputs": [
    {
     "name": "stdout",
     "output_type": "stream",
     "text": [
      "Enter the length of first side: 1\n",
      "Enter the length of second side: 2\n",
      "Enter the length of third side: 3\n",
      "The triangle is a SCALENE triangle\n"
     ]
    }
   ],
   "source": [
    "x = int(input('Enter the length of first side: '))\n",
    "y = int(input('Enter the length of second side: '))\n",
    "z = int(input('Enter the length of third side: '))\n",
    "if x == y:\n",
    "    if y == z:\n",
    "        print('The triangle is an EQUILATERAL triangle')\n",
    "    else:\n",
    "        print('The triangle is an ISOSCELES triangle')\n",
    "else:\n",
    "    if y == z:\n",
    "        print('The triangle is an ISOSCELES triangle')\n",
    "    else:\n",
    "        if z == x:\n",
    "            print('The triangle is an ISOSCELES triangle')\n",
    "        else:    \n",
    "            print('The triangle is a SCALENE triangle')"
   ]
  },
  {
   "cell_type": "markdown",
   "id": "ff5c2fed",
   "metadata": {},
   "source": [
    "#### 13. Develop a program that checks if a year is a leap year and also if it is a century year."
   ]
  },
  {
   "cell_type": "code",
   "execution_count": 11,
   "id": "e0c2f08e",
   "metadata": {
    "ExecuteTime": {
     "end_time": "2023-09-08T07:47:55.562355Z",
     "start_time": "2023-09-08T07:47:53.387423Z"
    }
   },
   "outputs": [
    {
     "name": "stdout",
     "output_type": "stream",
     "text": [
      "Enter the year: 2023\n",
      "The year '2023' is neither a leap year nor a century year\n"
     ]
    }
   ],
   "source": [
    "year_13 = int(input('Enter the year: '))\n",
    "if year_13 % 4 == 0:\n",
    "    if year_13 % 100 == 0:\n",
    "        print(f'The year {year_13} is a leap year and a century year')\n",
    "    else:\n",
    "        print(f'The year {year_13} is a leap year but not century year')\n",
    "else:\n",
    "    if year_13 % 100 == 0:\n",
    "        print(f'The year {year_13} is not a leap year but a century year')\n",
    "    else:\n",
    "        print(f'The year \\'{year_13}\\' is neither a leap year nor a century year')    "
   ]
  },
  {
   "cell_type": "markdown",
   "id": "7a589f2f",
   "metadata": {},
   "source": [
    "#### 14. Write a Python script to determine if a number is positive, negative, or zero."
   ]
  },
  {
   "cell_type": "code",
   "execution_count": 13,
   "id": "ae289312",
   "metadata": {
    "ExecuteTime": {
     "end_time": "2023-09-08T07:48:52.619711Z",
     "start_time": "2023-09-08T07:48:51.229825Z"
    }
   },
   "outputs": [
    {
     "name": "stdout",
     "output_type": "stream",
     "text": [
      "Enter the number: 0\n",
      "The number is zero\n"
     ]
    }
   ],
   "source": [
    "num_14 = int(input('Enter the number: '))\n",
    "if num_14 > 0:\n",
    "    print(f'The number {num_14} is a positive number')\n",
    "else:\n",
    "    if num_14 < 0:\n",
    "        print(f'The number {num_14} is a negative number')\n",
    "    else:\n",
    "        print('The number is zero')"
   ]
  },
  {
   "cell_type": "markdown",
   "id": "7ba46fcb",
   "metadata": {},
   "source": [
    "#### 15. Create a program to check if a person is a teenager (between 13 and 19 years old)."
   ]
  },
  {
   "cell_type": "code",
   "execution_count": 18,
   "id": "265f39d1",
   "metadata": {
    "ExecuteTime": {
     "end_time": "2023-09-08T07:55:11.737584Z",
     "start_time": "2023-09-08T07:55:10.475171Z"
    }
   },
   "outputs": [
    {
     "name": "stdout",
     "output_type": "stream",
     "text": [
      "Enter the age: 13\n",
      "The person is a teenager\n"
     ]
    }
   ],
   "source": [
    "age_15 = float(input('Enter the age: '))\n",
    "if age_15 >= 13:\n",
    "    if age_15 <= 19:\n",
    "        print('The person is a teenager')\n",
    "    else:\n",
    "        print('The person is not a teenager')\n",
    "else:\n",
    "    print('The person is not a teenager')"
   ]
  },
  {
   "cell_type": "markdown",
   "id": "572fc713",
   "metadata": {},
   "source": [
    "#### 16. Develop a program that determines the type of angle based on its measure (acute, obtuse, or right)."
   ]
  },
  {
   "cell_type": "code",
   "execution_count": 21,
   "id": "851fe818",
   "metadata": {
    "ExecuteTime": {
     "end_time": "2023-09-08T07:59:49.601724Z",
     "start_time": "2023-09-08T07:59:45.769805Z"
    }
   },
   "outputs": [
    {
     "name": "stdout",
     "output_type": "stream",
     "text": [
      "Enter the angle: 30.6\n",
      "The angle 30.6 is an ACUTE angle.\n"
     ]
    }
   ],
   "source": [
    "angle_16 = float(input('Enter the angle: '))\n",
    "if angle_16 > 90:\n",
    "    print(f'The angle {angle_16} is an OBTUSE angle.')\n",
    "else:\n",
    "    if angle_16 < 90:\n",
    "        print(f'The angle {angle_16} is an ACUTE angle.')\n",
    "    else:\n",
    "        print('The angle is RIGHT angle.')"
   ]
  },
  {
   "cell_type": "markdown",
   "id": "6dc81255",
   "metadata": {},
   "source": [
    "#### 17. Write a Python program to calculate the roots of a quadratic equation."
   ]
  },
  {
   "cell_type": "code",
   "execution_count": 35,
   "id": "e9ed9085",
   "metadata": {
    "ExecuteTime": {
     "end_time": "2023-09-08T08:34:51.408427Z",
     "start_time": "2023-09-08T08:34:48.858842Z"
    }
   },
   "outputs": [
    {
     "name": "stdout",
     "output_type": "stream",
     "text": [
      "Enter the value of coefficient of x^2: 1\n",
      "Enter the value of coefficient of x: 2\n",
      "Enter the value of constant term: 4\n",
      "The Quadratic equation 1.0x^2 + 2.0x + 4.0 = 0\n",
      "roots are (-1+1.7320508075688772j) and (-1-1.7320508075688772j)\n"
     ]
    }
   ],
   "source": [
    "import math\n",
    "import cmath\n",
    "a = float(input('Enter the value of coefficient of x^2: '))\n",
    "b = float(input('Enter the value of coefficient of x: '))\n",
    "c = float(input('Enter the value of constant term: '))\n",
    "print(f'The Quadratic equation {a}x^2 + {b}x + {c} = 0')\n",
    "if b**2 - 4*a*c >= 0:\n",
    "    root1 = (-b + math.sqrt(b**2 - 4*a*c))/(2*a)\n",
    "    root2 = (-b - math.sqrt(b**2 - 4*a*c))/(2*a)\n",
    "    print(f'roots are {root1} and {root2}')\n",
    "else:\n",
    "    root1 = (-b/(2*a) + cmath.sqrt(b**2 - 4*a*c)/(2*a))\n",
    "    root2 = (-b/(2*a) - cmath.sqrt(b**2 - 4*a*c)/(2*a))\n",
    "    print(f'roots are {root1} and {root2}')"
   ]
  },
  {
   "cell_type": "markdown",
   "id": "32f9b927",
   "metadata": {},
   "source": [
    "#### 18. Implement a program to determine the day of the week based on a user-provided number (1 for Monday, 2 for Tuesday, etc.)."
   ]
  },
  {
   "cell_type": "code",
   "execution_count": 38,
   "id": "7ead7297",
   "metadata": {
    "ExecuteTime": {
     "end_time": "2023-09-08T08:40:31.646563Z",
     "start_time": "2023-09-08T08:40:30.599723Z"
    }
   },
   "outputs": [
    {
     "name": "stdout",
     "output_type": "stream",
     "text": [
      "Enter the number: 8\n",
      "It is Monday\n"
     ]
    }
   ],
   "source": [
    "num_18 = int(input('Enter the number: '))\n",
    "if num_18%7 == 1:\n",
    "    print('It is Monday')\n",
    "else:\n",
    "    if num_18%7 == 2:\n",
    "        print('It is Tuesday')\n",
    "    else:\n",
    "        if num_18%7 == 3:\n",
    "            print('It is Wednesday')\n",
    "        else:\n",
    "            if num_18%7 == 4:\n",
    "                print('It is Thursday')\n",
    "            else:\n",
    "                if num_18%7 == 5:\n",
    "                    print('It is Friday')\n",
    "                else:\n",
    "                    if num_18%7 == 6:\n",
    "                        print('It is Saturday')\n",
    "                    else:\n",
    "                        print('It is Sunday')"
   ]
  },
  {
   "cell_type": "markdown",
   "id": "5a140bed",
   "metadata": {},
   "source": [
    "#### 19. Create a program that determines if a year is a leap year and also if it is evenly divisible by 400."
   ]
  },
  {
   "cell_type": "code",
   "execution_count": 1,
   "id": "b14a8d70",
   "metadata": {
    "ExecuteTime": {
     "end_time": "2023-09-10T17:59:00.790320Z",
     "start_time": "2023-09-10T17:58:52.830972Z"
    }
   },
   "outputs": [
    {
     "name": "stdout",
     "output_type": "stream",
     "text": [
      "Enter the year: 1600\n",
      "The year is a leap year and is evenly divisible by 400\n"
     ]
    }
   ],
   "source": [
    "year_19 = int(input('Enter the year: '))\n",
    "if year_19 % 4 == 0:\n",
    "    if year_19 % 400 == 0:\n",
    "        print('The year is a leap year and is evenly divisible by 400')\n",
    "    else:\n",
    "        print('The year is a leap year but is not evenly divisible by 400')        \n",
    "else:\n",
    "    if year_19 % 400 == 0:\n",
    "        print('The year is not a leap year but is evenly divisible by 400')\n",
    "    else:\n",
    "        print('The year is neither a leap year nor is evenly divisible by 400')"
   ]
  },
  {
   "cell_type": "markdown",
   "id": "c4653eac",
   "metadata": {},
   "source": [
    "#### 20. Develop a program that checks if a given number is prime or not using nested if-else statements."
   ]
  },
  {
   "cell_type": "code",
   "execution_count": 28,
   "id": "63052bdf",
   "metadata": {
    "ExecuteTime": {
     "end_time": "2023-09-17T10:16:47.410826Z",
     "start_time": "2023-09-17T10:16:46.065856Z"
    }
   },
   "outputs": [
    {
     "name": "stdout",
     "output_type": "stream",
     "text": [
      "Enter the number you want to check: 11\n",
      "The number is prime\n"
     ]
    }
   ],
   "source": [
    "num_chk_prm = int(input('Enter the number you want to check: '))\n",
    "if num_chk_prm > 1:\n",
    "    for i in range(2, num_chk_prm):\n",
    "        if num_chk_prm%i == 0:\n",
    "            print('The number is not prime')\n",
    "            break\n",
    "    else:\n",
    "        print('The number is prime')"
   ]
  },
  {
   "cell_type": "markdown",
   "id": "d05a9f9a",
   "metadata": {},
   "source": [
    "# Elif Statements:"
   ]
  },
  {
   "cell_type": "markdown",
   "id": "20278102",
   "metadata": {},
   "source": [
    "#### 21. Write a Python program to assign grades based on different ranges of scores using elif statements."
   ]
  },
  {
   "cell_type": "code",
   "execution_count": 2,
   "id": "3e3c22e4",
   "metadata": {
    "ExecuteTime": {
     "end_time": "2023-09-10T18:00:09.536630Z",
     "start_time": "2023-09-10T18:00:00.025144Z"
    }
   },
   "outputs": [
    {
     "name": "stdout",
     "output_type": "stream",
     "text": [
      "Enter student's score: 67.8\n",
      "You have got grade 'C'\n"
     ]
    }
   ],
   "source": [
    "score_10 = float(input('Enter student\\'s score: '))\n",
    "if score_10 >= 90:\n",
    "    print('You have got Grade \\'A\\'')\n",
    "elif 75 <= score_10 < 90:\n",
    "    print('You have got grade \\'B\\'')\n",
    "elif 60 <= score_10 < 75:\n",
    "        print('You have got grade \\'C\\'')\n",
    "elif 40 <= score_10 < 60:\n",
    "    print('You have got grade \\'D\\'')\n",
    "else:\n",
    "    print('You have got grade \\'E\\'')"
   ]
  },
  {
   "cell_type": "markdown",
   "id": "d050d5bc",
   "metadata": {},
   "source": [
    "#### 22. Implement a program to determine the type of a triangle based on its angles."
   ]
  },
  {
   "cell_type": "code",
   "execution_count": 3,
   "id": "b58e1d50",
   "metadata": {
    "ExecuteTime": {
     "end_time": "2023-09-10T18:02:34.181649Z",
     "start_time": "2023-09-10T18:02:31.390572Z"
    }
   },
   "outputs": [
    {
     "name": "stdout",
     "output_type": "stream",
     "text": [
      "Enter the angle: 78\n",
      "The angle 78.0 is an ACUTE angle.\n"
     ]
    }
   ],
   "source": [
    "angle_16 = float(input('Enter the angle: '))\n",
    "if angle_16 > 90:\n",
    "    print(f'The angle {angle_16} is an OBTUSE angle.')\n",
    "elif 0 <= angle_16 < 90:\n",
    "    print(f'The angle {angle_16} is an ACUTE angle.')\n",
    "else:\n",
    "    print('The angle is RIGHT angle.')"
   ]
  },
  {
   "cell_type": "markdown",
   "id": "93d5dd00",
   "metadata": {},
   "source": [
    "#### 23. Develop a program to categorize a given person's BMI into underweight, normal, overweight, or obese using elif statements."
   ]
  },
  {
   "cell_type": "code",
   "execution_count": 8,
   "id": "91bb9114",
   "metadata": {
    "ExecuteTime": {
     "end_time": "2023-09-10T19:13:49.862558Z",
     "start_time": "2023-09-10T19:13:33.527501Z"
    }
   },
   "outputs": [
    {
     "name": "stdout",
     "output_type": "stream",
     "text": [
      "Enter your weight in Kgs: 75\n",
      "Enter your height in meters1.66\n",
      "You are Overweight\n"
     ]
    }
   ],
   "source": [
    "weight_23 = float(input('Enter your weight in Kgs: '))\n",
    "height_23 = float(input('Enter your height in meters'))\n",
    "bmi_23 = weight_23/(height_23**2)\n",
    "if 0 < bmi_23 <= 18.5:\n",
    "    print('You are underweight')\n",
    "elif 18.5 < bmi_23 < 25:\n",
    "    print('You are of normal weight')\n",
    "elif 25 <= bmi_23 < 30:\n",
    "    print('You are Overweight')\n",
    "else: \n",
    "    print('You are Obese')"
   ]
  },
  {
   "cell_type": "markdown",
   "id": "0bbcf895",
   "metadata": {},
   "source": [
    "#### 24. Create a program that determines whether a given number is positive, negative, or zero using elif statements."
   ]
  },
  {
   "cell_type": "code",
   "execution_count": 6,
   "id": "395d8317",
   "metadata": {
    "ExecuteTime": {
     "end_time": "2023-09-10T18:04:07.910394Z",
     "start_time": "2023-09-10T18:04:05.935433Z"
    }
   },
   "outputs": [
    {
     "name": "stdout",
     "output_type": "stream",
     "text": [
      "Enter the number: -90\n",
      "The number -90.0 is a negative number\n"
     ]
    }
   ],
   "source": [
    "num_14 = float(input('Enter the number: '))\n",
    "if num_14 > 0:\n",
    "    print(f'The number {num_14} is a positive number')\n",
    "elif num_14 < 0:\n",
    "    print(f'The number {num_14} is a negative number')\n",
    "else:\n",
    "    print('The number is zero')"
   ]
  },
  {
   "cell_type": "markdown",
   "id": "a41b8be8",
   "metadata": {},
   "source": [
    "#### 25. Write a Python script to determine the type of a character (uppercase, lowercase, or special) using elif statements."
   ]
  },
  {
   "cell_type": "code",
   "execution_count": 7,
   "id": "6a8c66d9",
   "metadata": {
    "ExecuteTime": {
     "end_time": "2023-09-10T18:22:05.640887Z",
     "start_time": "2023-09-10T18:22:04.162695Z"
    }
   },
   "outputs": [
    {
     "name": "stdout",
     "output_type": "stream",
     "text": [
      "Enter the character: @\n",
      "The typed character is a special character\n"
     ]
    }
   ],
   "source": [
    "typ_charac = input('Enter the character: ')\n",
    "if 97 <= ord(typ_charac) <= 122:\n",
    "    print('The typed character is of lowercase')\n",
    "elif 65 <= ord(typ_charac) <= 90:\n",
    "    print('The typed character is of uppercase')\n",
    "elif (32 <= ord(typ_charac) <= 47) or (58 <= ord(typ_charac) <= 64) or (91<= ord(typ_charac) <= 96) or (123 <= ord(typ_charac) <= 126):\n",
    "    print('The typed character is a special character')\n",
    "else:\n",
    "    print('The typed character is not lowercase or uppercase or a special character!')"
   ]
  },
  {
   "cell_type": "markdown",
   "id": "64daa578",
   "metadata": {},
   "source": [
    "#### 26. Implement a program to calculate the discounted price based on different purchase amounts using elif statements."
   ]
  },
  {
   "cell_type": "code",
   "execution_count": 11,
   "id": "df778081",
   "metadata": {
    "ExecuteTime": {
     "end_time": "2023-09-10T19:37:45.249116Z",
     "start_time": "2023-09-10T19:37:43.500705Z"
    }
   },
   "outputs": [
    {
     "name": "stdout",
     "output_type": "stream",
     "text": [
      "Enter the purchase amount to check the discounted price: 76\n",
      "the discounted price is 60.8\n"
     ]
    }
   ],
   "source": [
    "pur_26 = float(input('Enter the purchase amount to check the discounted price: '))\n",
    "if 45 <= pur_26 <= 50:\n",
    "    print(f'the discounted price is {round(0.95*pur_26, 2)}')\n",
    "elif 50 < pur_26 <= 75:\n",
    "    print(f'the discounted price is {round(0.90*pur_26, 2)}')\n",
    "elif 75 < pur_26 <= 90:\n",
    "    print(f'the discounted price is {round(0.80*pur_26, 2)}')\n",
    "else:\n",
    "    print(f'the discounted price is {round(0.75*pur_26, 2)}')"
   ]
  },
  {
   "cell_type": "markdown",
   "id": "350ff01f",
   "metadata": {},
   "source": [
    "#### 27. Develop a program to calculate the electricity bill based on different consumption slabs using elif statements."
   ]
  },
  {
   "cell_type": "code",
   "execution_count": 12,
   "id": "0d6d5f0b",
   "metadata": {
    "ExecuteTime": {
     "end_time": "2023-09-10T20:00:18.125326Z",
     "start_time": "2023-09-10T20:00:09.466439Z"
    }
   },
   "outputs": [
    {
     "name": "stdout",
     "output_type": "stream",
     "text": [
      "Enter the units consumed by you to get the electricity bill: 125.8\n",
      "The electricity charges for you are 377.4 INR.\n"
     ]
    }
   ],
   "source": [
    "elec_consump = float(input('Enter the units consumed by you to get the electricity bill: '))\n",
    "\n",
    "if 0 < elec_consump <= 200:\n",
    "    print(f'The electricity charges for you are {elec_consump*3.00} INR.')\n",
    "elif 201 < elec_consump <= 400:\n",
    "    print(f'The electricity charges for you are {elec_consump*4.50} INR.')\n",
    "elif 401 < elec_consump <= 800:\n",
    "    print(f'The electricity charges for you are {elec_consump*6.50} INR.')\n",
    "elif 801 < elec_consump <= 1200:\n",
    "    print(f'The electricity charges for you are {elec_consump*7.00} INR.')\n",
    "elif elec_consump > 1200:\n",
    "    print(f'The electricity charges for you are {elec_consump*8.00} INR.')\n",
    "else:\n",
    "    print('Please enter a valid number')"
   ]
  },
  {
   "cell_type": "markdown",
   "id": "e246282a",
   "metadata": {},
   "source": [
    "#### 28. Create a program to determine the type of quadrilateral based on its angles and sides using elif statements."
   ]
  },
  {
   "cell_type": "code",
   "execution_count": 25,
   "id": "c1f26e61",
   "metadata": {
    "ExecuteTime": {
     "end_time": "2023-09-10T23:17:23.194066Z",
     "start_time": "2023-09-10T23:17:09.585685Z"
    }
   },
   "outputs": [
    {
     "name": "stdout",
     "output_type": "stream",
     "text": [
      "Enter the first angle: 98\n",
      "Enter the second angle: 90\n",
      "Enter the third angle: 89\n",
      "Enter the fourth angle: 7\n",
      "Enter the first side: 1\n",
      "Enter the second side: 1\n",
      "Enter the third side: 2\n",
      "Enter the fourth side: 2\n",
      "The quadrilateral is a Kite\n"
     ]
    }
   ],
   "source": [
    "angle_28_12 = float(input('Enter the first angle: '))\n",
    "angle_28_23 = float(input('Enter the second angle: '))\n",
    "angle_28_34 = float(input('Enter the third angle: '))\n",
    "angle_28_41 = float(input('Enter the fourth angle: '))\n",
    "side_28_1 = float(input('Enter the first side: '))\n",
    "side_28_2 = float(input('Enter the second side: '))\n",
    "side_28_3 = float(input('Enter the third side: '))\n",
    "side_28_4 = float(input('Enter the fourth side: '))\n",
    "if (angle_28_12 != angle_28_23 and angle_28_23 != angle_28_34 and angle_28_34 != angle_28_41\n",
    "and angle_28_41 != angle_28_12 and side_28_1 != side_28_2 and side_28_2 != side_28_3 \n",
    "and side_28_3 != side_28_4 and side_28_4 != side_28_1) == True:\n",
    "    print('The quadrilateral is a Trapezium')\n",
    "    \n",
    "elif (angle_28_12 == angle_28_34 and angle_28_23 == angle_28_41 and angle_28_23 != angle_28_12 and angle_28_34 != angle_28_41 \n",
    "      and side_28_1 == side_28_3 \n",
    "      and side_28_2 == side_28_4 and side_28_1 != side_28_2 and side_28_3 != side_28_4) == True:\n",
    "    print('The quadrilateral is a Parallelogram')\n",
    "    \n",
    "elif (angle_28_12 == 90 and angle_28_23 == 90 and angle_28_34 == 90 and angle_28_41 == 90 and side_28_1 == side_28_3 \n",
    "      and side_28_4 == side_28_2 and side_28_1 != side_28_4 and side_28_2 != side_28_3) == True:\n",
    "    print('The quadrilateral is a Rectangle')\n",
    "\n",
    "elif(angle_28_12 == angle_28_34 and angle_28_23 == angle_28_41 and angle_28_12 != angle_28_23 and angle_28_34 != angle_28_41  \n",
    "     and side_28_1 == side_28_2 and side_28_2 == side_28_3 \n",
    "and side_28_3 == side_28_4 and side_28_4 == side_28_1) == True:\n",
    "    print('The quadrilateral is a Rhombus')\n",
    "    \n",
    "elif (angle_28_12 == 90 and angle_28_23 == 90 and angle_28_34 == 90 and angle_28_41 == 90 and side_28_1 == side_28_2 and  \n",
    "      side_28_2 == side_28_3 and side_28_3 == side_28_4 and side_28_4 == side_28_1) == True:\n",
    "    print('The quadrilateral is a Square')\n",
    "    \n",
    "elif (angle_28_12 != angle_28_23 and angle_28_23 != angle_28_34 and angle_28_34 != angle_28_41 and \n",
    "      angle_28_41 != angle_28_12 and ((side_28_1 == side_28_2 and side_28_3 == side_28_4 and side_28_1 != side_28_3 and side_28_2 != side_28_4) or \n",
    "                                  (side_28_1 == side_28_3 and side_28_2 == side_28_4 and side_28_3 != side_28_2 and side_28_1 == side_28_4) or \n",
    "                                  (side_28_1 == side_28_4 and side_28_3 == side_28_2 and side_28_1 != side_28_2 and side_28_3 != side_28_4))) == True:\n",
    "    print('The quadrilateral is a Kite')\n",
    "\n",
    "else:\n",
    "    print('these are not a quadrilateral\\'s attributes')"
   ]
  },
  {
   "cell_type": "markdown",
   "id": "fca5d827",
   "metadata": {},
   "source": [
    "#### 29. Write a Python script to determine the season based on a user-provided month using elif statements."
   ]
  },
  {
   "cell_type": "code",
   "execution_count": 29,
   "id": "af5dad6c",
   "metadata": {
    "ExecuteTime": {
     "end_time": "2023-09-17T10:17:40.391694Z",
     "start_time": "2023-09-17T10:17:35.079718Z"
    }
   },
   "outputs": [
    {
     "name": "stdout",
     "output_type": "stream",
     "text": [
      "Enter the month of the year: May\n",
      "May is in Summer season\n"
     ]
    }
   ],
   "source": [
    "month2season_29 = input('Enter the month of the year: ')\n",
    "if month2season_29 == 'December' or month2season_29 == 'January' or month2season_29 == 'February':\n",
    "    print(f'{month2season_29} is in winter season')\n",
    "elif month2season_29 == 'March' or month2season_29 == 'April' or month2season_29 == 'May':\n",
    "    print(f'{month2season_29} is in Summer season')\n",
    "elif month2season_29 == 'June' or month2season_29 == 'July' or month2season_29 == 'August' or month2season_29 == 'September':\n",
    "    print(f'{month2season_29} is in Monsoon Season')\n",
    "elif month2season_29 == 'October' or month2season_29 == 'November':\n",
    "    print(f'{month2season_29} is in Autumn season')\n",
    "else:\n",
    "    print('Please type a valid month')"
   ]
  },
  {
   "cell_type": "markdown",
   "id": "877a0492",
   "metadata": {},
   "source": [
    "#### 30. Implement a program to determine the type of a year (leap or common) and month (30 or 31 days) using elif statements."
   ]
  },
  {
   "cell_type": "code",
   "execution_count": 1,
   "id": "66072673",
   "metadata": {
    "ExecuteTime": {
     "end_time": "2023-09-11T07:07:12.859219Z",
     "start_time": "2023-09-11T07:07:04.124002Z"
    }
   },
   "outputs": [
    {
     "name": "stdout",
     "output_type": "stream",
     "text": [
      "Enter the year: 2040\n",
      "Enter the month: January\n",
      "The year 2040 is a leap year and the month January has 31 days in it\n"
     ]
    }
   ],
   "source": [
    "yr_30 =  int(input('Enter the year: '))\n",
    "mon_30 = input('Enter the month: ')\n",
    "if yr_30 % 4 == 0 and mon_30 in ('January', 'March', 'May', 'July', 'August', 'October', 'December'):\n",
    "    print(f'The year {yr_30} is a leap year and the month {mon_30} has 31 days in it')\n",
    "elif yr_30 % 4 == 0 and mon_30 in ('April', 'June', 'September', 'November'):    \n",
    "    print(f'The year {yr_30} is a leap year and the month {mon_30} has 30 days in it')\n",
    "elif yr_30 % 4 != 0 and mon_30 in ('January', 'March', 'May', 'July', 'August', 'October', 'December'):\n",
    "    print(f'The year {yr_30} is not a leap year and the month {mon_30} has 31 days in it')\n",
    "elif yr_30 % 4 != 0 and mon_30 in ('April', 'June', 'September', 'November'):\n",
    "    print(f'The year {yr_30} is not a leap year and the month {mon_30} has 30 days in it')\n",
    "elif yr_30 % 4 == 0 and mon_30 in ('February'):\n",
    "    print(f'The year {yr_30} is a leap year and the month {mon_30} has 29 days in it')\n",
    "elif yr % 4 != 0 and mon_30 in ('February'):\n",
    "    print(f'The year {yr_30} is not a leap year and the month {mon_30} has 28 days in it') \n",
    "else:\n",
    "    print(f'Please enter a valid year and month')"
   ]
  },
  {
   "cell_type": "markdown",
   "id": "efda3bad",
   "metadata": {},
   "source": [
    "### Basic Level:"
   ]
  },
  {
   "cell_type": "markdown",
   "id": "35b181d3",
   "metadata": {},
   "source": [
    "#### 1. Write a Python program that checks if a given number is positive, negative, or zero."
   ]
  },
  {
   "cell_type": "code",
   "execution_count": 44,
   "id": "34edb370",
   "metadata": {
    "ExecuteTime": {
     "end_time": "2023-09-11T00:35:16.380334Z",
     "start_time": "2023-09-11T00:35:13.786520Z"
    }
   },
   "outputs": [
    {
     "name": "stdout",
     "output_type": "stream",
     "text": [
      "Enter the number: -9\n"
     ]
    },
    {
     "data": {
      "text/plain": [
       "'It is a negative number!'"
      ]
     },
     "execution_count": 44,
     "metadata": {},
     "output_type": "execute_result"
    }
   ],
   "source": [
    "num_41 = float(input('Enter the number: '))\n",
    "  \n",
    "{num_41 > 0: \"It is a positive number!\",\n",
    " num_41 < 0: \"It is a negative number!\"}.get(\n",
    "  True, \"it is a zero!\")"
   ]
  },
  {
   "cell_type": "markdown",
   "id": "262ac76d",
   "metadata": {},
   "source": [
    "#### 2. Create a program to determine if a person is eligible to vote based on their age."
   ]
  },
  {
   "cell_type": "code",
   "execution_count": 34,
   "id": "ba758dd1",
   "metadata": {
    "ExecuteTime": {
     "end_time": "2023-09-11T00:09:07.953017Z",
     "start_time": "2023-09-11T00:09:05.115878Z"
    }
   },
   "outputs": [
    {
     "name": "stdout",
     "output_type": "stream",
     "text": [
      "Enter the age: 20\n",
      "The person can vote in the election\n"
     ]
    }
   ],
   "source": [
    "age_42 = float(input('Enter the age: '))\n",
    "if age_42 >= 18:\n",
    "    print('The person can vote in the election')\n",
    "else:\n",
    "    print('The person can not vote in the election as of now')"
   ]
  },
  {
   "cell_type": "markdown",
   "id": "b19c5d38",
   "metadata": {},
   "source": [
    "#### 3. Write a program to find the maximum of two given numbers using conditional statements."
   ]
  },
  {
   "cell_type": "code",
   "execution_count": 37,
   "id": "1c7076ea",
   "metadata": {
    "ExecuteTime": {
     "end_time": "2023-09-11T00:26:36.724617Z",
     "start_time": "2023-09-11T00:26:36.260070Z"
    }
   },
   "outputs": [
    {
     "data": {
      "text/plain": [
       "'90 is greater than 2'"
      ]
     },
     "execution_count": 37,
     "metadata": {},
     "output_type": "execute_result"
    }
   ],
   "source": [
    "max_43 = lambda x, y: f'{x} is greater than {y}' if x>y else f'{y} is greater than {x}'\n",
    "max_43(2,90)"
   ]
  },
  {
   "cell_type": "markdown",
   "id": "35d225d9",
   "metadata": {},
   "source": [
    "#### 4. Develop a program that calculates the grade of a student based on their exam score."
   ]
  },
  {
   "cell_type": "code",
   "execution_count": 35,
   "id": "679ff053",
   "metadata": {
    "ExecuteTime": {
     "end_time": "2023-09-11T00:16:09.521759Z",
     "start_time": "2023-09-11T00:16:02.825649Z"
    }
   },
   "outputs": [
    {
     "name": "stdout",
     "output_type": "stream",
     "text": [
      "Enter student's score: 39.9\n",
      "You have got grade 'E'\n"
     ]
    }
   ],
   "source": [
    "score_44 = float(input('Enter student\\'s score: '))\n",
    "if score_44 >= 90:\n",
    "    print('You have got Grade \\'A\\'')\n",
    "elif 75 <= score_44 < 90:\n",
    "    print('You have got grade \\'B\\'')\n",
    "elif 60 <= score_44 < 75:\n",
    "        print('You have got grade \\'C\\'')\n",
    "elif 40 <= score_44 < 60:\n",
    "    print('You have got grade \\'D\\'')\n",
    "else:\n",
    "    print('You have got grade \\'E\\'')"
   ]
  },
  {
   "cell_type": "markdown",
   "id": "ba52f24a",
   "metadata": {},
   "source": [
    "#### 5. Create a program that checks if a year is a leap year or not."
   ]
  },
  {
   "cell_type": "code",
   "execution_count": 36,
   "id": "2eefb9cf",
   "metadata": {
    "ExecuteTime": {
     "end_time": "2023-09-11T00:19:29.614302Z",
     "start_time": "2023-09-11T00:19:26.062922Z"
    }
   },
   "outputs": [
    {
     "name": "stdout",
     "output_type": "stream",
     "text": [
      "Enter the year: 2007\n",
      "2007 is not an leap year\n"
     ]
    }
   ],
   "source": [
    "x = int(input('Enter the year: '))\n",
    "leap_yr_45 = lambda x : f\"{x} is a leap year\" if x %2==0 else f\"{x} is not an leap year\"\n",
    "print(leap_yr_45(x))"
   ]
  },
  {
   "cell_type": "markdown",
   "id": "92a7bb05",
   "metadata": {},
   "source": [
    "#### 6. Write a program to classify a triangle based on its sides' lengths."
   ]
  },
  {
   "cell_type": "code",
   "execution_count": 2,
   "id": "76f9c31e",
   "metadata": {
    "ExecuteTime": {
     "end_time": "2023-09-11T07:16:15.478169Z",
     "start_time": "2023-09-11T07:16:12.409142Z"
    }
   },
   "outputs": [
    {
     "name": "stdout",
     "output_type": "stream",
     "text": [
      "Enter the length of first side: 12\n",
      "Enter the length of second side: 12\n",
      "Enter the length of third side: 12\n",
      "The triangle is an EQUILATERAL triangle\n"
     ]
    }
   ],
   "source": [
    "x = int(input('Enter the length of first side: '))\n",
    "y = int(input('Enter the length of second side: '))\n",
    "z = int(input('Enter the length of third side: '))\n",
    "if x == y:\n",
    "    if y == z:\n",
    "        print('The triangle is an EQUILATERAL triangle')\n",
    "    else:\n",
    "        print('The triangle is an ISOSCELES triangle')\n",
    "else:\n",
    "    if y == z:\n",
    "        print('The triangle is an ISOSCELES triangle')\n",
    "    else:\n",
    "        if z == x:\n",
    "            print('The triangle is an ISOSCELES triangle')\n",
    "        else:    \n",
    "            print('The triangle is a SCALENE triangle')"
   ]
  },
  {
   "cell_type": "markdown",
   "id": "587c0624",
   "metadata": {},
   "source": [
    "#### 7. Build a program that determines the largest of three given numbers."
   ]
  },
  {
   "cell_type": "code",
   "execution_count": 8,
   "id": "9c14bb0b",
   "metadata": {
    "ExecuteTime": {
     "end_time": "2023-09-11T13:16:40.136938Z",
     "start_time": "2023-09-11T13:16:32.538179Z"
    }
   },
   "outputs": [
    {
     "name": "stdout",
     "output_type": "stream",
     "text": [
      "Enter first number: 1\n",
      "Enter second number: 80\n",
      "Enter third number: 34\n",
      "80 is the largest of the typed numbers\n"
     ]
    }
   ],
   "source": [
    "x = input('Enter first number: ')\n",
    "y = input('Enter second number: ')\n",
    "z = input('Enter third number: ')\n",
    "if x > y and x > z:\n",
    "    print(f'{x} is the largest of the typed numbers')\n",
    "elif y > x and y > z:\n",
    "    print(f'{y} is the largest of the typed numbers')    \n",
    "else:\n",
    "    print(f'{z} is the largest of the typed numbers')"
   ]
  },
  {
   "cell_type": "markdown",
   "id": "cdb07c46",
   "metadata": {},
   "source": [
    "#### 8. Develop a program that checks whether a character is a vowel or a consonant."
   ]
  },
  {
   "cell_type": "code",
   "execution_count": 7,
   "id": "0512de7c",
   "metadata": {
    "ExecuteTime": {
     "end_time": "2023-09-11T12:52:32.677815Z",
     "start_time": "2023-09-11T12:52:29.895185Z"
    }
   },
   "outputs": [
    {
     "name": "stdout",
     "output_type": "stream",
     "text": [
      "Enter the character: D\n",
      "The character 'D' is a CONSONANT\n"
     ]
    }
   ],
   "source": [
    "char_48 = input('Enter the character: ')\n",
    "if char_48 in ['a', 'e', 'i', 'o', 'u', 'A', 'E', 'I', 'O', 'U']:\n",
    "    print(f'The character \\'{char_48}\\' you typed is a VOWEL')\n",
    "else:\n",
    "    print(f'The character \\'{char_48}\\' is a CONSONANT')"
   ]
  },
  {
   "cell_type": "markdown",
   "id": "187551dd",
   "metadata": {},
   "source": [
    "#### 9. Create a program to calculate the total cost of a shopping cart based on discounts."
   ]
  },
  {
   "cell_type": "code",
   "execution_count": 9,
   "id": "73a72f13",
   "metadata": {
    "ExecuteTime": {
     "end_time": "2023-09-11T13:57:30.023458Z",
     "start_time": "2023-09-11T13:57:25.521738Z"
    }
   },
   "outputs": [
    {
     "name": "stdout",
     "output_type": "stream",
     "text": [
      "Enter the desired quantity to check the total cost of your shopping cart: 50\n",
      "the total cost of shopping cart is 47.5\n"
     ]
    }
   ],
   "source": [
    "pur_26 = float(input('Enter the desired quantity to check the total cost of your shopping cart: '))\n",
    "if 45 <= pur_26 <= 50:\n",
    "    print(f'the total cost of shopping cart is {round(0.95*pur_26, 2)}')\n",
    "elif 50 < pur_26 <= 75:\n",
    "    print(f'the total cost of shopping cart is {round(0.90*pur_26, 2)}')\n",
    "elif 75 < pur_26 <= 90:\n",
    "    print(f'the total cost of shopping cart is {round(0.80*pur_26, 2)}')\n",
    "else:\n",
    "    print(f'the total cost of shopping cart is {round(0.75*pur_26, 2)}')"
   ]
  },
  {
   "cell_type": "markdown",
   "id": "710426e0",
   "metadata": {},
   "source": [
    "#### 10. Write a program that checks if a given number is even or odd."
   ]
  },
  {
   "cell_type": "code",
   "execution_count": 5,
   "id": "5c701425",
   "metadata": {
    "ExecuteTime": {
     "end_time": "2023-09-11T07:23:00.085312Z",
     "start_time": "2023-09-11T07:22:58.715279Z"
    }
   },
   "outputs": [
    {
     "name": "stdout",
     "output_type": "stream",
     "text": [
      "Enter the number: 23\n"
     ]
    },
    {
     "data": {
      "text/plain": [
       "'23 is an odd number'"
      ]
     },
     "execution_count": 5,
     "metadata": {},
     "output_type": "execute_result"
    }
   ],
   "source": [
    "max_43 = lambda x: f'{x} is an even number' if x % 2==0 else f'{x} is an odd number'\n",
    "num_43 = int(input('Enter the number: '))\n",
    "max_43(num_43)"
   ]
  },
  {
   "cell_type": "markdown",
   "id": "4d2b79d0",
   "metadata": {},
   "source": [
    "### Intermediate Level:"
   ]
  },
  {
   "cell_type": "markdown",
   "id": "1b1ed586",
   "metadata": {},
   "source": [
    "#### 11. Write a program that calculates the roots of a quadratic equation ."
   ]
  },
  {
   "cell_type": "code",
   "execution_count": 10,
   "id": "fa40e94b",
   "metadata": {
    "ExecuteTime": {
     "end_time": "2023-09-11T14:04:54.191215Z",
     "start_time": "2023-09-11T14:04:45.650350Z"
    }
   },
   "outputs": [
    {
     "name": "stdout",
     "output_type": "stream",
     "text": [
      "Please enter the coefficient of squared term: 1\n",
      "Please enter the coefficient of linear term: 1\n",
      "Please enter the constant term: 1\n",
      "The roots are real and are (-0.5+0.8660254037844386j) and (-0.5-0.8660254037844386j)\n"
     ]
    }
   ],
   "source": [
    "import math\n",
    "import cmath\n",
    "a = float(input('Please enter the coefficient of squared term: '))\n",
    "b = float(input('Please enter the coefficient of linear term: '))\n",
    "c = float(input('Please enter the constant term: '))\n",
    "D = b**2 - 4*a*c\n",
    "if D == 0:\n",
    "    print(f'The roots of quadratic equation are equal to each other and have value {-b/(2*a)}')\n",
    "elif D > 0:\n",
    "    print(f'The roots are real and are {(-b+math.sqrt(D))/(2*a)} and {(-b-math.sqrt(D))/(2*a)}')\n",
    "else:\n",
    "    print(f'The roots are real and are {(-b+cmath.sqrt(D))/(2*a)} and {(-b-cmath.sqrt(D))/(2*a)}')"
   ]
  },
  {
   "cell_type": "markdown",
   "id": "dcdfca7f",
   "metadata": {},
   "source": [
    "#### 12. Create a program that determines the day of the week based on the day number (1-7)."
   ]
  },
  {
   "cell_type": "code",
   "execution_count": 32,
   "id": "320c4515",
   "metadata": {
    "ExecuteTime": {
     "end_time": "2023-09-12T04:42:08.614980Z",
     "start_time": "2023-09-12T04:42:03.380858Z"
    }
   },
   "outputs": [
    {
     "name": "stdout",
     "output_type": "stream",
     "text": [
      "Enter the number: 3\n",
      "It is Wednesday\n"
     ]
    }
   ],
   "source": [
    "num_512 = input('Enter the number: ')\n",
    "if num_512 == '1':\n",
    "    print('It is Monday')\n",
    "elif num_512 == '2':\n",
    "    print('It is Tuesday')\n",
    "elif num_512 == '3':\n",
    "    print('It is Wednesday')\n",
    "elif num_512 == '4':\n",
    "    print('It is Thursday')\n",
    "elif num_512 == '5':\n",
    "    print('It is Friday')\n",
    "elif num_512 == '6':\n",
    "    print('It is Saturday')\n",
    "else:\n",
    "    if num_512 == '0':\n",
    "        print('It is Sunday')\n",
    "    else:\n",
    "        print('Invalid day')"
   ]
  },
  {
   "cell_type": "markdown",
   "id": "ea519e13",
   "metadata": {},
   "source": [
    "#### 13. Develop a program that calculates the factorial of a given number using recursion."
   ]
  },
  {
   "cell_type": "code",
   "execution_count": 13,
   "id": "fc398f62",
   "metadata": {
    "ExecuteTime": {
     "end_time": "2023-09-13T18:22:06.500462Z",
     "start_time": "2023-09-13T18:22:05.339904Z"
    }
   },
   "outputs": [
    {
     "name": "stdout",
     "output_type": "stream",
     "text": [
      "Enter the number for which factorial is to be calculated: 5\n",
      "Value of 5! is 120\n"
     ]
    }
   ],
   "source": [
    "def fac(n):\n",
    "    if n <= 1:\n",
    "        return 1\n",
    "    else:\n",
    "        return n*fac(n-1)\n",
    "\n",
    "n = int(input(f'Enter the number for which factorial is to be calculated: '))\n",
    "    \n",
    "print(f'Value of {n}! is {fac(n)}')"
   ]
  },
  {
   "cell_type": "markdown",
   "id": "3c21ce84",
   "metadata": {},
   "source": [
    "#### 14. Write a program to find the largest among three numbers without using the `max()` function."
   ]
  },
  {
   "cell_type": "code",
   "execution_count": 8,
   "id": "b424945d",
   "metadata": {
    "ExecuteTime": {
     "end_time": "2023-09-13T09:28:12.928024Z",
     "start_time": "2023-09-13T09:28:06.732712Z"
    }
   },
   "outputs": [
    {
     "name": "stdout",
     "output_type": "stream",
     "text": [
      "Enter the first number: 6\n",
      "Enter the second number: 80\n",
      "Enter the third number: 3\n",
      "80 is the maximum number\n"
     ]
    }
   ],
   "source": [
    "s = input('Enter the first number: ')\n",
    "t = input('Enter the second number: ')\n",
    "d = input('Enter the third number: ')\n",
    "if s > t and s > d:\n",
    "    print(f'{s} is the maximum number')\n",
    "elif s < t and t < d:\n",
    "    print(f'{d} is the maximum number')\n",
    "elif s < t and t > d:\n",
    "    print(f'{t} is the maximum number')"
   ]
  },
  {
   "cell_type": "markdown",
   "id": "b8df24dd",
   "metadata": {},
   "source": [
    "#### 15. Create a program that simulates a basic ATM transaction menu."
   ]
  },
  {
   "cell_type": "code",
   "execution_count": 36,
   "id": "067c5277",
   "metadata": {
    "ExecuteTime": {
     "end_time": "2023-09-12T07:34:37.876546Z",
     "start_time": "2023-09-12T07:34:33.236040Z"
    }
   },
   "outputs": [
    {
     "name": "stdout",
     "output_type": "stream",
     "text": [
      "Kindly choose how you want to transact: w\n",
      "Enter the amount you want to withdraw: 1000\n",
      "The current balance after withdrawal id 9001.0\n"
     ]
    }
   ],
   "source": [
    "balance = 10001\n",
    "def withdraw_ATM():\n",
    "    withdraw = float(input('Enter the amount you want to withdraw: '))\n",
    "    global balance\n",
    "    if withdraw > balance:\n",
    "        print('You have insufficient balance in your account')\n",
    "    else:\n",
    "        balance -= withdraw\n",
    "    return balance\n",
    "def deposit_ATM(deposit):\n",
    "    global balance\n",
    "    deposit = float(input('Enter the amount you want to deposit: '))    \n",
    "    balance += deposit\n",
    "    return balance\n",
    "\n",
    "def check_balance_ATM():\n",
    "    print(f'the Balance in your bank account is: {balance}')\n",
    "\n",
    "command = input('Kindly choose how you want to transact: ')\n",
    "if command == 'w':\n",
    "    print(f'The current balance after withdrawal is {withdraw_ATM()}')\n",
    "        \n",
    "elif command == 'd':\n",
    "    deposit_ATM()\n",
    "        print(f'The current balance after deposition is {deposit_ATM()}')\n",
    "elif command == 'c':\n",
    "    check_balance_ATM()"
   ]
  },
  {
   "cell_type": "markdown",
   "id": "cd5e0134",
   "metadata": {},
   "source": [
    "#### 16. Build a program that checks if a given string is a palindrome or not."
   ]
  },
  {
   "cell_type": "code",
   "execution_count": 21,
   "id": "8eed8bf3",
   "metadata": {
    "ExecuteTime": {
     "end_time": "2023-09-11T14:15:50.055147Z",
     "start_time": "2023-09-11T14:15:47.685953Z"
    }
   },
   "outputs": [
    {
     "name": "stdout",
     "output_type": "stream",
     "text": [
      "Enter the string you want to investigate: wew\n",
      "The string 'wew' is a palindromic string\n"
     ]
    }
   ],
   "source": [
    "str_516 = input('Enter the string you want to investigate: ')\n",
    "palin_str = lambda str_516: print(f'The string \\'{str_516}\\' is a palindromic string') if str_516 == str_516[::-1] else print(f'The string \\'{str_516}\\' is not palindromic string')\n",
    "palin_str(str_516)"
   ]
  },
  {
   "cell_type": "markdown",
   "id": "32ccc19f",
   "metadata": {},
   "source": [
    "#### 17. Write a program that calculates the average of a list of numbers, excluding the smallest and largest values."
   ]
  },
  {
   "cell_type": "code",
   "execution_count": 30,
   "id": "d6e4e432",
   "metadata": {
    "ExecuteTime": {
     "end_time": "2023-09-11T14:26:47.014224Z",
     "start_time": "2023-09-11T14:26:47.003246Z"
    }
   },
   "outputs": [
    {
     "name": "stdout",
     "output_type": "stream",
     "text": [
      "The average of a list of numbers, excluding the smallest and largest values is 58.25.\n"
     ]
    }
   ],
   "source": [
    "list_517 = [3, 1, 109, 34, 87, 456]\n",
    "list_517.sort()\n",
    "del list_517[0]\n",
    "len_list_517 = len(list_517)\n",
    "del list_517[len_list_517-1]\n",
    "avg_list_517 = sum(list_517)/len(list_517)\n",
    "print(f'The average of a list of numbers, excluding the smallest and largest values is {avg_list_517}.')"
   ]
  },
  {
   "cell_type": "markdown",
   "id": "89a8a298",
   "metadata": {},
   "source": [
    "#### 18. Develop a program that converts a given temperature from Celsius to Fahrenheit."
   ]
  },
  {
   "cell_type": "code",
   "execution_count": 31,
   "id": "d3410626",
   "metadata": {
    "ExecuteTime": {
     "end_time": "2023-09-11T14:33:48.490060Z",
     "start_time": "2023-09-11T14:33:44.364801Z"
    }
   },
   "outputs": [
    {
     "name": "stdout",
     "output_type": "stream",
     "text": [
      "Enter the temperature in celsius: -40\n",
      "The corresponding temperature of -40.0 celsius degrees is -40.0 Fahrenheit degrees.\n"
     ]
    }
   ],
   "source": [
    "C_518 = float(input('Enter the temperature in celsius: '))\n",
    "F_518 = ((9/5)*C_518) + 32\n",
    "print(f'The corresponding temperature of {C_518} celsius degrees is {F_518} Fahrenheit degrees.')"
   ]
  },
  {
   "cell_type": "markdown",
   "id": "46573929",
   "metadata": {},
   "source": [
    "#### 19. Create a program that simulates a basic calculator for addition, subtraction, multiplication, and division."
   ]
  },
  {
   "cell_type": "code",
   "execution_count": 47,
   "id": "a9a12059",
   "metadata": {
    "ExecuteTime": {
     "end_time": "2023-09-12T16:29:11.194371Z",
     "start_time": "2023-09-12T16:29:00.214718Z"
    }
   },
   "outputs": [
    {
     "name": "stdout",
     "output_type": "stream",
     "text": [
      "Enter the first number: 12\n",
      "Enter the second number: 2\n",
      "Choose the option:\n",
      "+ for addition\n",
      "- for subtraction\n",
      "/ for division\n",
      "* for Multiplication\n",
      "x for exit\n",
      "\n",
      "Please enter the option: sd\n",
      "Please enter + - / * or x only\n",
      "Please enter the option: +\n",
      "14.0\n"
     ]
    }
   ],
   "source": [
    "a = float(input('Enter the first number: '))\n",
    "b = float(input('Enter the second number: '))\n",
    "te = True\n",
    "print(\n",
    "\"\"\"Choose the option:\n",
    "+ for addition\n",
    "- for subtraction\n",
    "/ for division\n",
    "* for Multiplication\n",
    "x for exit\n",
    "\"\"\"\n",
    ")\n",
    "command = input('Please enter the option: ')\n",
    "while te == True:\n",
    "    if command == '+':\n",
    "        print(a + b)\n",
    "        te = False\n",
    "    elif command == '-':\n",
    "        print(a - b)\n",
    "        te = False\n",
    "    elif command == '/':\n",
    "        print(a/b)\n",
    "        te = False\n",
    "    elif command == '*':\n",
    "        print(a*b)\n",
    "        te = False\n",
    "    elif command == 'x':\n",
    "        print('Thank you')\n",
    "        break\n",
    "    else:\n",
    "        print('Please enter + - / * or x only')\n",
    "        command = input('Please enter the option: ')\n",
    "        te = True"
   ]
  },
  {
   "cell_type": "markdown",
   "id": "44b8571a",
   "metadata": {},
   "source": [
    "#### 20. Write a program that determines the roots of a cubic equation using the Cardano formula."
   ]
  },
  {
   "cell_type": "code",
   "execution_count": null,
   "id": "3cc2f3e7",
   "metadata": {},
   "outputs": [],
   "source": [
    "print('Please enter the coefficients of cubic equation: ')\n",
    "a = input('Enter the first coefficient of the cubic equation: ')\n",
    "b = input('Enter the second coefficient of the cubic equation: ')\n",
    "c = input('Enter the third coefficient of the cubic equation: ')\n",
    "d = input('Enter the fourth coefficient of the cubic equation: ')\n",
    "D0 = b**2 - 3*a*c\n",
    "D1 = 2*(b**3) - 9*a*b*c + 27*(a**2)*d\n",
    "C = D1 "
   ]
  },
  {
   "cell_type": "markdown",
   "id": "77b04126",
   "metadata": {},
   "source": [
    "### Advanced Level:"
   ]
  },
  {
   "cell_type": "markdown",
   "id": "3eb64bf0",
   "metadata": {},
   "source": [
    "#### 21. Create a program that calculates the income tax based on the user's income and tax brackets."
   ]
  },
  {
   "cell_type": "code",
   "execution_count": 48,
   "id": "98ca2857",
   "metadata": {
    "ExecuteTime": {
     "end_time": "2023-09-12T19:43:45.642843Z",
     "start_time": "2023-09-12T19:43:38.912159Z"
    }
   },
   "outputs": [
    {
     "name": "stdout",
     "output_type": "stream",
     "text": [
      "Enter the income: 1000000\n",
      "Income tax payable on 1000000.0 is 75000.0 INR\n"
     ]
    }
   ],
   "source": [
    "income = float(input('Enter the income: '))\n",
    "if income <= 250000:\n",
    "    tax = 0\n",
    "    print(f'Income tax payable on {income} is {tax} INR')\n",
    "elif 250001 < income <= 500000:\n",
    "    tax = (0.05*(income-250000))\n",
    "    print(f'Income tax payable on {income} is {tax} INR')\n",
    "elif 500001 < income <= 750000:\n",
    "    tax = (12500 + 0.1*(income-500000))\n",
    "    print(f'Income tax payable on {income} is {tax} INR')\n",
    "elif 750001 < income <= 1000000:\n",
    "    tax = (37500 + 0.15*(income-750000))\n",
    "    print(f'Income tax payable on {income} is {tax} INR')\n",
    "elif 1000001 < income <= 1250000:\n",
    "    tax = (75000 + 0.2*(income-1000000))\n",
    "    print(f'Income tax payable on {income} is {tax} INR')\n",
    "elif 1250001 < income <= 1500000:\n",
    "    tax = (125000 + 0.25*(income-1500000))\n",
    "    print(f'Income tax payable on {income} is {tax} INR')\n",
    "elif income > 1500000:\n",
    "    tax = (187500 + 0.30*(income-1500000))\n",
    "    print(f'Income tax payable on {income} is {tax} INR')\n",
    "else:\n",
    "    print('Please enter a valid income')"
   ]
  },
  {
   "cell_type": "markdown",
   "id": "30d0f33a",
   "metadata": {},
   "source": [
    "#### 22. Write a program that simulates a rock-paper-scissors game against the computer."
   ]
  },
  {
   "cell_type": "code",
   "execution_count": 34,
   "id": "a327177f",
   "metadata": {
    "ExecuteTime": {
     "end_time": "2023-09-17T10:59:41.764697Z",
     "start_time": "2023-09-17T10:59:39.986286Z"
    }
   },
   "outputs": [
    {
     "name": "stdout",
     "output_type": "stream",
     "text": [
      "Please choose out of R for ROCK, P for PAPER or S for SCISSORS: R\n",
      "Computer's hand is S\n",
      "You are the winner\n"
     ]
    }
   ],
   "source": [
    "import random\n",
    "my_hand = input('Please choose out of R for ROCK, P for PAPER or S for SCISSORS: ')\n",
    "choice = ['R', 'S', 'P']\n",
    "computer_hand = random.choice(choice)\n",
    "print(f'Computer\\'s hand is {computer_hand}')\n",
    "if my_hand == 'R' and computer_hand == 'S':\n",
    "    print('You are the winner')\n",
    "elif my_hand == 'R' and computer_hand == 'P':\n",
    "    print('Computer is the winner')\n",
    "elif my_hand == 'S' and computer_hand == 'P':\n",
    "    print('You are the winner')\n",
    "elif my_hand == 'S' and computer_hand == 'R': \n",
    "    print('Computer is the winner')\n",
    "elif my_hand == 'P' and computer_hand == 'R':\n",
    "    print('You are the winner')\n",
    "else:\n",
    "    print('Computer is the winner')"
   ]
  },
  {
   "cell_type": "markdown",
   "id": "7e837ab6",
   "metadata": {},
   "source": [
    "#### 23. Develop a program that generates a random password based on user preferences (length, complexity)."
   ]
  },
  {
   "cell_type": "code",
   "execution_count": 2,
   "id": "2d387f9a",
   "metadata": {
    "ExecuteTime": {
     "end_time": "2023-09-16T10:17:22.458995Z",
     "start_time": "2023-09-16T10:17:14.203821Z"
    }
   },
   "outputs": [
    {
     "name": "stdout",
     "output_type": "stream",
     "text": [
      "Enter password length: 10\n",
      "Choose character set for password from these :\n",
      "        1. Digits\n",
      "        2. Letters\n",
      "        3. Special characters\n",
      "        4. Exit\n",
      "Pick a number 5\n",
      "Please pick a valid option!\n",
      "Pick a number 1\n",
      "Pick a number 2\n",
      "Pick a number 3\n",
      "Pick a number 4\n",
      "The random password is >`f9jPA7he\n"
     ]
    }
   ],
   "source": [
    "import string\n",
    "import random\n",
    "\n",
    "length = int(input(\"Enter password length: \"))\n",
    "\n",
    "print('''Choose character set for password from these :\n",
    "        1. Digits\n",
    "        2. Letters\n",
    "        3. Special characters\n",
    "        4. Exit''')\n",
    "\n",
    "characterList = \"\"\n",
    "\n",
    "while(True):\n",
    "    choice = int(input(\"Pick a number \"))\n",
    "    if(choice == 1):\n",
    "        characterList += string.ascii_letters\n",
    "    elif(choice == 2):\n",
    "        characterList += string.digits\n",
    "    elif(choice == 3):\n",
    "        characterList += string.punctuation\n",
    "    elif(choice == 4):\n",
    "        break\n",
    "    else:\n",
    "        print(\"Please pick a valid option!\")\n",
    "\n",
    "password = []\n",
    "\n",
    "for i in range(length):\n",
    "    randomchar = random.choice(characterList)\n",
    "    password.append(randomchar)\n",
    "\n",
    "print(\"The random password is \" + \"\".join(password))"
   ]
  },
  {
   "cell_type": "markdown",
   "id": "c4da5986",
   "metadata": {},
   "source": [
    "#### 24. Create a program that implements a simple text-based adventure game with branching scenarios."
   ]
  },
  {
   "cell_type": "code",
   "execution_count": 53,
   "id": "d6b88a95",
   "metadata": {
    "ExecuteTime": {
     "end_time": "2023-09-17T14:59:23.744470Z",
     "start_time": "2023-09-17T14:59:17.496203Z"
    }
   },
   "outputs": [
    {
     "name": "stdout",
     "output_type": "stream",
     "text": [
      "Thank you for your time!!!\n",
      "This is a text based adventure game\n",
      "At each step, please choose a listed option...\n",
      "\n",
      "Please let me know your name: kim\n",
      "Welcome kim to the game\n",
      "Choose from the below:\n",
      "1. n for North\n",
      "2. s for South\n",
      "3. e for East\n",
      "4. w for West\n",
      "5. x for Exit\n",
      "\n",
      "What you want to pick?: d\n",
      "Please enter a valid literal for direction\n",
      "What you want to pick?: s\n",
      "You have accumulated 1 point\n"
     ]
    }
   ],
   "source": [
    "print(\"\"\"Thank you for your time!!!\n",
    "This is a text based adventure game\n",
    "At each step, please choose a listed option...\n",
    "\"\"\")\n",
    "nm = input('Please let me know your name: ')\n",
    "print(f'Welcome {nm} to the game')\n",
    "print(\"\"\"Choose from the below:\n",
    "1. n for North\n",
    "2. s for South\n",
    "3. e for East\n",
    "4. w for West\n",
    "5. x for Exit\n",
    "\"\"\")\n",
    "\n",
    "def step_for(step):\n",
    "    \n",
    "    accumulated_points = 0\n",
    "    flag = True\n",
    "    while flag == True:\n",
    "        step = input('What you want to pick?: ')\n",
    "        if step == 'n':\n",
    "            accumulated_points = 0\n",
    "            print('You cannot turn backwards, You have accumulated zero points')\n",
    "            flag = False\n",
    "        elif step == 'w':\n",
    "            print('In west there is a wall. So sorry to see you exiting from the game and you have accumulated zero points')\n",
    "            flag = False\n",
    "        elif step == 's':\n",
    "            accumulated_points += 1\n",
    "            print(f'You have accumulated {accumulated_points} point')\n",
    "            flag = False\n",
    "        elif step == 'e':\n",
    "            accumulated_points += 2\n",
    "            print(f'You have accumulated {accumulated_points} points')\n",
    "            flag = False\n",
    "        else:\n",
    "            print('Please enter a valid literal for direction')\n",
    "            flag = True\n",
    "\n",
    "step_for(step)"
   ]
  },
  {
   "cell_type": "markdown",
   "id": "ee7b29e1",
   "metadata": {},
   "source": [
    "#### 25. Build a program that solves a linear equation for x, considering different cases."
   ]
  },
  {
   "cell_type": "code",
   "execution_count": 66,
   "id": "05319a34",
   "metadata": {
    "ExecuteTime": {
     "end_time": "2023-09-17T17:05:14.365431Z",
     "start_time": "2023-09-17T17:04:59.574738Z"
    }
   },
   "outputs": [
    {
     "name": "stdout",
     "output_type": "stream",
     "text": [
      "The liner equation is written like : (a/b)*x + (c/d) = (e/f)\n",
      "a = 1\n",
      "b = 2\n",
      "c = 3\n",
      "d = 1\n",
      "e = 2\n",
      "f = 1\n",
      "Value of x is -2.0\n"
     ]
    }
   ],
   "source": [
    "print('The liner equation is written like : (a/b)*x + (c/d) = (e/f)')\n",
    "a = int(input('a = '))\n",
    "b = int(input('b = '))\n",
    "c = int(input('c = '))\n",
    "d = int(input('d = '))\n",
    "e = int(input('e = '))\n",
    "f = int(input('f = '))\n",
    "if b == 0 or d == 0 or f == 0:\n",
    "    print('Value of x is not calculatable')\n",
    "elif c == 0 and e == 0 and b != 0 and d != 0 and f != 0:\n",
    "    print('Value of x = 0')\n",
    "elif c == 0 and e == 0 and b == 0 and d == 0 and f == 0:\n",
    "    print('Value of x is not calculatable')\n",
    "else:\n",
    "    print(f'Value of x is {((e/f)-(c/d))/(a/b)}')"
   ]
  },
  {
   "cell_type": "markdown",
   "id": "c150d896",
   "metadata": {},
   "source": [
    "#### 26. Write a program that simulates a basic quiz game with multiple-choice questions and scoring."
   ]
  },
  {
   "cell_type": "code",
   "execution_count": 77,
   "id": "48c224c8",
   "metadata": {
    "ExecuteTime": {
     "end_time": "2023-09-17T18:02:35.927884Z",
     "start_time": "2023-09-17T18:02:10.907248Z"
    }
   },
   "outputs": [
    {
     "name": "stdout",
     "output_type": "stream",
     "text": [
      "Please enter your name: Naman\n",
      "'Welcome to the Quiz Naman'\n",
      "Question no 1:\n",
      "What is the capitol of India\n",
      "a. New york\n",
      "b. New Delhi\n",
      "c. Columbo\n",
      "d. Bengaluru\n",
      "\n",
      "Please enter the option for Question no. 1: s\n",
      "Please enter a valid option\n",
      "Please enter the option for Question no. 1: d\n",
      "Answer no 1 is incorrect\n",
      "\n",
      "\n",
      "\n",
      "Question no 2:\n",
      "Which team are Asia Cup 2023 champions\n",
      "a. Bangladesh\n",
      "b. Sri Lanka\n",
      "c. Pakistan\n",
      "d. India\n",
      "\n",
      "Please enter the option for Question no. 2: s\n",
      "Please enter a valid option\n",
      "Please enter the option for Question no. 2: d\n",
      "Answer no 2 is correct\n",
      "\n",
      "\n",
      "\n",
      "Naman You have scored 1\n"
     ]
    }
   ],
   "source": [
    "nme = input('Please enter your name: ')\n",
    "print(f'\\'Welcome to the Quiz {nme}\\'')\n",
    "q_1 = \"\"\"Question no 1:\n",
    "What is the capitol of India\n",
    "a. New york\n",
    "b. New Delhi\n",
    "c. Columbo\n",
    "d. Bengaluru\n",
    "\"\"\"\n",
    "q_2 = \"\"\"Question no 2:\n",
    "Which team are Asia Cup 2023 champions\n",
    "a. Bangladesh\n",
    "b. Sri Lanka\n",
    "c. Pakistan\n",
    "d. India\n",
    "\"\"\"\n",
    "score = 0\n",
    "lst_q = [q_1, q_2]\n",
    "print(q_1)\n",
    "flag_1 = True\n",
    "while flag_1 == True:\n",
    "    ask_q_1 = input('Please enter the option for Question no. 1: ')\n",
    "    if lst_q[0] == q_1 and ask_q_1 == 'b':\n",
    "        print('Answer no 1 is correct')\n",
    "        score+=1\n",
    "        flag_1 = False\n",
    "    elif  lst_q[0] == q_1 and ask_q_1 in ['a','c','d']:\n",
    "        print('Answer no 1 is incorrect')\n",
    "        flag_1 = False\n",
    "    else:\n",
    "        print('Please enter a valid option')\n",
    "        flag_1 = True\n",
    "\n",
    "print('\\n\\n')\n",
    "print(q_2)\n",
    "flag_2 = True\n",
    "while flag_2 == True:\n",
    "    ask_q_2 = input('Please enter the option for Question no. 2: ')\n",
    "    if lst_q[1] == q_2 and ask_q_2 == 'd':\n",
    "        print('Answer no 2 is correct')\n",
    "        score+=1\n",
    "        flag_2 = False\n",
    "    elif  lst_q[1] == q_2 and ask_q_2 in ['a','b','c']:\n",
    "        print('Answer no 2 is incorrect')\n",
    "        flag_2 = False\n",
    "    else:\n",
    "        print('Please enter a valid option')\n",
    "        flag_2 = True\n",
    "print('\\n\\n')\n",
    "\n",
    "print(f'{nme} You have scored {score}')    "
   ]
  },
  {
   "cell_type": "markdown",
   "id": "d50ece60",
   "metadata": {},
   "source": [
    "#### 27. Develop a program that determines whether a given year is a prime number or not."
   ]
  },
  {
   "cell_type": "code",
   "execution_count": 67,
   "id": "6689f95d",
   "metadata": {
    "ExecuteTime": {
     "end_time": "2023-09-17T17:28:34.771464Z",
     "start_time": "2023-09-17T17:28:31.181226Z"
    }
   },
   "outputs": [
    {
     "name": "stdout",
     "output_type": "stream",
     "text": [
      "Enter the year: 2003\n"
     ]
    },
    {
     "data": {
      "text/plain": [
       "'The year is a prime number'"
      ]
     },
     "execution_count": 67,
     "metadata": {},
     "output_type": "execute_result"
    }
   ],
   "source": [
    "def isPrime(yr):\n",
    "    if yr > 1:\n",
    "        for i in range(2, yr):\n",
    "            if yr%i==0:\n",
    "                return 'The year is not a prime number'\n",
    "                break\n",
    "        else:\n",
    "            return 'The year is a prime number'\n",
    "\n",
    "yr_627 = int(input('Enter the year: '))\n",
    "isPrime(yr_627)"
   ]
  },
  {
   "cell_type": "markdown",
   "id": "c8e68680",
   "metadata": {},
   "source": [
    "#### 28. Create a program that sorts three numbers in ascending order using conditional statements."
   ]
  },
  {
   "cell_type": "code",
   "execution_count": 7,
   "id": "cd4a7e30",
   "metadata": {
    "ExecuteTime": {
     "end_time": "2023-09-15T17:44:06.627398Z",
     "start_time": "2023-09-15T17:43:59.999650Z"
    }
   },
   "outputs": [
    {
     "name": "stdout",
     "output_type": "stream",
     "text": [
      "Enter first number: 234\n",
      "Enter second number: 109\n",
      "Enter third number: 233\n",
      "Sorted ascending order is 109 < 233 < 234\n"
     ]
    }
   ],
   "source": [
    "a = input('Enter first number: ')\n",
    "b = input('Enter second number: ')\n",
    "c = input('Enter third number: ')\n",
    "if a < b and a < c:\n",
    "    min1 = a\n",
    "    if b < c:\n",
    "        min2 = b\n",
    "        min3 = c\n",
    "    else:\n",
    "        min2 = c\n",
    "        min3 = b\n",
    "elif a < b and a > c:\n",
    "    min1 = c\n",
    "    min2 = a\n",
    "    min3 = b\n",
    "else:\n",
    "    min3 = a\n",
    "    if b > c:\n",
    "        min1 = c\n",
    "        min2 = b\n",
    "    else:\n",
    "        min1 = b\n",
    "        min2 = c\n",
    "print(f'Sorted ascending order is {min1} < {min2} < {min3}')"
   ]
  },
  {
   "cell_type": "markdown",
   "id": "4037f7b9",
   "metadata": {},
   "source": [
    "#### 29. Build a program that determines the roots of a quartic equation using numerical methods."
   ]
  },
  {
   "cell_type": "markdown",
   "id": "9ffedd70",
   "metadata": {
    "ExecuteTime": {
     "end_time": "2023-09-17T18:12:41.283732Z",
     "start_time": "2023-09-17T18:12:41.262730Z"
    }
   },
   "source": [
    "NOT-ATTEMPTED"
   ]
  },
  {
   "cell_type": "markdown",
   "id": "3090959c",
   "metadata": {},
   "source": [
    "#### 30. Write a program that calculates the BMI (Body Mass Index) and provides health recommendations based on the user's input."
   ]
  },
  {
   "cell_type": "code",
   "execution_count": 2,
   "id": "9329f4f1",
   "metadata": {
    "ExecuteTime": {
     "end_time": "2023-09-15T07:46:15.193336Z",
     "start_time": "2023-09-15T07:46:08.819893Z"
    }
   },
   "outputs": [
    {
     "name": "stdout",
     "output_type": "stream",
     "text": [
      "Enter your weight in Kgs: 70\n",
      "Enter your height in meters: 1.65\n",
      "You are Overweight\n"
     ]
    }
   ],
   "source": [
    "weight_630 = float(input('Enter your weight in Kgs: '))\n",
    "height_630 = float(input('Enter your height in meters: '))\n",
    "bmi_630 = weight_630/(height_630**2)\n",
    "if 0 < bmi_630 <= 18.5:\n",
    "    print('You are underweight')\n",
    "elif 18.5 < bmi_630 < 25:\n",
    "    print('You seem to be of normal weight')\n",
    "elif 25 <= bmi_630 < 30:\n",
    "    print('You are Overweight')\n",
    "else: \n",
    "    print('You are Obese')"
   ]
  },
  {
   "cell_type": "markdown",
   "id": "2888fd2b",
   "metadata": {},
   "source": [
    "### Challenge Level:"
   ]
  },
  {
   "cell_type": "markdown",
   "id": "f48cdacb",
   "metadata": {},
   "source": [
    "#### 31. Create a program that validates a password based on complexity rules (length, characters, etc.)."
   ]
  },
  {
   "cell_type": "markdown",
   "id": "4048e3fa",
   "metadata": {},
   "source": [
    "<ul><b>GMAIL: Password requirements</b>\n",
    "<li>Use a combination of uppercase and lowercase letters, numbers, and symbols (except symbols or characters with accents, like ñ or â).</li></ul>"
   ]
  },
  {
   "cell_type": "code",
   "execution_count": 31,
   "id": "aecff82e",
   "metadata": {
    "ExecuteTime": {
     "end_time": "2023-09-15T18:55:31.752228Z",
     "start_time": "2023-09-15T18:55:24.909338Z"
    }
   },
   "outputs": [
    {
     "name": "stdout",
     "output_type": "stream",
     "text": [
      "Enter the password to check its validity according to complexity rules: vghhjjj\n",
      "Please type in more than 10 characters for the password\n"
     ]
    }
   ],
   "source": [
    "pswrd = input('Enter the password to check its validity according to complexity rules: ')\n",
    "pswrd_lst = []\n",
    "pswrd_lst_1 = []\n",
    "pswrd_lst.extend(pswrd)\n",
    "for i in pswrd_lst:\n",
    "    pswrd_lst_1.append(ord(i)) \n",
    "if len(pswrd_lst_1) > 10:\n",
    "        if 32 > any(pswrd_lst_1) > 127:\n",
    "            print(f'Please create more secure password')\n",
    "        else:\n",
    "            print(f'Password is strong enough')\n",
    "else:\n",
    "    print('Please type in more than 10 characters for the password')\n",
    "            "
   ]
  },
  {
   "cell_type": "markdown",
   "id": "f07309f7",
   "metadata": {},
   "source": [
    "#### 32. Develop a program that performs matrix addition and subtraction based on user input."
   ]
  },
  {
   "cell_type": "code",
   "execution_count": 89,
   "id": "5dd32306",
   "metadata": {
    "ExecuteTime": {
     "end_time": "2023-09-17T19:15:16.918900Z",
     "start_time": "2023-09-17T19:15:13.628029Z"
    }
   },
   "outputs": [
    {
     "name": "stdout",
     "output_type": "stream",
     "text": [
      "Enter the number of rows in the first matrix: 2\n",
      "Enter the number of columns in the first matrix: 2\n",
      "\n",
      "\n",
      " [[88, 75], [69, 6]]\n",
      "\n",
      "\n",
      "Enter the number of rows in the second matrix: 2\n",
      "Enter the number of columns in the second matrix: 2\n",
      "\n",
      "\n",
      " [[78, 35], [75, 71]]\n",
      "\n",
      "\n",
      "The addition of the two matrices is as below:\n",
      "[166, 110]\n",
      "[144, 77]\n",
      "The subtraction of the two matrices is as below:\n",
      "[10, 40]\n",
      "[-6, -65]\n"
     ]
    }
   ],
   "source": [
    "row_mat_1 = int(input('Enter the number of rows in the first matrix: '))\n",
    "col_mat_1 = int(input('Enter the number of columns in the first matrix: '))\n",
    "mat_1 = []\n",
    "mat_2 = []\n",
    "for i in range(1, row_mat_1+1):\n",
    "    row_1 = []\n",
    "    for j in range(1, col_mat_1+1):\n",
    "            row_1.append(random.randint(1, 100))\n",
    "    mat_1.append(row_1)\n",
    "print(f'\\n\\n {mat_1}\\n\\n')\n",
    "row_mat_2 = int(input('Enter the number of rows in the second matrix: '))\n",
    "col_mat_2 = int(input('Enter the number of columns in the second matrix: '))\n",
    "for k in range(1, row_mat_2+1):\n",
    "    row_2 = []\n",
    "    for m in range(1, col_mat_2+1):\n",
    "            row_2.append(random.randint(1, 100))\n",
    "    mat_2.append(row_2)\n",
    "print(f'\\n\\n {mat_2}\\n\\n')\n",
    "\n",
    "if row_mat_1 == row_mat_2 and col_mat_1 == col_mat_2:\n",
    "    mat_sm = [[0 for col in range(col_mat_1)] for row in range(row_mat_1)]\n",
    "    mat_sb = [[0 for col in range(col_mat_1)] for row in range(row_mat_1)]\n",
    "    for i in range(len(mat_1)):\n",
    "        for j in range(len(mat_1[0])):\n",
    "            mat_sm[i][j] = mat_1[i][j] + mat_2[i][j]\n",
    "            mat_sb[i][j] = mat_1[i][j] - mat_2[i][j]\n",
    "    print('The addition of the two matrices is as below:')\n",
    "    for r in mat_sm:\n",
    "        print(r)\n",
    "    print('The subtraction of the two matrices is as below:')\n",
    "    for s in mat_sb:\n",
    "        print(s)\n",
    "else:\n",
    "    print('The matrices are of unequal size, hence they can not be added or subtracted')"
   ]
  },
  {
   "cell_type": "markdown",
   "id": "1bf9e4a3",
   "metadata": {},
   "source": [
    "#### 33. Write a program that calculates the greatest common divisor (GCD) of two numbers using the Euclidean algorithm."
   ]
  },
  {
   "cell_type": "markdown",
   "id": "eca4f290",
   "metadata": {},
   "source": [
    "NOT ATTEMPTED"
   ]
  },
  {
   "cell_type": "markdown",
   "id": "1bac76e1",
   "metadata": {},
   "source": [
    "#### 34. Build a program that performs matrix multiplication using nested loops and conditional statements."
   ]
  },
  {
   "cell_type": "code",
   "execution_count": 94,
   "id": "a3ea43c6",
   "metadata": {
    "ExecuteTime": {
     "end_time": "2023-09-17T19:53:53.633151Z",
     "start_time": "2023-09-17T19:53:47.373896Z"
    }
   },
   "outputs": [
    {
     "name": "stdout",
     "output_type": "stream",
     "text": [
      "Enter the number of rows in the first matrix: 2\n",
      "Enter the number of columns in the first matrix: 1\n",
      "\n",
      "\n",
      " [[2], [9]]\n",
      "\n",
      "\n",
      "Enter the number of rows in the second matrix: 1\n",
      "Enter the number of columns in the second matrix: 2\n",
      "\n",
      "\n",
      " [[7, 3]]\n",
      "\n",
      "\n",
      "Multiplication of given two matrices is:\n",
      "14 6 \n",
      "63 27 \n"
     ]
    }
   ],
   "source": [
    "row_mat_3 = int(input('Enter the number of rows in the first matrix: '))\n",
    "col_mat_3 = int(input('Enter the number of columns in the first matrix: '))\n",
    "mat_3 = []\n",
    "mat_4 = []\n",
    "for i in range(1, row_mat_3+1):\n",
    "    row_3 = []\n",
    "    for j in range(1, col_mat_3+1):\n",
    "            row_3.append(random.randint(1, 10))\n",
    "    mat_3.append(row_3)\n",
    "print(f'\\n\\n {mat_3}\\n\\n')\n",
    "row_mat_4 = int(input('Enter the number of rows in the second matrix: '))\n",
    "col_mat_4 = int(input('Enter the number of columns in the second matrix: '))\n",
    "for k in range(1, row_mat_4+1):\n",
    "    row_4 = []\n",
    "    for m in range(1, col_mat_4+1):\n",
    "            row_4.append(random.randint(1, 10))\n",
    "    mat_4.append(row_4)\n",
    "print(f'\\n\\n {mat_4}\\n\\n')\n",
    "mat_pr = [[0 for col in range(col_mat_4)] for row in range(row_mat_3)]\n",
    "if row_mat_3 == col_mat_4:\n",
    "    for i in range(1, row_mat_3+1):\n",
    "        for j in range(1,col_mat_4+1):\n",
    "            for k in range(1, row_mat_4+1):\n",
    "                mat_pr[i][j] += mat_3[i][k] * mat_4[k][j]\n",
    "            \n",
    "    print(\"Multiplication of given two matrices is:\")\n",
    "    for i in range(1, row_mat_3+1):\n",
    "        for j in range(1, col_mat_4+1):\n",
    "            print(mat_pr[i][j], end=\" \")\n",
    "        print(\"\\n\", end=\"\")\n",
    "else:\n",
    "    print('Since the number of columns in first matrix is not equal to the number of rows in second matrix')"
   ]
  },
  {
   "cell_type": "markdown",
   "id": "5ba067ee",
   "metadata": {},
   "source": [
    "#### 35. Create a program that simulates a basic text-based tic-tac-toe game against the computer."
   ]
  },
  {
   "cell_type": "markdown",
   "id": "9eea425f",
   "metadata": {},
   "source": [
    "NOT ATTEMPTED"
   ]
  },
  {
   "cell_type": "markdown",
   "id": "e2beb2d7",
   "metadata": {},
   "source": [
    "#### 36. Write a program that generates Fibonacci numbers up to a specified term using iterative methods."
   ]
  },
  {
   "cell_type": "code",
   "execution_count": 97,
   "id": "f2f62b6e",
   "metadata": {
    "ExecuteTime": {
     "end_time": "2023-09-17T20:13:32.804378Z",
     "start_time": "2023-09-17T20:13:27.992066Z"
    }
   },
   "outputs": [
    {
     "name": "stdout",
     "output_type": "stream",
     "text": [
      "Enter the number of elements in fibonacci sequence: 5\n",
      "Fibonacci Series: 0 1 1 2 3 "
     ]
    }
   ],
   "source": [
    "num = int(input('Enter the number of elements in fibonacci sequence: '))\n",
    "n1, n2 = 0, 1\n",
    "print(\"Fibonacci Series:\", n1, n2, end=\" \")\n",
    "for i in range(2, num):\n",
    "    n3 = n1 + n2\n",
    "    n1 = n2\n",
    "    n2 = n3\n",
    "    print(n3, end=\" \")"
   ]
  },
  {
   "cell_type": "markdown",
   "id": "c3b3391a",
   "metadata": {},
   "source": [
    "#### 37. Develop a program that calculates the nth term of the Fibonacci sequence using memoization."
   ]
  },
  {
   "cell_type": "code",
   "execution_count": 96,
   "id": "d0788721",
   "metadata": {
    "ExecuteTime": {
     "end_time": "2023-09-17T20:04:14.075113Z",
     "start_time": "2023-09-17T20:04:08.132598Z"
    }
   },
   "outputs": [
    {
     "name": "stdout",
     "output_type": "stream",
     "text": [
      "Enter the nth term for fibonacci sequence: 34\n"
     ]
    },
    {
     "data": {
      "text/plain": [
       "5702887"
      ]
     },
     "execution_count": 96,
     "metadata": {},
     "output_type": "execute_result"
    }
   ],
   "source": [
    "def fib(nth):\n",
    "    if (nth <= 1):\n",
    "        return nth\n",
    "    else: \n",
    "        return fib(nth - 1) + fib(nth - 2)\n",
    "n = int(input('Enter the nth term for fibonacci sequence: '))\n",
    "fib(n)"
   ]
  },
  {
   "cell_type": "markdown",
   "id": "d54bc4d6",
   "metadata": {},
   "source": [
    "#### 38. Create a program that generates a calendar for a given month and year using conditional statements."
   ]
  },
  {
   "cell_type": "markdown",
   "id": "b24d93b9",
   "metadata": {},
   "source": [
    "NOT ATTEMPTED"
   ]
  },
  {
   "cell_type": "markdown",
   "id": "df70bbea",
   "metadata": {},
   "source": [
    "#### 39. Build a program that simulates a basic text-based blackjack game against the computer."
   ]
  },
  {
   "cell_type": "markdown",
   "id": "92748726",
   "metadata": {},
   "source": [
    "NOT ATTEMPTED"
   ]
  },
  {
   "cell_type": "markdown",
   "id": "b9d6a3dc",
   "metadata": {},
   "source": [
    "#### 40. Write a program that generates the prime factors of a given number using trial division."
   ]
  },
  {
   "cell_type": "markdown",
   "id": "865649fa",
   "metadata": {},
   "source": [
    "NOT ATTEMPTED"
   ]
  },
  {
   "cell_type": "code",
   "execution_count": null,
   "id": "dc481c3e",
   "metadata": {},
   "outputs": [],
   "source": []
  }
 ],
 "metadata": {
  "kernelspec": {
   "display_name": "Python 3 (ipykernel)",
   "language": "python",
   "name": "python3"
  },
  "language_info": {
   "codemirror_mode": {
    "name": "ipython",
    "version": 3
   },
   "file_extension": ".py",
   "mimetype": "text/x-python",
   "name": "python",
   "nbconvert_exporter": "python",
   "pygments_lexer": "ipython3",
   "version": "3.9.7"
  },
  "toc": {
   "base_numbering": 1,
   "nav_menu": {},
   "number_sections": true,
   "sideBar": true,
   "skip_h1_title": false,
   "title_cell": "Table of Contents",
   "title_sidebar": "Contents",
   "toc_cell": false,
   "toc_position": {},
   "toc_section_display": true,
   "toc_window_display": false
  }
 },
 "nbformat": 4,
 "nbformat_minor": 5
}
