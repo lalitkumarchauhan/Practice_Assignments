{
 "cells": [
  {
   "cell_type": "markdown",
   "id": "ff2fb038",
   "metadata": {},
   "source": [
    "# For Loop\n",
    "\n",
    "## Assignment Questions"
   ]
  },
  {
   "cell_type": "markdown",
   "id": "24536e26",
   "metadata": {},
   "source": [
    "### Basic Level:"
   ]
  },
  {
   "cell_type": "markdown",
   "id": "5edea223",
   "metadata": {},
   "source": [
    "#### 1. Write a Python program to print the numbers from 1 to 10 using a `for` loop."
   ]
  },
  {
   "cell_type": "code",
   "execution_count": 2,
   "id": "f400fe7a",
   "metadata": {
    "ExecuteTime": {
     "end_time": "2023-09-05T21:36:33.102894Z",
     "start_time": "2023-09-05T21:36:33.094887Z"
    }
   },
   "outputs": [
    {
     "name": "stdout",
     "output_type": "stream",
     "text": [
      "1 2 3 4 5 6 7 8 9 10 "
     ]
    }
   ],
   "source": [
    "for i in range(1,11):\n",
    "    print(i, end = \" \")"
   ]
  },
  {
   "cell_type": "markdown",
   "id": "5a5bd91d",
   "metadata": {},
   "source": [
    "#### 2. Create a program that calculates the sum of all numbers in a list using a `for` loop."
   ]
  },
  {
   "cell_type": "code",
   "execution_count": 5,
   "id": "4f424191",
   "metadata": {
    "ExecuteTime": {
     "end_time": "2023-09-05T21:40:38.510944Z",
     "start_time": "2023-09-05T21:40:38.496950Z"
    }
   },
   "outputs": [
    {
     "name": "stdout",
     "output_type": "stream",
     "text": [
      "55\n"
     ]
    }
   ],
   "source": [
    "lst_2 = [1,2,3,4,5,6,7,8,9,10]\n",
    "sm_lst_2 = 0\n",
    "for i in lst_2:\n",
    "    sm_lst_2 += i\n",
    "print(sm_lst_2)"
   ]
  },
  {
   "cell_type": "markdown",
   "id": "298fc70d",
   "metadata": {},
   "source": [
    "#### 3. Write a program to print the characters of a string in reverse order using a `for` loop."
   ]
  },
  {
   "cell_type": "code",
   "execution_count": 6,
   "id": "c3af2ca8",
   "metadata": {
    "ExecuteTime": {
     "end_time": "2023-09-05T21:52:10.311441Z",
     "start_time": "2023-09-05T21:52:10.298441Z"
    }
   },
   "outputs": [
    {
     "name": "stdout",
     "output_type": "stream",
     "text": [
      "dlrowolleh\n"
     ]
    }
   ],
   "source": [
    "str_3 = \"helloworld\"\n",
    "str_3_1 = \"\"\n",
    "for i in str_3:\n",
    "    str_3_1 = i + str_3_1\n",
    "print(str_3_1)"
   ]
  },
  {
   "cell_type": "markdown",
   "id": "9e1cf2eb",
   "metadata": {},
   "source": [
    "#### 4. Develop a program that finds the factorial of a given number using a `for` loop."
   ]
  },
  {
   "cell_type": "code",
   "execution_count": 14,
   "id": "cea93092",
   "metadata": {
    "ExecuteTime": {
     "end_time": "2023-09-06T18:57:33.616471Z",
     "start_time": "2023-09-06T18:57:31.921681Z"
    }
   },
   "outputs": [
    {
     "name": "stdout",
     "output_type": "stream",
     "text": [
      "Enter the number: 3\n",
      "Factorial of 3 is 6\n"
     ]
    }
   ],
   "source": [
    "num_4 = int(input('Enter the number: '))\n",
    "fac_num = 1\n",
    "if num_4 == 0:\n",
    "    fac_num = 1\n",
    "else:\n",
    "    for i in range(1,num_4+1):\n",
    "        fac_num *= i\n",
    "print('Factorial of {0} is {1}'.format(num_4,fac_num))"
   ]
  },
  {
   "cell_type": "markdown",
   "id": "07b24ebe",
   "metadata": {},
   "source": [
    "#### 5. Create a program to print the multiplication table of a given number using a `for` loop."
   ]
  },
  {
   "cell_type": "code",
   "execution_count": 16,
   "id": "e5f5e07e",
   "metadata": {
    "ExecuteTime": {
     "end_time": "2023-09-06T19:03:20.344480Z",
     "start_time": "2023-09-06T19:03:18.227899Z"
    }
   },
   "outputs": [
    {
     "name": "stdout",
     "output_type": "stream",
     "text": [
      "Enter the number for which you want to print the table: 4\n",
      "4  x  1 =  4\n",
      "4  x  2 =  8\n",
      "4  x  3 =  12\n",
      "4  x  4 =  16\n",
      "4  x  5 =  20\n",
      "4  x  6 =  24\n",
      "4  x  7 =  28\n",
      "4  x  8 =  32\n",
      "4  x  9 =  36\n",
      "4  x  10 =  40\n"
     ]
    }
   ],
   "source": [
    "num_5 = int(input('Enter the number for which you want to print the table: '))\n",
    "for j in range(1,11):\n",
    "    print(f'{num_5}  x  {j} =  {num_5*j}')"
   ]
  },
  {
   "cell_type": "markdown",
   "id": "1e391cb7",
   "metadata": {},
   "source": [
    "#### 6. Write a program that counts the number of even and odd numbers in a list using a `for` loop."
   ]
  },
  {
   "cell_type": "code",
   "execution_count": 19,
   "id": "aecc747c",
   "metadata": {
    "ExecuteTime": {
     "end_time": "2023-09-06T19:22:37.329440Z",
     "start_time": "2023-09-06T19:22:37.261457Z"
    }
   },
   "outputs": [
    {
     "name": "stdout",
     "output_type": "stream",
     "text": [
      "There are 3 even numbers and 4 odd numbers in the given list [2, 9, 2, 45, 65, 2, 1]\n"
     ]
    }
   ],
   "source": [
    "list_6 = [2, 9, 2, 45, 65, 2, 1]\n",
    "count_even = 0\n",
    "count_odd = 0\n",
    "for i in list_6:\n",
    "    if i%2 == 0:\n",
    "        count_even += 1\n",
    "    elif i%2 != 0:\n",
    "        count_odd += 1\n",
    "    else:\n",
    "        print('Sorry this is neither an even number nor an odd number')\n",
    "print(f'There are {count_even} even numbers and {count_odd} odd numbers in the given list {list_6}')\n"
   ]
  },
  {
   "cell_type": "markdown",
   "id": "c2d92c2a",
   "metadata": {},
   "source": [
    "#### 7. Develop a program that prints the squares of numbers from 1 to 5 using a `for` loop."
   ]
  },
  {
   "cell_type": "code",
   "execution_count": 22,
   "id": "39a789b2",
   "metadata": {
    "ExecuteTime": {
     "end_time": "2023-09-06T19:24:54.827458Z",
     "start_time": "2023-09-06T19:24:54.816454Z"
    }
   },
   "outputs": [
    {
     "name": "stdout",
     "output_type": "stream",
     "text": [
      "Square of 1 is 1\n",
      "Square of 2 is 4\n",
      "Square of 3 is 9\n",
      "Square of 4 is 16\n",
      "Square of 5 is 25\n"
     ]
    }
   ],
   "source": [
    "num_7 = 5\n",
    "for i in range(1,num_7+1):\n",
    "    print(f'Square of {i} is {i**2}')"
   ]
  },
  {
   "cell_type": "markdown",
   "id": "0e2b8848",
   "metadata": {},
   "source": [
    "#### 8. Create a program to find the length of a string without using the `len()` function."
   ]
  },
  {
   "cell_type": "code",
   "execution_count": 26,
   "id": "7ffe7b3e",
   "metadata": {
    "ExecuteTime": {
     "end_time": "2023-09-06T19:28:01.813783Z",
     "start_time": "2023-09-06T19:28:01.799788Z"
    }
   },
   "outputs": [
    {
     "name": "stdout",
     "output_type": "stream",
     "text": [
      "length of string 'IAmACoder' is 9\n"
     ]
    }
   ],
   "source": [
    "str_8 = 'IAmACoder'\n",
    "count_str = 0\n",
    "for i in str_8:\n",
    "    count_str+=1\n",
    "print(f'length of string \\'{str_8}\\' is {count_str}')"
   ]
  },
  {
   "cell_type": "markdown",
   "id": "55872a66",
   "metadata": {},
   "source": [
    "#### 9. Write a program that calculates the average of a list of numbers using a `for` loop."
   ]
  },
  {
   "cell_type": "code",
   "execution_count": 28,
   "id": "fe7f37ed",
   "metadata": {
    "ExecuteTime": {
     "end_time": "2023-09-06T19:41:36.900930Z",
     "start_time": "2023-09-06T19:41:36.841027Z"
    }
   },
   "outputs": [
    {
     "name": "stdout",
     "output_type": "stream",
     "text": [
      "Average of the list [2, 9, 2, 45, 65, 2, 1] is 18.0\n"
     ]
    }
   ],
   "source": [
    "list_9 = [2, 9, 2, 45, 65, 2, 1]\n",
    "sum_9 = 0\n",
    "count_9 = 0\n",
    "for i in list_9:\n",
    "    sum_9 += i\n",
    "    count_9 +=1\n",
    "print(f'Average of the list {list_9} is {sum_9/count_9}')"
   ]
  },
  {
   "cell_type": "markdown",
   "id": "5671b24f",
   "metadata": {
    "ExecuteTime": {
     "end_time": "2023-09-06T19:41:57.338076Z",
     "start_time": "2023-09-06T19:41:56.982431Z"
    }
   },
   "source": [
    "#### 10. Develop a program that prints the first `n` Fibonacci numbers using a `for` loop."
   ]
  },
  {
   "cell_type": "code",
   "execution_count": 30,
   "id": "44d24afd",
   "metadata": {
    "ExecuteTime": {
     "end_time": "2023-09-06T19:54:14.437586Z",
     "start_time": "2023-09-06T19:54:11.528124Z"
    }
   },
   "outputs": [
    {
     "name": "stdout",
     "output_type": "stream",
     "text": [
      "Enter the number upto which you want the Fibonacci series: 10\n",
      "[0, 1, 1, 2, 3, 5, 8, 13, 21, 34]\n"
     ]
    }
   ],
   "source": [
    "list_10 = []\n",
    "n_10 = int(input('Enter the number upto which you want the Fibonacci series: '))\n",
    "a = 0    \n",
    "b = 1    \n",
    "for i in range(0,n_10):  \n",
    "    list_10.append(a)\n",
    "    c = a + b\n",
    "    a = b\n",
    "    b = c\n",
    "print(list_10)"
   ]
  },
  {
   "cell_type": "markdown",
   "id": "17bdd582",
   "metadata": {},
   "source": [
    "### Intermediate Level:"
   ]
  },
  {
   "cell_type": "markdown",
   "id": "aa413dcb",
   "metadata": {},
   "source": [
    "#### 11. Write a program to check if a given list contains any duplicates using a `for` loop."
   ]
  },
  {
   "cell_type": "code",
   "execution_count": 45,
   "id": "df98d3f5",
   "metadata": {
    "ExecuteTime": {
     "end_time": "2023-09-06T20:23:20.748224Z",
     "start_time": "2023-09-06T20:23:20.447052Z"
    }
   },
   "outputs": [
    {
     "name": "stdout",
     "output_type": "stream",
     "text": [
      "The list [0, 1, 1, 2, 2, 3, 5, 8, 13, 21, 34] contains 2 duplicates\n"
     ]
    }
   ],
   "source": [
    "def isDupli(list_11):\n",
    "    count_dupli = 0\n",
    "    for i, x in enumerate(list_11):\n",
    "        if i != list_11.index(x):\n",
    "            count_dupli +=1\n",
    "    return print(f'The list {list_11} contains {count_dupli} duplicates')\n",
    "\n",
    "isDupli([0, 1, 1, 2, 2, 3, 5, 8, 13, 21, 34])"
   ]
  },
  {
   "cell_type": "markdown",
   "id": "1bf91030",
   "metadata": {},
   "source": [
    "#### 12. Create a program that prints the prime numbers in a given range using a `for` loop."
   ]
  },
  {
   "cell_type": "code",
   "execution_count": 4,
   "id": "5a067ddb",
   "metadata": {
    "ExecuteTime": {
     "end_time": "2023-09-07T08:32:14.545984Z",
     "start_time": "2023-09-07T08:32:11.802381Z"
    }
   },
   "outputs": [
    {
     "name": "stdout",
     "output_type": "stream",
     "text": [
      "Enter the start point of the range: 3\n",
      "Enter the end point of the range: 5\n",
      "[3, 5]\n"
     ]
    }
   ],
   "source": [
    "a = int(input('Enter the start point of the range: '))\n",
    "b = int(input('Enter the end point of the range: '))\n",
    "list_12 = []\n",
    "for i in range(a, b+1):\n",
    "    count = 0\n",
    "    for j in range(2, (i//2 + 1)):\n",
    "        if(i % j == 0):\n",
    "            count = count + 1\n",
    "            break\n",
    "\n",
    "    if (count == 0 and i != 1):\n",
    "        list_12.append(i)\n",
    "print(list_12)"
   ]
  },
  {
   "cell_type": "markdown",
   "id": "7d6c3b51",
   "metadata": {},
   "source": [
    "#### 13. Develop a program that counts the number of vowels in a string using a `for` loop."
   ]
  },
  {
   "cell_type": "code",
   "execution_count": 57,
   "id": "5275b13c",
   "metadata": {
    "ExecuteTime": {
     "end_time": "2023-09-06T20:45:55.411661Z",
     "start_time": "2023-09-06T20:45:49.613379Z"
    }
   },
   "outputs": [
    {
     "name": "stdout",
     "output_type": "stream",
     "text": [
      "Entre the string you want to investigated: BreakFastTime\n",
      "There are 5 vowels in 'BreakFastTime'\n"
     ]
    }
   ],
   "source": [
    "str_13 = input('Entre the string you want to investigated: ')\n",
    "count_vow = 0\n",
    "for i in str_13:\n",
    "    if i in ['a','e', 'i', 'o', 'u', 'A', 'E', 'I', 'O', 'U']:\n",
    "        count_vow+=1\n",
    "    else:\n",
    "        continue\n",
    "print(f'There are {count_vow} vowels in \\'{str_13}\\'')"
   ]
  },
  {
   "cell_type": "markdown",
   "id": "dc0b1e12",
   "metadata": {},
   "source": [
    "#### 14. Write a program to find the maximum element in a 2D list using a nested `for` loop."
   ]
  },
  {
   "cell_type": "code",
   "execution_count": 1,
   "id": "8189b7c2",
   "metadata": {
    "ExecuteTime": {
     "end_time": "2023-09-07T08:23:09.657269Z",
     "start_time": "2023-09-07T08:23:09.603473Z"
    }
   },
   "outputs": [
    {
     "data": {
      "text/plain": [
       "['et', 'crick', 1, 2, 'hock', 'ey']"
      ]
     },
     "execution_count": 1,
     "metadata": {},
     "output_type": "execute_result"
    }
   ],
   "source": [
    "list_14 = [['et', 'crick'], 1, 2, ['hock','ey']]\n",
    "list_14_1 = []\n",
    "for i in list_14:\n",
    "    if type(i) == list:\n",
    "        list_14_1.extend(i)\n",
    "    else:\n",
    "        list_14_1.append(i)\n",
    "        \n",
    "list_14_1"
   ]
  },
  {
   "cell_type": "markdown",
   "id": "61018c5a",
   "metadata": {},
   "source": [
    "#### 15. Create a program that removes all occurrences of a specific element from a list using a `for` loop."
   ]
  },
  {
   "cell_type": "code",
   "execution_count": 12,
   "id": "88c890e7",
   "metadata": {
    "ExecuteTime": {
     "end_time": "2023-09-07T09:46:34.158267Z",
     "start_time": "2023-09-07T09:46:32.626716Z"
    }
   },
   "outputs": [
    {
     "name": "stdout",
     "output_type": "stream",
     "text": [
      "Enter the element which you want to remove from the list: 2\n",
      "the list after removing 2 from [1, 2, 3, 67, 1, 2, 3] is [1, 3, 67, 1, 3]\n"
     ]
    }
   ],
   "source": [
    "list_15 = [1, 2, 3, 67, 1, 2, 3]\n",
    "list_15_1 = []\n",
    "ele_15 = int(input('Enter the element which you want to remove from the list: '))\n",
    "for i in list_15:\n",
    "    if i != ele_15:\n",
    "        list_15_1.append(i)\n",
    "    else:\n",
    "        continue\n",
    "print(f'the list after removing {ele_15} from {list_15} is {list_15_1}')"
   ]
  },
  {
   "cell_type": "markdown",
   "id": "fab25e60",
   "metadata": {},
   "source": [
    "#### 16. Develop a program that generates a multiplication table for numbers from 1 to 5 using a nested `for` loop."
   ]
  },
  {
   "cell_type": "code",
   "execution_count": 15,
   "id": "25040134",
   "metadata": {
    "ExecuteTime": {
     "end_time": "2023-09-07T09:49:13.774966Z",
     "start_time": "2023-09-07T09:49:13.685901Z"
    }
   },
   "outputs": [
    {
     "name": "stdout",
     "output_type": "stream",
     "text": [
      "1 x 1 = 1\n",
      "1 x 2 = 2\n",
      "1 x 3 = 3\n",
      "1 x 4 = 4\n",
      "1 x 5 = 5\n",
      "1 x 6 = 6\n",
      "1 x 7 = 7\n",
      "1 x 8 = 8\n",
      "1 x 9 = 9\n",
      "1 x 10 = 10\n",
      "2 x 1 = 2\n",
      "2 x 2 = 4\n",
      "2 x 3 = 6\n",
      "2 x 4 = 8\n",
      "2 x 5 = 10\n",
      "2 x 6 = 12\n",
      "2 x 7 = 14\n",
      "2 x 8 = 16\n",
      "2 x 9 = 18\n",
      "2 x 10 = 20\n",
      "3 x 1 = 3\n",
      "3 x 2 = 6\n",
      "3 x 3 = 9\n",
      "3 x 4 = 12\n",
      "3 x 5 = 15\n",
      "3 x 6 = 18\n",
      "3 x 7 = 21\n",
      "3 x 8 = 24\n",
      "3 x 9 = 27\n",
      "3 x 10 = 30\n",
      "4 x 1 = 4\n",
      "4 x 2 = 8\n",
      "4 x 3 = 12\n",
      "4 x 4 = 16\n",
      "4 x 5 = 20\n",
      "4 x 6 = 24\n",
      "4 x 7 = 28\n",
      "4 x 8 = 32\n",
      "4 x 9 = 36\n",
      "4 x 10 = 40\n",
      "5 x 1 = 5\n",
      "5 x 2 = 10\n",
      "5 x 3 = 15\n",
      "5 x 4 = 20\n",
      "5 x 5 = 25\n",
      "5 x 6 = 30\n",
      "5 x 7 = 35\n",
      "5 x 8 = 40\n",
      "5 x 9 = 45\n",
      "5 x 10 = 50\n"
     ]
    }
   ],
   "source": [
    "for i in range(1, 6):\n",
    "    for j in range(1,11):\n",
    "        print(f'{i} x {j} = {i*j}')"
   ]
  },
  {
   "cell_type": "markdown",
   "id": "afc14b3a",
   "metadata": {},
   "source": [
    "#### 17. Write a program that converts a list of Fahrenheit temperatures to Celsius using a `for` loop."
   ]
  },
  {
   "cell_type": "code",
   "execution_count": 18,
   "id": "9f809704",
   "metadata": {
    "ExecuteTime": {
     "end_time": "2023-09-07T09:53:43.597079Z",
     "start_time": "2023-09-07T09:53:43.573072Z"
    }
   },
   "outputs": [
    {
     "name": "stdout",
     "output_type": "stream",
     "text": [
      "The list of the converted temperatures is [-152.7778, -17.2222, -17.7778, -23.3333, 37.7778]\n"
     ]
    }
   ],
   "source": [
    "list_17_fah = [-243, 1, 0, -10, 100]\n",
    "list_17_cel = []\n",
    "for i in list_17_fah:\n",
    "    list_17_cel.append(round((i-32)*5/9,4))\n",
    "print(f'The list of the converted temperatures is {list_17_cel}')"
   ]
  },
  {
   "cell_type": "markdown",
   "id": "3356a3ba",
   "metadata": {},
   "source": [
    "#### 18. Create a program to print the common elements from two lists using a `for` loop."
   ]
  },
  {
   "cell_type": "code",
   "execution_count": 21,
   "id": "1ab8b184",
   "metadata": {
    "ExecuteTime": {
     "end_time": "2023-09-07T10:00:40.940816Z",
     "start_time": "2023-09-07T10:00:40.892611Z"
    }
   },
   "outputs": [
    {
     "name": "stdout",
     "output_type": "stream",
     "text": [
      "The common elements in lists [1, 2, 3, 0, 9] and [10, 9, 3, 76, 24] are [3, 9]\n"
     ]
    }
   ],
   "source": [
    "list_18_1 = [1,2,3,0,9]\n",
    "list_18_2 = [10,9,3,76,24]\n",
    "list_18_12 = []\n",
    "for i in list_18_1:\n",
    "    for j in list_18_2:\n",
    "        if i == j:\n",
    "            list_18_12.append(i)\n",
    "print(f'The common elements in lists {list_18_1} and {list_18_2} are {list_18_12}')"
   ]
  },
  {
   "cell_type": "markdown",
   "id": "075e83b5",
   "metadata": {},
   "source": [
    "#### 19. Develop a program that prints the pattern of right-angled triangles using a `for` loop. Use ‘*’ to draw the pattern"
   ]
  },
  {
   "cell_type": "code",
   "execution_count": 36,
   "id": "46b447c0",
   "metadata": {
    "ExecuteTime": {
     "end_time": "2023-09-07T11:00:43.366897Z",
     "start_time": "2023-09-07T11:00:41.662655Z"
    }
   },
   "outputs": [
    {
     "name": "stdout",
     "output_type": "stream",
     "text": [
      "Enter the number of rows you want in the right-angled triangle: 6\n",
      "*\n",
      "**\n",
      "***\n",
      "****\n",
      "*****\n",
      "******\n"
     ]
    }
   ],
   "source": [
    "num_19 = int(input('Enter the number of rows you want in the right-angled triangle: '))\n",
    "for i in range(1,num_19+1):\n",
    "    print('*'*i, end = '\\n')"
   ]
  },
  {
   "cell_type": "code",
   "execution_count": 35,
   "id": "ead031d5",
   "metadata": {
    "ExecuteTime": {
     "end_time": "2023-09-07T11:00:32.918620Z",
     "start_time": "2023-09-07T11:00:30.756118Z"
    }
   },
   "outputs": [
    {
     "name": "stdout",
     "output_type": "stream",
     "text": [
      "Enter the number of rows you want in the right-angled triangle: 6\n",
      "******\n",
      "*****\n",
      "****\n",
      "***\n",
      "**\n",
      "*\n"
     ]
    }
   ],
   "source": [
    "num_19_1 = int(input('Enter the number of rows you want in the right-angled triangle: '))\n",
    "for i in range(num_19_1, 0, -1):\n",
    "    print('*'*i, end = '\\n')"
   ]
  },
  {
   "cell_type": "code",
   "execution_count": 33,
   "id": "dc7ef328",
   "metadata": {
    "ExecuteTime": {
     "end_time": "2023-09-07T10:25:07.433735Z",
     "start_time": "2023-09-07T10:25:06.097802Z"
    }
   },
   "outputs": [
    {
     "name": "stdout",
     "output_type": "stream",
     "text": [
      "Enter the number of rows you want in the right-angled triangle: 6\n",
      "     *\n",
      "    **\n",
      "   ***\n",
      "  ****\n",
      " *****\n",
      "******\n"
     ]
    }
   ],
   "source": [
    "num_19_2 = int(input('Enter the number of rows you want in the right-angled triangle: '))\n",
    "for i in range(1, num_19_2+1):\n",
    "    print(' ' * (num_19_2-i) + '*'*i, end = '\\n')"
   ]
  },
  {
   "cell_type": "code",
   "execution_count": 34,
   "id": "4db6807c",
   "metadata": {
    "ExecuteTime": {
     "end_time": "2023-09-07T10:26:03.365630Z",
     "start_time": "2023-09-07T10:26:02.048435Z"
    }
   },
   "outputs": [
    {
     "name": "stdout",
     "output_type": "stream",
     "text": [
      "Enter the number of rows you want in the right-angled triangle: 6\n",
      "******\n",
      " *****\n",
      "  ****\n",
      "   ***\n",
      "    **\n",
      "     *\n"
     ]
    }
   ],
   "source": [
    "num_19_3 = int(input('Enter the number of rows you want in the right-angled triangle: '))\n",
    "for i in range(num_19_2, 0, -1):\n",
    "    print(' ' * (num_19_2-i) + '*'*i, end = '\\n')"
   ]
  },
  {
   "cell_type": "markdown",
   "id": "dabf7215",
   "metadata": {},
   "source": [
    "#### 20. Write a program to find the greatest common divisor (GCD) of two numbers using a `for` loop."
   ]
  },
  {
   "cell_type": "code",
   "execution_count": 38,
   "id": "5084e348",
   "metadata": {
    "ExecuteTime": {
     "end_time": "2023-09-07T11:39:55.415678Z",
     "start_time": "2023-09-07T11:39:45.767601Z"
    }
   },
   "outputs": [
    {
     "name": "stdout",
     "output_type": "stream",
     "text": [
      "Enter the first number: 729\n",
      "Enter the second number: 81\n",
      "The Greatest common divisor of 729 and 81 is 81\n"
     ]
    }
   ],
   "source": [
    "def gcd_func( a, b):  \n",
    "    if a > b:  \n",
    "        temp = b  \n",
    "    else:  \n",
    "        temp = a  \n",
    "    for i in range(1, temp + 1):  \n",
    "        if ((a%i == 0) and (b%i == 0 )):  \n",
    "            gcd = i  \n",
    "    return gcd\n",
    "a = int(input('Enter the first number: '))\n",
    "b = int(input('Enter the second number: '))\n",
    "num_gcd_20 = gcd_func(a, b)\n",
    "print(f'The Greatest common divisor of {a} and {b} is {num_gcd_20}')"
   ]
  },
  {
   "cell_type": "markdown",
   "id": "70cb18d0",
   "metadata": {},
   "source": [
    "### Advanced Level:"
   ]
  },
  {
   "cell_type": "markdown",
   "id": "c1285dc6",
   "metadata": {},
   "source": [
    "#### 21. Create a program that calculates the sum of the digits of numbers in a list using a list comprehension."
   ]
  },
  {
   "cell_type": "code",
   "execution_count": 88,
   "id": "a3c5e81b",
   "metadata": {
    "ExecuteTime": {
     "end_time": "2023-09-07T13:07:41.057966Z",
     "start_time": "2023-09-07T13:07:41.040958Z"
    }
   },
   "outputs": [
    {
     "name": "stdout",
     "output_type": "stream",
     "text": [
      "[1, 2, 3, 4, 7]\n"
     ]
    }
   ],
   "source": [
    "list_21 = [1,2,3,4,151]\n",
    "\n",
    "def sum_list(list_num):\n",
    "    return [sum(int(k) for k in str(i)) for i in list_num]\n",
    "\n",
    "sm = sum_list(list_21)\n",
    "print(sm)"
   ]
  },
  {
   "cell_type": "markdown",
   "id": "4f65936b",
   "metadata": {},
   "source": [
    "#### 22. Write a program to find the prime factors of a given number using a `for` loop and list comprehension."
   ]
  },
  {
   "cell_type": "code",
   "execution_count": 3,
   "id": "1c61b8e4",
   "metadata": {
    "ExecuteTime": {
     "end_time": "2023-09-07T20:26:28.909159Z",
     "start_time": "2023-09-07T20:26:28.890164Z"
    }
   },
   "outputs": [],
   "source": [
    "# NOT ATTEMPTED"
   ]
  },
  {
   "cell_type": "markdown",
   "id": "e1556800",
   "metadata": {},
   "source": [
    "#### 23. Develop a program that extracts unique elements from a list and stores them in a new list using a list comprehension."
   ]
  },
  {
   "cell_type": "code",
   "execution_count": 103,
   "id": "712dc6b8",
   "metadata": {
    "ExecuteTime": {
     "end_time": "2023-09-07T13:53:30.597756Z",
     "start_time": "2023-09-07T13:53:30.579783Z"
    }
   },
   "outputs": [
    {
     "name": "stdout",
     "output_type": "stream",
     "text": [
      "The unique elements in list [1, 2, 3, 0, 9, 9] are [0, 1, 2, 3, 9]\n"
     ]
    }
   ],
   "source": [
    "list_23_1 = [1,2,3,0,9,9]\n",
    "list_23_2 = set()\n",
    "{list_23_2.add(i) for i in list_23_1}            \n",
    "print(f'The unique elements in list {list_23_1} are {list(list_23_2)}')"
   ]
  },
  {
   "cell_type": "markdown",
   "id": "be4cbc2f",
   "metadata": {},
   "source": [
    "#### 24. Create a program that generates a list of all palindromic numbers up to a specified limit using a list comprehension."
   ]
  },
  {
   "cell_type": "code",
   "execution_count": 105,
   "id": "f84507d2",
   "metadata": {
    "ExecuteTime": {
     "end_time": "2023-09-07T13:59:24.381372Z",
     "start_time": "2023-09-07T13:59:19.881595Z"
    }
   },
   "outputs": [
    {
     "name": "stdout",
     "output_type": "stream",
     "text": [
      "Please enter the limit upto which the palindromeic numbers are to be found: 200\n"
     ]
    },
    {
     "data": {
      "text/plain": [
       "[1,\n",
       " 2,\n",
       " 3,\n",
       " 4,\n",
       " 5,\n",
       " 6,\n",
       " 7,\n",
       " 8,\n",
       " 9,\n",
       " 11,\n",
       " 22,\n",
       " 33,\n",
       " 44,\n",
       " 55,\n",
       " 66,\n",
       " 77,\n",
       " 88,\n",
       " 99,\n",
       " 101,\n",
       " 111,\n",
       " 121,\n",
       " 131,\n",
       " 141,\n",
       " 151,\n",
       " 161,\n",
       " 171,\n",
       " 181,\n",
       " 191]"
      ]
     },
     "execution_count": 105,
     "metadata": {},
     "output_type": "execute_result"
    }
   ],
   "source": [
    "n_palin = int(input('Please enter the limit upto which the palindromeic numbers are to be found: '))\n",
    "[i for i in range(1,n_palin+1) if str(i) == str(i)[::-1]]"
   ]
  },
  {
   "cell_type": "markdown",
   "id": "1c2f4039",
   "metadata": {},
   "source": [
    "#### 25. Write a program to flatten a nested list using list comprehension."
   ]
  },
  {
   "cell_type": "code",
   "execution_count": 2,
   "id": "2a15cebb",
   "metadata": {
    "ExecuteTime": {
     "end_time": "2023-09-07T20:02:54.277234Z",
     "start_time": "2023-09-07T20:02:54.258259Z"
    }
   },
   "outputs": [
    {
     "data": {
      "text/plain": [
       "[7, 0, 9, 49, 79]"
      ]
     },
     "execution_count": 2,
     "metadata": {},
     "output_type": "execute_result"
    }
   ],
   "source": [
    "list_25 = [[7,0,9],[49,79]]\n",
    "list_25_flat = [j for i in list_25 for j in i]\n",
    "list_25_flat"
   ]
  },
  {
   "cell_type": "markdown",
   "id": "6cdcafff",
   "metadata": {},
   "source": [
    "#### 26. Develop a program that computes the sum of even and odd numbers in a list separately using list comprehension."
   ]
  },
  {
   "cell_type": "code",
   "execution_count": 47,
   "id": "0da04a4e",
   "metadata": {
    "ExecuteTime": {
     "end_time": "2023-09-07T12:01:09.647321Z",
     "start_time": "2023-09-07T12:01:09.633323Z"
    }
   },
   "outputs": [
    {
     "name": "stdout",
     "output_type": "stream",
     "text": [
      "Sum of even numbers and odd numbers in list [1, 4, 9, 16, 25, 36, 49, 64, 81, 100] are 220 and 165 respectively.\n"
     ]
    }
   ],
   "source": [
    "list_26 = [1, 4, 9, 16, 25, 36, 49, 64, 81, 100]\n",
    "list_26_sm_evn = sum([i for i in list_26 if i%2 == 0])\n",
    "list_26_sm_od = sum([i for i in list_26 if i%2 != 0])\n",
    "print(f'Sum of even numbers and odd numbers in list {list_26} are {list_26_sm_evn} and {list_26_sm_od} respectively.')"
   ]
  },
  {
   "cell_type": "markdown",
   "id": "dc437d07",
   "metadata": {},
   "source": [
    "#### 27. Create a program that generates a list of squares of odd numbers between 1 and 10 using list comprehension."
   ]
  },
  {
   "cell_type": "code",
   "execution_count": 66,
   "id": "d1208656",
   "metadata": {
    "ExecuteTime": {
     "end_time": "2023-09-07T12:38:03.475109Z",
     "start_time": "2023-09-07T12:38:03.462104Z"
    }
   },
   "outputs": [
    {
     "data": {
      "text/plain": [
       "[1, 9, 25, 49, 81]"
      ]
     },
     "execution_count": 66,
     "metadata": {},
     "output_type": "execute_result"
    }
   ],
   "source": [
    "list_27 = range(1,11)\n",
    "list_27_squares = [i**2 for i in list_27 if i%2 != 0]\n",
    "list_27_squares"
   ]
  },
  {
   "cell_type": "markdown",
   "id": "6fd0d721",
   "metadata": {},
   "source": [
    "#### 28. Write a program that combines two lists into a dictionary using list comprehension."
   ]
  },
  {
   "cell_type": "code",
   "execution_count": 99,
   "id": "a7a5718f",
   "metadata": {
    "ExecuteTime": {
     "end_time": "2023-09-07T13:35:12.318053Z",
     "start_time": "2023-09-07T13:35:12.300058Z"
    }
   },
   "outputs": [
    {
     "data": {
      "text/plain": [
       "{1: 'this',\n",
       " 2: 'is',\n",
       " 3: 'an',\n",
       " 4: 'assignment',\n",
       " 9: 'please',\n",
       " 80: 'check',\n",
       " 'str': 'it'}"
      ]
     },
     "execution_count": 99,
     "metadata": {},
     "output_type": "execute_result"
    }
   ],
   "source": [
    "list_28_1 = [1,2,3,4,9,80,'str']\n",
    "list_28_2 = ['this', 'is', 'an', 'assignment', 'please', 'check', 'it']\n",
    "dict_28 = {}\n",
    "{list_28_1[i]: list_28_2[i] for i in range(len(list_28_1))}\n"
   ]
  },
  {
   "cell_type": "markdown",
   "id": "fa25c8e9",
   "metadata": {},
   "source": [
    "#### 29. Develop a program that extracts the vowels from a string and stores them in a list using list comprehension."
   ]
  },
  {
   "cell_type": "code",
   "execution_count": 49,
   "id": "44ad50fa",
   "metadata": {
    "ExecuteTime": {
     "end_time": "2023-09-07T12:03:46.562125Z",
     "start_time": "2023-09-07T12:03:46.549129Z"
    }
   },
   "outputs": [
    {
     "data": {
      "text/plain": [
       "['i', 'I', 'A', 'o', 'e', 'i', 'e', 'e', 'e']"
      ]
     },
     "execution_count": 49,
     "metadata": {},
     "output_type": "execute_result"
    }
   ],
   "source": [
    "str_29 = 'ThisIsAVowelListSentence'\n",
    "list_v_29 = [i for i in str_29 if i in ['a','e', 'i', 'o', 'u', 'A', 'E', 'I', 'O', 'U']]\n",
    "list_v_29"
   ]
  },
  {
   "cell_type": "markdown",
   "id": "2b05d7ad",
   "metadata": {},
   "source": [
    "#### 30. Create a program that removes all non-numeric characters from a list of strings using list comprehension."
   ]
  },
  {
   "cell_type": "code",
   "execution_count": 101,
   "id": "71016120",
   "metadata": {
    "ExecuteTime": {
     "end_time": "2023-09-07T13:37:14.683178Z",
     "start_time": "2023-09-07T13:37:14.665165Z"
    }
   },
   "outputs": [
    {
     "data": {
      "text/plain": [
       "['string1', 'string2', 'string3']"
      ]
     },
     "execution_count": 101,
     "metadata": {},
     "output_type": "execute_result"
    }
   ],
   "source": [
    "list_30 = ['string1', 'string2', 1, 2, 'string3']\n",
    "list_30_non_numeric = [i for i in list_30 if type(i) != int]\n",
    "list_30_non_numeric"
   ]
  },
  {
   "cell_type": "code",
   "execution_count": null,
   "id": "d6abe949",
   "metadata": {},
   "outputs": [],
   "source": []
  }
 ],
 "metadata": {
  "kernelspec": {
   "display_name": "Python 3 (ipykernel)",
   "language": "python",
   "name": "python3"
  },
  "language_info": {
   "codemirror_mode": {
    "name": "ipython",
    "version": 3
   },
   "file_extension": ".py",
   "mimetype": "text/x-python",
   "name": "python",
   "nbconvert_exporter": "python",
   "pygments_lexer": "ipython3",
   "version": "3.9.7"
  },
  "toc": {
   "base_numbering": 1,
   "nav_menu": {},
   "number_sections": true,
   "sideBar": true,
   "skip_h1_title": false,
   "title_cell": "Table of Contents",
   "title_sidebar": "Contents",
   "toc_cell": false,
   "toc_position": {},
   "toc_section_display": true,
   "toc_window_display": false
  }
 },
 "nbformat": 4,
 "nbformat_minor": 5
}
